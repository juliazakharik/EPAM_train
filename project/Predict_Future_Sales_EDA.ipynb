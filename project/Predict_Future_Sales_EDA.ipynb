{
  "nbformat": 4,
  "nbformat_minor": 0,
  "metadata": {
    "colab": {
      "name": "Predict Future Sales.ipynb",
      "provenance": [],
      "collapsed_sections": [],
      "toc_visible": true
    },
    "kernelspec": {
      "name": "python3",
      "display_name": "Python 3"
    }
  },
  "cells": [
    {
      "cell_type": "code",
      "metadata": {
        "id": "ALGgcw41JvDd"
      },
      "source": [
        "import pandas as pd\r\n",
        "import numpy as np\r\n",
        "\r\n",
        "import matplotlib.pyplot as plt\r\n",
        "import seaborn as sns"
      ],
      "execution_count": 1,
      "outputs": []
    },
    {
      "cell_type": "code",
      "metadata": {
        "id": "dUrWKHHiKpuL"
      },
      "source": [
        "train = pd.read_csv('/content/sales_train.csv')\r\n",
        "test = pd.read_csv('/content/test.csv')\r\n",
        "shops = pd.read_csv('/content/shops.csv')\r\n",
        "items = pd.read_csv('/content/items.csv')\r\n",
        "item_categories = pd.read_csv('/content/item_categories.csv')"
      ],
      "execution_count": 94,
      "outputs": []
    },
    {
      "cell_type": "markdown",
      "metadata": {
        "id": "loFMKmorLAe-"
      },
      "source": [
        "**Train**"
      ]
    },
    {
      "cell_type": "code",
      "metadata": {
        "colab": {
          "base_uri": "https://localhost:8080/",
          "height": 202
        },
        "id": "SxlrOhtIK_d0",
        "outputId": "3f288dac-dd67-4e85-d285-ae89701cb13f"
      },
      "source": [
        "train.head()"
      ],
      "execution_count": 3,
      "outputs": [
        {
          "output_type": "execute_result",
          "data": {
            "text/html": [
              "<div>\n",
              "<style scoped>\n",
              "    .dataframe tbody tr th:only-of-type {\n",
              "        vertical-align: middle;\n",
              "    }\n",
              "\n",
              "    .dataframe tbody tr th {\n",
              "        vertical-align: top;\n",
              "    }\n",
              "\n",
              "    .dataframe thead th {\n",
              "        text-align: right;\n",
              "    }\n",
              "</style>\n",
              "<table border=\"1\" class=\"dataframe\">\n",
              "  <thead>\n",
              "    <tr style=\"text-align: right;\">\n",
              "      <th></th>\n",
              "      <th>date</th>\n",
              "      <th>date_block_num</th>\n",
              "      <th>shop_id</th>\n",
              "      <th>item_id</th>\n",
              "      <th>item_price</th>\n",
              "      <th>item_cnt_day</th>\n",
              "    </tr>\n",
              "  </thead>\n",
              "  <tbody>\n",
              "    <tr>\n",
              "      <th>0</th>\n",
              "      <td>02.01.2013</td>\n",
              "      <td>0</td>\n",
              "      <td>59</td>\n",
              "      <td>22154</td>\n",
              "      <td>999.00</td>\n",
              "      <td>1.0</td>\n",
              "    </tr>\n",
              "    <tr>\n",
              "      <th>1</th>\n",
              "      <td>03.01.2013</td>\n",
              "      <td>0</td>\n",
              "      <td>25</td>\n",
              "      <td>2552</td>\n",
              "      <td>899.00</td>\n",
              "      <td>1.0</td>\n",
              "    </tr>\n",
              "    <tr>\n",
              "      <th>2</th>\n",
              "      <td>05.01.2013</td>\n",
              "      <td>0</td>\n",
              "      <td>25</td>\n",
              "      <td>2552</td>\n",
              "      <td>899.00</td>\n",
              "      <td>-1.0</td>\n",
              "    </tr>\n",
              "    <tr>\n",
              "      <th>3</th>\n",
              "      <td>06.01.2013</td>\n",
              "      <td>0</td>\n",
              "      <td>25</td>\n",
              "      <td>2554</td>\n",
              "      <td>1709.05</td>\n",
              "      <td>1.0</td>\n",
              "    </tr>\n",
              "    <tr>\n",
              "      <th>4</th>\n",
              "      <td>15.01.2013</td>\n",
              "      <td>0</td>\n",
              "      <td>25</td>\n",
              "      <td>2555</td>\n",
              "      <td>1099.00</td>\n",
              "      <td>1.0</td>\n",
              "    </tr>\n",
              "  </tbody>\n",
              "</table>\n",
              "</div>"
            ],
            "text/plain": [
              "         date  date_block_num  shop_id  item_id  item_price  item_cnt_day\n",
              "0  02.01.2013               0       59    22154      999.00           1.0\n",
              "1  03.01.2013               0       25     2552      899.00           1.0\n",
              "2  05.01.2013               0       25     2552      899.00          -1.0\n",
              "3  06.01.2013               0       25     2554     1709.05           1.0\n",
              "4  15.01.2013               0       25     2555     1099.00           1.0"
            ]
          },
          "metadata": {
            "tags": []
          },
          "execution_count": 3
        }
      ]
    },
    {
      "cell_type": "code",
      "metadata": {
        "colab": {
          "base_uri": "https://localhost:8080/"
        },
        "id": "FWHYyclZLDIl",
        "outputId": "233e1804-1d45-4be0-b53a-49deb79fc2be"
      },
      "source": [
        "train.shape"
      ],
      "execution_count": 4,
      "outputs": [
        {
          "output_type": "execute_result",
          "data": {
            "text/plain": [
              "(2935849, 6)"
            ]
          },
          "metadata": {
            "tags": []
          },
          "execution_count": 4
        }
      ]
    },
    {
      "cell_type": "markdown",
      "metadata": {
        "id": "N96ibWU6R5O6"
      },
      "source": [
        "Пустых значений нет"
      ]
    },
    {
      "cell_type": "code",
      "metadata": {
        "colab": {
          "base_uri": "https://localhost:8080/"
        },
        "id": "VVnInQBfRyfS",
        "outputId": "1be8b011-6370-434e-d417-1a4dede850b3"
      },
      "source": [
        "train.isna().sum()"
      ],
      "execution_count": 5,
      "outputs": [
        {
          "output_type": "execute_result",
          "data": {
            "text/plain": [
              "date              0\n",
              "date_block_num    0\n",
              "shop_id           0\n",
              "item_id           0\n",
              "item_price        0\n",
              "item_cnt_day      0\n",
              "dtype: int64"
            ]
          },
          "metadata": {
            "tags": []
          },
          "execution_count": 5
        }
      ]
    },
    {
      "cell_type": "code",
      "metadata": {
        "colab": {
          "base_uri": "https://localhost:8080/"
        },
        "id": "iyfRjy4hRv4l",
        "outputId": "5c4ceb3e-b5f3-4d5a-e6c5-64387a1b1204"
      },
      "source": [
        "train.nunique()"
      ],
      "execution_count": 6,
      "outputs": [
        {
          "output_type": "execute_result",
          "data": {
            "text/plain": [
              "date               1034\n",
              "date_block_num       34\n",
              "shop_id              60\n",
              "item_id           21807\n",
              "item_price        19993\n",
              "item_cnt_day        198\n",
              "dtype: int64"
            ]
          },
          "metadata": {
            "tags": []
          },
          "execution_count": 6
        }
      ]
    },
    {
      "cell_type": "code",
      "metadata": {
        "colab": {
          "base_uri": "https://localhost:8080/"
        },
        "id": "cPX29nKz9gUh",
        "outputId": "4f08e389-c4fe-4f17-c43a-feaa92b7f681"
      },
      "source": [
        "test.nunique()"
      ],
      "execution_count": 7,
      "outputs": [
        {
          "output_type": "execute_result",
          "data": {
            "text/plain": [
              "ID         214200\n",
              "shop_id        42\n",
              "item_id      5100\n",
              "dtype: int64"
            ]
          },
          "metadata": {
            "tags": []
          },
          "execution_count": 7
        }
      ]
    },
    {
      "cell_type": "markdown",
      "metadata": {
        "id": "6cUHKfa9ZubV"
      },
      "source": [
        "Все магазины, что есть в test, есть и в train"
      ]
    },
    {
      "cell_type": "code",
      "metadata": {
        "colab": {
          "base_uri": "https://localhost:8080/"
        },
        "id": "27T4dY2jZmBT",
        "outputId": "06ac9a65-18bf-4416-829a-0fb7956bb17a"
      },
      "source": [
        "len(list(set(test.shop_id) - set(train.shop_id)))"
      ],
      "execution_count": 8,
      "outputs": [
        {
          "output_type": "execute_result",
          "data": {
            "text/plain": [
              "0"
            ]
          },
          "metadata": {
            "tags": []
          },
          "execution_count": 8
        }
      ]
    },
    {
      "cell_type": "markdown",
      "metadata": {
        "id": "wWSS6Gh8Z96O"
      },
      "source": [
        "Не все товары, что есть в test, есть в train"
      ]
    },
    {
      "cell_type": "code",
      "metadata": {
        "colab": {
          "base_uri": "https://localhost:8080/"
        },
        "id": "Ut0xKqeCZ5ig",
        "outputId": "a2f9d9bb-37c2-4920-e17b-4c5e548551f3"
      },
      "source": [
        "len(list(set(test.item_id) - set(train.item_id)))"
      ],
      "execution_count": 9,
      "outputs": [
        {
          "output_type": "execute_result",
          "data": {
            "text/plain": [
              "363"
            ]
          },
          "metadata": {
            "tags": []
          },
          "execution_count": 9
        }
      ]
    },
    {
      "cell_type": "markdown",
      "metadata": {
        "id": "XUc5lzW4cwYy"
      },
      "source": [
        "Добавим новые поля(день месяца, день недели, месяц, год) к модели и сделаем дату индексом"
      ]
    },
    {
      "cell_type": "code",
      "metadata": {
        "id": "3j5KiNXucudS"
      },
      "source": [
        "train['date'] = train['date'].astype('datetime64[ns]')\r\n",
        "train = train.set_index('date')\r\n",
        "train['year'] = train.index.year\r\n",
        "train['month'] = train.index.month\r\n",
        "train['day'] = train.index.day\r\n",
        "train['weekday name'] = train.index.weekday"
      ],
      "execution_count": 48,
      "outputs": []
    },
    {
      "cell_type": "markdown",
      "metadata": {
        "id": "IABl6VweBgg4"
      },
      "source": [
        "# **Target**"
      ]
    },
    {
      "cell_type": "markdown",
      "metadata": {
        "id": "AmWcKqXkaVBw"
      },
      "source": [
        "Распределение количества проданных товаров в день"
      ]
    },
    {
      "cell_type": "code",
      "metadata": {
        "colab": {
          "base_uri": "https://localhost:8080/",
          "height": 293
        },
        "id": "-J6QkP_WQtcF",
        "outputId": "0de425b9-7f4b-429b-ae3f-adc65d63ff59"
      },
      "source": [
        "np.log(train[train['item_cnt_day']>0]['item_cnt_day']).hist()"
      ],
      "execution_count": null,
      "outputs": [
        {
          "output_type": "execute_result",
          "data": {
            "text/plain": [
              "<matplotlib.axes._subplots.AxesSubplot at 0x7f44818094e0>"
            ]
          },
          "metadata": {
            "tags": []
          },
          "execution_count": 77
        },
        {
          "output_type": "display_data",
          "data": {
            "image/png": "[encoded data removed]",
            "text/plain": [
              "<Figure size 432x288 with 1 Axes>"
            ]
          },
          "metadata": {
            "tags": [],
            "needs_background": "light"
          }
        }
      ]
    },
    {
      "cell_type": "markdown",
      "metadata": {
        "id": "KNYvXy9sNMOY"
      },
      "source": [
        "В большинстве случаев количество проданных товаров = 1"
      ]
    },
    {
      "cell_type": "code",
      "metadata": {
        "colab": {
          "base_uri": "https://localhost:8080/",
          "height": 293
        },
        "id": "JXZH-SXyLOlR",
        "outputId": "e5f7a6bc-c611-4e0e-c8f8-2c508fd2b36f"
      },
      "source": [
        "train['item_cnt_day'].hist()"
      ],
      "execution_count": null,
      "outputs": [
        {
          "output_type": "execute_result",
          "data": {
            "text/plain": [
              "<matplotlib.axes._subplots.AxesSubplot at 0x7f44815307b8>"
            ]
          },
          "metadata": {
            "tags": []
          },
          "execution_count": 71
        },
        {
          "output_type": "display_data",
          "data": {
            "image/png": "[encoded data removed]",
            "text/plain": [
              "<Figure size 432x288 with 1 Axes>"
            ]
          },
          "metadata": {
            "tags": [],
            "needs_background": "light"
          }
        }
      ]
    },
    {
      "cell_type": "markdown",
      "metadata": {
        "id": "NOMcjNTrDxuf"
      },
      "source": [
        "Есть несколько выбросов"
      ]
    },
    {
      "cell_type": "code",
      "metadata": {
        "colab": {
          "base_uri": "https://localhost:8080/",
          "height": 352
        },
        "id": "3QVIKdadDg1B",
        "outputId": "90d72821-05c5-4002-c927-57e6f9a94038"
      },
      "source": [
        "sns.boxplot(train['item_cnt_day'])"
      ],
      "execution_count": null,
      "outputs": [
        {
          "output_type": "stream",
          "text": [
            "/usr/local/lib/python3.6/dist-packages/seaborn/_decorators.py:43: FutureWarning: Pass the following variable as a keyword arg: x. From version 0.12, the only valid positional argument will be `data`, and passing other arguments without an explicit keyword will result in an error or misinterpretation.\n",
            "  FutureWarning\n"
          ],
          "name": "stderr"
        },
        {
          "output_type": "execute_result",
          "data": {
            "text/plain": [
              "<matplotlib.axes._subplots.AxesSubplot at 0x7f44812b6898>"
            ]
          },
          "metadata": {
            "tags": []
          },
          "execution_count": 72
        },
        {
          "output_type": "display_data",
          "data": {
            "image/png": "[encoded data removed]",
            "text/plain": [
              "<Figure size 432x288 with 1 Axes>"
            ]
          },
          "metadata": {
            "tags": [],
            "needs_background": "light"
          }
        }
      ]
    },
    {
      "cell_type": "code",
      "metadata": {
        "id": "F_9pMU9vEFs4"
      },
      "source": [
        "train = train[train['item_cnt_day'] < 300]"
      ],
      "execution_count": null,
      "outputs": []
    },
    {
      "cell_type": "markdown",
      "metadata": {
        "id": "AeNn-GWCvHqk"
      },
      "source": [
        "Есть отрицательные значения, при этом нет нулевых. Видна тенденция на уменьшение, поэтому, скорее всего, отрицательные значения не ошибка, а, например, количество возвращенных товаров.\r\n",
        "\r\n"
      ]
    },
    {
      "cell_type": "code",
      "metadata": {
        "colab": {
          "base_uri": "https://localhost:8080/",
          "height": 355
        },
        "id": "3iM0Oyrpuki-",
        "outputId": "8c834eee-e464-498c-db35-5f579ae87e0b"
      },
      "source": [
        "train[train['item_cnt_day'] <= 0].groupby(by='item_cnt_day').agg(['count'])['item_id']"
      ],
      "execution_count": 12,
      "outputs": [
        {
          "output_type": "execute_result",
          "data": {
            "text/html": [
              "<div>\n",
              "<style scoped>\n",
              "    .dataframe tbody tr th:only-of-type {\n",
              "        vertical-align: middle;\n",
              "    }\n",
              "\n",
              "    .dataframe tbody tr th {\n",
              "        vertical-align: top;\n",
              "    }\n",
              "\n",
              "    .dataframe thead th {\n",
              "        text-align: right;\n",
              "    }\n",
              "</style>\n",
              "<table border=\"1\" class=\"dataframe\">\n",
              "  <thead>\n",
              "    <tr style=\"text-align: right;\">\n",
              "      <th></th>\n",
              "      <th>count</th>\n",
              "    </tr>\n",
              "    <tr>\n",
              "      <th>item_cnt_day</th>\n",
              "      <th></th>\n",
              "    </tr>\n",
              "  </thead>\n",
              "  <tbody>\n",
              "    <tr>\n",
              "      <th>-22.0</th>\n",
              "      <td>1</td>\n",
              "    </tr>\n",
              "    <tr>\n",
              "      <th>-16.0</th>\n",
              "      <td>1</td>\n",
              "    </tr>\n",
              "    <tr>\n",
              "      <th>-9.0</th>\n",
              "      <td>1</td>\n",
              "    </tr>\n",
              "    <tr>\n",
              "      <th>-6.0</th>\n",
              "      <td>2</td>\n",
              "    </tr>\n",
              "    <tr>\n",
              "      <th>-5.0</th>\n",
              "      <td>4</td>\n",
              "    </tr>\n",
              "    <tr>\n",
              "      <th>-4.0</th>\n",
              "      <td>3</td>\n",
              "    </tr>\n",
              "    <tr>\n",
              "      <th>-3.0</th>\n",
              "      <td>14</td>\n",
              "    </tr>\n",
              "    <tr>\n",
              "      <th>-2.0</th>\n",
              "      <td>78</td>\n",
              "    </tr>\n",
              "    <tr>\n",
              "      <th>-1.0</th>\n",
              "      <td>7252</td>\n",
              "    </tr>\n",
              "  </tbody>\n",
              "</table>\n",
              "</div>"
            ],
            "text/plain": [
              "              count\n",
              "item_cnt_day       \n",
              "-22.0             1\n",
              "-16.0             1\n",
              "-9.0              1\n",
              "-6.0              2\n",
              "-5.0              4\n",
              "-4.0              3\n",
              "-3.0             14\n",
              "-2.0             78\n",
              "-1.0           7252"
            ]
          },
          "metadata": {
            "tags": []
          },
          "execution_count": 12
        }
      ]
    },
    {
      "cell_type": "markdown",
      "metadata": {
        "id": "rqVUZtxPM6By"
      },
      "source": [
        "В 2015 году отрицательных значений уже не было"
      ]
    },
    {
      "cell_type": "code",
      "metadata": {
        "colab": {
          "base_uri": "https://localhost:8080/",
          "height": 283
        },
        "id": "wN7oIiT6wR7k",
        "outputId": "58678338-e1ee-4364-de7c-28ce58081528"
      },
      "source": [
        "train[train['item_cnt_day'] <= 0].sort_values(by='date')['date_block_num'].value_counts().hist()"
      ],
      "execution_count": 14,
      "outputs": [
        {
          "output_type": "execute_result",
          "data": {
            "text/plain": [
              "<matplotlib.axes._subplots.AxesSubplot at 0x7f58c73a5dd0>"
            ]
          },
          "metadata": {
            "tags": []
          },
          "execution_count": 14
        },
        {
          "output_type": "display_data",
          "data": {
            "image/png": "[encoded data removed]",
            "text/plain": [
              "<Figure size 432x288 with 1 Axes>"
            ]
          },
          "metadata": {
            "tags": [],
            "needs_background": "light"
          }
        }
      ]
    },
    {
      "cell_type": "markdown",
      "metadata": {
        "id": "uBXE3TdFyIyd"
      },
      "source": [
        "Отрицательные значения практически не зависят от магазинов. Что подтверждает неслучайность распределения этих значений."
      ]
    },
    {
      "cell_type": "markdown",
      "metadata": {
        "id": "IZZXtct_bING"
      },
      "source": [
        "Количество магазинов"
      ]
    },
    {
      "cell_type": "code",
      "metadata": {
        "colab": {
          "base_uri": "https://localhost:8080/"
        },
        "id": "zU7TM6CdNAww",
        "outputId": "881d854f-a568-454c-f57a-6a1508b930c0"
      },
      "source": [
        "train['shop_id'].unique().shape"
      ],
      "execution_count": null,
      "outputs": [
        {
          "output_type": "execute_result",
          "data": {
            "text/plain": [
              "(60,)"
            ]
          },
          "metadata": {
            "tags": []
          },
          "execution_count": 32
        }
      ]
    },
    {
      "cell_type": "markdown",
      "metadata": {
        "id": "WN28004ibKjJ"
      },
      "source": [
        "Количество магазинов, где были отрицательные значения"
      ]
    },
    {
      "cell_type": "code",
      "metadata": {
        "colab": {
          "base_uri": "https://localhost:8080/"
        },
        "id": "gRHM19qCxoVk",
        "outputId": "c818eca6-d577-47ba-f7e7-63b9046e1a70"
      },
      "source": [
        "train[train['item_cnt_day'] <= 0]['shop_id'].unique().shape"
      ],
      "execution_count": null,
      "outputs": [
        {
          "output_type": "execute_result",
          "data": {
            "text/plain": [
              "(54,)"
            ]
          },
          "metadata": {
            "tags": []
          },
          "execution_count": 33
        }
      ]
    },
    {
      "cell_type": "markdown",
      "metadata": {
        "id": "7_tGWFT9zIPh"
      },
      "source": [
        "И не зависит от товаров"
      ]
    },
    {
      "cell_type": "code",
      "metadata": {
        "colab": {
          "base_uri": "https://localhost:8080/"
        },
        "id": "hTatxyHTy7rC",
        "outputId": "7c3dba98-a03e-400f-abf8-a5c03b8bac38"
      },
      "source": [
        "train[train['item_cnt_day'] <= 0]['item_id'].shape"
      ],
      "execution_count": null,
      "outputs": [
        {
          "output_type": "execute_result",
          "data": {
            "text/plain": [
              "(7356,)"
            ]
          },
          "metadata": {
            "tags": []
          },
          "execution_count": 34
        }
      ]
    },
    {
      "cell_type": "code",
      "metadata": {
        "colab": {
          "base_uri": "https://localhost:8080/"
        },
        "id": "68m30FM2zLfQ",
        "outputId": "df4b2287-9f92-4a3f-9bf3-93cb72a70470"
      },
      "source": [
        "train[train['item_cnt_day'] <= 0]['item_id'].unique().shape"
      ],
      "execution_count": null,
      "outputs": [
        {
          "output_type": "execute_result",
          "data": {
            "text/plain": [
              "(3511,)"
            ]
          },
          "metadata": {
            "tags": []
          },
          "execution_count": 35
        }
      ]
    },
    {
      "cell_type": "markdown",
      "metadata": {
        "id": "oWSOheUEJdjJ"
      },
      "source": [
        "# **Цена**"
      ]
    },
    {
      "cell_type": "markdown",
      "metadata": {
        "id": "NPUcNJOJbT8d"
      },
      "source": [
        "Есть выбросы"
      ]
    },
    {
      "cell_type": "code",
      "metadata": {
        "colab": {
          "base_uri": "https://localhost:8080/",
          "height": 352
        },
        "id": "ke_Qx6tgJfNk",
        "outputId": "36d18cc8-5a79-4a1d-a7f8-7832311a6a8e"
      },
      "source": [
        "sns.boxplot(train['item_price'])"
      ],
      "execution_count": 15,
      "outputs": [
        {
          "output_type": "stream",
          "text": [
            "/usr/local/lib/python3.7/dist-packages/seaborn/_decorators.py:43: FutureWarning: Pass the following variable as a keyword arg: x. From version 0.12, the only valid positional argument will be `data`, and passing other arguments without an explicit keyword will result in an error or misinterpretation.\n",
            "  FutureWarning\n"
          ],
          "name": "stderr"
        },
        {
          "output_type": "execute_result",
          "data": {
            "text/plain": [
              "<matplotlib.axes._subplots.AxesSubplot at 0x7f58c2b0cc90>"
            ]
          },
          "metadata": {
            "tags": []
          },
          "execution_count": 15
        },
        {
          "output_type": "display_data",
          "data": {
            "image/png": "[encoded data removed]",
            "text/plain": [
              "<Figure size 432x288 with 1 Axes>"
            ]
          },
          "metadata": {
            "tags": [],
            "needs_background": "light"
          }
        }
      ]
    },
    {
      "cell_type": "markdown",
      "metadata": {
        "id": "cZuX6PjabWQl"
      },
      "source": [
        "Удаляем выбросы"
      ]
    },
    {
      "cell_type": "code",
      "metadata": {
        "id": "TGBJRu42JmXm"
      },
      "source": [
        "train = train[train['item_price']<30000]"
      ],
      "execution_count": 19,
      "outputs": []
    },
    {
      "cell_type": "code",
      "metadata": {
        "colab": {
          "base_uri": "https://localhost:8080/",
          "height": 352
        },
        "id": "FV3hNhW8Jt7W",
        "outputId": "73dfdf04-98c3-4292-dc2a-1f1286873cad"
      },
      "source": [
        "sns.boxplot(train['item_price'])"
      ],
      "execution_count": 17,
      "outputs": [
        {
          "output_type": "stream",
          "text": [
            "/usr/local/lib/python3.7/dist-packages/seaborn/_decorators.py:43: FutureWarning: Pass the following variable as a keyword arg: x. From version 0.12, the only valid positional argument will be `data`, and passing other arguments without an explicit keyword will result in an error or misinterpretation.\n",
            "  FutureWarning\n"
          ],
          "name": "stderr"
        },
        {
          "output_type": "execute_result",
          "data": {
            "text/plain": [
              "<matplotlib.axes._subplots.AxesSubplot at 0x7f58c2aeea10>"
            ]
          },
          "metadata": {
            "tags": []
          },
          "execution_count": 17
        },
        {
          "output_type": "display_data",
          "data": {
            "image/png": "[encoded data removed]",
            "text/plain": [
              "<Figure size 432x288 with 1 Axes>"
            ]
          },
          "metadata": {
            "tags": [],
            "needs_background": "light"
          }
        }
      ]
    },
    {
      "cell_type": "markdown",
      "metadata": {
        "id": "Ht8324Llb70i"
      },
      "source": [
        "Чем дешевле товар, тем в среднем больше у него продаж"
      ]
    },
    {
      "cell_type": "code",
      "metadata": {
        "colab": {
          "base_uri": "https://localhost:8080/",
          "height": 297
        },
        "id": "FSJ9Z36DwD0Q",
        "outputId": "653ac49f-11be-4140-9a54-3bf94670edc4"
      },
      "source": [
        "sns.scatterplot(data=train, x=\"item_price\", y=\"item_cnt_day\")"
      ],
      "execution_count": 20,
      "outputs": [
        {
          "output_type": "execute_result",
          "data": {
            "text/plain": [
              "<matplotlib.axes._subplots.AxesSubplot at 0x7f58c29c78d0>"
            ]
          },
          "metadata": {
            "tags": []
          },
          "execution_count": 20
        },
        {
          "output_type": "display_data",
          "data": {
            "image/png": "[encoded data removed]",
            "text/plain": [
              "<Figure size 432x288 with 1 Axes>"
            ]
          },
          "metadata": {
            "tags": [],
            "needs_background": "light"
          }
        }
      ]
    },
    {
      "cell_type": "markdown",
      "metadata": {
        "id": "2B5D3KQ6nJvo"
      },
      "source": [
        "## Продажи по дням"
      ]
    },
    {
      "cell_type": "markdown",
      "metadata": {
        "id": "tbm8O37VnR4Z"
      },
      "source": [
        "В первый день месяца резкое увеличение продаж. Скорее всего, это не отражает реальные продажи"
      ]
    },
    {
      "cell_type": "code",
      "metadata": {
        "colab": {
          "base_uri": "https://localhost:8080/",
          "height": 283
        },
        "id": "R9IfiEFbnMcM",
        "outputId": "fdbfd84a-0886-4844-f14e-aff173339cea"
      },
      "source": [
        "train_all = train.groupby(by='day')['item_cnt_day'].sum()\r\n",
        "plt.plot(train_all)"
      ],
      "execution_count": null,
      "outputs": [
        {
          "output_type": "execute_result",
          "data": {
            "text/plain": [
              "[<matplotlib.lines.Line2D at 0x7f90be696d30>]"
            ]
          },
          "metadata": {
            "tags": []
          },
          "execution_count": 62
        },
        {
          "output_type": "display_data",
          "data": {
            "image/png": "[encoded data removed]",
            "text/plain": [
              "<Figure size 432x288 with 1 Axes>"
            ]
          },
          "metadata": {
            "tags": [],
            "needs_background": "light"
          }
        }
      ]
    },
    {
      "cell_type": "markdown",
      "metadata": {
        "id": "kJXY0se1m72x"
      },
      "source": [
        "# Продажи по годам"
      ]
    },
    {
      "cell_type": "markdown",
      "metadata": {
        "id": "HEqjfKc3cKIl"
      },
      "source": [
        "Виден тренд на снижение продаж"
      ]
    },
    {
      "cell_type": "code",
      "metadata": {
        "colab": {
          "base_uri": "https://localhost:8080/",
          "height": 293
        },
        "id": "zx7SyaaXm-eH",
        "outputId": "43b968fc-8497-4630-b3c9-be2ca6efdc2b"
      },
      "source": [
        "train_all = train.groupby(by='year')['item_cnt_day'].sum()\r\n",
        "plt.plot(train_all)"
      ],
      "execution_count": null,
      "outputs": [
        {
          "output_type": "execute_result",
          "data": {
            "text/plain": [
              "[<matplotlib.lines.Line2D at 0x7ff37ca48198>]"
            ]
          },
          "metadata": {
            "tags": []
          },
          "execution_count": 107
        },
        {
          "output_type": "display_data",
          "data": {
            "image/png": "[encoded data removed]",
            "text/plain": [
              "<Figure size 432x288 with 1 Axes>"
            ]
          },
          "metadata": {
            "tags": [],
            "needs_background": "light"
          }
        }
      ]
    },
    {
      "cell_type": "markdown",
      "metadata": {
        "id": "U2Q6_nYymv0A"
      },
      "source": [
        "## Продажи по месяцам"
      ]
    },
    {
      "cell_type": "markdown",
      "metadata": {
        "id": "At-iKiEezwGC"
      },
      "source": [
        "В последний месяц продажи возрастают"
      ]
    },
    {
      "cell_type": "code",
      "metadata": {
        "colab": {
          "base_uri": "https://localhost:8080/",
          "height": 283
        },
        "id": "uReLiRMsmx9X",
        "outputId": "1612c200-9941-41c0-e6a5-68732c2c9cf0"
      },
      "source": [
        "train_all = train.groupby(by='month')['item_cnt_day'].sum()\r\n",
        "plt.plot(train_all)"
      ],
      "execution_count": null,
      "outputs": [
        {
          "output_type": "execute_result",
          "data": {
            "text/plain": [
              "[<matplotlib.lines.Line2D at 0x7ff37cadfeb8>]"
            ]
          },
          "metadata": {
            "tags": []
          },
          "execution_count": 106
        },
        {
          "output_type": "display_data",
          "data": {
            "image/png": "[encoded data removed]",
            "text/plain": [
              "<Figure size 432x288 with 1 Axes>"
            ]
          },
          "metadata": {
            "tags": [],
            "needs_background": "light"
          }
        }
      ]
    },
    {
      "cell_type": "markdown",
      "metadata": {
        "id": "kI7FuTvhlw5X"
      },
      "source": [
        "# Продажи по дням недели"
      ]
    },
    {
      "cell_type": "markdown",
      "metadata": {
        "id": "k14zXh3YhuDP"
      },
      "source": [
        "Пик продаж приходится на 5й день"
      ]
    },
    {
      "cell_type": "code",
      "metadata": {
        "colab": {
          "base_uri": "https://localhost:8080/",
          "height": 283
        },
        "id": "2-fHC-ZMhdTK",
        "outputId": "5254f9a3-bf3c-4396-fbfa-681cbb6b3e47"
      },
      "source": [
        "train_all = train.groupby(by='weekday name')['item_cnt_day'].sum()\r\n",
        "plt.plot(train_all)"
      ],
      "execution_count": null,
      "outputs": [
        {
          "output_type": "execute_result",
          "data": {
            "text/plain": [
              "[<matplotlib.lines.Line2D at 0x7ff37cbcc6a0>]"
            ]
          },
          "metadata": {
            "tags": []
          },
          "execution_count": 80
        },
        {
          "output_type": "display_data",
          "data": {
            "image/png": "[encoded data removed]",
            "text/plain": [
              "<Figure size 432x288 with 1 Axes>"
            ]
          },
          "metadata": {
            "tags": [],
            "needs_background": "light"
          }
        }
      ]
    },
    {
      "cell_type": "markdown",
      "metadata": {
        "id": "hflwzpwgkQLm"
      },
      "source": [
        "# Магазины с наибольшими продажами"
      ]
    },
    {
      "cell_type": "markdown",
      "metadata": {
        "id": "N9PBhEl4lnfN"
      },
      "source": [
        "У магазинов с высокими продажами видны сезонность и тренд"
      ]
    },
    {
      "cell_type": "code",
      "metadata": {
        "colab": {
          "base_uri": "https://localhost:8080/",
          "height": 265
        },
        "id": "Kfim5nA_lUq7",
        "outputId": "e2a56111-1fb0-4f14-bf06-29faabd28446"
      },
      "source": [
        "most_sold_shop = train.groupby(by='shop_id')['item_cnt_day'].sum().sort_values(ascending=False)\r\n",
        "most_sold_shop_id = list(most_sold_shop[:10].index)\r\n",
        "for id in most_sold_shop_id:\r\n",
        "  plt.plot(train[train['shop_id'] == id].groupby(by='date_block_num')['item_cnt_day'].sum())"
      ],
      "execution_count": null,
      "outputs": [
        {
          "output_type": "display_data",
          "data": {
            "image/png": "[encoded data removed]",
            "text/plain": [
              "<Figure size 432x288 with 1 Axes>"
            ]
          },
          "metadata": {
            "tags": [],
            "needs_background": "light"
          }
        }
      ]
    },
    {
      "cell_type": "markdown",
      "metadata": {
        "id": "eHTzAcy6QbTt"
      },
      "source": [
        "# Магазины со средними продажами"
      ]
    },
    {
      "cell_type": "markdown",
      "metadata": {
        "id": "ObaPA4msUIqP"
      },
      "source": [
        "У магазинов со средними продажами также видны сезонность и тренд, однако, тренд на снижение сильнее, чем у магазинов с высокими продажами"
      ]
    },
    {
      "cell_type": "code",
      "metadata": {
        "colab": {
          "base_uri": "https://localhost:8080/",
          "height": 265
        },
        "id": "CQyLN8S2Q0C2",
        "outputId": "60c87371-f53c-4256-ed72-1d04ea3202eb"
      },
      "source": [
        "most_sold_shop_ids = train.groupby(by='shop_id')['item_cnt_day'].sum().sort_values(ascending=False)\r\n",
        "most_sold_shop_ids = list(most_sold_shop_ids[27:33].index)\r\n",
        "for id in most_sold_shop_ids:\r\n",
        "  plt.plot(train[train['shop_id'] == id].groupby(by='date_block_num')['item_cnt_day'].sum())"
      ],
      "execution_count": null,
      "outputs": [
        {
          "output_type": "display_data",
          "data": {
            "image/png": "[encoded data removed]",
            "text/plain": [
              "<Figure size 432x288 with 1 Axes>"
            ]
          },
          "metadata": {
            "tags": [],
            "needs_background": "light"
          }
        }
      ]
    },
    {
      "cell_type": "markdown",
      "metadata": {
        "id": "05v_DW0CTDuY"
      },
      "source": [
        "# Магазины с низкими продажами"
      ]
    },
    {
      "cell_type": "markdown",
      "metadata": {
        "id": "oWIIgUNaTm0K"
      },
      "source": [
        "Магазины с наименьшими продажами либо только начали продавать, либо уже закончили"
      ]
    },
    {
      "cell_type": "code",
      "metadata": {
        "colab": {
          "base_uri": "https://localhost:8080/",
          "height": 267
        },
        "id": "uFsDB35nTHro",
        "outputId": "c5fc88f0-8b62-4b50-bb2a-570a525e37c1"
      },
      "source": [
        "most_sold_shop_ids = train.groupby(by='shop_id')['item_cnt_day'].sum().sort_values(ascending=False)\r\n",
        "least_sold_shop_ids = list(most_sold_shop_ids[50:].index)\r\n",
        "for id in least_sold_shop_ids:\r\n",
        "  plt.plot(train[train['shop_id'] == id].groupby(by='date_block_num')['item_cnt_day'].sum())"
      ],
      "execution_count": 39,
      "outputs": [
        {
          "output_type": "display_data",
          "data": {
            "image/png": "[encoded data removed]",
            "text/plain": [
              "<Figure size 432x288 with 1 Axes>"
            ]
          },
          "metadata": {
            "tags": [],
            "needs_background": "light"
          }
        }
      ]
    },
    {
      "cell_type": "markdown",
      "metadata": {
        "id": "9xxiDQW-Ud8m"
      },
      "source": [
        "Поведение продаж по магазинам, у которых стабильно есть продажи разительно отличается от тех, у кого нет стабильности\r\n"
      ]
    },
    {
      "cell_type": "markdown",
      "metadata": {
        "id": "AmPGONKFVojj"
      },
      "source": [
        "При этом только 2 магазина с такими продажами есть в test. "
      ]
    },
    {
      "cell_type": "code",
      "metadata": {
        "colab": {
          "base_uri": "https://localhost:8080/"
        },
        "id": "w81zTzSwUe0u",
        "outputId": "dafd9807-ea39-45a0-8dc4-99986bd552f9"
      },
      "source": [
        "len(set(test.shop_id.unique())) - len(set(test.shop_id.unique()) - set(least_sold_shop_ids))"
      ],
      "execution_count": 37,
      "outputs": [
        {
          "output_type": "execute_result",
          "data": {
            "text/plain": [
              "2"
            ]
          },
          "metadata": {
            "tags": []
          },
          "execution_count": 37
        }
      ]
    },
    {
      "cell_type": "markdown",
      "metadata": {
        "id": "lI63DlVNZRYZ"
      },
      "source": [
        "# Магазины с продажами по конкретному продукту"
      ]
    },
    {
      "cell_type": "code",
      "metadata": {
        "id": "iTwyw0pBaYO0"
      },
      "source": [
        "most_sold_shop_ids_month = train.groupby(by=['shop_id', 'item_id', 'date_block_num'])['item_cnt_day'].sum().sort_values(ascending=False)"
      ],
      "execution_count": 40,
      "outputs": []
    },
    {
      "cell_type": "markdown",
      "metadata": {
        "id": "EAEELaaKaxoz"
      },
      "source": [
        "Процент высоко продаваемых товаров в отдельных магазинах в месяц. Можно сделать вывод, что хорошо продаваемых товаров в выборке немного"
      ]
    },
    {
      "cell_type": "code",
      "metadata": {
        "colab": {
          "base_uri": "https://localhost:8080/"
        },
        "id": "MjqELa37alVT",
        "outputId": "fa8d09c9-5dd7-41d1-814c-3655761a7e1e"
      },
      "source": [
        "print(f\"{(len(most_sold_shop_ids_month[most_sold_shop_ids_month > 20]) / len(most_sold_shop_ids_month) * 100):.2f}\", \"%\")"
      ],
      "execution_count": 41,
      "outputs": [
        {
          "output_type": "stream",
          "text": [
            "0.71 %\n"
          ],
          "name": "stdout"
        }
      ]
    },
    {
      "cell_type": "markdown",
      "metadata": {
        "id": "_lCCfvTATC2m"
      },
      "source": [
        "У магазинов с низкими продажами продажи варьируются от 1 до 2"
      ]
    },
    {
      "cell_type": "code",
      "metadata": {
        "colab": {
          "base_uri": "https://localhost:8080/",
          "height": 265
        },
        "id": "NHG70DWCZVNv",
        "outputId": "80fd4b8b-fedf-4b9a-9bd5-97b18d076a9f"
      },
      "source": [
        "most_sold_shop_ids = train.groupby(by=['shop_id','item_id'])['item_cnt_day'].sum().sort_values(ascending=False)\r\n",
        "least_sold_shop_ids = list(most_sold_shop_ids[200000:200015].index)\r\n",
        "for s_id, i_id in least_sold_shop_ids:\r\n",
        "  plt.plot(train[(train['shop_id'] == s_id) & (train['item_id'] == i_id)].groupby(by='date_block_num')['item_cnt_day'].sum())\r\n",
        "#most_sold_shop_ids.plot()"
      ],
      "execution_count": null,
      "outputs": [
        {
          "output_type": "display_data",
          "data": {
            "image/png": "[encoded data removed]",
            "text/plain": [
              "<Figure size 432x288 with 1 Axes>"
            ]
          },
          "metadata": {
            "tags": [],
            "needs_background": "light"
          }
        }
      ]
    },
    {
      "cell_type": "markdown",
      "metadata": {
        "id": "M114pZUoV7yC"
      },
      "source": [
        "У магазинов со средними продажами продажи около 5"
      ]
    },
    {
      "cell_type": "code",
      "metadata": {
        "colab": {
          "base_uri": "https://localhost:8080/",
          "height": 265
        },
        "id": "v1GVCz6gV9qd",
        "outputId": "823c159a-4c0e-441b-944c-a84e7bd9d826"
      },
      "source": [
        "least_sold_shop_ids = list(most_sold_shop_ids[10000:10005].index)\r\n",
        "for s_id, i_id in least_sold_shop_ids:\r\n",
        "  plt.plot(train[(train['shop_id'] == s_id) & (train['item_id'] == i_id)].groupby(by='date_block_num')['item_cnt_day'].sum())\r\n",
        "#most_sold_shop_ids.plot()"
      ],
      "execution_count": null,
      "outputs": [
        {
          "output_type": "display_data",
          "data": {
            "image/png": "[encoded data removed]",
            "text/plain": [
              "<Figure size 432x288 with 1 Axes>"
            ]
          },
          "metadata": {
            "tags": [],
            "needs_background": "light"
          }
        }
      ]
    },
    {
      "cell_type": "markdown",
      "metadata": {
        "id": "qUsgRbAVWG0q"
      },
      "source": [
        "С высокими продажами"
      ]
    },
    {
      "cell_type": "code",
      "metadata": {
        "colab": {
          "base_uri": "https://localhost:8080/",
          "height": 265
        },
        "id": "gz2DXMAXWKI3",
        "outputId": "0663f223-0ac6-4bdf-836e-ab0b0111019e"
      },
      "source": [
        "least_sold_shop_ids = list(most_sold_shop_ids[:8].index)\r\n",
        "for s_id, i_id in least_sold_shop_ids:\r\n",
        "  plt.plot(train[(train['shop_id'] == s_id) & (train['item_id'] == i_id)].groupby(by='date_block_num')['item_cnt_day'].sum())\r\n",
        "#most_sold_shop_ids.plot()"
      ],
      "execution_count": null,
      "outputs": [
        {
          "output_type": "display_data",
          "data": {
            "image/png": "[encoded data removed]",
            "text/plain": [
              "<Figure size 432x288 with 1 Axes>"
            ]
          },
          "metadata": {
            "tags": [],
            "needs_background": "light"
          }
        }
      ]
    },
    {
      "cell_type": "markdown",
      "metadata": {
        "id": "oaJxgWCA_CNH"
      },
      "source": [
        "Из графиков и квартилей видно, что большинство продаж - это 1-2 товара в месяц. При этом есть довольно высокие продажи(их немного). \r\n"
      ]
    },
    {
      "cell_type": "code",
      "metadata": {
        "colab": {
          "base_uri": "https://localhost:8080/"
        },
        "id": "43OGyc89gc8M",
        "outputId": "a5dced39-ad3c-4557-8c4a-27f6b7f28411"
      },
      "source": [
        "most_sold_shop_ids.describe()"
      ],
      "execution_count": null,
      "outputs": [
        {
          "output_type": "execute_result",
          "data": {
            "text/plain": [
              "count    1.609124e+06\n",
              "mean     2.267200e+00\n",
              "std      8.649882e+00\n",
              "min     -2.200000e+01\n",
              "25%      1.000000e+00\n",
              "50%      1.000000e+00\n",
              "75%      2.000000e+00\n",
              "max      2.253000e+03\n",
              "Name: item_cnt_day, dtype: float64"
            ]
          },
          "metadata": {
            "tags": []
          },
          "execution_count": 74
        }
      ]
    },
    {
      "cell_type": "markdown",
      "metadata": {
        "id": "yboqsLuLiRQm"
      },
      "source": [
        "# Тренд"
      ]
    },
    {
      "cell_type": "markdown",
      "metadata": {
        "id": "KnN1S4_Rb_WG"
      },
      "source": [
        "Используя скользящее среднее можно заметить тренд на снижение"
      ]
    },
    {
      "cell_type": "code",
      "metadata": {
        "colab": {
          "base_uri": "https://localhost:8080/",
          "height": 229
        },
        "id": "y-7d6uOOcEEL",
        "outputId": "3e74f254-9169-4cd4-bd4e-1006042e56f0"
      },
      "source": [
        "rolling_mean = total_sales.rolling(window=12).mean()\r\n",
        "plt.figure(figsize=(8,3))\r\n",
        "plt.plot(rolling_mean)"
      ],
      "execution_count": null,
      "outputs": [
        {
          "output_type": "execute_result",
          "data": {
            "text/plain": [
              "[<matplotlib.lines.Line2D at 0x7ff37d3cfeb8>]"
            ]
          },
          "metadata": {
            "tags": []
          },
          "execution_count": 54
        },
        {
          "output_type": "display_data",
          "data": {
            "image/png": "[encoded data removed]",
            "text/plain": [
              "<Figure size 576x216 with 1 Axes>"
            ]
          },
          "metadata": {
            "tags": [],
            "needs_background": "light"
          }
        }
      ]
    },
    {
      "cell_type": "markdown",
      "metadata": {
        "id": "EmS7JPWiPa-V"
      },
      "source": [
        "На зимние месяцы приходится больше всего продаж. Ну и в целом, это даты перед праздниками"
      ]
    },
    {
      "cell_type": "code",
      "metadata": {
        "colab": {
          "base_uri": "https://localhost:8080/"
        },
        "id": "bCYZjRN1OfJW",
        "outputId": "f1c8eb1f-3f0a-4b3e-b5c2-ad3049176759"
      },
      "source": [
        "most_sold = train['date_block_num'].value_counts().sort_values(ascending=False)[:5]\r\n",
        "for month in most_sold.index:\r\n",
        "  print(month, \" \", train[train['date_block_num'] == month]['date'][:1])"
      ],
      "execution_count": null,
      "outputs": [
        {
          "output_type": "stream",
          "text": [
            "11   1124316    04.12.2013\n",
            "Name: date, dtype: object\n",
            "23   2192637    24.12.2014\n",
            "Name: date, dtype: object\n",
            "2   224303    03.03.2013\n",
            "Name: date, dtype: object\n",
            "0   0    02.01.2013\n",
            "Name: date, dtype: object\n",
            "1   115690    21.02.2013\n",
            "Name: date, dtype: object\n"
          ],
          "name": "stdout"
        }
      ]
    },
    {
      "cell_type": "markdown",
      "metadata": {
        "id": "sgNx8SeTifom"
      },
      "source": [
        "# *Магазины*"
      ]
    },
    {
      "cell_type": "code",
      "metadata": {
        "colab": {
          "base_uri": "https://localhost:8080/",
          "height": 202
        },
        "id": "KdOvT4pyilU6",
        "outputId": "cd2407cf-5223-411a-f6e7-9ad45d356460"
      },
      "source": [
        "shops.head()"
      ],
      "execution_count": null,
      "outputs": [
        {
          "output_type": "execute_result",
          "data": {
            "text/html": [
              "<div>\n",
              "<style scoped>\n",
              "    .dataframe tbody tr th:only-of-type {\n",
              "        vertical-align: middle;\n",
              "    }\n",
              "\n",
              "    .dataframe tbody tr th {\n",
              "        vertical-align: top;\n",
              "    }\n",
              "\n",
              "    .dataframe thead th {\n",
              "        text-align: right;\n",
              "    }\n",
              "</style>\n",
              "<table border=\"1\" class=\"dataframe\">\n",
              "  <thead>\n",
              "    <tr style=\"text-align: right;\">\n",
              "      <th></th>\n",
              "      <th>shop_name</th>\n",
              "      <th>shop_id</th>\n",
              "    </tr>\n",
              "  </thead>\n",
              "  <tbody>\n",
              "    <tr>\n",
              "      <th>0</th>\n",
              "      <td>!Якутск Орджоникидзе, 56 фран</td>\n",
              "      <td>0</td>\n",
              "    </tr>\n",
              "    <tr>\n",
              "      <th>1</th>\n",
              "      <td>!Якутск ТЦ \"Центральный\" фран</td>\n",
              "      <td>1</td>\n",
              "    </tr>\n",
              "    <tr>\n",
              "      <th>2</th>\n",
              "      <td>Адыгея ТЦ \"Мега\"</td>\n",
              "      <td>2</td>\n",
              "    </tr>\n",
              "    <tr>\n",
              "      <th>3</th>\n",
              "      <td>Балашиха ТРК \"Октябрь-Киномир\"</td>\n",
              "      <td>3</td>\n",
              "    </tr>\n",
              "    <tr>\n",
              "      <th>4</th>\n",
              "      <td>Волжский ТЦ \"Волга Молл\"</td>\n",
              "      <td>4</td>\n",
              "    </tr>\n",
              "  </tbody>\n",
              "</table>\n",
              "</div>"
            ],
            "text/plain": [
              "                        shop_name  shop_id\n",
              "0   !Якутск Орджоникидзе, 56 фран        0\n",
              "1   !Якутск ТЦ \"Центральный\" фран        1\n",
              "2                Адыгея ТЦ \"Мега\"        2\n",
              "3  Балашиха ТРК \"Октябрь-Киномир\"        3\n",
              "4        Волжский ТЦ \"Волга Молл\"        4"
            ]
          },
          "metadata": {
            "tags": []
          },
          "execution_count": 15
        }
      ]
    },
    {
      "cell_type": "markdown",
      "metadata": {
        "id": "NgPKy41oiqjN"
      },
      "source": [
        "shop_name содержит название города и название тц через пробел"
      ]
    },
    {
      "cell_type": "code",
      "metadata": {
        "id": "xsw4njMdi2jZ"
      },
      "source": [
        "shop_split = shops['shop_name'].str.split(' ')\r\n",
        "shop_city = shop_split.map(lambda x: x[0])\r\n",
        "shop_city[shop_city == 'ул. Чкалова 39м²'] = 'ул. Чкалова 39м?'\r\n",
        "shop_city[shop_city == 'Орджоникидзе, 56 фран'] = 'Орджоникидзе, 56'\r\n",
        "shop_city[shop_city == 'ТРК \"Мегацентр Горизонт\" Островной'] = 'ТРК \"Мегацентр Горизонт\"'"
      ],
      "execution_count": 95,
      "outputs": []
    },
    {
      "cell_type": "code",
      "metadata": {
        "colab": {
          "base_uri": "https://localhost:8080/",
          "height": 202
        },
        "id": "LSpLY5v0i-Jy",
        "outputId": "bbd5268d-bf08-4f16-83c1-c01986cb637f"
      },
      "source": [
        "shop_name = shop_split.map(lambda x: \" \".join(x[1:]))\r\n",
        "shops['shop_name'] = shop_name\r\n",
        "shops['shop_city'] = shop_city\r\n",
        "shops.head()"
      ],
      "execution_count": 96,
      "outputs": [
        {
          "output_type": "execute_result",
          "data": {
            "text/html": [
              "<div>\n",
              "<style scoped>\n",
              "    .dataframe tbody tr th:only-of-type {\n",
              "        vertical-align: middle;\n",
              "    }\n",
              "\n",
              "    .dataframe tbody tr th {\n",
              "        vertical-align: top;\n",
              "    }\n",
              "\n",
              "    .dataframe thead th {\n",
              "        text-align: right;\n",
              "    }\n",
              "</style>\n",
              "<table border=\"1\" class=\"dataframe\">\n",
              "  <thead>\n",
              "    <tr style=\"text-align: right;\">\n",
              "      <th></th>\n",
              "      <th>shop_name</th>\n",
              "      <th>shop_id</th>\n",
              "      <th>shop_city</th>\n",
              "    </tr>\n",
              "  </thead>\n",
              "  <tbody>\n",
              "    <tr>\n",
              "      <th>0</th>\n",
              "      <td>Орджоникидзе, 56 фран</td>\n",
              "      <td>0</td>\n",
              "      <td>!Якутск</td>\n",
              "    </tr>\n",
              "    <tr>\n",
              "      <th>1</th>\n",
              "      <td>ТЦ \"Центральный\" фран</td>\n",
              "      <td>1</td>\n",
              "      <td>!Якутск</td>\n",
              "    </tr>\n",
              "    <tr>\n",
              "      <th>2</th>\n",
              "      <td>ТЦ \"Мега\"</td>\n",
              "      <td>2</td>\n",
              "      <td>Адыгея</td>\n",
              "    </tr>\n",
              "    <tr>\n",
              "      <th>3</th>\n",
              "      <td>ТРК \"Октябрь-Киномир\"</td>\n",
              "      <td>3</td>\n",
              "      <td>Балашиха</td>\n",
              "    </tr>\n",
              "    <tr>\n",
              "      <th>4</th>\n",
              "      <td>ТЦ \"Волга Молл\"</td>\n",
              "      <td>4</td>\n",
              "      <td>Волжский</td>\n",
              "    </tr>\n",
              "  </tbody>\n",
              "</table>\n",
              "</div>"
            ],
            "text/plain": [
              "               shop_name  shop_id shop_city\n",
              "0  Орджоникидзе, 56 фран        0   !Якутск\n",
              "1  ТЦ \"Центральный\" фран        1   !Якутск\n",
              "2              ТЦ \"Мега\"        2    Адыгея\n",
              "3  ТРК \"Октябрь-Киномир\"        3  Балашиха\n",
              "4        ТЦ \"Волга Молл\"        4  Волжский"
            ]
          },
          "metadata": {
            "tags": []
          },
          "execution_count": 96
        }
      ]
    },
    {
      "cell_type": "markdown",
      "metadata": {
        "id": "KTaBxynlsmCu"
      },
      "source": [
        "Делаем индексы для магазинов и городов"
      ]
    },
    {
      "cell_type": "code",
      "metadata": {
        "id": "ESy0cjXCsogj"
      },
      "source": [
        "shs = pd.DataFrame(shops.shop_name.unique(), columns=['shop_name'])\r\n",
        "shs['shop_name_id'] = shs.index\r\n",
        "shops = shops.merge(shs, on='shop_name')\r\n",
        "cts = pd.DataFrame(shops.shop_city.unique(), columns=['shop_city'])\r\n",
        "cts['shop_city_id'] = cts.index\r\n",
        "shops = shops.merge(cts, on='shop_city')"
      ],
      "execution_count": 97,
      "outputs": []
    },
    {
      "cell_type": "markdown",
      "metadata": {
        "id": "Aul3YWCrjPtA"
      },
      "source": [
        "# Категории"
      ]
    },
    {
      "cell_type": "code",
      "metadata": {
        "colab": {
          "base_uri": "https://localhost:8080/",
          "height": 202
        },
        "id": "cib185mMjRcL",
        "outputId": "18a91075-db85-44c9-d531-4b773e03f0e2"
      },
      "source": [
        "item_categories.head()"
      ],
      "execution_count": 99,
      "outputs": [
        {
          "output_type": "execute_result",
          "data": {
            "text/html": [
              "<div>\n",
              "<style scoped>\n",
              "    .dataframe tbody tr th:only-of-type {\n",
              "        vertical-align: middle;\n",
              "    }\n",
              "\n",
              "    .dataframe tbody tr th {\n",
              "        vertical-align: top;\n",
              "    }\n",
              "\n",
              "    .dataframe thead th {\n",
              "        text-align: right;\n",
              "    }\n",
              "</style>\n",
              "<table border=\"1\" class=\"dataframe\">\n",
              "  <thead>\n",
              "    <tr style=\"text-align: right;\">\n",
              "      <th></th>\n",
              "      <th>item_category_name</th>\n",
              "      <th>item_category_id</th>\n",
              "    </tr>\n",
              "  </thead>\n",
              "  <tbody>\n",
              "    <tr>\n",
              "      <th>0</th>\n",
              "      <td>PC - Гарнитуры/Наушники</td>\n",
              "      <td>0</td>\n",
              "    </tr>\n",
              "    <tr>\n",
              "      <th>1</th>\n",
              "      <td>Аксессуары - PS2</td>\n",
              "      <td>1</td>\n",
              "    </tr>\n",
              "    <tr>\n",
              "      <th>2</th>\n",
              "      <td>Аксессуары - PS3</td>\n",
              "      <td>2</td>\n",
              "    </tr>\n",
              "    <tr>\n",
              "      <th>3</th>\n",
              "      <td>Аксессуары - PS4</td>\n",
              "      <td>3</td>\n",
              "    </tr>\n",
              "    <tr>\n",
              "      <th>4</th>\n",
              "      <td>Аксессуары - PSP</td>\n",
              "      <td>4</td>\n",
              "    </tr>\n",
              "  </tbody>\n",
              "</table>\n",
              "</div>"
            ],
            "text/plain": [
              "        item_category_name  item_category_id\n",
              "0  PC - Гарнитуры/Наушники                 0\n",
              "1         Аксессуары - PS2                 1\n",
              "2         Аксессуары - PS3                 2\n",
              "3         Аксессуары - PS4                 3\n",
              "4         Аксессуары - PSP                 4"
            ]
          },
          "metadata": {
            "tags": []
          },
          "execution_count": 99
        }
      ]
    },
    {
      "cell_type": "markdown",
      "metadata": {
        "id": "rfIUj1xKjZEM"
      },
      "source": [
        "item_category_name содержит 2 категории: более общую и частную"
      ]
    },
    {
      "cell_type": "code",
      "metadata": {
        "id": "qRl1YFAEjbzF",
        "colab": {
          "base_uri": "https://localhost:8080/",
          "height": 202
        },
        "outputId": "fbcd2d6c-8c5a-4922-a932-8363921649fd"
      },
      "source": [
        "ic_split = item_categories['item_category_name'].str.split(' - ')\r\n",
        "category = ic_split.map(lambda x: x[0])\r\n",
        "sub_category = ic_split.map(lambda x: x[1] if len(x) == 2 else None)\r\n",
        "item_categories['category'] = category\r\n",
        "item_categories['sub_category'] = sub_category\r\n",
        "item_categories.head()"
      ],
      "execution_count": 100,
      "outputs": [
        {
          "output_type": "execute_result",
          "data": {
            "text/html": [
              "<div>\n",
              "<style scoped>\n",
              "    .dataframe tbody tr th:only-of-type {\n",
              "        vertical-align: middle;\n",
              "    }\n",
              "\n",
              "    .dataframe tbody tr th {\n",
              "        vertical-align: top;\n",
              "    }\n",
              "\n",
              "    .dataframe thead th {\n",
              "        text-align: right;\n",
              "    }\n",
              "</style>\n",
              "<table border=\"1\" class=\"dataframe\">\n",
              "  <thead>\n",
              "    <tr style=\"text-align: right;\">\n",
              "      <th></th>\n",
              "      <th>item_category_name</th>\n",
              "      <th>item_category_id</th>\n",
              "      <th>category</th>\n",
              "      <th>sub_category</th>\n",
              "    </tr>\n",
              "  </thead>\n",
              "  <tbody>\n",
              "    <tr>\n",
              "      <th>0</th>\n",
              "      <td>PC - Гарнитуры/Наушники</td>\n",
              "      <td>0</td>\n",
              "      <td>PC</td>\n",
              "      <td>Гарнитуры/Наушники</td>\n",
              "    </tr>\n",
              "    <tr>\n",
              "      <th>1</th>\n",
              "      <td>Аксессуары - PS2</td>\n",
              "      <td>1</td>\n",
              "      <td>Аксессуары</td>\n",
              "      <td>PS2</td>\n",
              "    </tr>\n",
              "    <tr>\n",
              "      <th>2</th>\n",
              "      <td>Аксессуары - PS3</td>\n",
              "      <td>2</td>\n",
              "      <td>Аксессуары</td>\n",
              "      <td>PS3</td>\n",
              "    </tr>\n",
              "    <tr>\n",
              "      <th>3</th>\n",
              "      <td>Аксессуары - PS4</td>\n",
              "      <td>3</td>\n",
              "      <td>Аксессуары</td>\n",
              "      <td>PS4</td>\n",
              "    </tr>\n",
              "    <tr>\n",
              "      <th>4</th>\n",
              "      <td>Аксессуары - PSP</td>\n",
              "      <td>4</td>\n",
              "      <td>Аксессуары</td>\n",
              "      <td>PSP</td>\n",
              "    </tr>\n",
              "  </tbody>\n",
              "</table>\n",
              "</div>"
            ],
            "text/plain": [
              "        item_category_name  item_category_id    category        sub_category\n",
              "0  PC - Гарнитуры/Наушники                 0          PC  Гарнитуры/Наушники\n",
              "1         Аксессуары - PS2                 1  Аксессуары                 PS2\n",
              "2         Аксессуары - PS3                 2  Аксессуары                 PS3\n",
              "3         Аксессуары - PS4                 3  Аксессуары                 PS4\n",
              "4         Аксессуары - PSP                 4  Аксессуары                 PSP"
            ]
          },
          "metadata": {
            "tags": []
          },
          "execution_count": 100
        }
      ]
    },
    {
      "cell_type": "markdown",
      "metadata": {
        "id": "dgQTydHtseqI"
      },
      "source": [
        "Делаем индексы для категорий и подкатегорий"
      ]
    },
    {
      "cell_type": "code",
      "metadata": {
        "id": "6f_e-RLJohCx"
      },
      "source": [
        "cats = pd.DataFrame(item_categories.category.unique(), columns=['category'])\r\n",
        "cats['category_id'] = cats.index\r\n",
        "item_categories = item_categories.merge(cats, on='category')\r\n",
        "sub_cats = pd.DataFrame(item_categories.sub_category.unique(), columns=['sub_category'])\r\n",
        "sub_cats['sub_category_id'] = sub_cats.index\r\n",
        "item_categories = item_categories.merge(sub_cats, on='sub_category')"
      ],
      "execution_count": 101,
      "outputs": []
    },
    {
      "cell_type": "markdown",
      "metadata": {
        "id": "7KAaoLwbXJi4"
      },
      "source": [
        "**Correlation**"
      ]
    },
    {
      "cell_type": "code",
      "metadata": {
        "id": "CVx28vUJl7Ea"
      },
      "source": [
        "item_cat_merge = items.merge(item_categories, on='item_category_id')"
      ],
      "execution_count": 103,
      "outputs": []
    },
    {
      "cell_type": "code",
      "metadata": {
        "id": "nrMHWPELhERs"
      },
      "source": [
        "merged = train.merge(item_cat_merge, on='item_id').drop(columns=['item_name']).reset_index()"
      ],
      "execution_count": 105,
      "outputs": []
    },
    {
      "cell_type": "markdown",
      "metadata": {
        "id": "0J5TJ4M2tkwt"
      },
      "source": [
        "Значительных корреляций нет"
      ]
    },
    {
      "cell_type": "code",
      "metadata": {
        "colab": {
          "base_uri": "https://localhost:8080/",
          "height": 246
        },
        "id": "FWmei3tFhLET",
        "outputId": "be98c636-58f7-494a-b28e-d307910b61e7"
      },
      "source": [
        "merged.corr().style.background_gradient(cmap='coolwarm').set_precision(2)"
      ],
      "execution_count": 107,
      "outputs": [
        {
          "output_type": "execute_result",
          "data": {
            "text/html": [
              "<style  type=\"text/css\" >\n",
              "#T_f5d151e8_80ef_11eb_8c92_0242ac1c0002row0_col0,#T_f5d151e8_80ef_11eb_8c92_0242ac1c0002row1_col1,#T_f5d151e8_80ef_11eb_8c92_0242ac1c0002row2_col2,#T_f5d151e8_80ef_11eb_8c92_0242ac1c0002row3_col3,#T_f5d151e8_80ef_11eb_8c92_0242ac1c0002row4_col4,#T_f5d151e8_80ef_11eb_8c92_0242ac1c0002row5_col5,#T_f5d151e8_80ef_11eb_8c92_0242ac1c0002row6_col6,#T_f5d151e8_80ef_11eb_8c92_0242ac1c0002row7_col7,#T_f5d151e8_80ef_11eb_8c92_0242ac1c0002row8_col8{\n",
              "            background-color:  #b40426;\n",
              "            color:  #f1f1f1;\n",
              "        }#T_f5d151e8_80ef_11eb_8c92_0242ac1c0002row0_col1{\n",
              "            background-color:  #f0cdbb;\n",
              "            color:  #000000;\n",
              "        }#T_f5d151e8_80ef_11eb_8c92_0242ac1c0002row0_col2{\n",
              "            background-color:  #455cce;\n",
              "            color:  #f1f1f1;\n",
              "        }#T_f5d151e8_80ef_11eb_8c92_0242ac1c0002row0_col3,#T_f5d151e8_80ef_11eb_8c92_0242ac1c0002row1_col6,#T_f5d151e8_80ef_11eb_8c92_0242ac1c0002row2_col4{\n",
              "            background-color:  #84a7fc;\n",
              "            color:  #000000;\n",
              "        }#T_f5d151e8_80ef_11eb_8c92_0242ac1c0002row0_col4{\n",
              "            background-color:  #afcafc;\n",
              "            color:  #000000;\n",
              "        }#T_f5d151e8_80ef_11eb_8c92_0242ac1c0002row0_col5,#T_f5d151e8_80ef_11eb_8c92_0242ac1c0002row6_col1,#T_f5d151e8_80ef_11eb_8c92_0242ac1c0002row8_col1,#T_f5d151e8_80ef_11eb_8c92_0242ac1c0002row8_col2{\n",
              "            background-color:  #445acc;\n",
              "            color:  #f1f1f1;\n",
              "        }#T_f5d151e8_80ef_11eb_8c92_0242ac1c0002row0_col6{\n",
              "            background-color:  #7da0f9;\n",
              "            color:  #000000;\n",
              "        }#T_f5d151e8_80ef_11eb_8c92_0242ac1c0002row0_col7,#T_f5d151e8_80ef_11eb_8c92_0242ac1c0002row5_col7{\n",
              "            background-color:  #8badfd;\n",
              "            color:  #000000;\n",
              "        }#T_f5d151e8_80ef_11eb_8c92_0242ac1c0002row0_col8,#T_f5d151e8_80ef_11eb_8c92_0242ac1c0002row5_col8{\n",
              "            background-color:  #779af7;\n",
              "            color:  #000000;\n",
              "        }#T_f5d151e8_80ef_11eb_8c92_0242ac1c0002row1_col0,#T_f5d151e8_80ef_11eb_8c92_0242ac1c0002row3_col7{\n",
              "            background-color:  #efcebd;\n",
              "            color:  #000000;\n",
              "        }#T_f5d151e8_80ef_11eb_8c92_0242ac1c0002row1_col2,#T_f5d151e8_80ef_11eb_8c92_0242ac1c0002row6_col2{\n",
              "            background-color:  #465ecf;\n",
              "            color:  #f1f1f1;\n",
              "        }#T_f5d151e8_80ef_11eb_8c92_0242ac1c0002row1_col3{\n",
              "            background-color:  #6282ea;\n",
              "            color:  #000000;\n",
              "        }#T_f5d151e8_80ef_11eb_8c92_0242ac1c0002row1_col4{\n",
              "            background-color:  #a3c2fe;\n",
              "            color:  #000000;\n",
              "        }#T_f5d151e8_80ef_11eb_8c92_0242ac1c0002row1_col5,#T_f5d151e8_80ef_11eb_8c92_0242ac1c0002row3_col1,#T_f5d151e8_80ef_11eb_8c92_0242ac1c0002row5_col1{\n",
              "            background-color:  #3e51c5;\n",
              "            color:  #f1f1f1;\n",
              "        }#T_f5d151e8_80ef_11eb_8c92_0242ac1c0002row1_col7{\n",
              "            background-color:  #89acfd;\n",
              "            color:  #000000;\n",
              "        }#T_f5d151e8_80ef_11eb_8c92_0242ac1c0002row1_col8{\n",
              "            background-color:  #7b9ff9;\n",
              "            color:  #000000;\n",
              "        }#T_f5d151e8_80ef_11eb_8c92_0242ac1c0002row2_col0,#T_f5d151e8_80ef_11eb_8c92_0242ac1c0002row4_col5,#T_f5d151e8_80ef_11eb_8c92_0242ac1c0002row5_col2,#T_f5d151e8_80ef_11eb_8c92_0242ac1c0002row8_col0,#T_f5d151e8_80ef_11eb_8c92_0242ac1c0002row8_col5{\n",
              "            background-color:  #3f53c6;\n",
              "            color:  #f1f1f1;\n",
              "        }#T_f5d151e8_80ef_11eb_8c92_0242ac1c0002row2_col1,#T_f5d151e8_80ef_11eb_8c92_0242ac1c0002row3_col5,#T_f5d151e8_80ef_11eb_8c92_0242ac1c0002row6_col5{\n",
              "            background-color:  #4055c8;\n",
              "            color:  #f1f1f1;\n",
              "        }#T_f5d151e8_80ef_11eb_8c92_0242ac1c0002row2_col3,#T_f5d151e8_80ef_11eb_8c92_0242ac1c0002row3_col4,#T_f5d151e8_80ef_11eb_8c92_0242ac1c0002row4_col0{\n",
              "            background-color:  #6788ee;\n",
              "            color:  #000000;\n",
              "        }#T_f5d151e8_80ef_11eb_8c92_0242ac1c0002row2_col5,#T_f5d151e8_80ef_11eb_8c92_0242ac1c0002row4_col2,#T_f5d151e8_80ef_11eb_8c92_0242ac1c0002row4_col3,#T_f5d151e8_80ef_11eb_8c92_0242ac1c0002row4_col6,#T_f5d151e8_80ef_11eb_8c92_0242ac1c0002row4_col7,#T_f5d151e8_80ef_11eb_8c92_0242ac1c0002row4_col8,#T_f5d151e8_80ef_11eb_8c92_0242ac1c0002row6_col0,#T_f5d151e8_80ef_11eb_8c92_0242ac1c0002row7_col0,#T_f5d151e8_80ef_11eb_8c92_0242ac1c0002row7_col1,#T_f5d151e8_80ef_11eb_8c92_0242ac1c0002row7_col4,#T_f5d151e8_80ef_11eb_8c92_0242ac1c0002row7_col5{\n",
              "            background-color:  #3b4cc0;\n",
              "            color:  #f1f1f1;\n",
              "        }#T_f5d151e8_80ef_11eb_8c92_0242ac1c0002row2_col6{\n",
              "            background-color:  #81a4fb;\n",
              "            color:  #000000;\n",
              "        }#T_f5d151e8_80ef_11eb_8c92_0242ac1c0002row2_col7{\n",
              "            background-color:  #92b4fe;\n",
              "            color:  #000000;\n",
              "        }#T_f5d151e8_80ef_11eb_8c92_0242ac1c0002row2_col8{\n",
              "            background-color:  #7699f6;\n",
              "            color:  #000000;\n",
              "        }#T_f5d151e8_80ef_11eb_8c92_0242ac1c0002row3_col0{\n",
              "            background-color:  #5f7fe8;\n",
              "            color:  #000000;\n",
              "        }#T_f5d151e8_80ef_11eb_8c92_0242ac1c0002row3_col2,#T_f5d151e8_80ef_11eb_8c92_0242ac1c0002row6_col4{\n",
              "            background-color:  #4a63d3;\n",
              "            color:  #f1f1f1;\n",
              "        }#T_f5d151e8_80ef_11eb_8c92_0242ac1c0002row3_col6{\n",
              "            background-color:  #dcdddd;\n",
              "            color:  #000000;\n",
              "        }#T_f5d151e8_80ef_11eb_8c92_0242ac1c0002row3_col8{\n",
              "            background-color:  #d2dbe8;\n",
              "            color:  #000000;\n",
              "        }#T_f5d151e8_80ef_11eb_8c92_0242ac1c0002row4_col1{\n",
              "            background-color:  #5977e3;\n",
              "            color:  #000000;\n",
              "        }#T_f5d151e8_80ef_11eb_8c92_0242ac1c0002row5_col0{\n",
              "            background-color:  #4358cb;\n",
              "            color:  #f1f1f1;\n",
              "        }#T_f5d151e8_80ef_11eb_8c92_0242ac1c0002row5_col3{\n",
              "            background-color:  #6485ec;\n",
              "            color:  #000000;\n",
              "        }#T_f5d151e8_80ef_11eb_8c92_0242ac1c0002row5_col4{\n",
              "            background-color:  #8db0fe;\n",
              "            color:  #000000;\n",
              "        }#T_f5d151e8_80ef_11eb_8c92_0242ac1c0002row5_col6{\n",
              "            background-color:  #80a3fa;\n",
              "            color:  #000000;\n",
              "        }#T_f5d151e8_80ef_11eb_8c92_0242ac1c0002row6_col3{\n",
              "            background-color:  #cdd9ec;\n",
              "            color:  #000000;\n",
              "        }#T_f5d151e8_80ef_11eb_8c92_0242ac1c0002row6_col7{\n",
              "            background-color:  #c12b30;\n",
              "            color:  #f1f1f1;\n",
              "        }#T_f5d151e8_80ef_11eb_8c92_0242ac1c0002row6_col8{\n",
              "            background-color:  #c53334;\n",
              "            color:  #f1f1f1;\n",
              "        }#T_f5d151e8_80ef_11eb_8c92_0242ac1c0002row7_col2{\n",
              "            background-color:  #4961d2;\n",
              "            color:  #f1f1f1;\n",
              "        }#T_f5d151e8_80ef_11eb_8c92_0242ac1c0002row7_col3{\n",
              "            background-color:  #e0dbd8;\n",
              "            color:  #000000;\n",
              "        }#T_f5d151e8_80ef_11eb_8c92_0242ac1c0002row7_col6{\n",
              "            background-color:  #c32e31;\n",
              "            color:  #f1f1f1;\n",
              "        }#T_f5d151e8_80ef_11eb_8c92_0242ac1c0002row7_col8{\n",
              "            background-color:  #d65244;\n",
              "            color:  #000000;\n",
              "        }#T_f5d151e8_80ef_11eb_8c92_0242ac1c0002row8_col3{\n",
              "            background-color:  #c7d7f0;\n",
              "            color:  #000000;\n",
              "        }#T_f5d151e8_80ef_11eb_8c92_0242ac1c0002row8_col4{\n",
              "            background-color:  #536edd;\n",
              "            color:  #000000;\n",
              "        }#T_f5d151e8_80ef_11eb_8c92_0242ac1c0002row8_col6{\n",
              "            background-color:  #c43032;\n",
              "            color:  #f1f1f1;\n",
              "        }#T_f5d151e8_80ef_11eb_8c92_0242ac1c0002row8_col7{\n",
              "            background-color:  #d44e41;\n",
              "            color:  #000000;\n",
              "        }</style><table id=\"T_f5d151e8_80ef_11eb_8c92_0242ac1c0002\" ><thead>    <tr>        <th class=\"blank level0\" ></th>        <th class=\"col_heading level0 col0\" >index</th>        <th class=\"col_heading level0 col1\" >date_block_num</th>        <th class=\"col_heading level0 col2\" >shop_id</th>        <th class=\"col_heading level0 col3\" >item_id</th>        <th class=\"col_heading level0 col4\" >item_price</th>        <th class=\"col_heading level0 col5\" >item_cnt_day</th>        <th class=\"col_heading level0 col6\" >item_category_id</th>        <th class=\"col_heading level0 col7\" >category_id</th>        <th class=\"col_heading level0 col8\" >sub_category_id</th>    </tr></thead><tbody>\n",
              "                <tr>\n",
              "                        <th id=\"T_f5d151e8_80ef_11eb_8c92_0242ac1c0002level0_row0\" class=\"row_heading level0 row0\" >index</th>\n",
              "                        <td id=\"T_f5d151e8_80ef_11eb_8c92_0242ac1c0002row0_col0\" class=\"data row0 col0\" >1.00</td>\n",
              "                        <td id=\"T_f5d151e8_80ef_11eb_8c92_0242ac1c0002row0_col1\" class=\"data row0 col1\" >0.58</td>\n",
              "                        <td id=\"T_f5d151e8_80ef_11eb_8c92_0242ac1c0002row0_col2\" class=\"data row0 col2\" >0.02</td>\n",
              "                        <td id=\"T_f5d151e8_80ef_11eb_8c92_0242ac1c0002row0_col3\" class=\"data row0 col3\" >0.12</td>\n",
              "                        <td id=\"T_f5d151e8_80ef_11eb_8c92_0242ac1c0002row0_col4\" class=\"data row0 col4\" >0.14</td>\n",
              "                        <td id=\"T_f5d151e8_80ef_11eb_8c92_0242ac1c0002row0_col5\" class=\"data row0 col5\" >0.03</td>\n",
              "                        <td id=\"T_f5d151e8_80ef_11eb_8c92_0242ac1c0002row0_col6\" class=\"data row0 col6\" >0.00</td>\n",
              "                        <td id=\"T_f5d151e8_80ef_11eb_8c92_0242ac1c0002row0_col7\" class=\"data row0 col7\" >-0.00</td>\n",
              "                        <td id=\"T_f5d151e8_80ef_11eb_8c92_0242ac1c0002row0_col8\" class=\"data row0 col8\" >0.01</td>\n",
              "            </tr>\n",
              "            <tr>\n",
              "                        <th id=\"T_f5d151e8_80ef_11eb_8c92_0242ac1c0002level0_row1\" class=\"row_heading level0 row1\" >date_block_num</th>\n",
              "                        <td id=\"T_f5d151e8_80ef_11eb_8c92_0242ac1c0002row1_col0\" class=\"data row1 col0\" >0.58</td>\n",
              "                        <td id=\"T_f5d151e8_80ef_11eb_8c92_0242ac1c0002row1_col1\" class=\"data row1 col1\" >1.00</td>\n",
              "                        <td id=\"T_f5d151e8_80ef_11eb_8c92_0242ac1c0002row1_col2\" class=\"data row1 col2\" >0.02</td>\n",
              "                        <td id=\"T_f5d151e8_80ef_11eb_8c92_0242ac1c0002row1_col3\" class=\"data row1 col3\" >0.01</td>\n",
              "                        <td id=\"T_f5d151e8_80ef_11eb_8c92_0242ac1c0002row1_col4\" class=\"data row1 col4\" >0.10</td>\n",
              "                        <td id=\"T_f5d151e8_80ef_11eb_8c92_0242ac1c0002row1_col5\" class=\"data row1 col5\" >0.01</td>\n",
              "                        <td id=\"T_f5d151e8_80ef_11eb_8c92_0242ac1c0002row1_col6\" class=\"data row1 col6\" >0.03</td>\n",
              "                        <td id=\"T_f5d151e8_80ef_11eb_8c92_0242ac1c0002row1_col7\" class=\"data row1 col7\" >-0.00</td>\n",
              "                        <td id=\"T_f5d151e8_80ef_11eb_8c92_0242ac1c0002row1_col8\" class=\"data row1 col8\" >0.03</td>\n",
              "            </tr>\n",
              "            <tr>\n",
              "                        <th id=\"T_f5d151e8_80ef_11eb_8c92_0242ac1c0002level0_row2\" class=\"row_heading level0 row2\" >shop_id</th>\n",
              "                        <td id=\"T_f5d151e8_80ef_11eb_8c92_0242ac1c0002row2_col0\" class=\"data row2 col0\" >0.02</td>\n",
              "                        <td id=\"T_f5d151e8_80ef_11eb_8c92_0242ac1c0002row2_col1\" class=\"data row2 col1\" >0.02</td>\n",
              "                        <td id=\"T_f5d151e8_80ef_11eb_8c92_0242ac1c0002row2_col2\" class=\"data row2 col2\" >1.00</td>\n",
              "                        <td id=\"T_f5d151e8_80ef_11eb_8c92_0242ac1c0002row2_col3\" class=\"data row2 col3\" >0.03</td>\n",
              "                        <td id=\"T_f5d151e8_80ef_11eb_8c92_0242ac1c0002row2_col4\" class=\"data row2 col4\" >-0.02</td>\n",
              "                        <td id=\"T_f5d151e8_80ef_11eb_8c92_0242ac1c0002row2_col5\" class=\"data row2 col5\" >-0.01</td>\n",
              "                        <td id=\"T_f5d151e8_80ef_11eb_8c92_0242ac1c0002row2_col6\" class=\"data row2 col6\" >0.02</td>\n",
              "                        <td id=\"T_f5d151e8_80ef_11eb_8c92_0242ac1c0002row2_col7\" class=\"data row2 col7\" >0.03</td>\n",
              "                        <td id=\"T_f5d151e8_80ef_11eb_8c92_0242ac1c0002row2_col8\" class=\"data row2 col8\" >0.01</td>\n",
              "            </tr>\n",
              "            <tr>\n",
              "                        <th id=\"T_f5d151e8_80ef_11eb_8c92_0242ac1c0002level0_row3\" class=\"row_heading level0 row3\" >item_id</th>\n",
              "                        <td id=\"T_f5d151e8_80ef_11eb_8c92_0242ac1c0002row3_col0\" class=\"data row3 col0\" >0.12</td>\n",
              "                        <td id=\"T_f5d151e8_80ef_11eb_8c92_0242ac1c0002row3_col1\" class=\"data row3 col1\" >0.01</td>\n",
              "                        <td id=\"T_f5d151e8_80ef_11eb_8c92_0242ac1c0002row3_col2\" class=\"data row3 col2\" >0.03</td>\n",
              "                        <td id=\"T_f5d151e8_80ef_11eb_8c92_0242ac1c0002row3_col3\" class=\"data row3 col3\" >1.00</td>\n",
              "                        <td id=\"T_f5d151e8_80ef_11eb_8c92_0242ac1c0002row3_col4\" class=\"data row3 col4\" >-0.13</td>\n",
              "                        <td id=\"T_f5d151e8_80ef_11eb_8c92_0242ac1c0002row3_col5\" class=\"data row3 col5\" >0.02</td>\n",
              "                        <td id=\"T_f5d151e8_80ef_11eb_8c92_0242ac1c0002row3_col6\" class=\"data row3 col6\" >0.37</td>\n",
              "                        <td id=\"T_f5d151e8_80ef_11eb_8c92_0242ac1c0002row3_col7\" class=\"data row3 col7\" >0.45</td>\n",
              "                        <td id=\"T_f5d151e8_80ef_11eb_8c92_0242ac1c0002row3_col8\" class=\"data row3 col8\" >0.34</td>\n",
              "            </tr>\n",
              "            <tr>\n",
              "                        <th id=\"T_f5d151e8_80ef_11eb_8c92_0242ac1c0002level0_row4\" class=\"row_heading level0 row4\" >item_price</th>\n",
              "                        <td id=\"T_f5d151e8_80ef_11eb_8c92_0242ac1c0002row4_col0\" class=\"data row4 col0\" >0.14</td>\n",
              "                        <td id=\"T_f5d151e8_80ef_11eb_8c92_0242ac1c0002row4_col1\" class=\"data row4 col1\" >0.10</td>\n",
              "                        <td id=\"T_f5d151e8_80ef_11eb_8c92_0242ac1c0002row4_col2\" class=\"data row4 col2\" >-0.02</td>\n",
              "                        <td id=\"T_f5d151e8_80ef_11eb_8c92_0242ac1c0002row4_col3\" class=\"data row4 col3\" >-0.13</td>\n",
              "                        <td id=\"T_f5d151e8_80ef_11eb_8c92_0242ac1c0002row4_col4\" class=\"data row4 col4\" >1.00</td>\n",
              "                        <td id=\"T_f5d151e8_80ef_11eb_8c92_0242ac1c0002row4_col5\" class=\"data row4 col5\" >0.01</td>\n",
              "                        <td id=\"T_f5d151e8_80ef_11eb_8c92_0242ac1c0002row4_col6\" class=\"data row4 col6\" >-0.25</td>\n",
              "                        <td id=\"T_f5d151e8_80ef_11eb_8c92_0242ac1c0002row4_col7\" class=\"data row4 col7\" >-0.32</td>\n",
              "                        <td id=\"T_f5d151e8_80ef_11eb_8c92_0242ac1c0002row4_col8\" class=\"data row4 col8\" >-0.21</td>\n",
              "            </tr>\n",
              "            <tr>\n",
              "                        <th id=\"T_f5d151e8_80ef_11eb_8c92_0242ac1c0002level0_row5\" class=\"row_heading level0 row5\" >item_cnt_day</th>\n",
              "                        <td id=\"T_f5d151e8_80ef_11eb_8c92_0242ac1c0002row5_col0\" class=\"data row5 col0\" >0.03</td>\n",
              "                        <td id=\"T_f5d151e8_80ef_11eb_8c92_0242ac1c0002row5_col1\" class=\"data row5 col1\" >0.01</td>\n",
              "                        <td id=\"T_f5d151e8_80ef_11eb_8c92_0242ac1c0002row5_col2\" class=\"data row5 col2\" >-0.01</td>\n",
              "                        <td id=\"T_f5d151e8_80ef_11eb_8c92_0242ac1c0002row5_col3\" class=\"data row5 col3\" >0.02</td>\n",
              "                        <td id=\"T_f5d151e8_80ef_11eb_8c92_0242ac1c0002row5_col4\" class=\"data row5 col4\" >0.01</td>\n",
              "                        <td id=\"T_f5d151e8_80ef_11eb_8c92_0242ac1c0002row5_col5\" class=\"data row5 col5\" >1.00</td>\n",
              "                        <td id=\"T_f5d151e8_80ef_11eb_8c92_0242ac1c0002row5_col6\" class=\"data row5 col6\" >0.01</td>\n",
              "                        <td id=\"T_f5d151e8_80ef_11eb_8c92_0242ac1c0002row5_col7\" class=\"data row5 col7\" >-0.00</td>\n",
              "                        <td id=\"T_f5d151e8_80ef_11eb_8c92_0242ac1c0002row5_col8\" class=\"data row5 col8\" >0.01</td>\n",
              "            </tr>\n",
              "            <tr>\n",
              "                        <th id=\"T_f5d151e8_80ef_11eb_8c92_0242ac1c0002level0_row6\" class=\"row_heading level0 row6\" >item_category_id</th>\n",
              "                        <td id=\"T_f5d151e8_80ef_11eb_8c92_0242ac1c0002row6_col0\" class=\"data row6 col0\" >0.00</td>\n",
              "                        <td id=\"T_f5d151e8_80ef_11eb_8c92_0242ac1c0002row6_col1\" class=\"data row6 col1\" >0.03</td>\n",
              "                        <td id=\"T_f5d151e8_80ef_11eb_8c92_0242ac1c0002row6_col2\" class=\"data row6 col2\" >0.02</td>\n",
              "                        <td id=\"T_f5d151e8_80ef_11eb_8c92_0242ac1c0002row6_col3\" class=\"data row6 col3\" >0.37</td>\n",
              "                        <td id=\"T_f5d151e8_80ef_11eb_8c92_0242ac1c0002row6_col4\" class=\"data row6 col4\" >-0.25</td>\n",
              "                        <td id=\"T_f5d151e8_80ef_11eb_8c92_0242ac1c0002row6_col5\" class=\"data row6 col5\" >0.01</td>\n",
              "                        <td id=\"T_f5d151e8_80ef_11eb_8c92_0242ac1c0002row6_col6\" class=\"data row6 col6\" >1.00</td>\n",
              "                        <td id=\"T_f5d151e8_80ef_11eb_8c92_0242ac1c0002row6_col7\" class=\"data row6 col7\" >0.95</td>\n",
              "                        <td id=\"T_f5d151e8_80ef_11eb_8c92_0242ac1c0002row6_col8\" class=\"data row6 col8\" >0.94</td>\n",
              "            </tr>\n",
              "            <tr>\n",
              "                        <th id=\"T_f5d151e8_80ef_11eb_8c92_0242ac1c0002level0_row7\" class=\"row_heading level0 row7\" >category_id</th>\n",
              "                        <td id=\"T_f5d151e8_80ef_11eb_8c92_0242ac1c0002row7_col0\" class=\"data row7 col0\" >-0.00</td>\n",
              "                        <td id=\"T_f5d151e8_80ef_11eb_8c92_0242ac1c0002row7_col1\" class=\"data row7 col1\" >-0.00</td>\n",
              "                        <td id=\"T_f5d151e8_80ef_11eb_8c92_0242ac1c0002row7_col2\" class=\"data row7 col2\" >0.03</td>\n",
              "                        <td id=\"T_f5d151e8_80ef_11eb_8c92_0242ac1c0002row7_col3\" class=\"data row7 col3\" >0.45</td>\n",
              "                        <td id=\"T_f5d151e8_80ef_11eb_8c92_0242ac1c0002row7_col4\" class=\"data row7 col4\" >-0.32</td>\n",
              "                        <td id=\"T_f5d151e8_80ef_11eb_8c92_0242ac1c0002row7_col5\" class=\"data row7 col5\" >-0.00</td>\n",
              "                        <td id=\"T_f5d151e8_80ef_11eb_8c92_0242ac1c0002row7_col6\" class=\"data row7 col6\" >0.95</td>\n",
              "                        <td id=\"T_f5d151e8_80ef_11eb_8c92_0242ac1c0002row7_col7\" class=\"data row7 col7\" >1.00</td>\n",
              "                        <td id=\"T_f5d151e8_80ef_11eb_8c92_0242ac1c0002row7_col8\" class=\"data row7 col8\" >0.88</td>\n",
              "            </tr>\n",
              "            <tr>\n",
              "                        <th id=\"T_f5d151e8_80ef_11eb_8c92_0242ac1c0002level0_row8\" class=\"row_heading level0 row8\" >sub_category_id</th>\n",
              "                        <td id=\"T_f5d151e8_80ef_11eb_8c92_0242ac1c0002row8_col0\" class=\"data row8 col0\" >0.01</td>\n",
              "                        <td id=\"T_f5d151e8_80ef_11eb_8c92_0242ac1c0002row8_col1\" class=\"data row8 col1\" >0.03</td>\n",
              "                        <td id=\"T_f5d151e8_80ef_11eb_8c92_0242ac1c0002row8_col2\" class=\"data row8 col2\" >0.01</td>\n",
              "                        <td id=\"T_f5d151e8_80ef_11eb_8c92_0242ac1c0002row8_col3\" class=\"data row8 col3\" >0.34</td>\n",
              "                        <td id=\"T_f5d151e8_80ef_11eb_8c92_0242ac1c0002row8_col4\" class=\"data row8 col4\" >-0.21</td>\n",
              "                        <td id=\"T_f5d151e8_80ef_11eb_8c92_0242ac1c0002row8_col5\" class=\"data row8 col5\" >0.01</td>\n",
              "                        <td id=\"T_f5d151e8_80ef_11eb_8c92_0242ac1c0002row8_col6\" class=\"data row8 col6\" >0.94</td>\n",
              "                        <td id=\"T_f5d151e8_80ef_11eb_8c92_0242ac1c0002row8_col7\" class=\"data row8 col7\" >0.88</td>\n",
              "                        <td id=\"T_f5d151e8_80ef_11eb_8c92_0242ac1c0002row8_col8\" class=\"data row8 col8\" >1.00</td>\n",
              "            </tr>\n",
              "    </tbody></table>"
            ],
            "text/plain": [
              "<pandas.io.formats.style.Styler at 0x7f58c87b3490>"
            ]
          },
          "metadata": {
            "tags": []
          },
          "execution_count": 107
        }
      ]
    },
    {
      "cell_type": "markdown",
      "metadata": {
        "id": "nQAGoeCWNILr"
      },
      "source": [
        "# Выводы:\r\n",
        "\r\n",
        "\r\n",
        "*   Количество проданных товаров может быть отрицательно\r\n",
        "*   В количестве продаж присутствует тренд на снижение\r\n",
        "*   Все магазины, что есть в test, есть и в train\r\n",
        "*   В test есть некоторые товары, которых нет в train\r\n",
        "*   В начале месяца резкое увеличение продаж\r\n",
        "*   В конце года продажи резко увеличиваются\r\n",
        "*   Продажи увеличиваются на 5й день недели\r\n",
        "*   Новый пункт\r\n",
        "\r\n",
        "\r\n",
        "\r\n",
        "\r\n",
        "\r\n",
        "\r\n"
      ]
    },
    {
      "cell_type": "markdown",
      "metadata": {
        "id": "BS1-JjXlocMo"
      },
      "source": [
        "# **Cross validation**"
      ]
    },
    {
      "cell_type": "markdown",
      "metadata": {
        "id": "h0FNN0zZkyP0"
      },
      "source": [
        "Кроссвалидацию используем специальную для временных рядов, которая будет делить выборку в учетом времени"
      ]
    },
    {
      "cell_type": "code",
      "metadata": {
        "id": "YwVokgFyofDn"
      },
      "source": [
        "from sklearn.model_selection import TimeSeriesSplit\r\n",
        "\r\n",
        "test = train['item_cnt_day']\r\n",
        "train = train.drop(columns=['item_cnt_day'])\r\n",
        "train = train.sort_index()"
      ],
      "execution_count": 49,
      "outputs": []
    },
    {
      "cell_type": "code",
      "metadata": {
        "id": "5hHjx4C5pDJT"
      },
      "source": [
        "cv = TimeSeriesSplit(n_splits=5).split(train)"
      ],
      "execution_count": null,
      "outputs": []
    }
  ]
}