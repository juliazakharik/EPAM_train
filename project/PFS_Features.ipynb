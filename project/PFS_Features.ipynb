{
  "nbformat": 4,
  "nbformat_minor": 0,
  "metadata": {
    "colab": {
      "name": "PFS_Features.ipynb",
      "provenance": [],
      "collapsed_sections": []
    },
    "kernelspec": {
      "display_name": "Python 3",
      "name": "python3"
    }
  },
  "cells": [
    {
      "cell_type": "code",
      "metadata": {
        "id": "MxXYQ1sPhTB0"
      },
      "source": [
        "import pandas as pd\r\n",
        "import numpy as np\r\n",
        "import matplotlib.pyplot as plt\r\n",
        "import seaborn as sns\r\n",
        "\r\n",
        "from sklearn.preprocessing import StandardScaler\r\n",
        "from sklearn.linear_model import LinearRegression\r\n",
        "from sklearn.model_selection import train_test_split\r\n",
        "from sklearn.metrics import mean_absolute_error\r\n",
        "from sklearn.preprocessing import PolynomialFeatures\r\n",
        "\r\n",
        "train = pd.read_csv('/content/sales_train.csv')\r\n",
        "test = pd.read_csv('/content/test.csv')\r\n",
        "shops = pd.read_csv('/content/shops.csv')\r\n",
        "items = pd.read_csv('/content/items.csv')\r\n",
        "item_categories = pd.read_csv('/content/item_categories.csv')"
      ],
      "execution_count": 1,
      "outputs": []
    },
    {
      "cell_type": "markdown",
      "metadata": {
        "id": "WyDerkgkQJgB"
      },
      "source": [
        "Общие продажи магазинов"
      ]
    },
    {
      "cell_type": "code",
      "metadata": {
        "id": "E6Qi5n9VQSvI"
      },
      "source": [
        "average_sales_shops = train.groupby(by='shop_id')['item_cnt_day'].sum().to_frame()"
      ],
      "execution_count": 2,
      "outputs": []
    },
    {
      "cell_type": "markdown",
      "metadata": {
        "id": "L7mq_YRJQ7c5"
      },
      "source": [
        "Общие продажи товаров"
      ]
    },
    {
      "cell_type": "code",
      "metadata": {
        "id": "Fxv33s48Q94z"
      },
      "source": [
        "average_sales_items = train.groupby(by='item_id')['item_cnt_day'].sum()"
      ],
      "execution_count": 3,
      "outputs": []
    },
    {
      "cell_type": "markdown",
      "metadata": {
        "id": "kDKni5AQfSzw"
      },
      "source": [
        "Добавление пропущенных значений(нулей)"
      ]
    },
    {
      "cell_type": "code",
      "metadata": {
        "id": "cs4Jv8Lfc4ki"
      },
      "source": [
        "updated_train = train.groupby(by=['shop_id', 'item_id'])['item_cnt_day'].sum()\r\n",
        "updated_train = updated_train.to_frame()\r\n",
        "updated_train = updated_train.reset_index()\r\n",
        "updated_train['key'] = 1\r\n",
        "zeros = pd.DataFrame(range(34))\r\n",
        "zeros.columns = ['date_block_num']\r\n",
        "zeros['key'] = 1\r\n",
        "updated_train = updated_train.merge(zeros, how='outer', on='key').drop('key', 1)\r\n",
        "updated_train['item_cnt_day'] = 0\r\n",
        "updated_train = updated_train.groupby(by=['shop_id', 'item_id', 'date_block_num'])['item_cnt_day'].sum()\r\n",
        "new = train.groupby(by=['shop_id', 'item_id', 'date_block_num'])['item_cnt_day'].sum()\r\n",
        "updated_train = new.add(updated_train, fill_value=0)\r\n",
        "updated_train = updated_train.to_frame()\r\n",
        "updated_train = updated_train.reset_index()"
      ],
      "execution_count": 4,
      "outputs": []
    },
    {
      "cell_type": "markdown",
      "metadata": {
        "id": "9_voOdZhfAsP"
      },
      "source": [
        "Продажи товара в предыдущие ```window``` месяцев\r\n",
        "\r\n"
      ]
    },
    {
      "cell_type": "code",
      "metadata": {
        "id": "QlXLG3VHdr0W"
      },
      "source": [
        "def sales_prev_year(df, lag):\r\n",
        "  df['sales_month_prev_year'] = df.date_block_num - lag\r\n",
        "  # df[df['sales_month_prev_year'] >= 0]\r\n",
        "  shifted = df.copy()\r\n",
        "  shifted= shifted[['shop_id', 'item_id', 'date_block_num', 'item_cnt_day']]\r\n",
        "  shifted = shifted.rename(columns={'date_block_num' :'sales_month_prev_year'})\r\n",
        "  df = df.merge(shifted, how='left', on=['shop_id', 'item_id', 'sales_month_prev_year'])\r\n",
        "  # df = df[df['item_cnt_day_y'].notna()]\r\n",
        "  df = df.rename(columns={\"item_cnt_day_y\":\"sales_\" + str(lag) +\"_month_ago\", \"item_cnt_day_x\":\"item_cnt_day\"})\r\n",
        "  # df = df[df['date_block_num'] > lag]\r\n",
        "  return df"
      ],
      "execution_count": 8,
      "outputs": []
    },
    {
      "cell_type": "code",
      "metadata": {
        "colab": {
          "base_uri": "https://localhost:8080/"
        },
        "id": "W_s6EEhud5Y4",
        "outputId": "61c36f57-e022-4175-8c9d-d85e5b081bed"
      },
      "source": [
        "updated_train = sales_prev_year(updated_train,1)\r\n",
        "window = 6\r\n",
        "for i in range(2, window):\r\n",
        "  print(i)\r\n",
        "  updated_train = sales_prev_year(updated_train, i)"
      ],
      "execution_count": 9,
      "outputs": [
        {
          "output_type": "stream",
          "text": [
            "2\n",
            "3\n",
            "4\n",
            "5\n"
          ],
          "name": "stdout"
        }
      ]
    },
    {
      "cell_type": "markdown",
      "metadata": {
        "id": "q7kfDqKafeYf"
      },
      "source": [
        "Удаление первых ```window ``` месяцев\r\n",
        "\r\n"
      ]
    },
    {
      "cell_type": "code",
      "metadata": {
        "id": "VjCjVe5ueFEz"
      },
      "source": [
        "updated_train = updated_train[updated_train['date_block_num'] > window - 2]"
      ],
      "execution_count": 11,
      "outputs": []
    },
    {
      "cell_type": "markdown",
      "metadata": {
        "id": "huTRm924ftUO"
      },
      "source": [
        "Добавление общих продаж магазинов и товаров"
      ]
    },
    {
      "cell_type": "code",
      "metadata": {
        "id": "XhBbPrJ9eT8X"
      },
      "source": [
        "updated_train = updated_train.merge(average_sales_shops, how='left', on='shop_id')\r\n",
        "updated_train = updated_train.rename(columns={\"item_cnt_day_x\" : \"item_cnt_day\", \"item_cnt_day_y\":\"shop_sales\"})\r\n",
        "updated_train = updated_train.merge(average_sales_items, how='left', on='item_id')\r\n",
        "updated_train = updated_train.rename(columns={\"item_cnt_day_x\" : \"item_cnt_day\", \"item_cnt_day_y\": \"item_sales\"})"
      ],
      "execution_count": 12,
      "outputs": []
    },
    {
      "cell_type": "code",
      "metadata": {
        "id": "4-glHosTebWT"
      },
      "source": [
        "updated_train = updated_train.drop(columns=['sales_month_prev_year', 'item_id', 'shop_id'])"
      ],
      "execution_count": 14,
      "outputs": []
    },
    {
      "cell_type": "markdown",
      "metadata": {
        "id": "NvYtlCfFfxxP"
      },
      "source": [
        "Добавление номера месяца"
      ]
    },
    {
      "cell_type": "code",
      "metadata": {
        "id": "rsQFAJYBegGv"
      },
      "source": [
        "updated_train['date_block_num'] = updated_train['date_block_num'] % 12"
      ],
      "execution_count": 15,
      "outputs": []
    },
    {
      "cell_type": "code",
      "metadata": {
        "id": "qP-bSM6perqA"
      },
      "source": [
        "target = updated_train['item_cnt_day']\r\n",
        "X = updated_train.drop(columns='item_cnt_day')"
      ],
      "execution_count": 17,
      "outputs": []
    },
    {
      "cell_type": "code",
      "metadata": {
        "id": "5DVtvLiYevBt"
      },
      "source": [
        "scaler = StandardScaler()\r\n",
        "X = scaler.fit_transform(X)"
      ],
      "execution_count": 18,
      "outputs": []
    },
    {
      "cell_type": "code",
      "metadata": {
        "id": "yOf-9bH7exOi"
      },
      "source": [
        "X_train, X_test, y_train, y_test = train_test_split(X, target, test_size=0.2, random_state=42)"
      ],
      "execution_count": 19,
      "outputs": []
    },
    {
      "cell_type": "code",
      "metadata": {
        "colab": {
          "base_uri": "https://localhost:8080/"
        },
        "id": "8g0KPHB3ey-4",
        "outputId": "746808e8-68e1-4328-bb97-b36cf641acec"
      },
      "source": [
        "ll = LinearRegression()\r\n",
        "ll.fit(X_train, y_train)\r\n",
        "predicted = ll.predict(X_test)\r\n",
        "mean_absolute_error(predicted, y_test)"
      ],
      "execution_count": 20,
      "outputs": [
        {
          "output_type": "execute_result",
          "data": {
            "text/plain": [
              "0.2992066132714348"
            ]
          },
          "metadata": {
            "tags": []
          },
          "execution_count": 20
        }
      ]
    }
  ]
}