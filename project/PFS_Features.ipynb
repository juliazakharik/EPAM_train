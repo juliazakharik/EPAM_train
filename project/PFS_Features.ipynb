{
  "nbformat": 4,
  "nbformat_minor": 0,
  "metadata": {
    "accelerator": "GPU",
    "colab": {
      "name": "PFS_Features.ipynb",
      "provenance": [],
      "collapsed_sections": []
    },
    "kernelspec": {
      "display_name": "Python 3",
      "name": "python3"
    }
  },
  "cells": [
    {
      "cell_type": "code",
      "metadata": {
        "id": "MxXYQ1sPhTB0"
      },
      "source": [
        "import pandas as pd\n",
        "import numpy as np\n",
        "import matplotlib.pyplot as plt\n",
        "import seaborn as sns\n",
        "\n",
        "from sklearn.preprocessing import StandardScaler\n",
        "from sklearn.linear_model import LinearRegression\n",
        "from sklearn.model_selection import train_test_split\n",
        "from sklearn.metrics import mean_absolute_error\n",
        "from sklearn.tree import DecisionTreeRegressor\n",
        "\n",
        "train = pd.read_csv('/content/sales_train.csv')\n",
        "# test = pd.read_csv('/content/test.csv')\n",
        "shops = pd.read_csv('/content/shops.csv')\n",
        "items = pd.read_csv('/content/items.csv')\n",
        "# item_categories = pd.read_csv('/content/item_categories.csv')"
      ],
      "execution_count": 2,
      "outputs": []
    },
    {
      "cell_type": "code",
      "metadata": {
        "id": "hsQlLm0rjzoz"
      },
      "source": [
        "from sklearn.model_selection import cross_val_score\n",
        "from sklearn.model_selection import TimeSeriesSplit\n",
        "from sklearn.metrics import make_scorer\n",
        "from sklearn.ensemble import RandomForestRegressor, BaggingRegressor"
      ],
      "execution_count": 35,
      "outputs": []
    },
    {
      "cell_type": "markdown",
      "metadata": {
        "id": "qU2DiwlzcjxD"
      },
      "source": [
        "Возможные фичи:\n",
        "1. Продажи в этом месяце в прошлые года\n",
        "2. **Продажи за последние n месяцев**\n",
        "3. Цена товара\n",
        "4. Город продажи. Город можно заменить или совместно использовать с численностью населения или какой-нибудь характеристикой благосостояния города\n",
        "5. **Общие продажи магазина**\n",
        "6. **Общие продажи этого товара вообще или в конкретном городе**\n",
        "7. Продажи этого товара в лейбле магазина в разных городах(напр. ТЦ \"Мега\" в Воронеже и Омске)\n",
        "8. Какие-нибудь харакретистики прибыльности магазина, типа общего оборота\n",
        "9. Категории и подкатегории товара\n",
        "10. Вид магазина(ТЦ, ТРЦ и т.д.)\n",
        "11. Общие продажи по категории/подкатегории товара\n",
        "12. Средняя цена по этой категории/подкатегории\n",
        "13. Добавить еще 1 подкатегорию(напр. сейчас есть [игры -> [PS4, PS5, Xbox One, Xbox 360]], и выделить оттуда консоли, т.е. [игры -> [PS -> [PS4, PS5]], [Xbox -> [Xbox One, Xbox 360]]]. Но это только если очень захочется эту фичу добавить.\n",
        "14. Количество товаров в каждой категории\n",
        "15. Количество магазинов в городе\n",
        "16. Продажи по категориям/магазинам/городам в предыдущие месяца\n",
        "17. Количество дней в месяце\n",
        "18. Количество выходных/праздничных дней в месяце\n",
        "19. Время с последней продажи в этом магазине либо этого товара, либо вообще\n",
        "20. Месяц, в котором у товара были наибольшие продажи(если есть связь с годами)\n",
        "21. Id продукта\n",
        "22. Id магазина\n",
        "23. **Месяц продажи**"
      ]
    },
    {
      "cell_type": "markdown",
      "metadata": {
        "id": "WyDerkgkQJgB"
      },
      "source": [
        "Общие продажи магазинов"
      ]
    },
    {
      "cell_type": "code",
      "metadata": {
        "id": "E6Qi5n9VQSvI"
      },
      "source": [
        "average_sales_shops = train.groupby(by='shop_id')['item_cnt_day'].sum()"
      ],
      "execution_count": 4,
      "outputs": []
    },
    {
      "cell_type": "markdown",
      "metadata": {
        "id": "L7mq_YRJQ7c5"
      },
      "source": [
        "Общие продажи товаров"
      ]
    },
    {
      "cell_type": "code",
      "metadata": {
        "id": "Fxv33s48Q94z"
      },
      "source": [
        "average_sales_items = train.groupby(by='item_id')['item_cnt_day'].sum()"
      ],
      "execution_count": 5,
      "outputs": []
    },
    {
      "cell_type": "markdown",
      "metadata": {
        "id": "kDKni5AQfSzw"
      },
      "source": [
        "Добавление пропущенных значений(нулей)"
      ]
    },
    {
      "cell_type": "code",
      "metadata": {
        "id": "a_0IDRmRT3UI"
      },
      "source": [
        "train = train.drop(columns=['item_price', 'date'])"
      ],
      "execution_count": 6,
      "outputs": []
    },
    {
      "cell_type": "code",
      "metadata": {
        "id": "cs4Jv8Lfc4ki"
      },
      "source": [
        "#уникальные [shop_id, item_id]\n",
        "updated_train = train.drop_duplicates(subset=['item_id','shop_id'])[['shop_id', 'item_id']]\n",
        "\n",
        "#merge with zeros\n",
        "updated_train['key'] = 1\n",
        "zeros = pd.DataFrame(range(34))\n",
        "zeros.columns = ['date_block_num']\n",
        "zeros['key'] = 1\n",
        "updated_train = updated_train.merge(zeros, how='outer', on='key').drop('key', 1)\n",
        "\n",
        "#sum of items on months\n",
        "train = train.groupby(by=['shop_id', 'item_id', 'date_block_num'])['item_cnt_day'].sum().reset_index()\n",
        "updated_train = updated_train.merge(train, on=['shop_id', 'item_id','date_block_num'], how='left')\n",
        "updated_train = updated_train.fillna(0)"
      ],
      "execution_count": 7,
      "outputs": []
    },
    {
      "cell_type": "markdown",
      "metadata": {
        "id": "9_voOdZhfAsP"
      },
      "source": [
        "Продажи товара в предыдущие ```window``` месяцев\n",
        "\n"
      ]
    },
    {
      "cell_type": "code",
      "metadata": {
        "id": "QlXLG3VHdr0W"
      },
      "source": [
        "def sales_prev_year(df, lag):\n",
        "  df['sales_month_prev_year'] = df.date_block_num - lag\n",
        "  shifted = df.copy()\n",
        "  shifted = shifted[['shop_id', 'item_id', 'date_block_num', 'item_cnt_day']]\n",
        "  shifted = shifted.rename(columns={'date_block_num' :'sales_month_prev_year'})\n",
        "  df = df.merge(shifted, how='left', on=['shop_id', 'item_id', 'sales_month_prev_year'])\n",
        "  df = df.rename(columns={\"item_cnt_day_y\":\"sales_\" + str(lag) +\"_month_ago\", \"item_cnt_day_x\":\"item_cnt_day\"})\n",
        "\n",
        "  return df"
      ],
      "execution_count": 8,
      "outputs": []
    },
    {
      "cell_type": "code",
      "metadata": {
        "id": "W_s6EEhud5Y4"
      },
      "source": [
        "window = 13\n",
        "for i in range(1, window):\n",
        "  updated_train[\"sales_\" + str(i) +\"_month_ago\"] = updated_train['item_cnt_day'].shift(periods=i)"
      ],
      "execution_count": 9,
      "outputs": []
    },
    {
      "cell_type": "markdown",
      "metadata": {
        "id": "q7kfDqKafeYf"
      },
      "source": [
        "Удаление первых ```window ``` месяцев\n",
        "\n"
      ]
    },
    {
      "cell_type": "code",
      "metadata": {
        "id": "VjCjVe5ueFEz"
      },
      "source": [
        "updated_train = updated_train[updated_train['date_block_num'] > window - 2]"
      ],
      "execution_count": 10,
      "outputs": []
    },
    {
      "cell_type": "markdown",
      "metadata": {
        "id": "huTRm924ftUO"
      },
      "source": [
        "Добавление общих продаж магазинов и товаров"
      ]
    },
    {
      "cell_type": "code",
      "metadata": {
        "id": "XhBbPrJ9eT8X"
      },
      "source": [
        "updated_train = updated_train.merge(average_sales_shops, how='left', on='shop_id')\n",
        "updated_train = updated_train.rename(columns={\"item_cnt_day_x\" : \"item_cnt_day\", \"item_cnt_day_y\":\"shop_sales\"})\n",
        "updated_train = updated_train.merge(average_sales_items, how='left', on='item_id')\n",
        "updated_train = updated_train.rename(columns={\"item_cnt_day_x\" : \"item_cnt_day\", \"item_cnt_day_y\": \"item_sales\"})"
      ],
      "execution_count": 11,
      "outputs": []
    },
    {
      "cell_type": "code",
      "metadata": {
        "id": "4-glHosTebWT"
      },
      "source": [
        "updated_train = updated_train.drop(columns=['item_id', 'shop_id'])"
      ],
      "execution_count": 12,
      "outputs": []
    },
    {
      "cell_type": "code",
      "metadata": {
        "id": "QvA_KRqpidb-"
      },
      "source": [
        "updated_train = updated_train.sort_values(by='date_block_num')"
      ],
      "execution_count": 13,
      "outputs": []
    },
    {
      "cell_type": "code",
      "metadata": {
        "id": "y7WBROPskIoa"
      },
      "source": [
        "X = updated_train.drop(columns='item_cnt_day')\n",
        "target = updated_train['item_cnt_day']"
      ],
      "execution_count": 14,
      "outputs": []
    },
    {
      "cell_type": "markdown",
      "metadata": {
        "id": "yXMbHWYN6y78"
      },
      "source": [
        "**Decision Tree**"
      ]
    },
    {
      "cell_type": "code",
      "metadata": {
        "id": "1HIM7-Kc41eD"
      },
      "source": [
        "scores = []\n",
        "dtr = DecisionTreeRegressor(criterion='mae', max_depth=4)\n",
        "scaler = StandardScaler()"
      ],
      "execution_count": 22,
      "outputs": []
    },
    {
      "cell_type": "code",
      "metadata": {
        "colab": {
          "base_uri": "https://localhost:8080/"
        },
        "id": "x9HzLGcr4g06",
        "outputId": "ec5ff269-98d8-41c2-d37d-b5466f0a1dc6"
      },
      "source": [
        "for i in range(20, 30):\n",
        "  print(i)\n",
        "  X_tree_train = X[X['date_block_num'] == i][:100000]\n",
        "  y_train = updated_train[updated_train['date_block_num'] == i]['item_cnt_day'][:100000]\n",
        "  X_test = X[X['date_block_num'] == i][100000:200000]\n",
        "  y_test = updated_train[updated_train['date_block_num'] == i]['item_cnt_day'][100000:200000]\n",
        "  %time dtr.fit(scaler.fit_transform(X_tree_train), y_train)\n",
        "  scores.append(mean_absolute_error(dtr.predict(scaler.fit_transform(X_test)), y_test))"
      ],
      "execution_count": null,
      "outputs": [
        {
          "output_type": "stream",
          "text": [
            "20\n",
            "CPU times: user 4min 59s, sys: 21.6 ms, total: 4min 59s\n",
            "Wall time: 4min 59s\n",
            "21\n",
            "CPU times: user 4min 58s, sys: 9 ms, total: 4min 58s\n",
            "Wall time: 4min 58s\n",
            "22\n",
            "CPU times: user 5min 17s, sys: 30 ms, total: 5min 17s\n",
            "Wall time: 5min 17s\n",
            "23\n",
            "CPU times: user 4min 58s, sys: 12 ms, total: 4min 58s\n",
            "Wall time: 4min 58s\n",
            "24\n",
            "CPU times: user 4min 45s, sys: 17 ms, total: 4min 45s\n",
            "Wall time: 4min 46s\n",
            "25\n",
            "CPU times: user 4min 51s, sys: 13 ms, total: 4min 51s\n",
            "Wall time: 4min 52s\n",
            "26\n",
            "CPU times: user 4min 54s, sys: 20 ms, total: 4min 54s\n",
            "Wall time: 4min 54s\n",
            "27\n",
            "CPU times: user 5min, sys: 17 ms, total: 5min\n",
            "Wall time: 5min\n",
            "28\n",
            "CPU times: user 4min 55s, sys: 15 ms, total: 4min 55s\n",
            "Wall time: 4min 55s\n",
            "29\n",
            "CPU times: user 5min 17s, sys: 20 ms, total: 5min 17s\n",
            "Wall time: 5min 17s\n"
          ],
          "name": "stdout"
        }
      ]
    },
    {
      "cell_type": "code",
      "metadata": {
        "colab": {
          "base_uri": "https://localhost:8080/"
        },
        "id": "R76CFrs4GHov",
        "outputId": "e8838cfc-fea6-447c-92b4-360d0edd0acb"
      },
      "source": [
        "np.array(scores).mean()"
      ],
      "execution_count": null,
      "outputs": [
        {
          "output_type": "execute_result",
          "data": {
            "text/plain": [
              "0.24237549999999994"
            ]
          },
          "metadata": {
            "tags": []
          },
          "execution_count": 28
        }
      ]
    },
    {
      "cell_type": "code",
      "metadata": {
        "colab": {
          "base_uri": "https://localhost:8080/",
          "height": 283
        },
        "id": "EmyUJS5UF84m",
        "outputId": "6a25dcb7-b01b-4437-cc97-3fd7969f4a79"
      },
      "source": [
        "plt.plot(scores)"
      ],
      "execution_count": null,
      "outputs": [
        {
          "output_type": "execute_result",
          "data": {
            "text/plain": [
              "[<matplotlib.lines.Line2D at 0x7fa05286e690>]"
            ]
          },
          "metadata": {
            "tags": []
          },
          "execution_count": 27
        },
        {
          "output_type": "display_data",
          "data": {
            "image/png": "[encoded data removed]",
            "text/plain": [
              "<Figure size 432x288 with 1 Axes>"
            ]
          },
          "metadata": {
            "tags": [],
            "needs_background": "light"
          }
        }
      ]
    },
    {
      "cell_type": "markdown",
      "metadata": {
        "id": "RjOBTr4O7FSZ"
      },
      "source": [
        "**Linear Regression**"
      ]
    },
    {
      "cell_type": "code",
      "metadata": {
        "colab": {
          "base_uri": "https://localhost:8080/"
        },
        "id": "mCVKhbu9kyNo",
        "outputId": "887eec48-2960-474d-b3ef-0fbf90256142"
      },
      "source": [
        "X['date_block_num'].nunique()"
      ],
      "execution_count": null,
      "outputs": [
        {
          "output_type": "execute_result",
          "data": {
            "text/plain": [
              "22"
            ]
          },
          "metadata": {
            "tags": []
          },
          "execution_count": 18
        }
      ]
    },
    {
      "cell_type": "code",
      "metadata": {
        "id": "x1i7Z8cIkj2y"
      },
      "source": [
        "tscv = TimeSeriesSplit(n_splits=22)"
      ],
      "execution_count": null,
      "outputs": []
    },
    {
      "cell_type": "code",
      "metadata": {
        "id": "UQjaYV5IbPT1",
        "colab": {
          "base_uri": "https://localhost:8080/"
        },
        "outputId": "8fa54242-2b59-479a-a87d-029422bb7ea5"
      },
      "source": [
        "lr = LinearRegression()\n",
        "%time scores = cross_val_score(lr, scaler.fit_transform(X), target, cv=tscv, scoring=make_scorer(mean_absolute_error))\n"
      ],
      "execution_count": 42,
      "outputs": [
        {
          "output_type": "stream",
          "text": [
            "CPU times: user 59.3 s, sys: 7.87 s, total: 1min 7s\n",
            "Wall time: 47.2 s\n"
          ],
          "name": "stdout"
        }
      ]
    },
    {
      "cell_type": "code",
      "metadata": {
        "colab": {
          "base_uri": "https://localhost:8080/"
        },
        "id": "UJVLjGAUjv06",
        "outputId": "a8bf0c98-167c-4de9-841b-29e4d134d1d9"
      },
      "source": [
        "scores.mean()"
      ],
      "execution_count": 43,
      "outputs": [
        {
          "output_type": "execute_result",
          "data": {
            "text/plain": [
              "0.16159260437307166"
            ]
          },
          "metadata": {
            "tags": []
          },
          "execution_count": 43
        }
      ]
    },
    {
      "cell_type": "code",
      "metadata": {
        "colab": {
          "base_uri": "https://localhost:8080/",
          "height": 283
        },
        "id": "79i9MtH9lRgB",
        "outputId": "82628eeb-44f6-48aa-9e81-160df9f9c3ff"
      },
      "source": [
        "plt.plot(scores)"
      ],
      "execution_count": 44,
      "outputs": [
        {
          "output_type": "execute_result",
          "data": {
            "text/plain": [
              "[<matplotlib.lines.Line2D at 0x7fe77bce11d0>]"
            ]
          },
          "metadata": {
            "tags": []
          },
          "execution_count": 44
        },
        {
          "output_type": "display_data",
          "data": {
            "image/png": "[encoded data removed]",
            "text/plain": [
              "<Figure size 432x288 with 1 Axes>"
            ]
          },
          "metadata": {
            "tags": [],
            "needs_background": "light"
          }
        }
      ]
    },
    {
      "cell_type": "code",
      "metadata": {
        "id": "E0kKn-hxlT0U"
      },
      "source": [
        ""
      ],
      "execution_count": null,
      "outputs": []
    },
    {
      "cell_type": "markdown",
      "metadata": {
        "id": "s4KR9jm6lYow"
      },
      "source": [
        "**Random Forest**"
      ]
    },
    {
      "cell_type": "code",
      "metadata": {
        "id": "R0tGCKzHlb2J"
      },
      "source": [
        "from sklearn.ensemble import RandomForestRegressor"
      ],
      "execution_count": 15,
      "outputs": []
    },
    {
      "cell_type": "code",
      "metadata": {
        "id": "S8gev3OZnGC3"
      },
      "source": [
        "tscv_forest = TimeSeriesSplit(n_splits=4)"
      ],
      "execution_count": 25,
      "outputs": []
    },
    {
      "cell_type": "code",
      "metadata": {
        "id": "rhrm_NNBlfN6"
      },
      "source": [
        "rfr = RandomForestRegressor(max_depth=1, criterion='mae', n_estimators=1, verbose=10)"
      ],
      "execution_count": 46,
      "outputs": []
    },
    {
      "cell_type": "code",
      "metadata": {
        "colab": {
          "base_uri": "https://localhost:8080/"
        },
        "id": "pS-Jy7MwrQyN",
        "outputId": "ccb761eb-48b7-4914-ccf6-4e6064600269"
      },
      "source": [
        "%time rfr.fit(X_forest, target_forest)"
      ],
      "execution_count": 47,
      "outputs": [
        {
          "output_type": "stream",
          "text": [
            "building tree 1 of 1\n",
            "CPU times: user 76.3 ms, sys: 1.95 ms, total: 78.2 ms\n",
            "Wall time: 82.7 ms\n"
          ],
          "name": "stdout"
        },
        {
          "output_type": "stream",
          "text": [
            "[Parallel(n_jobs=1)]: Using backend SequentialBackend with 1 concurrent workers.\n",
            "[Parallel(n_jobs=1)]: Done   1 out of   1 | elapsed:    0.0s remaining:    0.0s\n",
            "[Parallel(n_jobs=1)]: Done   1 out of   1 | elapsed:    0.0s finished\n"
          ],
          "name": "stderr"
        },
        {
          "output_type": "execute_result",
          "data": {
            "text/plain": [
              "RandomForestRegressor(bootstrap=True, ccp_alpha=0.0, criterion='mae',\n",
              "                      max_depth=1, max_features='auto', max_leaf_nodes=None,\n",
              "                      max_samples=None, min_impurity_decrease=0.0,\n",
              "                      min_impurity_split=None, min_samples_leaf=1,\n",
              "                      min_samples_split=2, min_weight_fraction_leaf=0.0,\n",
              "                      n_estimators=1, n_jobs=None, oob_score=False,\n",
              "                      random_state=None, verbose=10, warm_start=False)"
            ]
          },
          "metadata": {
            "tags": []
          },
          "execution_count": 47
        }
      ]
    },
    {
      "cell_type": "code",
      "metadata": {
        "colab": {
          "base_uri": "https://localhost:8080/"
        },
        "id": "NFleaIAKrmAV",
        "outputId": "506896f9-85f7-47a6-e7db-dfc4c11aad2b"
      },
      "source": [
        "mean_absolute_error(rfr.predict(X[X['date_block_num'] == 30]), updated_train[updated_train['date_block_num'] == 30]['item_cnt_day'])"
      ],
      "execution_count": 48,
      "outputs": [
        {
          "output_type": "stream",
          "text": [
            "[Parallel(n_jobs=1)]: Using backend SequentialBackend with 1 concurrent workers.\n",
            "[Parallel(n_jobs=1)]: Done   1 out of   1 | elapsed:    0.0s remaining:    0.0s\n",
            "[Parallel(n_jobs=1)]: Done   1 out of   1 | elapsed:    0.0s finished\n"
          ],
          "name": "stderr"
        },
        {
          "output_type": "execute_result",
          "data": {
            "text/plain": [
              "0.0"
            ]
          },
          "metadata": {
            "tags": []
          },
          "execution_count": 48
        }
      ]
    },
    {
      "cell_type": "code",
      "metadata": {
        "id": "c3FGcmkYl3lE",
        "colab": {
          "base_uri": "https://localhost:8080/"
        },
        "outputId": "45ef90e2-727f-418e-f4c8-99001802afcf"
      },
      "source": [
        "%time scores = cross_val_score(rfr, scaler.fit_transform(X_forest), target_forest, cv=tscv_forest, scoring=make_scorer(mean_absolute_error), verbose=3)\n"
      ],
      "execution_count": 49,
      "outputs": [
        {
          "output_type": "stream",
          "text": [
            "[CV]  ................................................................\n",
            "building tree 1 of 1\n",
            "Using ThreadingBackend as joblib.Parallel backend instead of LokyBackend as the latter does not provide shared memory semantics.\n",
            "[CV] .................................... , score=0.000, total=   0.0s\n",
            "[CV]  ................................................................\n",
            "building tree 1 of 1\n",
            "Using ThreadingBackend as joblib.Parallel backend instead of LokyBackend as the latter does not provide shared memory semantics.\n",
            "[CV] .................................... , score=0.000, total=   0.0s\n",
            "[CV]  ................................................................\n",
            "building tree 1 of 1\n",
            "Using ThreadingBackend as joblib.Parallel backend instead of LokyBackend as the latter does not provide shared memory semantics.\n",
            "[CV] .................................... , score=0.000, total=   0.1s\n",
            "[CV]  ................................................................\n",
            "building tree 1 of 1\n",
            "Using ThreadingBackend as joblib.Parallel backend instead of LokyBackend as the latter does not provide shared memory semantics.\n",
            "[CV] .................................... , score=0.000, total=   0.1s\n",
            "CPU times: user 399 ms, sys: 4.92 ms, total: 403 ms\n",
            "Wall time: 398 ms\n"
          ],
          "name": "stdout"
        },
        {
          "output_type": "stream",
          "text": [
            "[Parallel(n_jobs=1)]: Using backend SequentialBackend with 1 concurrent workers.\n",
            "[Parallel(n_jobs=1)]: Using backend SequentialBackend with 1 concurrent workers.\n",
            "[Parallel(n_jobs=1)]: Done   1 out of   1 | elapsed:    0.0s remaining:    0.0s\n",
            "[Parallel(n_jobs=1)]: Done   1 out of   1 | elapsed:    0.0s finished\n",
            "[Parallel(n_jobs=1)]: Using backend SequentialBackend with 1 concurrent workers.\n",
            "[Parallel(n_jobs=1)]: Done   1 out of   1 | elapsed:    0.0s remaining:    0.0s\n",
            "[Parallel(n_jobs=1)]: Done   1 out of   1 | elapsed:    0.0s finished\n",
            "[Parallel(n_jobs=1)]: Done   1 out of   1 | elapsed:    0.0s remaining:    0.0s\n",
            "[Parallel(n_jobs=1)]: Using backend SequentialBackend with 1 concurrent workers.\n",
            "[Parallel(n_jobs=1)]: Done   1 out of   1 | elapsed:    0.0s remaining:    0.0s\n",
            "[Parallel(n_jobs=1)]: Done   1 out of   1 | elapsed:    0.0s finished\n",
            "[Parallel(n_jobs=1)]: Using backend SequentialBackend with 1 concurrent workers.\n",
            "[Parallel(n_jobs=1)]: Done   1 out of   1 | elapsed:    0.0s remaining:    0.0s\n",
            "[Parallel(n_jobs=1)]: Done   1 out of   1 | elapsed:    0.0s finished\n",
            "[Parallel(n_jobs=1)]: Done   2 out of   2 | elapsed:    0.1s remaining:    0.0s\n",
            "[Parallel(n_jobs=1)]: Using backend SequentialBackend with 1 concurrent workers.\n",
            "[Parallel(n_jobs=1)]: Done   1 out of   1 | elapsed:    0.0s remaining:    0.0s\n",
            "[Parallel(n_jobs=1)]: Done   1 out of   1 | elapsed:    0.0s finished\n",
            "[Parallel(n_jobs=1)]: Using backend SequentialBackend with 1 concurrent workers.\n",
            "[Parallel(n_jobs=1)]: Done   1 out of   1 | elapsed:    0.0s remaining:    0.0s\n",
            "[Parallel(n_jobs=1)]: Done   1 out of   1 | elapsed:    0.0s finished\n",
            "[Parallel(n_jobs=1)]: Using backend SequentialBackend with 1 concurrent workers.\n",
            "[Parallel(n_jobs=1)]: Done   1 out of   1 | elapsed:    0.0s remaining:    0.0s\n",
            "[Parallel(n_jobs=1)]: Done   1 out of   1 | elapsed:    0.0s finished\n",
            "[Parallel(n_jobs=1)]: Using backend SequentialBackend with 1 concurrent workers.\n",
            "[Parallel(n_jobs=1)]: Done   1 out of   1 | elapsed:    0.0s remaining:    0.0s\n",
            "[Parallel(n_jobs=1)]: Done   1 out of   1 | elapsed:    0.0s finished\n",
            "[Parallel(n_jobs=1)]: Done   4 out of   4 | elapsed:    0.2s finished\n"
          ],
          "name": "stderr"
        }
      ]
    },
    {
      "cell_type": "code",
      "metadata": {
        "colab": {
          "base_uri": "https://localhost:8080/"
        },
        "id": "kqIGnI-pnpST",
        "outputId": "9c813069-105a-496a-a8ef-28c9032977da"
      },
      "source": [
        "scores.mean()"
      ],
      "execution_count": 53,
      "outputs": [
        {
          "output_type": "execute_result",
          "data": {
            "text/plain": [
              "0.0"
            ]
          },
          "metadata": {
            "tags": []
          },
          "execution_count": 53
        }
      ]
    },
    {
      "cell_type": "code",
      "metadata": {
        "id": "zfIn1T_4ntvH"
      },
      "source": [
        ""
      ],
      "execution_count": null,
      "outputs": []
    },
    {
      "cell_type": "markdown",
      "metadata": {
        "id": "_xAvjakVrFrT"
      },
      "source": [
        "**BaggingRegressor**"
      ]
    },
    {
      "cell_type": "code",
      "metadata": {
        "colab": {
          "base_uri": "https://localhost:8080/"
        },
        "id": "ZfbiPRQIrH_s",
        "outputId": "41430d2e-3ee2-486c-ef50-481ba6205728"
      },
      "source": [
        "br = BaggingRegressor(base_estimator=dtr, n_estimators=10, oob_score=True)\n",
        "%time br.fit(scaler.fit_transform(X_forest), target_forest)"
      ],
      "execution_count": 51,
      "outputs": [
        {
          "output_type": "stream",
          "text": [
            "CPU times: user 1.55 s, sys: 18.8 ms, total: 1.57 s\n",
            "Wall time: 1.57 s\n"
          ],
          "name": "stdout"
        },
        {
          "output_type": "stream",
          "text": [
            "/usr/local/lib/python3.7/dist-packages/sklearn/ensemble/_bagging.py:1056: UserWarning: Some inputs do not have OOB scores. This probably means too few estimators were used to compute any reliable oob estimates.\n",
            "  warn(\"Some inputs do not have OOB scores. \"\n"
          ],
          "name": "stderr"
        },
        {
          "output_type": "execute_result",
          "data": {
            "text/plain": [
              "BaggingRegressor(base_estimator=DecisionTreeRegressor(ccp_alpha=0.0,\n",
              "                                                      criterion='mae',\n",
              "                                                      max_depth=4,\n",
              "                                                      max_features=None,\n",
              "                                                      max_leaf_nodes=None,\n",
              "                                                      min_impurity_decrease=0.0,\n",
              "                                                      min_impurity_split=None,\n",
              "                                                      min_samples_leaf=1,\n",
              "                                                      min_samples_split=2,\n",
              "                                                      min_weight_fraction_leaf=0.0,\n",
              "                                                      presort='deprecated',\n",
              "                                                      random_state=None,\n",
              "                                                      splitter='best'),\n",
              "                 bootstrap=True, bootstrap_features=False, max_features=1.0,\n",
              "                 max_samples=1.0, n_estimators=10, n_jobs=None, oob_score=True,\n",
              "                 random_state=None, verbose=0, warm_start=False)"
            ]
          },
          "metadata": {
            "tags": []
          },
          "execution_count": 51
        }
      ]
    },
    {
      "cell_type": "code",
      "metadata": {
        "colab": {
          "base_uri": "https://localhost:8080/"
        },
        "id": "eAeSy5eiwYaa",
        "outputId": "494e2a17-4d9c-442d-e1f5-428bd1d84250"
      },
      "source": [
        "mean_absolute_error(br.predict(X[X['date_block_num'] == 30]), updated_train[updated_train['date_block_num'] == 30]['item_cnt_day'])"
      ],
      "execution_count": 54,
      "outputs": [
        {
          "output_type": "execute_result",
          "data": {
            "text/plain": [
              "0.0"
            ]
          },
          "metadata": {
            "tags": []
          },
          "execution_count": 54
        }
      ]
    },
    {
      "cell_type": "code",
      "metadata": {
        "id": "BiTmmiHSwh0g"
      },
      "source": [
        ""
      ],
      "execution_count": null,
      "outputs": []
    }
  ]
}