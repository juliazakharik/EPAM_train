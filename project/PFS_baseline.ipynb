{
  "nbformat": 4,
  "nbformat_minor": 0,
  "metadata": {
    "colab": {
      "name": "PFS baseline.ipynb",
      "provenance": []
    },
    "kernelspec": {
      "name": "python3",
      "display_name": "Python 3"
    }
  },
  "cells": [
    {
      "cell_type": "code",
      "metadata": {
        "id": "kOWB-Z2EiQX3"
      },
      "source": [
        "import pandas as pd\r\n",
        "import numpy as np\r\n",
        "\r\n",
        "import matplotlib.pyplot as plt\r\n",
        "import seaborn as sns\r\n",
        "\r\n",
        "train = pd.read_csv('/content/sales_train.csv')\r\n",
        "test = pd.read_csv('/content/test.csv')\r\n",
        "shops = pd.read_csv('/content/shops.csv')\r\n",
        "items = pd.read_csv('/content/items.csv')\r\n",
        "item_categories = pd.read_csv('/content/item_categories.csv')\r\n",
        "\r\n",
        "#train['date'] = train['date'].astype('datetime64[ns]')\r\n",
        "# train = train.set_index('date')\r\n",
        "# train['year'] = train.index.year\r\n",
        "# train['month'] = train.index.month\r\n",
        "# train['day'] = train.index.day\r\n",
        "# train['weekday name'] = train.index.weekday"
      ],
      "execution_count": null,
      "outputs": []
    },
    {
      "cell_type": "code",
      "metadata": {
        "id": "5WfP8mJ-Mnj8"
      },
      "source": [
        "from sklearn.metrics import mean_absolute_error"
      ],
      "execution_count": null,
      "outputs": []
    },
    {
      "cell_type": "markdown",
      "metadata": {
        "id": "bMm3RNnJjFNd"
      },
      "source": [
        "**Average Method**"
      ]
    },
    {
      "cell_type": "code",
      "metadata": {
        "id": "qn0u-r2X-aP4"
      },
      "source": [
        "new = train.groupby(by=['shop_id', 'item_id', 'date_block_num'])['item_cnt_day'].sum()"
      ],
      "execution_count": null,
      "outputs": []
    },
    {
      "cell_type": "code",
      "metadata": {
        "id": "nR4OZ-6tsU_d"
      },
      "source": [
        "q1 = train.groupby(by=['shop_id', 'item_id'])['item_cnt_day'].sum()\r\n",
        "q1 = q1.to_frame()\r\n",
        "q1 = q1.reset_index()\r\n",
        "q1['key'] = 1\r\n",
        "q2 = pd.DataFrame(range(34))\r\n",
        "q2.columns = ['date_block_num']\r\n",
        "q2['key'] = 1\r\n",
        "q1 = q1.merge(q2, how='outer', on='key').drop('key', 1)\r\n",
        "q1['item_cnt_day'] = 0\r\n",
        "q1.head()\r\n",
        "new1 = q1.groupby(by=['shop_id', 'item_id', 'date_block_num'])['item_cnt_day'].sum()"
      ],
      "execution_count": null,
      "outputs": []
    },
    {
      "cell_type": "code",
      "metadata": {
        "id": "TLTeQzifCvUD"
      },
      "source": [
        "all_dates = new.add(new1, fill_value=0)"
      ],
      "execution_count": null,
      "outputs": []
    },
    {
      "cell_type": "code",
      "metadata": {
        "id": "cnYAEof-KBzK"
      },
      "source": [
        "rolling_predict_dates = all_dates.rolling(window=12).mean()"
      ],
      "execution_count": null,
      "outputs": []
    },
    {
      "cell_type": "code",
      "metadata": {
        "colab": {
          "base_uri": "https://localhost:8080/"
        },
        "id": "NdVG2EITK7zB",
        "outputId": "e31a7c5c-b7c3-4c48-8046-524c4540dbcf"
      },
      "source": [
        "mean_absolute_error(rolling_predict_dates.fillna(0).loc[:, :,11:], all_dates.loc[:,:,11:])"
      ],
      "execution_count": null,
      "outputs": [
        {
          "output_type": "execute_result",
          "data": {
            "text/plain": [
              "0.291193491881442"
            ]
          },
          "metadata": {
            "tags": []
          },
          "execution_count": 204
        }
      ]
    },
    {
      "cell_type": "markdown",
      "metadata": {
        "id": "wL4XTDocNUnC"
      },
      "source": [
        "**Naive method**"
      ]
    },
    {
      "cell_type": "code",
      "metadata": {
        "id": "BNhQGxVVKYOg"
      },
      "source": [
        "predict_n = all_dates.loc[:,:, 11:]"
      ],
      "execution_count": null,
      "outputs": []
    },
    {
      "cell_type": "code",
      "metadata": {
        "colab": {
          "base_uri": "https://localhost:8080/"
        },
        "id": "l-SSUA6cLGGz",
        "outputId": "b4545ba7-b3e6-4ade-bdb6-ba378afb1679"
      },
      "source": [
        "p_list = predict_n.to_list()\r\n",
        "mean_absolute_error(p_list[:-1], p_list[1:])"
      ],
      "execution_count": null,
      "outputs": [
        {
          "output_type": "execute_result",
          "data": {
            "text/plain": [
              "0.2713835403534098"
            ]
          },
          "metadata": {
            "tags": []
          },
          "execution_count": 202
        }
      ]
    }
  ]
}