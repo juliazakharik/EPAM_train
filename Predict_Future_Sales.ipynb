{
  "nbformat": 4,
  "nbformat_minor": 0,
  "metadata": {
    "colab": {
      "name": "Predict Future Sales.ipynb",
      "provenance": [],
      "collapsed_sections": [
        "kJXY0se1m72x",
        "U2Q6_nYymv0A",
        "kI7FuTvhlw5X",
        "sgNx8SeTifom",
        "Aul3YWCrjPtA"
      ]
    },
    "kernelspec": {
      "name": "python3",
      "display_name": "Python 3"
    }
  },
  "cells": [
    {
      "cell_type": "code",
      "metadata": {
        "id": "ALGgcw41JvDd"
      },
      "source": [
        "import pandas as pd\r\n",
        "import numpy as np\r\n",
        "\r\n",
        "import matplotlib.pyplot as plt\r\n",
        "import seaborn as sns"
      ],
      "execution_count": 3,
      "outputs": []
    },
    {
      "cell_type": "code",
      "metadata": {
        "id": "dUrWKHHiKpuL"
      },
      "source": [
        "train = pd.read_csv('/content/sales_train.csv')\r\n",
        "test = pd.read_csv('/content/test.csv')\r\n",
        "shops = pd.read_csv('/content/shops.csv')\r\n",
        "items = pd.read_csv('/content/items.csv')\r\n",
        "item_categories = pd.read_csv('/content/item_categories.csv')"
      ],
      "execution_count": 4,
      "outputs": []
    },
    {
      "cell_type": "markdown",
      "metadata": {
        "id": "loFMKmorLAe-"
      },
      "source": [
        "**Train**"
      ]
    },
    {
      "cell_type": "markdown",
      "metadata": {
        "id": "NA_vVgmGdJBC"
      },
      "source": [
        ""
      ]
    },
    {
      "cell_type": "code",
      "metadata": {
        "colab": {
          "base_uri": "https://localhost:8080/",
          "height": 202
        },
        "id": "SxlrOhtIK_d0",
        "outputId": "4b55082d-6307-4522-c332-f34188889058"
      },
      "source": [
        "train.head()"
      ],
      "execution_count": 5,
      "outputs": [
        {
          "output_type": "execute_result",
          "data": {
            "text/html": [
              "<div>\n",
              "<style scoped>\n",
              "    .dataframe tbody tr th:only-of-type {\n",
              "        vertical-align: middle;\n",
              "    }\n",
              "\n",
              "    .dataframe tbody tr th {\n",
              "        vertical-align: top;\n",
              "    }\n",
              "\n",
              "    .dataframe thead th {\n",
              "        text-align: right;\n",
              "    }\n",
              "</style>\n",
              "<table border=\"1\" class=\"dataframe\">\n",
              "  <thead>\n",
              "    <tr style=\"text-align: right;\">\n",
              "      <th></th>\n",
              "      <th>date</th>\n",
              "      <th>date_block_num</th>\n",
              "      <th>shop_id</th>\n",
              "      <th>item_id</th>\n",
              "      <th>item_price</th>\n",
              "      <th>item_cnt_day</th>\n",
              "    </tr>\n",
              "  </thead>\n",
              "  <tbody>\n",
              "    <tr>\n",
              "      <th>0</th>\n",
              "      <td>02.01.2013</td>\n",
              "      <td>0</td>\n",
              "      <td>59</td>\n",
              "      <td>22154</td>\n",
              "      <td>999.00</td>\n",
              "      <td>1.0</td>\n",
              "    </tr>\n",
              "    <tr>\n",
              "      <th>1</th>\n",
              "      <td>03.01.2013</td>\n",
              "      <td>0</td>\n",
              "      <td>25</td>\n",
              "      <td>2552</td>\n",
              "      <td>899.00</td>\n",
              "      <td>1.0</td>\n",
              "    </tr>\n",
              "    <tr>\n",
              "      <th>2</th>\n",
              "      <td>05.01.2013</td>\n",
              "      <td>0</td>\n",
              "      <td>25</td>\n",
              "      <td>2552</td>\n",
              "      <td>899.00</td>\n",
              "      <td>-1.0</td>\n",
              "    </tr>\n",
              "    <tr>\n",
              "      <th>3</th>\n",
              "      <td>06.01.2013</td>\n",
              "      <td>0</td>\n",
              "      <td>25</td>\n",
              "      <td>2554</td>\n",
              "      <td>1709.05</td>\n",
              "      <td>1.0</td>\n",
              "    </tr>\n",
              "    <tr>\n",
              "      <th>4</th>\n",
              "      <td>15.01.2013</td>\n",
              "      <td>0</td>\n",
              "      <td>25</td>\n",
              "      <td>2555</td>\n",
              "      <td>1099.00</td>\n",
              "      <td>1.0</td>\n",
              "    </tr>\n",
              "  </tbody>\n",
              "</table>\n",
              "</div>"
            ],
            "text/plain": [
              "         date  date_block_num  shop_id  item_id  item_price  item_cnt_day\n",
              "0  02.01.2013               0       59    22154      999.00           1.0\n",
              "1  03.01.2013               0       25     2552      899.00           1.0\n",
              "2  05.01.2013               0       25     2552      899.00          -1.0\n",
              "3  06.01.2013               0       25     2554     1709.05           1.0\n",
              "4  15.01.2013               0       25     2555     1099.00           1.0"
            ]
          },
          "metadata": {
            "tags": []
          },
          "execution_count": 5
        }
      ]
    },
    {
      "cell_type": "code",
      "metadata": {
        "colab": {
          "base_uri": "https://localhost:8080/"
        },
        "id": "FWHYyclZLDIl",
        "outputId": "9e53f6c2-3077-4cd2-fc0c-aa39bb634713"
      },
      "source": [
        "train.shape"
      ],
      "execution_count": 6,
      "outputs": [
        {
          "output_type": "execute_result",
          "data": {
            "text/plain": [
              "(2935849, 6)"
            ]
          },
          "metadata": {
            "tags": []
          },
          "execution_count": 6
        }
      ]
    },
    {
      "cell_type": "code",
      "metadata": {
        "colab": {
          "base_uri": "https://localhost:8080/"
        },
        "id": "pIkCddF3LIBF",
        "outputId": "e9b0f472-7996-4251-ff70-12ed33222465"
      },
      "source": [
        "train.info()"
      ],
      "execution_count": 42,
      "outputs": [
        {
          "output_type": "stream",
          "text": [
            "<class 'pandas.core.frame.DataFrame'>\n",
            "RangeIndex: 2935849 entries, 0 to 2935848\n",
            "Data columns (total 6 columns):\n",
            " #   Column          Dtype  \n",
            "---  ------          -----  \n",
            " 0   date            object \n",
            " 1   date_block_num  int64  \n",
            " 2   shop_id         int64  \n",
            " 3   item_id         int64  \n",
            " 4   item_price      float64\n",
            " 5   item_cnt_day    float64\n",
            "dtypes: float64(2), int64(3), object(1)\n",
            "memory usage: 134.4+ MB\n"
          ],
          "name": "stdout"
        }
      ]
    },
    {
      "cell_type": "markdown",
      "metadata": {
        "id": "N96ibWU6R5O6"
      },
      "source": [
        "Пустых значений нет"
      ]
    },
    {
      "cell_type": "code",
      "metadata": {
        "colab": {
          "base_uri": "https://localhost:8080/"
        },
        "id": "VVnInQBfRyfS",
        "outputId": "a4adfe33-fae2-4d18-8e73-90b9b33a1d6a"
      },
      "source": [
        "train.isna().sum()"
      ],
      "execution_count": 43,
      "outputs": [
        {
          "output_type": "execute_result",
          "data": {
            "text/plain": [
              "date              0\n",
              "date_block_num    0\n",
              "shop_id           0\n",
              "item_id           0\n",
              "item_price        0\n",
              "item_cnt_day      0\n",
              "dtype: int64"
            ]
          },
          "metadata": {
            "tags": []
          },
          "execution_count": 43
        }
      ]
    },
    {
      "cell_type": "markdown",
      "metadata": {
        "id": "ji--3TMiM-s_"
      },
      "source": [
        "item_cnt_day имеет отрицательные значения"
      ]
    },
    {
      "cell_type": "code",
      "metadata": {
        "colab": {
          "base_uri": "https://localhost:8080/",
          "height": 294
        },
        "id": "gYR7pJAoMzvo",
        "outputId": "340330be-6594-4586-a266-38a507216903"
      },
      "source": [
        "train.describe()"
      ],
      "execution_count": 45,
      "outputs": [
        {
          "output_type": "execute_result",
          "data": {
            "text/html": [
              "<div>\n",
              "<style scoped>\n",
              "    .dataframe tbody tr th:only-of-type {\n",
              "        vertical-align: middle;\n",
              "    }\n",
              "\n",
              "    .dataframe tbody tr th {\n",
              "        vertical-align: top;\n",
              "    }\n",
              "\n",
              "    .dataframe thead th {\n",
              "        text-align: right;\n",
              "    }\n",
              "</style>\n",
              "<table border=\"1\" class=\"dataframe\">\n",
              "  <thead>\n",
              "    <tr style=\"text-align: right;\">\n",
              "      <th></th>\n",
              "      <th>date_block_num</th>\n",
              "      <th>shop_id</th>\n",
              "      <th>item_id</th>\n",
              "      <th>item_price</th>\n",
              "      <th>item_cnt_day</th>\n",
              "    </tr>\n",
              "  </thead>\n",
              "  <tbody>\n",
              "    <tr>\n",
              "      <th>count</th>\n",
              "      <td>2.935849e+06</td>\n",
              "      <td>2.935849e+06</td>\n",
              "      <td>2.935849e+06</td>\n",
              "      <td>2.935849e+06</td>\n",
              "      <td>2.935849e+06</td>\n",
              "    </tr>\n",
              "    <tr>\n",
              "      <th>mean</th>\n",
              "      <td>1.456991e+01</td>\n",
              "      <td>3.300173e+01</td>\n",
              "      <td>1.019723e+04</td>\n",
              "      <td>8.908532e+02</td>\n",
              "      <td>1.242641e+00</td>\n",
              "    </tr>\n",
              "    <tr>\n",
              "      <th>std</th>\n",
              "      <td>9.422988e+00</td>\n",
              "      <td>1.622697e+01</td>\n",
              "      <td>6.324297e+03</td>\n",
              "      <td>1.729800e+03</td>\n",
              "      <td>2.618834e+00</td>\n",
              "    </tr>\n",
              "    <tr>\n",
              "      <th>min</th>\n",
              "      <td>0.000000e+00</td>\n",
              "      <td>0.000000e+00</td>\n",
              "      <td>0.000000e+00</td>\n",
              "      <td>-1.000000e+00</td>\n",
              "      <td>-2.200000e+01</td>\n",
              "    </tr>\n",
              "    <tr>\n",
              "      <th>25%</th>\n",
              "      <td>7.000000e+00</td>\n",
              "      <td>2.200000e+01</td>\n",
              "      <td>4.476000e+03</td>\n",
              "      <td>2.490000e+02</td>\n",
              "      <td>1.000000e+00</td>\n",
              "    </tr>\n",
              "    <tr>\n",
              "      <th>50%</th>\n",
              "      <td>1.400000e+01</td>\n",
              "      <td>3.100000e+01</td>\n",
              "      <td>9.343000e+03</td>\n",
              "      <td>3.990000e+02</td>\n",
              "      <td>1.000000e+00</td>\n",
              "    </tr>\n",
              "    <tr>\n",
              "      <th>75%</th>\n",
              "      <td>2.300000e+01</td>\n",
              "      <td>4.700000e+01</td>\n",
              "      <td>1.568400e+04</td>\n",
              "      <td>9.990000e+02</td>\n",
              "      <td>1.000000e+00</td>\n",
              "    </tr>\n",
              "    <tr>\n",
              "      <th>max</th>\n",
              "      <td>3.300000e+01</td>\n",
              "      <td>5.900000e+01</td>\n",
              "      <td>2.216900e+04</td>\n",
              "      <td>3.079800e+05</td>\n",
              "      <td>2.169000e+03</td>\n",
              "    </tr>\n",
              "  </tbody>\n",
              "</table>\n",
              "</div>"
            ],
            "text/plain": [
              "       date_block_num       shop_id       item_id    item_price  item_cnt_day\n",
              "count    2.935849e+06  2.935849e+06  2.935849e+06  2.935849e+06  2.935849e+06\n",
              "mean     1.456991e+01  3.300173e+01  1.019723e+04  8.908532e+02  1.242641e+00\n",
              "std      9.422988e+00  1.622697e+01  6.324297e+03  1.729800e+03  2.618834e+00\n",
              "min      0.000000e+00  0.000000e+00  0.000000e+00 -1.000000e+00 -2.200000e+01\n",
              "25%      7.000000e+00  2.200000e+01  4.476000e+03  2.490000e+02  1.000000e+00\n",
              "50%      1.400000e+01  3.100000e+01  9.343000e+03  3.990000e+02  1.000000e+00\n",
              "75%      2.300000e+01  4.700000e+01  1.568400e+04  9.990000e+02  1.000000e+00\n",
              "max      3.300000e+01  5.900000e+01  2.216900e+04  3.079800e+05  2.169000e+03"
            ]
          },
          "metadata": {
            "tags": []
          },
          "execution_count": 45
        }
      ]
    },
    {
      "cell_type": "markdown",
      "metadata": {
        "id": "KNYvXy9sNMOY"
      },
      "source": [
        "В большинстве случаев количество проданных товаров = 1"
      ]
    },
    {
      "cell_type": "code",
      "metadata": {
        "colab": {
          "base_uri": "https://localhost:8080/",
          "height": 293
        },
        "id": "JXZH-SXyLOlR",
        "outputId": "5047608f-0514-4dc6-c5de-c56c4a61b9f5"
      },
      "source": [
        "train['item_cnt_day'].hist()"
      ],
      "execution_count": null,
      "outputs": [
        {
          "output_type": "execute_result",
          "data": {
            "text/plain": [
              "<matplotlib.axes._subplots.AxesSubplot at 0x7f7cfac7a198>"
            ]
          },
          "metadata": {
            "tags": []
          },
          "execution_count": 7
        },
        {
          "output_type": "display_data",
          "data": {
            "image/png": "[encoded data removed]",
            "text/plain": [
              "<Figure size 432x288 with 1 Axes>"
            ]
          },
          "metadata": {
            "tags": [],
            "needs_background": "light"
          }
        }
      ]
    },
    {
      "cell_type": "markdown",
      "metadata": {
        "id": "AeNn-GWCvHqk"
      },
      "source": [
        "Есть отрицательные значения, при этом нет нулевых. Видна тенденция на уменьшение, поэтому, скорее всего, отрицательные значения не ошибка\r\n",
        "\r\n"
      ]
    },
    {
      "cell_type": "code",
      "metadata": {
        "colab": {
          "base_uri": "https://localhost:8080/",
          "height": 355
        },
        "id": "3iM0Oyrpuki-",
        "outputId": "454553f1-b13b-47b9-ee27-e5932f1a556d"
      },
      "source": [
        "train[train['item_cnt_day'] <= 0].groupby(by='item_cnt_day').agg(['count'])['item_id']"
      ],
      "execution_count": 48,
      "outputs": [
        {
          "output_type": "execute_result",
          "data": {
            "text/html": [
              "<div>\n",
              "<style scoped>\n",
              "    .dataframe tbody tr th:only-of-type {\n",
              "        vertical-align: middle;\n",
              "    }\n",
              "\n",
              "    .dataframe tbody tr th {\n",
              "        vertical-align: top;\n",
              "    }\n",
              "\n",
              "    .dataframe thead th {\n",
              "        text-align: right;\n",
              "    }\n",
              "</style>\n",
              "<table border=\"1\" class=\"dataframe\">\n",
              "  <thead>\n",
              "    <tr style=\"text-align: right;\">\n",
              "      <th></th>\n",
              "      <th>count</th>\n",
              "    </tr>\n",
              "    <tr>\n",
              "      <th>item_cnt_day</th>\n",
              "      <th></th>\n",
              "    </tr>\n",
              "  </thead>\n",
              "  <tbody>\n",
              "    <tr>\n",
              "      <th>-22.0</th>\n",
              "      <td>1</td>\n",
              "    </tr>\n",
              "    <tr>\n",
              "      <th>-16.0</th>\n",
              "      <td>1</td>\n",
              "    </tr>\n",
              "    <tr>\n",
              "      <th>-9.0</th>\n",
              "      <td>1</td>\n",
              "    </tr>\n",
              "    <tr>\n",
              "      <th>-6.0</th>\n",
              "      <td>2</td>\n",
              "    </tr>\n",
              "    <tr>\n",
              "      <th>-5.0</th>\n",
              "      <td>4</td>\n",
              "    </tr>\n",
              "    <tr>\n",
              "      <th>-4.0</th>\n",
              "      <td>3</td>\n",
              "    </tr>\n",
              "    <tr>\n",
              "      <th>-3.0</th>\n",
              "      <td>14</td>\n",
              "    </tr>\n",
              "    <tr>\n",
              "      <th>-2.0</th>\n",
              "      <td>78</td>\n",
              "    </tr>\n",
              "    <tr>\n",
              "      <th>-1.0</th>\n",
              "      <td>7252</td>\n",
              "    </tr>\n",
              "  </tbody>\n",
              "</table>\n",
              "</div>"
            ],
            "text/plain": [
              "              count\n",
              "item_cnt_day       \n",
              "-22.0             1\n",
              "-16.0             1\n",
              "-9.0              1\n",
              "-6.0              2\n",
              "-5.0              4\n",
              "-4.0              3\n",
              "-3.0             14\n",
              "-2.0             78\n",
              "-1.0           7252"
            ]
          },
          "metadata": {
            "tags": []
          },
          "execution_count": 48
        }
      ]
    },
    {
      "cell_type": "markdown",
      "metadata": {
        "id": "rqVUZtxPM6By"
      },
      "source": [
        "В 2015 году отрицательных значений уже не было"
      ]
    },
    {
      "cell_type": "code",
      "metadata": {
        "colab": {
          "base_uri": "https://localhost:8080/",
          "height": 415
        },
        "id": "wN7oIiT6wR7k",
        "outputId": "9f242c4e-ee54-480f-b3fd-8b18f82d60e0"
      },
      "source": [
        "train[train['item_cnt_day'] <= 0].sort_values(by='date')"
      ],
      "execution_count": null,
      "outputs": [
        {
          "output_type": "execute_result",
          "data": {
            "text/html": [
              "<div>\n",
              "<style scoped>\n",
              "    .dataframe tbody tr th:only-of-type {\n",
              "        vertical-align: middle;\n",
              "    }\n",
              "\n",
              "    .dataframe tbody tr th {\n",
              "        vertical-align: top;\n",
              "    }\n",
              "\n",
              "    .dataframe thead th {\n",
              "        text-align: right;\n",
              "    }\n",
              "</style>\n",
              "<table border=\"1\" class=\"dataframe\">\n",
              "  <thead>\n",
              "    <tr style=\"text-align: right;\">\n",
              "      <th></th>\n",
              "      <th>date</th>\n",
              "      <th>date_block_num</th>\n",
              "      <th>shop_id</th>\n",
              "      <th>item_id</th>\n",
              "      <th>item_price</th>\n",
              "      <th>item_cnt_day</th>\n",
              "    </tr>\n",
              "  </thead>\n",
              "  <tbody>\n",
              "    <tr>\n",
              "      <th>105843</th>\n",
              "      <td>01.01.2013</td>\n",
              "      <td>0</td>\n",
              "      <td>37</td>\n",
              "      <td>9601</td>\n",
              "      <td>849.0</td>\n",
              "      <td>-1.0</td>\n",
              "    </tr>\n",
              "    <tr>\n",
              "      <th>26526</th>\n",
              "      <td>01.01.2013</td>\n",
              "      <td>0</td>\n",
              "      <td>27</td>\n",
              "      <td>12269</td>\n",
              "      <td>1499.0</td>\n",
              "      <td>-1.0</td>\n",
              "    </tr>\n",
              "    <tr>\n",
              "      <th>7894</th>\n",
              "      <td>01.01.2013</td>\n",
              "      <td>0</td>\n",
              "      <td>19</td>\n",
              "      <td>20383</td>\n",
              "      <td>1229.0</td>\n",
              "      <td>-1.0</td>\n",
              "    </tr>\n",
              "    <tr>\n",
              "      <th>82413</th>\n",
              "      <td>01.01.2013</td>\n",
              "      <td>0</td>\n",
              "      <td>54</td>\n",
              "      <td>3429</td>\n",
              "      <td>2799.0</td>\n",
              "      <td>-1.0</td>\n",
              "    </tr>\n",
              "    <tr>\n",
              "      <th>10621</th>\n",
              "      <td>01.01.2013</td>\n",
              "      <td>0</td>\n",
              "      <td>19</td>\n",
              "      <td>13086</td>\n",
              "      <td>1499.0</td>\n",
              "      <td>-1.0</td>\n",
              "    </tr>\n",
              "    <tr>\n",
              "      <th>...</th>\n",
              "      <td>...</td>\n",
              "      <td>...</td>\n",
              "      <td>...</td>\n",
              "      <td>...</td>\n",
              "      <td>...</td>\n",
              "      <td>...</td>\n",
              "    </tr>\n",
              "    <tr>\n",
              "      <th>2280870</th>\n",
              "      <td>31.12.2014</td>\n",
              "      <td>23</td>\n",
              "      <td>54</td>\n",
              "      <td>1865</td>\n",
              "      <td>2999.0</td>\n",
              "      <td>-1.0</td>\n",
              "    </tr>\n",
              "    <tr>\n",
              "      <th>2282834</th>\n",
              "      <td>31.12.2014</td>\n",
              "      <td>23</td>\n",
              "      <td>6</td>\n",
              "      <td>7018</td>\n",
              "      <td>1199.0</td>\n",
              "      <td>-1.0</td>\n",
              "    </tr>\n",
              "    <tr>\n",
              "      <th>2311383</th>\n",
              "      <td>31.12.2014</td>\n",
              "      <td>23</td>\n",
              "      <td>24</td>\n",
              "      <td>11659</td>\n",
              "      <td>499.0</td>\n",
              "      <td>-1.0</td>\n",
              "    </tr>\n",
              "    <tr>\n",
              "      <th>2240095</th>\n",
              "      <td>31.12.2014</td>\n",
              "      <td>23</td>\n",
              "      <td>31</td>\n",
              "      <td>21798</td>\n",
              "      <td>899.0</td>\n",
              "      <td>-1.0</td>\n",
              "    </tr>\n",
              "    <tr>\n",
              "      <th>2259867</th>\n",
              "      <td>31.12.2014</td>\n",
              "      <td>23</td>\n",
              "      <td>15</td>\n",
              "      <td>5242</td>\n",
              "      <td>1999.0</td>\n",
              "      <td>-1.0</td>\n",
              "    </tr>\n",
              "  </tbody>\n",
              "</table>\n",
              "<p>7356 rows × 6 columns</p>\n",
              "</div>"
            ],
            "text/plain": [
              "               date  date_block_num  shop_id  item_id  item_price  item_cnt_day\n",
              "105843   01.01.2013               0       37     9601       849.0          -1.0\n",
              "26526    01.01.2013               0       27    12269      1499.0          -1.0\n",
              "7894     01.01.2013               0       19    20383      1229.0          -1.0\n",
              "82413    01.01.2013               0       54     3429      2799.0          -1.0\n",
              "10621    01.01.2013               0       19    13086      1499.0          -1.0\n",
              "...             ...             ...      ...      ...         ...           ...\n",
              "2280870  31.12.2014              23       54     1865      2999.0          -1.0\n",
              "2282834  31.12.2014              23        6     7018      1199.0          -1.0\n",
              "2311383  31.12.2014              23       24    11659       499.0          -1.0\n",
              "2240095  31.12.2014              23       31    21798       899.0          -1.0\n",
              "2259867  31.12.2014              23       15     5242      1999.0          -1.0\n",
              "\n",
              "[7356 rows x 6 columns]"
            ]
          },
          "metadata": {
            "tags": []
          },
          "execution_count": 9
        }
      ]
    },
    {
      "cell_type": "markdown",
      "metadata": {
        "id": "uBXE3TdFyIyd"
      },
      "source": [
        "Отрицательные значения практически не зависят от магазинов. Что подтверждает неслучайность распределения этих значений."
      ]
    },
    {
      "cell_type": "code",
      "metadata": {
        "colab": {
          "base_uri": "https://localhost:8080/"
        },
        "id": "zU7TM6CdNAww",
        "outputId": "cfcfdab5-1b9a-49e1-c9d9-0f8413e42296"
      },
      "source": [
        "train['shop_id'].unique().shape"
      ],
      "execution_count": null,
      "outputs": [
        {
          "output_type": "execute_result",
          "data": {
            "text/plain": [
              "(60,)"
            ]
          },
          "metadata": {
            "tags": []
          },
          "execution_count": 50
        }
      ]
    },
    {
      "cell_type": "code",
      "metadata": {
        "colab": {
          "base_uri": "https://localhost:8080/"
        },
        "id": "gRHM19qCxoVk",
        "outputId": "aa589f1a-be61-4ab4-fcfd-4812e711e805"
      },
      "source": [
        "train[train['item_cnt_day'] <= 0]['shop_id'].unique().shape"
      ],
      "execution_count": null,
      "outputs": [
        {
          "output_type": "execute_result",
          "data": {
            "text/plain": [
              "(54,)"
            ]
          },
          "metadata": {
            "tags": []
          },
          "execution_count": 5
        }
      ]
    },
    {
      "cell_type": "markdown",
      "metadata": {
        "id": "7_tGWFT9zIPh"
      },
      "source": [
        "И не зависит от товаров"
      ]
    },
    {
      "cell_type": "code",
      "metadata": {
        "colab": {
          "base_uri": "https://localhost:8080/"
        },
        "id": "hTatxyHTy7rC",
        "outputId": "a6af67e8-7ca2-412f-cb0e-ca9730ea3ac9"
      },
      "source": [
        "train[train['item_cnt_day'] <= 0]['item_id'].shape"
      ],
      "execution_count": null,
      "outputs": [
        {
          "output_type": "execute_result",
          "data": {
            "text/plain": [
              "(7356,)"
            ]
          },
          "metadata": {
            "tags": []
          },
          "execution_count": 7
        }
      ]
    },
    {
      "cell_type": "code",
      "metadata": {
        "colab": {
          "base_uri": "https://localhost:8080/"
        },
        "id": "68m30FM2zLfQ",
        "outputId": "06873764-b1f0-417d-e1e0-c6c55bfe2e89"
      },
      "source": [
        "train[train['item_cnt_day'] <= 0]['item_id'].unique().shape"
      ],
      "execution_count": null,
      "outputs": [
        {
          "output_type": "execute_result",
          "data": {
            "text/plain": [
              "(3511,)"
            ]
          },
          "metadata": {
            "tags": []
          },
          "execution_count": 8
        }
      ]
    },
    {
      "cell_type": "markdown",
      "metadata": {
        "id": "01O8zuCjzV6l"
      },
      "source": [
        "В среднем, это более дорогие товары"
      ]
    },
    {
      "cell_type": "code",
      "metadata": {
        "colab": {
          "base_uri": "https://localhost:8080/"
        },
        "id": "7DVR8EaMzQXE",
        "outputId": "0c6c27ae-53c5-420a-8f9b-6b8b7ca8c82b"
      },
      "source": [
        "train[train['item_cnt_day'] <= 0]['item_price'].mean()"
      ],
      "execution_count": null,
      "outputs": [
        {
          "output_type": "execute_result",
          "data": {
            "text/plain": [
              "1442.945622620988"
            ]
          },
          "metadata": {
            "tags": []
          },
          "execution_count": 14
        }
      ]
    },
    {
      "cell_type": "markdown",
      "metadata": {
        "id": "YtdP-W_DyRbv"
      },
      "source": [
        "Посмотрим общие продажи за все время"
      ]
    },
    {
      "cell_type": "markdown",
      "metadata": {
        "id": "oZhczUgbbOA1"
      },
      "source": [
        "Виден тренд на снижение и сезонность"
      ]
    },
    {
      "cell_type": "code",
      "metadata": {
        "colab": {
          "base_uri": "https://localhost:8080/",
          "height": 297
        },
        "id": "C_AwR9wyatTr",
        "outputId": "fd712c74-da44-4b8b-9783-1597f2d31b44"
      },
      "source": [
        "total_sales = train.groupby(by='date_block_num')['item_cnt_day'].sum()\r\n",
        "plt.xlabel('Number of Month')\r\n",
        "plt.ylabel('Count of Sales')\r\n",
        "plt.plot(total_sales)"
      ],
      "execution_count": 50,
      "outputs": [
        {
          "output_type": "execute_result",
          "data": {
            "text/plain": [
              "[<matplotlib.lines.Line2D at 0x7f90c77e3748>]"
            ]
          },
          "metadata": {
            "tags": []
          },
          "execution_count": 50
        },
        {
          "output_type": "display_data",
          "data": {
            "image/png": "[encoded data removed]",
            "text/plain": [
              "<Figure size 432x288 with 1 Axes>"
            ]
          },
          "metadata": {
            "tags": [],
            "needs_background": "light"
          }
        }
      ]
    },
    {
      "cell_type": "markdown",
      "metadata": {
        "id": "KnN1S4_Rb_WG"
      },
      "source": [
        "Скользящее среднее"
      ]
    },
    {
      "cell_type": "code",
      "metadata": {
        "colab": {
          "base_uri": "https://localhost:8080/",
          "height": 229
        },
        "id": "y-7d6uOOcEEL",
        "outputId": "3e74f254-9169-4cd4-bd4e-1006042e56f0"
      },
      "source": [
        "rolling_mean = total_sales.rolling(window=12).mean()\r\n",
        "plt.figure(figsize=(8,3))\r\n",
        "plt.plot(rolling_mean)"
      ],
      "execution_count": 54,
      "outputs": [
        {
          "output_type": "execute_result",
          "data": {
            "text/plain": [
              "[<matplotlib.lines.Line2D at 0x7ff37d3cfeb8>]"
            ]
          },
          "metadata": {
            "tags": []
          },
          "execution_count": 54
        },
        {
          "output_type": "display_data",
          "data": {
            "image/png": "[encoded data removed]",
            "text/plain": [
              "<Figure size 576x216 with 1 Axes>"
            ]
          },
          "metadata": {
            "tags": [],
            "needs_background": "light"
          }
        }
      ]
    },
    {
      "cell_type": "code",
      "metadata": {
        "id": "VerzDF38Vpma"
      },
      "source": [
        ""
      ],
      "execution_count": null,
      "outputs": []
    },
    {
      "cell_type": "markdown",
      "metadata": {
        "id": "-RcHWu2POb7o"
      },
      "source": [
        "Найдем месяцы с наибольшими продажами"
      ]
    },
    {
      "cell_type": "code",
      "metadata": {
        "id": "MHlqJxpQ3sWS"
      },
      "source": [
        "most_sold = train['date_block_num'].value_counts().sort_values(ascending=False)[:5]\r\n"
      ],
      "execution_count": 51,
      "outputs": []
    },
    {
      "cell_type": "markdown",
      "metadata": {
        "id": "EmS7JPWiPa-V"
      },
      "source": [
        "На зимние месяцы приходится больше всего продаж. Ну и в целом, это даты перед праздниками"
      ]
    },
    {
      "cell_type": "code",
      "metadata": {
        "colab": {
          "base_uri": "https://localhost:8080/"
        },
        "id": "bCYZjRN1OfJW",
        "outputId": "f1c8eb1f-3f0a-4b3e-b5c2-ad3049176759"
      },
      "source": [
        "for month in most_sold.index:\r\n",
        "  print(month, \" \", train[train['date_block_num'] == month]['date'][:1])"
      ],
      "execution_count": 52,
      "outputs": [
        {
          "output_type": "stream",
          "text": [
            "11   1124316    04.12.2013\n",
            "Name: date, dtype: object\n",
            "23   2192637    24.12.2014\n",
            "Name: date, dtype: object\n",
            "2   224303    03.03.2013\n",
            "Name: date, dtype: object\n",
            "0   0    02.01.2013\n",
            "Name: date, dtype: object\n",
            "1   115690    21.02.2013\n",
            "Name: date, dtype: object\n"
          ],
          "name": "stdout"
        }
      ]
    },
    {
      "cell_type": "markdown",
      "metadata": {
        "id": "LSYWVUyQNc1k"
      },
      "source": [
        "**Test**"
      ]
    },
    {
      "cell_type": "code",
      "metadata": {
        "id": "za_ApIVsMwlD",
        "colab": {
          "base_uri": "https://localhost:8080/"
        },
        "outputId": "d217c5ff-b868-4dde-b8ec-7aa159629eb0"
      },
      "source": [
        "test.shape"
      ],
      "execution_count": 31,
      "outputs": [
        {
          "output_type": "execute_result",
          "data": {
            "text/plain": [
              "(214200, 3)"
            ]
          },
          "metadata": {
            "tags": []
          },
          "execution_count": 31
        }
      ]
    },
    {
      "cell_type": "code",
      "metadata": {
        "colab": {
          "base_uri": "https://localhost:8080/",
          "height": 202
        },
        "id": "3Sh9JBD_QADR",
        "outputId": "9e5ba5dc-7db0-4b0a-dd51-4fb2fe228be1"
      },
      "source": [
        "test.head()"
      ],
      "execution_count": 32,
      "outputs": [
        {
          "output_type": "execute_result",
          "data": {
            "text/html": [
              "<div>\n",
              "<style scoped>\n",
              "    .dataframe tbody tr th:only-of-type {\n",
              "        vertical-align: middle;\n",
              "    }\n",
              "\n",
              "    .dataframe tbody tr th {\n",
              "        vertical-align: top;\n",
              "    }\n",
              "\n",
              "    .dataframe thead th {\n",
              "        text-align: right;\n",
              "    }\n",
              "</style>\n",
              "<table border=\"1\" class=\"dataframe\">\n",
              "  <thead>\n",
              "    <tr style=\"text-align: right;\">\n",
              "      <th></th>\n",
              "      <th>ID</th>\n",
              "      <th>shop_id</th>\n",
              "      <th>item_id</th>\n",
              "    </tr>\n",
              "  </thead>\n",
              "  <tbody>\n",
              "    <tr>\n",
              "      <th>0</th>\n",
              "      <td>0</td>\n",
              "      <td>5</td>\n",
              "      <td>5037</td>\n",
              "    </tr>\n",
              "    <tr>\n",
              "      <th>1</th>\n",
              "      <td>1</td>\n",
              "      <td>5</td>\n",
              "      <td>5320</td>\n",
              "    </tr>\n",
              "    <tr>\n",
              "      <th>2</th>\n",
              "      <td>2</td>\n",
              "      <td>5</td>\n",
              "      <td>5233</td>\n",
              "    </tr>\n",
              "    <tr>\n",
              "      <th>3</th>\n",
              "      <td>3</td>\n",
              "      <td>5</td>\n",
              "      <td>5232</td>\n",
              "    </tr>\n",
              "    <tr>\n",
              "      <th>4</th>\n",
              "      <td>4</td>\n",
              "      <td>5</td>\n",
              "      <td>5268</td>\n",
              "    </tr>\n",
              "  </tbody>\n",
              "</table>\n",
              "</div>"
            ],
            "text/plain": [
              "   ID  shop_id  item_id\n",
              "0   0        5     5037\n",
              "1   1        5     5320\n",
              "2   2        5     5233\n",
              "3   3        5     5232\n",
              "4   4        5     5268"
            ]
          },
          "metadata": {
            "tags": []
          },
          "execution_count": 32
        }
      ]
    },
    {
      "cell_type": "markdown",
      "metadata": {
        "id": "dHsHmX8kQmMB"
      },
      "source": [
        "Посмотрим, насколько одинаковы id магазинов в train и test"
      ]
    },
    {
      "cell_type": "code",
      "metadata": {
        "colab": {
          "base_uri": "https://localhost:8080/"
        },
        "id": "3Le2vttEQEyp",
        "outputId": "4699c9bc-b225-47c9-8f08-97de18e0213f"
      },
      "source": [
        "test['shop_id'].unique().shape"
      ],
      "execution_count": null,
      "outputs": [
        {
          "output_type": "execute_result",
          "data": {
            "text/plain": [
              "(42,)"
            ]
          },
          "metadata": {
            "tags": []
          },
          "execution_count": 37
        }
      ]
    },
    {
      "cell_type": "code",
      "metadata": {
        "colab": {
          "base_uri": "https://localhost:8080/"
        },
        "id": "h3IkOrFkQKKF",
        "outputId": "be678949-4b45-4913-a8db-323f2ef1c056"
      },
      "source": [
        "train['shop_id'].unique().shape"
      ],
      "execution_count": null,
      "outputs": [
        {
          "output_type": "execute_result",
          "data": {
            "text/plain": [
              "(60,)"
            ]
          },
          "metadata": {
            "tags": []
          },
          "execution_count": 38
        }
      ]
    },
    {
      "cell_type": "code",
      "metadata": {
        "id": "X7kK3s9_QQ5K"
      },
      "source": [
        "test_set = set(test['shop_id'].unique())\r\n",
        "train_set = set(train['shop_id'].unique())"
      ],
      "execution_count": null,
      "outputs": []
    },
    {
      "cell_type": "markdown",
      "metadata": {
        "id": "6E8GOnIfQ5Io"
      },
      "source": [
        "Значит, все магазины, что есть в test, есть и в train. Поэтому можем использовать shop_id как фичу\r\n"
      ]
    },
    {
      "cell_type": "code",
      "metadata": {
        "colab": {
          "base_uri": "https://localhost:8080/"
        },
        "id": "2-3C5BYbQfdq",
        "outputId": "06379102-48ac-4710-d12e-6ad19ef759fe"
      },
      "source": [
        "len(list(test_set - train_set))"
      ],
      "execution_count": null,
      "outputs": [
        {
          "output_type": "execute_result",
          "data": {
            "text/plain": [
              "0"
            ]
          },
          "metadata": {
            "tags": []
          },
          "execution_count": 46
        }
      ]
    },
    {
      "cell_type": "markdown",
      "metadata": {
        "id": "BjZ0ixx9Q_sN"
      },
      "source": [
        "Аналогично, и с item_id"
      ]
    },
    {
      "cell_type": "markdown",
      "metadata": {
        "id": "3T2fwRzxRf7I"
      },
      "source": [
        "Не все item, что есть в test, есть в train"
      ]
    },
    {
      "cell_type": "code",
      "metadata": {
        "colab": {
          "base_uri": "https://localhost:8080/"
        },
        "id": "IGTLpyXuQuI3",
        "outputId": "dff29ed2-d25a-43ed-e6f8-2828abf8bde5"
      },
      "source": [
        "test_item_set = set(test['item_id'].unique())\r\n",
        "train_item_set = set(train['item_id'].unique())\r\n",
        "len(list(test_item_set - train_item_set))"
      ],
      "execution_count": 34,
      "outputs": [
        {
          "output_type": "execute_result",
          "data": {
            "text/plain": [
              "363"
            ]
          },
          "metadata": {
            "tags": []
          },
          "execution_count": 34
        }
      ]
    },
    {
      "cell_type": "markdown",
      "metadata": {
        "id": "PfFTLdG4epX7"
      },
      "source": [
        "В train гораздо больше товаров, чем в test"
      ]
    },
    {
      "cell_type": "code",
      "metadata": {
        "id": "zPktZNcQROdN",
        "colab": {
          "base_uri": "https://localhost:8080/"
        },
        "outputId": "af3b9e05-731a-4121-e4fd-7cb5561c8d94"
      },
      "source": [
        "len(list(train_item_set - test_item_set))"
      ],
      "execution_count": 35,
      "outputs": [
        {
          "output_type": "execute_result",
          "data": {
            "text/plain": [
              "17070"
            ]
          },
          "metadata": {
            "tags": []
          },
          "execution_count": 35
        }
      ]
    },
    {
      "cell_type": "markdown",
      "metadata": {
        "id": "89S3nwByS1nc"
      },
      "source": [
        "Посмотрим тенденцию к продажам для наиболее продаваемого товара"
      ]
    },
    {
      "cell_type": "code",
      "metadata": {
        "colab": {
          "base_uri": "https://localhost:8080/"
        },
        "id": "AZ4bi6jmS7D7",
        "outputId": "12c9c014-a673-4ff9-cd89-be978dfc6c2b"
      },
      "source": [
        "group = train.groupby(by='item_id')['item_cnt_day', 'date'].sum().sort_values(by='item_cnt_day', ascending=False)\r\n"
      ],
      "execution_count": 46,
      "outputs": [
        {
          "output_type": "stream",
          "text": [
            "/usr/local/lib/python3.6/dist-packages/ipykernel_launcher.py:1: FutureWarning: Indexing with multiple keys (implicitly converted to a tuple of keys) will be deprecated, use a list instead.\n",
            "  \"\"\"Entry point for launching an IPython kernel.\n"
          ],
          "name": "stderr"
        }
      ]
    },
    {
      "cell_type": "code",
      "metadata": {
        "id": "9odJeSgVTW2i"
      },
      "source": [
        "most_sold_item = group[:1]\r\n",
        "most_sold_item = list(most_sold_item.index)[0]"
      ],
      "execution_count": 45,
      "outputs": []
    },
    {
      "cell_type": "markdown",
      "metadata": {
        "id": "Rj_gDiceg5e3"
      },
      "source": [
        "Также видная сезонность и тренд на снижение"
      ]
    },
    {
      "cell_type": "code",
      "metadata": {
        "colab": {
          "base_uri": "https://localhost:8080/",
          "height": 283
        },
        "id": "JMW1Tpx2ey8K",
        "outputId": "d117fd15-d907-47a0-9dc1-333c416e10c0"
      },
      "source": [
        "ms_train = train[train['item_id'] == most_sold_item]\r\n",
        "most_sold_item_by_days = ms_train.groupby(by='date_block_num')['item_cnt_day'].sum()\r\n",
        "plt.plot(most_sold_item_by_days)"
      ],
      "execution_count": 51,
      "outputs": [
        {
          "output_type": "execute_result",
          "data": {
            "text/plain": [
              "[<matplotlib.lines.Line2D at 0x7ff37d4c83c8>]"
            ]
          },
          "metadata": {
            "tags": []
          },
          "execution_count": 51
        },
        {
          "output_type": "display_data",
          "data": {
            "image/png": "[encoded data removed]",
            "text/plain": [
              "<Figure size 432x288 with 1 Axes>"
            ]
          },
          "metadata": {
            "tags": [],
            "needs_background": "light"
          }
        }
      ]
    },
    {
      "cell_type": "code",
      "metadata": {
        "colab": {
          "base_uri": "https://localhost:8080/",
          "height": 229
        },
        "id": "9UxKr5aagk9h",
        "outputId": "954142c8-bca5-48cc-d92e-609ea4980470"
      },
      "source": [
        "rolling_mean = most_sold_item_by_days.rolling(window=12).mean()\r\n",
        "plt.figure(figsize=(8,3))\r\n",
        "plt.plot(rolling_mean)"
      ],
      "execution_count": 69,
      "outputs": [
        {
          "output_type": "execute_result",
          "data": {
            "text/plain": [
              "[<matplotlib.lines.Line2D at 0x7ff37ceb87b8>]"
            ]
          },
          "metadata": {
            "tags": []
          },
          "execution_count": 69
        },
        {
          "output_type": "display_data",
          "data": {
            "image/png": "[encoded data removed]",
            "text/plain": [
              "<Figure size 576x216 with 1 Axes>"
            ]
          },
          "metadata": {
            "tags": [],
            "needs_background": "light"
          }
        }
      ]
    },
    {
      "cell_type": "markdown",
      "metadata": {
        "id": "NXPIHDHYl2nd"
      },
      "source": [
        "# DateTime "
      ]
    },
    {
      "cell_type": "code",
      "metadata": {
        "id": "C6dksOzNNtD0"
      },
      "source": [
        "train['date'] = train['date'].astype('datetime64[ns]')"
      ],
      "execution_count": 7,
      "outputs": []
    },
    {
      "cell_type": "code",
      "metadata": {
        "colab": {
          "base_uri": "https://localhost:8080/",
          "height": 202
        },
        "id": "qA7-rgt_NyjP",
        "outputId": "9ec3f210-932c-4356-b18b-51fd8b68624d"
      },
      "source": [
        "train.head()"
      ],
      "execution_count": 8,
      "outputs": [
        {
          "output_type": "execute_result",
          "data": {
            "text/html": [
              "<div>\n",
              "<style scoped>\n",
              "    .dataframe tbody tr th:only-of-type {\n",
              "        vertical-align: middle;\n",
              "    }\n",
              "\n",
              "    .dataframe tbody tr th {\n",
              "        vertical-align: top;\n",
              "    }\n",
              "\n",
              "    .dataframe thead th {\n",
              "        text-align: right;\n",
              "    }\n",
              "</style>\n",
              "<table border=\"1\" class=\"dataframe\">\n",
              "  <thead>\n",
              "    <tr style=\"text-align: right;\">\n",
              "      <th></th>\n",
              "      <th>date</th>\n",
              "      <th>date_block_num</th>\n",
              "      <th>shop_id</th>\n",
              "      <th>item_id</th>\n",
              "      <th>item_price</th>\n",
              "      <th>item_cnt_day</th>\n",
              "    </tr>\n",
              "  </thead>\n",
              "  <tbody>\n",
              "    <tr>\n",
              "      <th>0</th>\n",
              "      <td>2013-02-01</td>\n",
              "      <td>0</td>\n",
              "      <td>59</td>\n",
              "      <td>22154</td>\n",
              "      <td>999.00</td>\n",
              "      <td>1.0</td>\n",
              "    </tr>\n",
              "    <tr>\n",
              "      <th>1</th>\n",
              "      <td>2013-03-01</td>\n",
              "      <td>0</td>\n",
              "      <td>25</td>\n",
              "      <td>2552</td>\n",
              "      <td>899.00</td>\n",
              "      <td>1.0</td>\n",
              "    </tr>\n",
              "    <tr>\n",
              "      <th>2</th>\n",
              "      <td>2013-05-01</td>\n",
              "      <td>0</td>\n",
              "      <td>25</td>\n",
              "      <td>2552</td>\n",
              "      <td>899.00</td>\n",
              "      <td>-1.0</td>\n",
              "    </tr>\n",
              "    <tr>\n",
              "      <th>3</th>\n",
              "      <td>2013-06-01</td>\n",
              "      <td>0</td>\n",
              "      <td>25</td>\n",
              "      <td>2554</td>\n",
              "      <td>1709.05</td>\n",
              "      <td>1.0</td>\n",
              "    </tr>\n",
              "    <tr>\n",
              "      <th>4</th>\n",
              "      <td>2013-01-15</td>\n",
              "      <td>0</td>\n",
              "      <td>25</td>\n",
              "      <td>2555</td>\n",
              "      <td>1099.00</td>\n",
              "      <td>1.0</td>\n",
              "    </tr>\n",
              "  </tbody>\n",
              "</table>\n",
              "</div>"
            ],
            "text/plain": [
              "        date  date_block_num  shop_id  item_id  item_price  item_cnt_day\n",
              "0 2013-02-01               0       59    22154      999.00           1.0\n",
              "1 2013-03-01               0       25     2552      899.00           1.0\n",
              "2 2013-05-01               0       25     2552      899.00          -1.0\n",
              "3 2013-06-01               0       25     2554     1709.05           1.0\n",
              "4 2013-01-15               0       25     2555     1099.00           1.0"
            ]
          },
          "metadata": {
            "tags": []
          },
          "execution_count": 8
        }
      ]
    },
    {
      "cell_type": "markdown",
      "metadata": {
        "id": "wTEFJdfrO6xV"
      },
      "source": [
        "Делаем дату индексом"
      ]
    },
    {
      "cell_type": "code",
      "metadata": {
        "id": "1TGTR9-BN1sP"
      },
      "source": [
        "train = train.set_index('date')"
      ],
      "execution_count": 9,
      "outputs": []
    },
    {
      "cell_type": "code",
      "metadata": {
        "id": "-RJSz0JaO2nu"
      },
      "source": [
        "train['year'] = train.index.year\r\n",
        "train['month'] = train.index.month\r\n",
        "train['day'] = train.index.day"
      ],
      "execution_count": 10,
      "outputs": []
    },
    {
      "cell_type": "code",
      "metadata": {
        "colab": {
          "base_uri": "https://localhost:8080/",
          "height": 233
        },
        "id": "DXB9Ovs0PMHj",
        "outputId": "e7e2ed63-3cc0-4ddc-bcc0-57d05e623ce8"
      },
      "source": [
        "train['weekday name'] = train.index.weekday\r\n",
        "train.head()\r\n"
      ],
      "execution_count": 11,
      "outputs": [
        {
          "output_type": "execute_result",
          "data": {
            "text/html": [
              "<div>\n",
              "<style scoped>\n",
              "    .dataframe tbody tr th:only-of-type {\n",
              "        vertical-align: middle;\n",
              "    }\n",
              "\n",
              "    .dataframe tbody tr th {\n",
              "        vertical-align: top;\n",
              "    }\n",
              "\n",
              "    .dataframe thead th {\n",
              "        text-align: right;\n",
              "    }\n",
              "</style>\n",
              "<table border=\"1\" class=\"dataframe\">\n",
              "  <thead>\n",
              "    <tr style=\"text-align: right;\">\n",
              "      <th></th>\n",
              "      <th>date_block_num</th>\n",
              "      <th>shop_id</th>\n",
              "      <th>item_id</th>\n",
              "      <th>item_price</th>\n",
              "      <th>item_cnt_day</th>\n",
              "      <th>year</th>\n",
              "      <th>month</th>\n",
              "      <th>day</th>\n",
              "      <th>weekday name</th>\n",
              "    </tr>\n",
              "    <tr>\n",
              "      <th>date</th>\n",
              "      <th></th>\n",
              "      <th></th>\n",
              "      <th></th>\n",
              "      <th></th>\n",
              "      <th></th>\n",
              "      <th></th>\n",
              "      <th></th>\n",
              "      <th></th>\n",
              "      <th></th>\n",
              "    </tr>\n",
              "  </thead>\n",
              "  <tbody>\n",
              "    <tr>\n",
              "      <th>2013-02-01</th>\n",
              "      <td>0</td>\n",
              "      <td>59</td>\n",
              "      <td>22154</td>\n",
              "      <td>999.00</td>\n",
              "      <td>1.0</td>\n",
              "      <td>2013</td>\n",
              "      <td>2</td>\n",
              "      <td>1</td>\n",
              "      <td>4</td>\n",
              "    </tr>\n",
              "    <tr>\n",
              "      <th>2013-03-01</th>\n",
              "      <td>0</td>\n",
              "      <td>25</td>\n",
              "      <td>2552</td>\n",
              "      <td>899.00</td>\n",
              "      <td>1.0</td>\n",
              "      <td>2013</td>\n",
              "      <td>3</td>\n",
              "      <td>1</td>\n",
              "      <td>4</td>\n",
              "    </tr>\n",
              "    <tr>\n",
              "      <th>2013-05-01</th>\n",
              "      <td>0</td>\n",
              "      <td>25</td>\n",
              "      <td>2552</td>\n",
              "      <td>899.00</td>\n",
              "      <td>-1.0</td>\n",
              "      <td>2013</td>\n",
              "      <td>5</td>\n",
              "      <td>1</td>\n",
              "      <td>2</td>\n",
              "    </tr>\n",
              "    <tr>\n",
              "      <th>2013-06-01</th>\n",
              "      <td>0</td>\n",
              "      <td>25</td>\n",
              "      <td>2554</td>\n",
              "      <td>1709.05</td>\n",
              "      <td>1.0</td>\n",
              "      <td>2013</td>\n",
              "      <td>6</td>\n",
              "      <td>1</td>\n",
              "      <td>5</td>\n",
              "    </tr>\n",
              "    <tr>\n",
              "      <th>2013-01-15</th>\n",
              "      <td>0</td>\n",
              "      <td>25</td>\n",
              "      <td>2555</td>\n",
              "      <td>1099.00</td>\n",
              "      <td>1.0</td>\n",
              "      <td>2013</td>\n",
              "      <td>1</td>\n",
              "      <td>15</td>\n",
              "      <td>1</td>\n",
              "    </tr>\n",
              "  </tbody>\n",
              "</table>\n",
              "</div>"
            ],
            "text/plain": [
              "            date_block_num  shop_id  item_id  ...  month  day  weekday name\n",
              "date                                          ...                          \n",
              "2013-02-01               0       59    22154  ...      2    1             4\n",
              "2013-03-01               0       25     2552  ...      3    1             4\n",
              "2013-05-01               0       25     2552  ...      5    1             2\n",
              "2013-06-01               0       25     2554  ...      6    1             5\n",
              "2013-01-15               0       25     2555  ...      1   15             1\n",
              "\n",
              "[5 rows x 9 columns]"
            ]
          },
          "metadata": {
            "tags": []
          },
          "execution_count": 11
        }
      ]
    },
    {
      "cell_type": "markdown",
      "metadata": {
        "id": "2B5D3KQ6nJvo"
      },
      "source": [
        "# Продажи по дням"
      ]
    },
    {
      "cell_type": "markdown",
      "metadata": {
        "id": "tbm8O37VnR4Z"
      },
      "source": [
        "В первый день месяца резкое увеличение продаж. Скорее всего, это не отражает реальные продажи"
      ]
    },
    {
      "cell_type": "code",
      "metadata": {
        "colab": {
          "base_uri": "https://localhost:8080/",
          "height": 283
        },
        "id": "R9IfiEFbnMcM",
        "outputId": "fdbfd84a-0886-4844-f14e-aff173339cea"
      },
      "source": [
        "train_all = train.groupby(by='day')['item_cnt_day'].sum()\r\n",
        "plt.plot(train_all)"
      ],
      "execution_count": 62,
      "outputs": [
        {
          "output_type": "execute_result",
          "data": {
            "text/plain": [
              "[<matplotlib.lines.Line2D at 0x7f90be696d30>]"
            ]
          },
          "metadata": {
            "tags": []
          },
          "execution_count": 62
        },
        {
          "output_type": "display_data",
          "data": {
            "image/png": "[encoded data removed]",
            "text/plain": [
              "<Figure size 432x288 with 1 Axes>"
            ]
          },
          "metadata": {
            "tags": [],
            "needs_background": "light"
          }
        }
      ]
    },
    {
      "cell_type": "markdown",
      "metadata": {
        "id": "kJXY0se1m72x"
      },
      "source": [
        "# Продажи по годам"
      ]
    },
    {
      "cell_type": "code",
      "metadata": {
        "colab": {
          "base_uri": "https://localhost:8080/",
          "height": 293
        },
        "id": "zx7SyaaXm-eH",
        "outputId": "43b968fc-8497-4630-b3c9-be2ca6efdc2b"
      },
      "source": [
        "train_all = train.groupby(by='year')['item_cnt_day'].sum()\r\n",
        "plt.plot(train_all)"
      ],
      "execution_count": 107,
      "outputs": [
        {
          "output_type": "execute_result",
          "data": {
            "text/plain": [
              "[<matplotlib.lines.Line2D at 0x7ff37ca48198>]"
            ]
          },
          "metadata": {
            "tags": []
          },
          "execution_count": 107
        },
        {
          "output_type": "display_data",
          "data": {
            "image/png": "[encoded data removed]",
            "text/plain": [
              "<Figure size 432x288 with 1 Axes>"
            ]
          },
          "metadata": {
            "tags": [],
            "needs_background": "light"
          }
        }
      ]
    },
    {
      "cell_type": "markdown",
      "metadata": {
        "id": "U2Q6_nYymv0A"
      },
      "source": [
        "# Продажи по месяцам"
      ]
    },
    {
      "cell_type": "markdown",
      "metadata": {
        "id": "At-iKiEezwGC"
      },
      "source": [
        "В последний месяц продажи возрастают"
      ]
    },
    {
      "cell_type": "code",
      "metadata": {
        "colab": {
          "base_uri": "https://localhost:8080/",
          "height": 283
        },
        "id": "uReLiRMsmx9X",
        "outputId": "1612c200-9941-41c0-e6a5-68732c2c9cf0"
      },
      "source": [
        "train_all = train.groupby(by='month')['item_cnt_day'].sum()\r\n",
        "plt.plot(train_all)"
      ],
      "execution_count": 106,
      "outputs": [
        {
          "output_type": "execute_result",
          "data": {
            "text/plain": [
              "[<matplotlib.lines.Line2D at 0x7ff37cadfeb8>]"
            ]
          },
          "metadata": {
            "tags": []
          },
          "execution_count": 106
        },
        {
          "output_type": "display_data",
          "data": {
            "image/png": "[encoded data removed]",
            "text/plain": [
              "<Figure size 432x288 with 1 Axes>"
            ]
          },
          "metadata": {
            "tags": [],
            "needs_background": "light"
          }
        }
      ]
    },
    {
      "cell_type": "markdown",
      "metadata": {
        "id": "kI7FuTvhlw5X"
      },
      "source": [
        "# Продажи по дням недели"
      ]
    },
    {
      "cell_type": "markdown",
      "metadata": {
        "id": "k14zXh3YhuDP"
      },
      "source": [
        "Пик продаж приходится на 5й день"
      ]
    },
    {
      "cell_type": "code",
      "metadata": {
        "colab": {
          "base_uri": "https://localhost:8080/",
          "height": 283
        },
        "id": "ZcaV5VolhMsZ",
        "outputId": "076882fb-71a9-48d7-8280-db4709a84738"
      },
      "source": [
        "ms_weekdays = train[train['item_id'] == most_sold_item].groupby(by='weekday name')['item_cnt_day'].sum()\r\n",
        "plt.plot(ms_weekdays)"
      ],
      "execution_count": 79,
      "outputs": [
        {
          "output_type": "execute_result",
          "data": {
            "text/plain": [
              "[<matplotlib.lines.Line2D at 0x7ff37cc47fd0>]"
            ]
          },
          "metadata": {
            "tags": []
          },
          "execution_count": 79
        },
        {
          "output_type": "display_data",
          "data": {
            "image/png": "[encoded data removed]",
            "text/plain": [
              "<Figure size 432x288 with 1 Axes>"
            ]
          },
          "metadata": {
            "tags": [],
            "needs_background": "light"
          }
        }
      ]
    },
    {
      "cell_type": "code",
      "metadata": {
        "colab": {
          "base_uri": "https://localhost:8080/",
          "height": 283
        },
        "id": "2-fHC-ZMhdTK",
        "outputId": "5254f9a3-bf3c-4396-fbfa-681cbb6b3e47"
      },
      "source": [
        "train_all = train.groupby(by='weekday name')['item_cnt_day'].sum()\r\n",
        "plt.plot(train_all)"
      ],
      "execution_count": 80,
      "outputs": [
        {
          "output_type": "execute_result",
          "data": {
            "text/plain": [
              "[<matplotlib.lines.Line2D at 0x7ff37cbcc6a0>]"
            ]
          },
          "metadata": {
            "tags": []
          },
          "execution_count": 80
        },
        {
          "output_type": "display_data",
          "data": {
            "image/png": "[encoded data removed]",
            "text/plain": [
              "<Figure size 432x288 with 1 Axes>"
            ]
          },
          "metadata": {
            "tags": [],
            "needs_background": "light"
          }
        }
      ]
    },
    {
      "cell_type": "code",
      "metadata": {
        "id": "fgL2bMHRho4G"
      },
      "source": [
        ""
      ],
      "execution_count": 91,
      "outputs": []
    },
    {
      "cell_type": "markdown",
      "metadata": {
        "id": "hflwzpwgkQLm"
      },
      "source": [
        "# Магазины с наибольшими продажами"
      ]
    },
    {
      "cell_type": "code",
      "metadata": {
        "colab": {
          "base_uri": "https://localhost:8080/"
        },
        "id": "ytVkao6pkVtC",
        "outputId": "7fd7845d-45bb-4bd7-caa9-9257483f124b"
      },
      "source": [
        "most_sold_shop = train.groupby(by='shop_id')['item_cnt_day'].sum().sort_values(ascending=False)\r\n",
        "most_sold_shop_id = list(most_sold_shop[:10].index)\r\n",
        "most_sold_shop_id"
      ],
      "execution_count": 32,
      "outputs": [
        {
          "output_type": "execute_result",
          "data": {
            "text/plain": [
              "[31, 25, 54, 28, 42, 57, 27, 6, 58, 46]"
            ]
          },
          "metadata": {
            "tags": []
          },
          "execution_count": 32
        }
      ]
    },
    {
      "cell_type": "markdown",
      "metadata": {
        "id": "N9PBhEl4lnfN"
      },
      "source": [
        "Сезонность и тренд"
      ]
    },
    {
      "cell_type": "code",
      "metadata": {
        "colab": {
          "base_uri": "https://localhost:8080/",
          "height": 265
        },
        "id": "Kfim5nA_lUq7",
        "outputId": "e2a56111-1fb0-4f14-bf06-29faabd28446"
      },
      "source": [
        "for id in most_sold_shop_id:\r\n",
        "  plt.plot(train[train['shop_id'] == id].groupby(by='date_block_num')['item_cnt_day'].sum())"
      ],
      "execution_count": 33,
      "outputs": [
        {
          "output_type": "display_data",
          "data": {
            "image/png": "[encoded data removed]",
            "text/plain": [
              "<Figure size 432x288 with 1 Axes>"
            ]
          },
          "metadata": {
            "tags": [],
            "needs_background": "light"
          }
        }
      ]
    },
    {
      "cell_type": "markdown",
      "metadata": {
        "id": "eHTzAcy6QbTt"
      },
      "source": [
        "# Магазины со средними продажами"
      ]
    },
    {
      "cell_type": "code",
      "metadata": {
        "colab": {
          "base_uri": "https://localhost:8080/"
        },
        "id": "K_j44Fx_Qedk",
        "outputId": "a903f757-6f87-4d1d-8965-919907a4eb53"
      },
      "source": [
        "most_sold_shop_ids = train.groupby(by='shop_id')['item_cnt_day'].sum().sort_values(ascending=False)\r\n",
        "most_sold_shop_ids = list(most_sold_shop_ids[27:33].index)\r\n",
        "most_sold_shop_ids"
      ],
      "execution_count": 24,
      "outputs": [
        {
          "output_type": "execute_result",
          "data": {
            "text/plain": [
              "[29, 38, 43, 52, 41, 59]"
            ]
          },
          "metadata": {
            "tags": []
          },
          "execution_count": 24
        }
      ]
    },
    {
      "cell_type": "markdown",
      "metadata": {
        "id": "ObaPA4msUIqP"
      },
      "source": [
        "Чем меньше продаж изначально, тем сильнее тренд на снижение со временем"
      ]
    },
    {
      "cell_type": "code",
      "metadata": {
        "colab": {
          "base_uri": "https://localhost:8080/",
          "height": 265
        },
        "id": "CQyLN8S2Q0C2",
        "outputId": "60c87371-f53c-4256-ed72-1d04ea3202eb"
      },
      "source": [
        "for id in most_sold_shop_ids:\r\n",
        "  plt.plot(train[train['shop_id'] == id].groupby(by='date_block_num')['item_cnt_day'].sum())"
      ],
      "execution_count": 25,
      "outputs": [
        {
          "output_type": "display_data",
          "data": {
            "image/png": "[encoded data removed]",
            "text/plain": [
              "<Figure size 432x288 with 1 Axes>"
            ]
          },
          "metadata": {
            "tags": [],
            "needs_background": "light"
          }
        }
      ]
    },
    {
      "cell_type": "markdown",
      "metadata": {
        "id": "05v_DW0CTDuY"
      },
      "source": [
        "# Магазины с низкими продажами"
      ]
    },
    {
      "cell_type": "markdown",
      "metadata": {
        "id": "oWIIgUNaTm0K"
      },
      "source": [
        "Магазины с наиеньшими продажами либо только начали продавать, либо уже закончили"
      ]
    },
    {
      "cell_type": "code",
      "metadata": {
        "colab": {
          "base_uri": "https://localhost:8080/",
          "height": 267
        },
        "id": "uFsDB35nTHro",
        "outputId": "a0ff6fff-2b49-4b0c-ebb2-58c91fd101dc"
      },
      "source": [
        "most_sold_shop_ids = train.groupby(by='shop_id')['item_cnt_day'].sum().sort_values(ascending=False)\r\n",
        "least_sold_shop_ids = list(most_sold_shop_ids[50:].index)\r\n",
        "for id in least_sold_shop_ids:\r\n",
        "  plt.plot(train[train['shop_id'] == id].groupby(by='date_block_num')['item_cnt_day'].sum())"
      ],
      "execution_count": 39,
      "outputs": [
        {
          "output_type": "display_data",
          "data": {
            "image/png": "[encoded data removed]",
            "text/plain": [
              "<Figure size 432x288 with 1 Axes>"
            ]
          },
          "metadata": {
            "tags": [],
            "needs_background": "light"
          }
        }
      ]
    },
    {
      "cell_type": "markdown",
      "metadata": {
        "id": "9xxiDQW-Ud8m"
      },
      "source": [
        "Поведение продаж по магазинам, у которых стабильно есть продажи разительно отличается от тех, у кого нет стабильности\r\n"
      ]
    },
    {
      "cell_type": "markdown",
      "metadata": {
        "id": "AmPGONKFVojj"
      },
      "source": [
        "При этом только 2 магазина с такими продажами есть в test. "
      ]
    },
    {
      "cell_type": "code",
      "metadata": {
        "colab": {
          "base_uri": "https://localhost:8080/"
        },
        "id": "w81zTzSwUe0u",
        "outputId": "ee04c9c2-ac0c-476f-9a3c-5a4f5f7caa9d"
      },
      "source": [
        "len(set(test.shop_id.unique()) - set(least_sold_shop_ids))"
      ],
      "execution_count": 40,
      "outputs": [
        {
          "output_type": "execute_result",
          "data": {
            "text/plain": [
              "40"
            ]
          },
          "metadata": {
            "tags": []
          },
          "execution_count": 40
        }
      ]
    },
    {
      "cell_type": "code",
      "metadata": {
        "colab": {
          "base_uri": "https://localhost:8080/"
        },
        "id": "_ziBNFMIU0Ei",
        "outputId": "76696766-9fcb-4235-a68f-5c63928dbdf8"
      },
      "source": [
        "len(set(test.shop_id.unique()))"
      ],
      "execution_count": 42,
      "outputs": [
        {
          "output_type": "execute_result",
          "data": {
            "text/plain": [
              "42"
            ]
          },
          "metadata": {
            "tags": []
          },
          "execution_count": 42
        }
      ]
    },
    {
      "cell_type": "markdown",
      "metadata": {
        "id": "lI63DlVNZRYZ"
      },
      "source": [
        "# Магазины с продажами по конкретному продукту"
      ]
    },
    {
      "cell_type": "code",
      "metadata": {
        "id": "iTwyw0pBaYO0"
      },
      "source": [
        "most_sold_shop_ids_month = train.groupby(by=['shop_id', 'item_id', 'date_block_num'])['item_cnt_day'].sum().sort_values(ascending=False)"
      ],
      "execution_count": 38,
      "outputs": []
    },
    {
      "cell_type": "markdown",
      "metadata": {
        "id": "EAEELaaKaxoz"
      },
      "source": [
        "Процент высоко продаваемых товаров в отдельных магазинах в месяц"
      ]
    },
    {
      "cell_type": "code",
      "metadata": {
        "colab": {
          "base_uri": "https://localhost:8080/"
        },
        "id": "MjqELa37alVT",
        "outputId": "d3df0a44-8616-4a75-a20c-80c0d021f0ad"
      },
      "source": [
        "print(f\"{(len(most_sold_shop_ids_month[most_sold_shop_ids_month > 50]) / len(most_sold_shop_ids_month) * 100):.2f}\", \"%\")"
      ],
      "execution_count": 44,
      "outputs": [
        {
          "output_type": "stream",
          "text": [
            "0.18 %\n"
          ],
          "name": "stdout"
        }
      ]
    },
    {
      "cell_type": "markdown",
      "metadata": {
        "id": "Ktq9mvdRcDiU"
      },
      "source": [
        "По количетсву товаров с высокими продажами можно сделать вывод, что это не ошибка"
      ]
    },
    {
      "cell_type": "code",
      "metadata": {
        "colab": {
          "base_uri": "https://localhost:8080/"
        },
        "id": "EoxqnhFSb8kX",
        "outputId": "8607ebc0-e6dc-44dc-97bf-285e872cfd7a"
      },
      "source": [
        "len(most_sold_shop_ids_month[most_sold_shop_ids_month > 50])"
      ],
      "execution_count": 49,
      "outputs": [
        {
          "output_type": "execute_result",
          "data": {
            "text/plain": [
              "2865"
            ]
          },
          "metadata": {
            "tags": []
          },
          "execution_count": 49
        }
      ]
    },
    {
      "cell_type": "markdown",
      "metadata": {
        "id": "_lCCfvTATC2m"
      },
      "source": [
        "С низкими продажами"
      ]
    },
    {
      "cell_type": "markdown",
      "metadata": {
        "id": "AZGFkd_9WdGp"
      },
      "source": [
        "Продажи варьируются от 1 до 2"
      ]
    },
    {
      "cell_type": "code",
      "metadata": {
        "colab": {
          "base_uri": "https://localhost:8080/",
          "height": 265
        },
        "id": "NHG70DWCZVNv",
        "outputId": "80fd4b8b-fedf-4b9a-9bd5-97b18d076a9f"
      },
      "source": [
        "most_sold_shop_ids = train.groupby(by=['shop_id','item_id'])['item_cnt_day'].sum().sort_values(ascending=False)\r\n",
        "least_sold_shop_ids = list(most_sold_shop_ids[200000:200015].index)\r\n",
        "for s_id, i_id in least_sold_shop_ids:\r\n",
        "  plt.plot(train[(train['shop_id'] == s_id) & (train['item_id'] == i_id)].groupby(by='date_block_num')['item_cnt_day'].sum())\r\n",
        "#most_sold_shop_ids.plot()"
      ],
      "execution_count": 20,
      "outputs": [
        {
          "output_type": "display_data",
          "data": {
            "image/png": "[encoded data removed]",
            "text/plain": [
              "<Figure size 432x288 with 1 Axes>"
            ]
          },
          "metadata": {
            "tags": [],
            "needs_background": "light"
          }
        }
      ]
    },
    {
      "cell_type": "markdown",
      "metadata": {
        "id": "M114pZUoV7yC"
      },
      "source": [
        "Со средними продажами"
      ]
    },
    {
      "cell_type": "markdown",
      "metadata": {
        "id": "4CXBkTYhWiwE"
      },
      "source": [
        "Продажи около 5"
      ]
    },
    {
      "cell_type": "code",
      "metadata": {
        "colab": {
          "base_uri": "https://localhost:8080/",
          "height": 265
        },
        "id": "v1GVCz6gV9qd",
        "outputId": "823c159a-4c0e-441b-944c-a84e7bd9d826"
      },
      "source": [
        "least_sold_shop_ids = list(most_sold_shop_ids[10000:10005].index)\r\n",
        "for s_id, i_id in least_sold_shop_ids:\r\n",
        "  plt.plot(train[(train['shop_id'] == s_id) & (train['item_id'] == i_id)].groupby(by='date_block_num')['item_cnt_day'].sum())\r\n",
        "#most_sold_shop_ids.plot()"
      ],
      "execution_count": 21,
      "outputs": [
        {
          "output_type": "display_data",
          "data": {
            "image/png": "[encoded data removed]",
            "text/plain": [
              "<Figure size 432x288 with 1 Axes>"
            ]
          },
          "metadata": {
            "tags": [],
            "needs_background": "light"
          }
        }
      ]
    },
    {
      "cell_type": "markdown",
      "metadata": {
        "id": "qUsgRbAVWG0q"
      },
      "source": [
        "С высокими продажами"
      ]
    },
    {
      "cell_type": "code",
      "metadata": {
        "colab": {
          "base_uri": "https://localhost:8080/",
          "height": 265
        },
        "id": "gz2DXMAXWKI3",
        "outputId": "0663f223-0ac6-4bdf-836e-ab0b0111019e"
      },
      "source": [
        "least_sold_shop_ids = list(most_sold_shop_ids[:8].index)\r\n",
        "for s_id, i_id in least_sold_shop_ids:\r\n",
        "  plt.plot(train[(train['shop_id'] == s_id) & (train['item_id'] == i_id)].groupby(by='date_block_num')['item_cnt_day'].sum())\r\n",
        "#most_sold_shop_ids.plot()"
      ],
      "execution_count": 19,
      "outputs": [
        {
          "output_type": "display_data",
          "data": {
            "image/png": "[encoded data removed]",
            "text/plain": [
              "<Figure size 432x288 with 1 Axes>"
            ]
          },
          "metadata": {
            "tags": [],
            "needs_background": "light"
          }
        }
      ]
    },
    {
      "cell_type": "markdown",
      "metadata": {
        "id": "oaJxgWCA_CNH"
      },
      "source": [
        "Из графиков и квартилей видно, что большинство продаж - это 1-2 товара в месяц. При этом есть довольно высокие продажи(их немного). Поэтому, в качестве метрики надо брать такую, чтобы она одинакого оценивала ошибки на больших и на маленьких продажах."
      ]
    },
    {
      "cell_type": "code",
      "metadata": {
        "colab": {
          "base_uri": "https://localhost:8080/"
        },
        "id": "43OGyc89gc8M",
        "outputId": "a5dced39-ad3c-4557-8c4a-27f6b7f28411"
      },
      "source": [
        "most_sold_shop_ids.describe()"
      ],
      "execution_count": 74,
      "outputs": [
        {
          "output_type": "execute_result",
          "data": {
            "text/plain": [
              "count    1.609124e+06\n",
              "mean     2.267200e+00\n",
              "std      8.649882e+00\n",
              "min     -2.200000e+01\n",
              "25%      1.000000e+00\n",
              "50%      1.000000e+00\n",
              "75%      2.000000e+00\n",
              "max      2.253000e+03\n",
              "Name: item_cnt_day, dtype: float64"
            ]
          },
          "metadata": {
            "tags": []
          },
          "execution_count": 74
        }
      ]
    },
    {
      "cell_type": "markdown",
      "metadata": {
        "id": "sgNx8SeTifom"
      },
      "source": [
        "# *Магазины*"
      ]
    },
    {
      "cell_type": "code",
      "metadata": {
        "colab": {
          "base_uri": "https://localhost:8080/",
          "height": 202
        },
        "id": "KdOvT4pyilU6",
        "outputId": "88f4ccef-c05e-4727-b44c-ce6fdb6e64b2"
      },
      "source": [
        "shops.head()"
      ],
      "execution_count": 82,
      "outputs": [
        {
          "output_type": "execute_result",
          "data": {
            "text/html": [
              "<div>\n",
              "<style scoped>\n",
              "    .dataframe tbody tr th:only-of-type {\n",
              "        vertical-align: middle;\n",
              "    }\n",
              "\n",
              "    .dataframe tbody tr th {\n",
              "        vertical-align: top;\n",
              "    }\n",
              "\n",
              "    .dataframe thead th {\n",
              "        text-align: right;\n",
              "    }\n",
              "</style>\n",
              "<table border=\"1\" class=\"dataframe\">\n",
              "  <thead>\n",
              "    <tr style=\"text-align: right;\">\n",
              "      <th></th>\n",
              "      <th>shop_name</th>\n",
              "      <th>shop_id</th>\n",
              "    </tr>\n",
              "  </thead>\n",
              "  <tbody>\n",
              "    <tr>\n",
              "      <th>0</th>\n",
              "      <td>!Якутск Орджоникидзе, 56 фран</td>\n",
              "      <td>0</td>\n",
              "    </tr>\n",
              "    <tr>\n",
              "      <th>1</th>\n",
              "      <td>!Якутск ТЦ \"Центральный\" фран</td>\n",
              "      <td>1</td>\n",
              "    </tr>\n",
              "    <tr>\n",
              "      <th>2</th>\n",
              "      <td>Адыгея ТЦ \"Мега\"</td>\n",
              "      <td>2</td>\n",
              "    </tr>\n",
              "    <tr>\n",
              "      <th>3</th>\n",
              "      <td>Балашиха ТРК \"Октябрь-Киномир\"</td>\n",
              "      <td>3</td>\n",
              "    </tr>\n",
              "    <tr>\n",
              "      <th>4</th>\n",
              "      <td>Волжский ТЦ \"Волга Молл\"</td>\n",
              "      <td>4</td>\n",
              "    </tr>\n",
              "  </tbody>\n",
              "</table>\n",
              "</div>"
            ],
            "text/plain": [
              "                        shop_name  shop_id\n",
              "0   !Якутск Орджоникидзе, 56 фран        0\n",
              "1   !Якутск ТЦ \"Центральный\" фран        1\n",
              "2                Адыгея ТЦ \"Мега\"        2\n",
              "3  Балашиха ТРК \"Октябрь-Киномир\"        3\n",
              "4        Волжский ТЦ \"Волга Молл\"        4"
            ]
          },
          "metadata": {
            "tags": []
          },
          "execution_count": 82
        }
      ]
    },
    {
      "cell_type": "markdown",
      "metadata": {
        "id": "NgPKy41oiqjN"
      },
      "source": [
        "shop_name содержит название города и название тц через пробел"
      ]
    },
    {
      "cell_type": "code",
      "metadata": {
        "id": "m_7Oy5M6ily6"
      },
      "source": [
        "shop_split = shops['shop_name'].str.split(' ')"
      ],
      "execution_count": 83,
      "outputs": []
    },
    {
      "cell_type": "markdown",
      "metadata": {
        "id": "-QxMUjDWiy1S"
      },
      "source": [
        "!Якутск, Сергиев Посад"
      ]
    },
    {
      "cell_type": "code",
      "metadata": {
        "id": "xsw4njMdi2jZ"
      },
      "source": [
        "shop_city = shop_split.map(lambda x: x[0])"
      ],
      "execution_count": 84,
      "outputs": []
    },
    {
      "cell_type": "markdown",
      "metadata": {
        "id": "00M9yKgUi9Nk"
      },
      "source": [
        "\r\n",
        "*   'Орджоникидзе, 56',\r\n",
        " 'Орджоникидзе, 56 фран' франшиза?\r\n",
        "*   'ТРК \"Мегацентр Горизонт\"',\r\n",
        " 'ТРК \"Мегацентр Горизонт\" Островной',\r\n",
        "*   'ул. Чкалова 39м?',\r\n",
        " 'ул. Чкалова 39м²\r\n",
        "\r\n",
        "\r\n"
      ]
    },
    {
      "cell_type": "code",
      "metadata": {
        "colab": {
          "base_uri": "https://localhost:8080/",
          "height": 202
        },
        "id": "LSpLY5v0i-Jy",
        "outputId": "504170fc-8976-42e1-c5ce-16c42e75bad4"
      },
      "source": [
        "shop_name = shop_split.map(lambda x: \" \".join(x[1:]))\r\n",
        "shops['shop_name'] = shop_name\r\n",
        "shops['shop_city'] = shop_city\r\n",
        "shops.head()"
      ],
      "execution_count": 85,
      "outputs": [
        {
          "output_type": "execute_result",
          "data": {
            "text/html": [
              "<div>\n",
              "<style scoped>\n",
              "    .dataframe tbody tr th:only-of-type {\n",
              "        vertical-align: middle;\n",
              "    }\n",
              "\n",
              "    .dataframe tbody tr th {\n",
              "        vertical-align: top;\n",
              "    }\n",
              "\n",
              "    .dataframe thead th {\n",
              "        text-align: right;\n",
              "    }\n",
              "</style>\n",
              "<table border=\"1\" class=\"dataframe\">\n",
              "  <thead>\n",
              "    <tr style=\"text-align: right;\">\n",
              "      <th></th>\n",
              "      <th>shop_name</th>\n",
              "      <th>shop_id</th>\n",
              "      <th>shop_city</th>\n",
              "    </tr>\n",
              "  </thead>\n",
              "  <tbody>\n",
              "    <tr>\n",
              "      <th>0</th>\n",
              "      <td>Орджоникидзе, 56 фран</td>\n",
              "      <td>0</td>\n",
              "      <td>!Якутск</td>\n",
              "    </tr>\n",
              "    <tr>\n",
              "      <th>1</th>\n",
              "      <td>ТЦ \"Центральный\" фран</td>\n",
              "      <td>1</td>\n",
              "      <td>!Якутск</td>\n",
              "    </tr>\n",
              "    <tr>\n",
              "      <th>2</th>\n",
              "      <td>ТЦ \"Мега\"</td>\n",
              "      <td>2</td>\n",
              "      <td>Адыгея</td>\n",
              "    </tr>\n",
              "    <tr>\n",
              "      <th>3</th>\n",
              "      <td>ТРК \"Октябрь-Киномир\"</td>\n",
              "      <td>3</td>\n",
              "      <td>Балашиха</td>\n",
              "    </tr>\n",
              "    <tr>\n",
              "      <th>4</th>\n",
              "      <td>ТЦ \"Волга Молл\"</td>\n",
              "      <td>4</td>\n",
              "      <td>Волжский</td>\n",
              "    </tr>\n",
              "  </tbody>\n",
              "</table>\n",
              "</div>"
            ],
            "text/plain": [
              "               shop_name  shop_id shop_city\n",
              "0  Орджоникидзе, 56 фран        0   !Якутск\n",
              "1  ТЦ \"Центральный\" фран        1   !Якутск\n",
              "2              ТЦ \"Мега\"        2    Адыгея\n",
              "3  ТРК \"Октябрь-Киномир\"        3  Балашиха\n",
              "4        ТЦ \"Волга Молл\"        4  Волжский"
            ]
          },
          "metadata": {
            "tags": []
          },
          "execution_count": 85
        }
      ]
    },
    {
      "cell_type": "code",
      "metadata": {
        "id": "PURn17rwiuKp"
      },
      "source": [
        ""
      ],
      "execution_count": null,
      "outputs": []
    },
    {
      "cell_type": "markdown",
      "metadata": {
        "id": "Aul3YWCrjPtA"
      },
      "source": [
        "# Категории"
      ]
    },
    {
      "cell_type": "code",
      "metadata": {
        "colab": {
          "base_uri": "https://localhost:8080/",
          "height": 202
        },
        "id": "cib185mMjRcL",
        "outputId": "0fc2a73f-368f-4b13-e2d3-7d93107c4f1a"
      },
      "source": [
        "item_categories.head()"
      ],
      "execution_count": 86,
      "outputs": [
        {
          "output_type": "execute_result",
          "data": {
            "text/html": [
              "<div>\n",
              "<style scoped>\n",
              "    .dataframe tbody tr th:only-of-type {\n",
              "        vertical-align: middle;\n",
              "    }\n",
              "\n",
              "    .dataframe tbody tr th {\n",
              "        vertical-align: top;\n",
              "    }\n",
              "\n",
              "    .dataframe thead th {\n",
              "        text-align: right;\n",
              "    }\n",
              "</style>\n",
              "<table border=\"1\" class=\"dataframe\">\n",
              "  <thead>\n",
              "    <tr style=\"text-align: right;\">\n",
              "      <th></th>\n",
              "      <th>item_category_name</th>\n",
              "      <th>item_category_id</th>\n",
              "    </tr>\n",
              "  </thead>\n",
              "  <tbody>\n",
              "    <tr>\n",
              "      <th>0</th>\n",
              "      <td>PC - Гарнитуры/Наушники</td>\n",
              "      <td>0</td>\n",
              "    </tr>\n",
              "    <tr>\n",
              "      <th>1</th>\n",
              "      <td>Аксессуары - PS2</td>\n",
              "      <td>1</td>\n",
              "    </tr>\n",
              "    <tr>\n",
              "      <th>2</th>\n",
              "      <td>Аксессуары - PS3</td>\n",
              "      <td>2</td>\n",
              "    </tr>\n",
              "    <tr>\n",
              "      <th>3</th>\n",
              "      <td>Аксессуары - PS4</td>\n",
              "      <td>3</td>\n",
              "    </tr>\n",
              "    <tr>\n",
              "      <th>4</th>\n",
              "      <td>Аксессуары - PSP</td>\n",
              "      <td>4</td>\n",
              "    </tr>\n",
              "  </tbody>\n",
              "</table>\n",
              "</div>"
            ],
            "text/plain": [
              "        item_category_name  item_category_id\n",
              "0  PC - Гарнитуры/Наушники                 0\n",
              "1         Аксессуары - PS2                 1\n",
              "2         Аксессуары - PS3                 2\n",
              "3         Аксессуары - PS4                 3\n",
              "4         Аксессуары - PSP                 4"
            ]
          },
          "metadata": {
            "tags": []
          },
          "execution_count": 86
        }
      ]
    },
    {
      "cell_type": "markdown",
      "metadata": {
        "id": "rfIUj1xKjZEM"
      },
      "source": [
        "То есть категорий может быть 2, а может и одна"
      ]
    },
    {
      "cell_type": "code",
      "metadata": {
        "id": "qRl1YFAEjbzF"
      },
      "source": [
        "ic_split = item_categories['item_category_name'].str.split(' - ')\r\n"
      ],
      "execution_count": 87,
      "outputs": []
    },
    {
      "cell_type": "code",
      "metadata": {
        "colab": {
          "base_uri": "https://localhost:8080/"
        },
        "id": "dvLzBlm5jVcX",
        "outputId": "2c292aad-fb8c-4268-d6a6-f83d0f70bf51"
      },
      "source": [
        "category = ic_split.map(lambda x: x[0])\r\n",
        "category"
      ],
      "execution_count": 88,
      "outputs": [
        {
          "output_type": "execute_result",
          "data": {
            "text/plain": [
              "0                            PC\n",
              "1                    Аксессуары\n",
              "2                    Аксессуары\n",
              "3                    Аксессуары\n",
              "4                    Аксессуары\n",
              "                ...            \n",
              "79                    Служебные\n",
              "80                    Служебные\n",
              "81      Чистые носители (шпиль)\n",
              "82    Чистые носители (штучные)\n",
              "83             Элементы питания\n",
              "Name: item_category_name, Length: 84, dtype: object"
            ]
          },
          "metadata": {
            "tags": []
          },
          "execution_count": 88
        }
      ]
    },
    {
      "cell_type": "code",
      "metadata": {
        "colab": {
          "base_uri": "https://localhost:8080/"
        },
        "id": "HzEOACsajgs7",
        "outputId": "ea41788b-ad21-4542-9d8a-9356ee6cbeeb"
      },
      "source": [
        "sub_category = ic_split.map(lambda x: x[1] if len(x) == 2 else None)\r\n",
        "sub_category"
      ],
      "execution_count": 89,
      "outputs": [
        {
          "output_type": "execute_result",
          "data": {
            "text/plain": [
              "0     Гарнитуры/Наушники\n",
              "1                    PS2\n",
              "2                    PS3\n",
              "3                    PS4\n",
              "4                    PSP\n",
              "             ...        \n",
              "79                  None\n",
              "80                Билеты\n",
              "81                  None\n",
              "82                  None\n",
              "83                  None\n",
              "Name: item_category_name, Length: 84, dtype: object"
            ]
          },
          "metadata": {
            "tags": []
          },
          "execution_count": 89
        }
      ]
    },
    {
      "cell_type": "code",
      "metadata": {
        "id": "1NJmgJZqjjaO"
      },
      "source": [
        "item_categories['category'] = category\r\n",
        "item_categories['sub_category'] = sub_category"
      ],
      "execution_count": 90,
      "outputs": []
    },
    {
      "cell_type": "code",
      "metadata": {
        "colab": {
          "base_uri": "https://localhost:8080/",
          "height": 202
        },
        "id": "XeLNvIEbjlvL",
        "outputId": "69c00a0f-f21e-43e8-a4c4-673dba3d1d31"
      },
      "source": [
        "item_categories.head()"
      ],
      "execution_count": 91,
      "outputs": [
        {
          "output_type": "execute_result",
          "data": {
            "text/html": [
              "<div>\n",
              "<style scoped>\n",
              "    .dataframe tbody tr th:only-of-type {\n",
              "        vertical-align: middle;\n",
              "    }\n",
              "\n",
              "    .dataframe tbody tr th {\n",
              "        vertical-align: top;\n",
              "    }\n",
              "\n",
              "    .dataframe thead th {\n",
              "        text-align: right;\n",
              "    }\n",
              "</style>\n",
              "<table border=\"1\" class=\"dataframe\">\n",
              "  <thead>\n",
              "    <tr style=\"text-align: right;\">\n",
              "      <th></th>\n",
              "      <th>item_category_name</th>\n",
              "      <th>item_category_id</th>\n",
              "      <th>category</th>\n",
              "      <th>sub_category</th>\n",
              "    </tr>\n",
              "  </thead>\n",
              "  <tbody>\n",
              "    <tr>\n",
              "      <th>0</th>\n",
              "      <td>PC - Гарнитуры/Наушники</td>\n",
              "      <td>0</td>\n",
              "      <td>PC</td>\n",
              "      <td>Гарнитуры/Наушники</td>\n",
              "    </tr>\n",
              "    <tr>\n",
              "      <th>1</th>\n",
              "      <td>Аксессуары - PS2</td>\n",
              "      <td>1</td>\n",
              "      <td>Аксессуары</td>\n",
              "      <td>PS2</td>\n",
              "    </tr>\n",
              "    <tr>\n",
              "      <th>2</th>\n",
              "      <td>Аксессуары - PS3</td>\n",
              "      <td>2</td>\n",
              "      <td>Аксессуары</td>\n",
              "      <td>PS3</td>\n",
              "    </tr>\n",
              "    <tr>\n",
              "      <th>3</th>\n",
              "      <td>Аксессуары - PS4</td>\n",
              "      <td>3</td>\n",
              "      <td>Аксессуары</td>\n",
              "      <td>PS4</td>\n",
              "    </tr>\n",
              "    <tr>\n",
              "      <th>4</th>\n",
              "      <td>Аксессуары - PSP</td>\n",
              "      <td>4</td>\n",
              "      <td>Аксессуары</td>\n",
              "      <td>PSP</td>\n",
              "    </tr>\n",
              "  </tbody>\n",
              "</table>\n",
              "</div>"
            ],
            "text/plain": [
              "        item_category_name  item_category_id    category        sub_category\n",
              "0  PC - Гарнитуры/Наушники                 0          PC  Гарнитуры/Наушники\n",
              "1         Аксессуары - PS2                 1  Аксессуары                 PS2\n",
              "2         Аксессуары - PS3                 2  Аксессуары                 PS3\n",
              "3         Аксессуары - PS4                 3  Аксессуары                 PS4\n",
              "4         Аксессуары - PSP                 4  Аксессуары                 PSP"
            ]
          },
          "metadata": {
            "tags": []
          },
          "execution_count": 91
        }
      ]
    },
    {
      "cell_type": "code",
      "metadata": {
        "id": "CRzdyH2Ljnn-"
      },
      "source": [
        ""
      ],
      "execution_count": null,
      "outputs": []
    },
    {
      "cell_type": "markdown",
      "metadata": {
        "id": "2U_BZsV4os3f"
      },
      "source": [
        "# Графики"
      ]
    },
    {
      "cell_type": "markdown",
      "metadata": {
        "id": "pJRWvB21TL77"
      },
      "source": [
        "Изменение продаж каждый месяц по годам"
      ]
    },
    {
      "cell_type": "code",
      "metadata": {
        "colab": {
          "base_uri": "https://localhost:8080/",
          "height": 265
        },
        "id": "sYgxWiaLQemI",
        "outputId": "88de1d39-182d-479f-e358-5614d2f7b578"
      },
      "source": [
        "tmy = train.groupby(by=['month', 'year'])['item_cnt_day'].sum()\r\n",
        "i = 0\r\n",
        "l = []\r\n",
        "for i1 in tmy.index:\r\n",
        "  l.append(tmy.loc[i1])\r\n",
        "  i+=1\r\n",
        "  if i == 3:\r\n",
        "    plt.plot(l)\r\n",
        "    l = []\r\n",
        "    i = 0"
      ],
      "execution_count": 28,
      "outputs": [
        {
          "output_type": "display_data",
          "data": {
            "image/png": "[encoded data removed]",
            "text/plain": [
              "<Figure size 432x288 with 1 Axes>"
            ]
          },
          "metadata": {
            "tags": [],
            "needs_background": "light"
          }
        }
      ]
    },
    {
      "cell_type": "markdown",
      "metadata": {
        "id": "8eZe2oDRTjAZ"
      },
      "source": [
        "Изменение продаж по месяцам каждый год"
      ]
    },
    {
      "cell_type": "markdown",
      "metadata": {
        "id": "f1BLMv-l1Fd2"
      },
      "source": [
        "В последний год к концу 2015 года продажи уменьшились, в то время как общая  тенденция на увеличение. Возможно, просто мало данных"
      ]
    },
    {
      "cell_type": "code",
      "metadata": {
        "colab": {
          "base_uri": "https://localhost:8080/",
          "height": 265
        },
        "id": "x_-EGxfYTabl",
        "outputId": "b895dbba-b7d7-4777-d750-937a3e59c8db"
      },
      "source": [
        "tmy = train.groupby(by=['year', 'month'])['item_cnt_day'].sum()\r\n",
        "i = 0\r\n",
        "l = []\r\n",
        "for i1 in tmy.index:\r\n",
        "  l.append(tmy.loc[i1])\r\n",
        "  i+=1\r\n",
        "  \r\n",
        "  if i == 12:\r\n",
        "    plt.plot(l)\r\n",
        "    l = []\r\n",
        "    i = 0"
      ],
      "execution_count": 69,
      "outputs": [
        {
          "output_type": "display_data",
          "data": {
            "image/png": "[encoded data removed]",
            "text/plain": [
              "<Figure size 432x288 with 1 Axes>"
            ]
          },
          "metadata": {
            "tags": [],
            "needs_background": "light"
          }
        }
      ]
    },
    {
      "cell_type": "markdown",
      "metadata": {
        "id": "nQAGoeCWNILr"
      },
      "source": [
        "# Выводы:\r\n",
        "\r\n",
        "\r\n",
        "*   Количество проданных товаров может быть отрицательно\r\n",
        "*   В количестве продаж присутствует тренд на снижение\r\n",
        "*   Все магазины, что есть в test, есть и в train\r\n",
        "*   В test есть некоторые товары, которых нет в train\r\n",
        "*   В начале месяца резкое увеличение продаж\r\n",
        "*   В конце года продажи резко увеличиваются\r\n",
        "*   Продажи увеличиваются на 5й день недели\r\n",
        "*   Новый пункт\r\n",
        "\r\n",
        "\r\n",
        "\r\n",
        "\r\n",
        "\r\n",
        "\r\n"
      ]
    },
    {
      "cell_type": "code",
      "metadata": {
        "colab": {
          "base_uri": "https://localhost:8080/",
          "height": 297
        },
        "id": "FSJ9Z36DwD0Q",
        "outputId": "3c9148f5-8e4f-40e4-abad-99411102ec63"
      },
      "source": [
        "sns.scatterplot(data=t, x=\"item_price\", y=\"item_cnt_day\")"
      ],
      "execution_count": 82,
      "outputs": [
        {
          "output_type": "execute_result",
          "data": {
            "text/plain": [
              "<matplotlib.axes._subplots.AxesSubplot at 0x7f4a91abd518>"
            ]
          },
          "metadata": {
            "tags": []
          },
          "execution_count": 82
        },
        {
          "output_type": "display_data",
          "data": {
            "image/png": "[encoded data removed]",
            "text/plain": [
              "<Figure size 432x288 with 1 Axes>"
            ]
          },
          "metadata": {
            "tags": [],
            "needs_background": "light"
          }
        }
      ]
    },
    {
      "cell_type": "code",
      "metadata": {
        "id": "AiGP_zAewJq2"
      },
      "source": [
        ""
      ],
      "execution_count": null,
      "outputs": []
    }
  ]
}