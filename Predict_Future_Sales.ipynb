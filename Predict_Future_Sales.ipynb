{
  "nbformat": 4,
  "nbformat_minor": 0,
  "metadata": {
    "colab": {
      "name": "Predict Future Sales.ipynb",
      "provenance": [],
      "collapsed_sections": [
        "kJXY0se1m72x",
        "U2Q6_nYymv0A",
        "kI7FuTvhlw5X",
        "sgNx8SeTifom",
        "Aul3YWCrjPtA"
      ]
    },
    "kernelspec": {
      "name": "python3",
      "display_name": "Python 3"
    }
  },
  "cells": [
    {
      "cell_type": "code",
      "metadata": {
        "id": "ALGgcw41JvDd"
      },
      "source": [
        "import pandas as pd\r\n",
        "import numpy as np\r\n",
        "\r\n",
        "import matplotlib.pyplot as plt\r\n",
        "import seaborn as sns"
      ],
      "execution_count": 1,
      "outputs": []
    },
    {
      "cell_type": "code",
      "metadata": {
        "id": "dUrWKHHiKpuL"
      },
      "source": [
        "train = pd.read_csv('/content/sales_train.csv')\r\n",
        "test = pd.read_csv('/content/test.csv')\r\n",
        "shops = pd.read_csv('/content/shops.csv')\r\n",
        "items = pd.read_csv('/content/items.csv')\r\n",
        "item_categories = pd.read_csv('/content/item_categories.csv')"
      ],
      "execution_count": 64,
      "outputs": []
    },
    {
      "cell_type": "markdown",
      "metadata": {
        "id": "loFMKmorLAe-"
      },
      "source": [
        "**Train**"
      ]
    },
    {
      "cell_type": "markdown",
      "metadata": {
        "id": "NA_vVgmGdJBC"
      },
      "source": [
        ""
      ]
    },
    {
      "cell_type": "code",
      "metadata": {
        "colab": {
          "base_uri": "https://localhost:8080/",
          "height": 202
        },
        "id": "SxlrOhtIK_d0",
        "outputId": "6c65bf6b-5501-482f-c6bb-7285876b841f"
      },
      "source": [
        "train.head()"
      ],
      "execution_count": 65,
      "outputs": [
        {
          "output_type": "execute_result",
          "data": {
            "text/html": [
              "<div>\n",
              "<style scoped>\n",
              "    .dataframe tbody tr th:only-of-type {\n",
              "        vertical-align: middle;\n",
              "    }\n",
              "\n",
              "    .dataframe tbody tr th {\n",
              "        vertical-align: top;\n",
              "    }\n",
              "\n",
              "    .dataframe thead th {\n",
              "        text-align: right;\n",
              "    }\n",
              "</style>\n",
              "<table border=\"1\" class=\"dataframe\">\n",
              "  <thead>\n",
              "    <tr style=\"text-align: right;\">\n",
              "      <th></th>\n",
              "      <th>date</th>\n",
              "      <th>date_block_num</th>\n",
              "      <th>shop_id</th>\n",
              "      <th>item_id</th>\n",
              "      <th>item_price</th>\n",
              "      <th>item_cnt_day</th>\n",
              "    </tr>\n",
              "  </thead>\n",
              "  <tbody>\n",
              "    <tr>\n",
              "      <th>0</th>\n",
              "      <td>02.01.2013</td>\n",
              "      <td>0</td>\n",
              "      <td>59</td>\n",
              "      <td>22154</td>\n",
              "      <td>999.00</td>\n",
              "      <td>1.0</td>\n",
              "    </tr>\n",
              "    <tr>\n",
              "      <th>1</th>\n",
              "      <td>03.01.2013</td>\n",
              "      <td>0</td>\n",
              "      <td>25</td>\n",
              "      <td>2552</td>\n",
              "      <td>899.00</td>\n",
              "      <td>1.0</td>\n",
              "    </tr>\n",
              "    <tr>\n",
              "      <th>2</th>\n",
              "      <td>05.01.2013</td>\n",
              "      <td>0</td>\n",
              "      <td>25</td>\n",
              "      <td>2552</td>\n",
              "      <td>899.00</td>\n",
              "      <td>-1.0</td>\n",
              "    </tr>\n",
              "    <tr>\n",
              "      <th>3</th>\n",
              "      <td>06.01.2013</td>\n",
              "      <td>0</td>\n",
              "      <td>25</td>\n",
              "      <td>2554</td>\n",
              "      <td>1709.05</td>\n",
              "      <td>1.0</td>\n",
              "    </tr>\n",
              "    <tr>\n",
              "      <th>4</th>\n",
              "      <td>15.01.2013</td>\n",
              "      <td>0</td>\n",
              "      <td>25</td>\n",
              "      <td>2555</td>\n",
              "      <td>1099.00</td>\n",
              "      <td>1.0</td>\n",
              "    </tr>\n",
              "  </tbody>\n",
              "</table>\n",
              "</div>"
            ],
            "text/plain": [
              "         date  date_block_num  shop_id  item_id  item_price  item_cnt_day\n",
              "0  02.01.2013               0       59    22154      999.00           1.0\n",
              "1  03.01.2013               0       25     2552      899.00           1.0\n",
              "2  05.01.2013               0       25     2552      899.00          -1.0\n",
              "3  06.01.2013               0       25     2554     1709.05           1.0\n",
              "4  15.01.2013               0       25     2555     1099.00           1.0"
            ]
          },
          "metadata": {
            "tags": []
          },
          "execution_count": 65
        }
      ]
    },
    {
      "cell_type": "code",
      "metadata": {
        "colab": {
          "base_uri": "https://localhost:8080/"
        },
        "id": "FWHYyclZLDIl",
        "outputId": "7bfc5303-d3db-4b23-a3bf-150e06a1bbe6"
      },
      "source": [
        "train.shape"
      ],
      "execution_count": 66,
      "outputs": [
        {
          "output_type": "execute_result",
          "data": {
            "text/plain": [
              "(2935849, 6)"
            ]
          },
          "metadata": {
            "tags": []
          },
          "execution_count": 66
        }
      ]
    },
    {
      "cell_type": "code",
      "metadata": {
        "colab": {
          "base_uri": "https://localhost:8080/"
        },
        "id": "pIkCddF3LIBF",
        "outputId": "00bf934a-283e-4453-dfd7-8273025ffac7"
      },
      "source": [
        "train.info()"
      ],
      "execution_count": 67,
      "outputs": [
        {
          "output_type": "stream",
          "text": [
            "<class 'pandas.core.frame.DataFrame'>\n",
            "RangeIndex: 2935849 entries, 0 to 2935848\n",
            "Data columns (total 6 columns):\n",
            " #   Column          Dtype  \n",
            "---  ------          -----  \n",
            " 0   date            object \n",
            " 1   date_block_num  int64  \n",
            " 2   shop_id         int64  \n",
            " 3   item_id         int64  \n",
            " 4   item_price      float64\n",
            " 5   item_cnt_day    float64\n",
            "dtypes: float64(2), int64(3), object(1)\n",
            "memory usage: 134.4+ MB\n"
          ],
          "name": "stdout"
        }
      ]
    },
    {
      "cell_type": "markdown",
      "metadata": {
        "id": "N96ibWU6R5O6"
      },
      "source": [
        "Пустых значений нет"
      ]
    },
    {
      "cell_type": "code",
      "metadata": {
        "colab": {
          "base_uri": "https://localhost:8080/"
        },
        "id": "VVnInQBfRyfS",
        "outputId": "2042a34f-02c3-4260-be4c-b64920247e5f"
      },
      "source": [
        "train.isna().sum()"
      ],
      "execution_count": 68,
      "outputs": [
        {
          "output_type": "execute_result",
          "data": {
            "text/plain": [
              "date              0\n",
              "date_block_num    0\n",
              "shop_id           0\n",
              "item_id           0\n",
              "item_price        0\n",
              "item_cnt_day      0\n",
              "dtype: int64"
            ]
          },
          "metadata": {
            "tags": []
          },
          "execution_count": 68
        }
      ]
    },
    {
      "cell_type": "markdown",
      "metadata": {
        "id": "ji--3TMiM-s_"
      },
      "source": [
        "item_cnt_day имеет отрицательные значения"
      ]
    },
    {
      "cell_type": "code",
      "metadata": {
        "colab": {
          "base_uri": "https://localhost:8080/",
          "height": 294
        },
        "id": "gYR7pJAoMzvo",
        "outputId": "db6c7592-b333-464b-c0e9-f22f39aa5651"
      },
      "source": [
        "train.describe()"
      ],
      "execution_count": 69,
      "outputs": [
        {
          "output_type": "execute_result",
          "data": {
            "text/html": [
              "<div>\n",
              "<style scoped>\n",
              "    .dataframe tbody tr th:only-of-type {\n",
              "        vertical-align: middle;\n",
              "    }\n",
              "\n",
              "    .dataframe tbody tr th {\n",
              "        vertical-align: top;\n",
              "    }\n",
              "\n",
              "    .dataframe thead th {\n",
              "        text-align: right;\n",
              "    }\n",
              "</style>\n",
              "<table border=\"1\" class=\"dataframe\">\n",
              "  <thead>\n",
              "    <tr style=\"text-align: right;\">\n",
              "      <th></th>\n",
              "      <th>date_block_num</th>\n",
              "      <th>shop_id</th>\n",
              "      <th>item_id</th>\n",
              "      <th>item_price</th>\n",
              "      <th>item_cnt_day</th>\n",
              "    </tr>\n",
              "  </thead>\n",
              "  <tbody>\n",
              "    <tr>\n",
              "      <th>count</th>\n",
              "      <td>2.935849e+06</td>\n",
              "      <td>2.935849e+06</td>\n",
              "      <td>2.935849e+06</td>\n",
              "      <td>2.935849e+06</td>\n",
              "      <td>2.935849e+06</td>\n",
              "    </tr>\n",
              "    <tr>\n",
              "      <th>mean</th>\n",
              "      <td>1.456991e+01</td>\n",
              "      <td>3.300173e+01</td>\n",
              "      <td>1.019723e+04</td>\n",
              "      <td>8.908532e+02</td>\n",
              "      <td>1.242641e+00</td>\n",
              "    </tr>\n",
              "    <tr>\n",
              "      <th>std</th>\n",
              "      <td>9.422988e+00</td>\n",
              "      <td>1.622697e+01</td>\n",
              "      <td>6.324297e+03</td>\n",
              "      <td>1.729800e+03</td>\n",
              "      <td>2.618834e+00</td>\n",
              "    </tr>\n",
              "    <tr>\n",
              "      <th>min</th>\n",
              "      <td>0.000000e+00</td>\n",
              "      <td>0.000000e+00</td>\n",
              "      <td>0.000000e+00</td>\n",
              "      <td>-1.000000e+00</td>\n",
              "      <td>-2.200000e+01</td>\n",
              "    </tr>\n",
              "    <tr>\n",
              "      <th>25%</th>\n",
              "      <td>7.000000e+00</td>\n",
              "      <td>2.200000e+01</td>\n",
              "      <td>4.476000e+03</td>\n",
              "      <td>2.490000e+02</td>\n",
              "      <td>1.000000e+00</td>\n",
              "    </tr>\n",
              "    <tr>\n",
              "      <th>50%</th>\n",
              "      <td>1.400000e+01</td>\n",
              "      <td>3.100000e+01</td>\n",
              "      <td>9.343000e+03</td>\n",
              "      <td>3.990000e+02</td>\n",
              "      <td>1.000000e+00</td>\n",
              "    </tr>\n",
              "    <tr>\n",
              "      <th>75%</th>\n",
              "      <td>2.300000e+01</td>\n",
              "      <td>4.700000e+01</td>\n",
              "      <td>1.568400e+04</td>\n",
              "      <td>9.990000e+02</td>\n",
              "      <td>1.000000e+00</td>\n",
              "    </tr>\n",
              "    <tr>\n",
              "      <th>max</th>\n",
              "      <td>3.300000e+01</td>\n",
              "      <td>5.900000e+01</td>\n",
              "      <td>2.216900e+04</td>\n",
              "      <td>3.079800e+05</td>\n",
              "      <td>2.169000e+03</td>\n",
              "    </tr>\n",
              "  </tbody>\n",
              "</table>\n",
              "</div>"
            ],
            "text/plain": [
              "       date_block_num       shop_id       item_id    item_price  item_cnt_day\n",
              "count    2.935849e+06  2.935849e+06  2.935849e+06  2.935849e+06  2.935849e+06\n",
              "mean     1.456991e+01  3.300173e+01  1.019723e+04  8.908532e+02  1.242641e+00\n",
              "std      9.422988e+00  1.622697e+01  6.324297e+03  1.729800e+03  2.618834e+00\n",
              "min      0.000000e+00  0.000000e+00  0.000000e+00 -1.000000e+00 -2.200000e+01\n",
              "25%      7.000000e+00  2.200000e+01  4.476000e+03  2.490000e+02  1.000000e+00\n",
              "50%      1.400000e+01  3.100000e+01  9.343000e+03  3.990000e+02  1.000000e+00\n",
              "75%      2.300000e+01  4.700000e+01  1.568400e+04  9.990000e+02  1.000000e+00\n",
              "max      3.300000e+01  5.900000e+01  2.216900e+04  3.079800e+05  2.169000e+03"
            ]
          },
          "metadata": {
            "tags": []
          },
          "execution_count": 69
        }
      ]
    },
    {
      "cell_type": "code",
      "metadata": {
        "colab": {
          "base_uri": "https://localhost:8080/"
        },
        "id": "iyfRjy4hRv4l",
        "outputId": "8ede910b-d86d-41ce-8abf-5b7abe229797"
      },
      "source": [
        "train.nunique()"
      ],
      "execution_count": 78,
      "outputs": [
        {
          "output_type": "execute_result",
          "data": {
            "text/plain": [
              "date               1034\n",
              "date_block_num       34\n",
              "shop_id              60\n",
              "item_id           21807\n",
              "item_price        19986\n",
              "item_cnt_day        177\n",
              "dtype: int64"
            ]
          },
          "metadata": {
            "tags": []
          },
          "execution_count": 78
        }
      ]
    },
    {
      "cell_type": "markdown",
      "metadata": {
        "id": "IABl6VweBgg4"
      },
      "source": [
        "# **Таргет**"
      ]
    },
    {
      "cell_type": "code",
      "metadata": {
        "colab": {
          "base_uri": "https://localhost:8080/"
        },
        "id": "4-h3AKynMFd7",
        "outputId": "58b69de4-bceb-4c0d-d3fa-af8dd4ee71a3"
      },
      "source": [
        "train['item_cnt_day'].value_counts()"
      ],
      "execution_count": 70,
      "outputs": [
        {
          "output_type": "execute_result",
          "data": {
            "text/plain": [
              "1.0      2629372\n",
              "2.0       194201\n",
              "3.0        47350\n",
              "4.0        19685\n",
              "5.0        10474\n",
              "          ...   \n",
              "179.0          1\n",
              "187.0          1\n",
              "194.0          1\n",
              "195.0          1\n",
              "508.0          1\n",
              "Name: item_cnt_day, Length: 198, dtype: int64"
            ]
          },
          "metadata": {
            "tags": []
          },
          "execution_count": 70
        }
      ]
    },
    {
      "cell_type": "code",
      "metadata": {
        "colab": {
          "base_uri": "https://localhost:8080/",
          "height": 293
        },
        "id": "-J6QkP_WQtcF",
        "outputId": "0de425b9-7f4b-429b-ae3f-adc65d63ff59"
      },
      "source": [
        "np.log(train[train['item_cnt_day']>0]['item_cnt_day']).hist()"
      ],
      "execution_count": 77,
      "outputs": [
        {
          "output_type": "execute_result",
          "data": {
            "text/plain": [
              "<matplotlib.axes._subplots.AxesSubplot at 0x7f44818094e0>"
            ]
          },
          "metadata": {
            "tags": []
          },
          "execution_count": 77
        },
        {
          "output_type": "display_data",
          "data": {
            "image/png": "[encoded data removed]",
            "text/plain": [
              "<Figure size 432x288 with 1 Axes>"
            ]
          },
          "metadata": {
            "tags": [],
            "needs_background": "light"
          }
        }
      ]
    },
    {
      "cell_type": "markdown",
      "metadata": {
        "id": "KNYvXy9sNMOY"
      },
      "source": [
        "В большинстве случаев количество проданных товаров = 1"
      ]
    },
    {
      "cell_type": "code",
      "metadata": {
        "colab": {
          "base_uri": "https://localhost:8080/",
          "height": 293
        },
        "id": "JXZH-SXyLOlR",
        "outputId": "e5f7a6bc-c611-4e0e-c8f8-2c508fd2b36f"
      },
      "source": [
        "train['item_cnt_day'].hist()"
      ],
      "execution_count": 71,
      "outputs": [
        {
          "output_type": "execute_result",
          "data": {
            "text/plain": [
              "<matplotlib.axes._subplots.AxesSubplot at 0x7f44815307b8>"
            ]
          },
          "metadata": {
            "tags": []
          },
          "execution_count": 71
        },
        {
          "output_type": "display_data",
          "data": {
            "image/png": "[encoded data removed]",
            "text/plain": [
              "<Figure size 432x288 with 1 Axes>"
            ]
          },
          "metadata": {
            "tags": [],
            "needs_background": "light"
          }
        }
      ]
    },
    {
      "cell_type": "markdown",
      "metadata": {
        "id": "NOMcjNTrDxuf"
      },
      "source": [
        "Есть 2 выброса"
      ]
    },
    {
      "cell_type": "code",
      "metadata": {
        "colab": {
          "base_uri": "https://localhost:8080/",
          "height": 352
        },
        "id": "3QVIKdadDg1B",
        "outputId": "90d72821-05c5-4002-c927-57e6f9a94038"
      },
      "source": [
        "sns.boxplot(train['item_cnt_day'])"
      ],
      "execution_count": 72,
      "outputs": [
        {
          "output_type": "stream",
          "text": [
            "/usr/local/lib/python3.6/dist-packages/seaborn/_decorators.py:43: FutureWarning: Pass the following variable as a keyword arg: x. From version 0.12, the only valid positional argument will be `data`, and passing other arguments without an explicit keyword will result in an error or misinterpretation.\n",
            "  FutureWarning\n"
          ],
          "name": "stderr"
        },
        {
          "output_type": "execute_result",
          "data": {
            "text/plain": [
              "<matplotlib.axes._subplots.AxesSubplot at 0x7f44812b6898>"
            ]
          },
          "metadata": {
            "tags": []
          },
          "execution_count": 72
        },
        {
          "output_type": "display_data",
          "data": {
            "image/png": "[encoded data removed]",
            "text/plain": [
              "<Figure size 432x288 with 1 Axes>"
            ]
          },
          "metadata": {
            "tags": [],
            "needs_background": "light"
          }
        }
      ]
    },
    {
      "cell_type": "code",
      "metadata": {
        "id": "F_9pMU9vEFs4"
      },
      "source": [
        "train = train[train['item_cnt_day'] < 300]"
      ],
      "execution_count": 73,
      "outputs": []
    },
    {
      "cell_type": "code",
      "metadata": {
        "colab": {
          "base_uri": "https://localhost:8080/",
          "height": 352
        },
        "id": "Mwd3f2VSD_AY",
        "outputId": "ef17dee4-0f96-412f-bda0-1f2265a3a617"
      },
      "source": [
        "sns.violinplot(train['item_cnt_day'])"
      ],
      "execution_count": 74,
      "outputs": [
        {
          "output_type": "stream",
          "text": [
            "/usr/local/lib/python3.6/dist-packages/seaborn/_decorators.py:43: FutureWarning: Pass the following variable as a keyword arg: x. From version 0.12, the only valid positional argument will be `data`, and passing other arguments without an explicit keyword will result in an error or misinterpretation.\n",
            "  FutureWarning\n"
          ],
          "name": "stderr"
        },
        {
          "output_type": "execute_result",
          "data": {
            "text/plain": [
              "<matplotlib.axes._subplots.AxesSubplot at 0x7f44818c04e0>"
            ]
          },
          "metadata": {
            "tags": []
          },
          "execution_count": 74
        },
        {
          "output_type": "display_data",
          "data": {
            "image/png": "[encoded data removed]",
            "text/plain": [
              "<Figure size 432x288 with 1 Axes>"
            ]
          },
          "metadata": {
            "tags": [],
            "needs_background": "light"
          }
        }
      ]
    },
    {
      "cell_type": "markdown",
      "metadata": {
        "id": "AeNn-GWCvHqk"
      },
      "source": [
        "Есть отрицательные значения, при этом нет нулевых. Видна тенденция на уменьшение, поэтому, скорее всего, отрицательные значения не ошибка\r\n",
        "\r\n"
      ]
    },
    {
      "cell_type": "code",
      "metadata": {
        "colab": {
          "base_uri": "https://localhost:8080/",
          "height": 355
        },
        "id": "3iM0Oyrpuki-",
        "outputId": "d268c3ba-684e-407c-caf3-b5817f1faac8"
      },
      "source": [
        "train[train['item_cnt_day'] <= 0].groupby(by='item_cnt_day').agg(['count'])['item_id']"
      ],
      "execution_count": 30,
      "outputs": [
        {
          "output_type": "execute_result",
          "data": {
            "text/html": [
              "<div>\n",
              "<style scoped>\n",
              "    .dataframe tbody tr th:only-of-type {\n",
              "        vertical-align: middle;\n",
              "    }\n",
              "\n",
              "    .dataframe tbody tr th {\n",
              "        vertical-align: top;\n",
              "    }\n",
              "\n",
              "    .dataframe thead th {\n",
              "        text-align: right;\n",
              "    }\n",
              "</style>\n",
              "<table border=\"1\" class=\"dataframe\">\n",
              "  <thead>\n",
              "    <tr style=\"text-align: right;\">\n",
              "      <th></th>\n",
              "      <th>count</th>\n",
              "    </tr>\n",
              "    <tr>\n",
              "      <th>item_cnt_day</th>\n",
              "      <th></th>\n",
              "    </tr>\n",
              "  </thead>\n",
              "  <tbody>\n",
              "    <tr>\n",
              "      <th>-22.0</th>\n",
              "      <td>1</td>\n",
              "    </tr>\n",
              "    <tr>\n",
              "      <th>-16.0</th>\n",
              "      <td>1</td>\n",
              "    </tr>\n",
              "    <tr>\n",
              "      <th>-9.0</th>\n",
              "      <td>1</td>\n",
              "    </tr>\n",
              "    <tr>\n",
              "      <th>-6.0</th>\n",
              "      <td>2</td>\n",
              "    </tr>\n",
              "    <tr>\n",
              "      <th>-5.0</th>\n",
              "      <td>4</td>\n",
              "    </tr>\n",
              "    <tr>\n",
              "      <th>-4.0</th>\n",
              "      <td>3</td>\n",
              "    </tr>\n",
              "    <tr>\n",
              "      <th>-3.0</th>\n",
              "      <td>14</td>\n",
              "    </tr>\n",
              "    <tr>\n",
              "      <th>-2.0</th>\n",
              "      <td>78</td>\n",
              "    </tr>\n",
              "    <tr>\n",
              "      <th>-1.0</th>\n",
              "      <td>7252</td>\n",
              "    </tr>\n",
              "  </tbody>\n",
              "</table>\n",
              "</div>"
            ],
            "text/plain": [
              "              count\n",
              "item_cnt_day       \n",
              "-22.0             1\n",
              "-16.0             1\n",
              "-9.0              1\n",
              "-6.0              2\n",
              "-5.0              4\n",
              "-4.0              3\n",
              "-3.0             14\n",
              "-2.0             78\n",
              "-1.0           7252"
            ]
          },
          "metadata": {
            "tags": []
          },
          "execution_count": 30
        }
      ]
    },
    {
      "cell_type": "markdown",
      "metadata": {
        "id": "rqVUZtxPM6By"
      },
      "source": [
        "В 2015 году отрицательных значений уже не было"
      ]
    },
    {
      "cell_type": "code",
      "metadata": {
        "colab": {
          "base_uri": "https://localhost:8080/",
          "height": 202
        },
        "id": "wN7oIiT6wR7k",
        "outputId": "af7d55d3-3654-4616-89ba-839628c8f96d"
      },
      "source": [
        "train[train['item_cnt_day'] <= 0].sort_values(by='date').head()"
      ],
      "execution_count": 31,
      "outputs": [
        {
          "output_type": "execute_result",
          "data": {
            "text/html": [
              "<div>\n",
              "<style scoped>\n",
              "    .dataframe tbody tr th:only-of-type {\n",
              "        vertical-align: middle;\n",
              "    }\n",
              "\n",
              "    .dataframe tbody tr th {\n",
              "        vertical-align: top;\n",
              "    }\n",
              "\n",
              "    .dataframe thead th {\n",
              "        text-align: right;\n",
              "    }\n",
              "</style>\n",
              "<table border=\"1\" class=\"dataframe\">\n",
              "  <thead>\n",
              "    <tr style=\"text-align: right;\">\n",
              "      <th></th>\n",
              "      <th>date</th>\n",
              "      <th>date_block_num</th>\n",
              "      <th>shop_id</th>\n",
              "      <th>item_id</th>\n",
              "      <th>item_price</th>\n",
              "      <th>item_cnt_day</th>\n",
              "    </tr>\n",
              "  </thead>\n",
              "  <tbody>\n",
              "    <tr>\n",
              "      <th>105843</th>\n",
              "      <td>01.01.2013</td>\n",
              "      <td>0</td>\n",
              "      <td>37</td>\n",
              "      <td>9601</td>\n",
              "      <td>849.0</td>\n",
              "      <td>-1.0</td>\n",
              "    </tr>\n",
              "    <tr>\n",
              "      <th>26526</th>\n",
              "      <td>01.01.2013</td>\n",
              "      <td>0</td>\n",
              "      <td>27</td>\n",
              "      <td>12269</td>\n",
              "      <td>1499.0</td>\n",
              "      <td>-1.0</td>\n",
              "    </tr>\n",
              "    <tr>\n",
              "      <th>7894</th>\n",
              "      <td>01.01.2013</td>\n",
              "      <td>0</td>\n",
              "      <td>19</td>\n",
              "      <td>20383</td>\n",
              "      <td>1229.0</td>\n",
              "      <td>-1.0</td>\n",
              "    </tr>\n",
              "    <tr>\n",
              "      <th>82413</th>\n",
              "      <td>01.01.2013</td>\n",
              "      <td>0</td>\n",
              "      <td>54</td>\n",
              "      <td>3429</td>\n",
              "      <td>2799.0</td>\n",
              "      <td>-1.0</td>\n",
              "    </tr>\n",
              "    <tr>\n",
              "      <th>10621</th>\n",
              "      <td>01.01.2013</td>\n",
              "      <td>0</td>\n",
              "      <td>19</td>\n",
              "      <td>13086</td>\n",
              "      <td>1499.0</td>\n",
              "      <td>-1.0</td>\n",
              "    </tr>\n",
              "  </tbody>\n",
              "</table>\n",
              "</div>"
            ],
            "text/plain": [
              "              date  date_block_num  shop_id  item_id  item_price  item_cnt_day\n",
              "105843  01.01.2013               0       37     9601       849.0          -1.0\n",
              "26526   01.01.2013               0       27    12269      1499.0          -1.0\n",
              "7894    01.01.2013               0       19    20383      1229.0          -1.0\n",
              "82413   01.01.2013               0       54     3429      2799.0          -1.0\n",
              "10621   01.01.2013               0       19    13086      1499.0          -1.0"
            ]
          },
          "metadata": {
            "tags": []
          },
          "execution_count": 31
        }
      ]
    },
    {
      "cell_type": "markdown",
      "metadata": {
        "id": "uBXE3TdFyIyd"
      },
      "source": [
        "Отрицательные значения практически не зависят от магазинов. Что подтверждает неслучайность распределения этих значений."
      ]
    },
    {
      "cell_type": "code",
      "metadata": {
        "colab": {
          "base_uri": "https://localhost:8080/"
        },
        "id": "zU7TM6CdNAww",
        "outputId": "881d854f-a568-454c-f57a-6a1508b930c0"
      },
      "source": [
        "train['shop_id'].unique().shape"
      ],
      "execution_count": 32,
      "outputs": [
        {
          "output_type": "execute_result",
          "data": {
            "text/plain": [
              "(60,)"
            ]
          },
          "metadata": {
            "tags": []
          },
          "execution_count": 32
        }
      ]
    },
    {
      "cell_type": "code",
      "metadata": {
        "colab": {
          "base_uri": "https://localhost:8080/"
        },
        "id": "gRHM19qCxoVk",
        "outputId": "c818eca6-d577-47ba-f7e7-63b9046e1a70"
      },
      "source": [
        "train[train['item_cnt_day'] <= 0]['shop_id'].unique().shape"
      ],
      "execution_count": 33,
      "outputs": [
        {
          "output_type": "execute_result",
          "data": {
            "text/plain": [
              "(54,)"
            ]
          },
          "metadata": {
            "tags": []
          },
          "execution_count": 33
        }
      ]
    },
    {
      "cell_type": "markdown",
      "metadata": {
        "id": "7_tGWFT9zIPh"
      },
      "source": [
        "И не зависит от товаров"
      ]
    },
    {
      "cell_type": "code",
      "metadata": {
        "colab": {
          "base_uri": "https://localhost:8080/"
        },
        "id": "hTatxyHTy7rC",
        "outputId": "7c3dba98-a03e-400f-abf8-a5c03b8bac38"
      },
      "source": [
        "train[train['item_cnt_day'] <= 0]['item_id'].shape"
      ],
      "execution_count": 34,
      "outputs": [
        {
          "output_type": "execute_result",
          "data": {
            "text/plain": [
              "(7356,)"
            ]
          },
          "metadata": {
            "tags": []
          },
          "execution_count": 34
        }
      ]
    },
    {
      "cell_type": "code",
      "metadata": {
        "colab": {
          "base_uri": "https://localhost:8080/"
        },
        "id": "68m30FM2zLfQ",
        "outputId": "df4b2287-9f92-4a3f-9bf3-93cb72a70470"
      },
      "source": [
        "train[train['item_cnt_day'] <= 0]['item_id'].unique().shape"
      ],
      "execution_count": 35,
      "outputs": [
        {
          "output_type": "execute_result",
          "data": {
            "text/plain": [
              "(3511,)"
            ]
          },
          "metadata": {
            "tags": []
          },
          "execution_count": 35
        }
      ]
    },
    {
      "cell_type": "markdown",
      "metadata": {
        "id": "01O8zuCjzV6l"
      },
      "source": [
        "В среднем, это более дорогие товары"
      ]
    },
    {
      "cell_type": "code",
      "metadata": {
        "colab": {
          "base_uri": "https://localhost:8080/"
        },
        "id": "7DVR8EaMzQXE",
        "outputId": "0e4fbb32-6d3c-4b87-c5bd-44281e45a63b"
      },
      "source": [
        "train[train['item_cnt_day'] <= 0]['item_price'].mean()"
      ],
      "execution_count": 36,
      "outputs": [
        {
          "output_type": "execute_result",
          "data": {
            "text/plain": [
              "1442.945622620988"
            ]
          },
          "metadata": {
            "tags": []
          },
          "execution_count": 36
        }
      ]
    },
    {
      "cell_type": "markdown",
      "metadata": {
        "id": "oWSOheUEJdjJ"
      },
      "source": [
        "Цена"
      ]
    },
    {
      "cell_type": "code",
      "metadata": {
        "colab": {
          "base_uri": "https://localhost:8080/",
          "height": 352
        },
        "id": "ke_Qx6tgJfNk",
        "outputId": "4c2a78a8-95a8-4a7a-e244-7ad6cbcbb533"
      },
      "source": [
        "sns.boxplot(train['item_price'])"
      ],
      "execution_count": 48,
      "outputs": [
        {
          "output_type": "stream",
          "text": [
            "/usr/local/lib/python3.6/dist-packages/seaborn/_decorators.py:43: FutureWarning: Pass the following variable as a keyword arg: x. From version 0.12, the only valid positional argument will be `data`, and passing other arguments without an explicit keyword will result in an error or misinterpretation.\n",
            "  FutureWarning\n"
          ],
          "name": "stderr"
        },
        {
          "output_type": "execute_result",
          "data": {
            "text/plain": [
              "<matplotlib.axes._subplots.AxesSubplot at 0x7f449391db00>"
            ]
          },
          "metadata": {
            "tags": []
          },
          "execution_count": 48
        },
        {
          "output_type": "display_data",
          "data": {
            "image/png": "[encoded data removed]",
            "text/plain": [
              "<Figure size 432x288 with 1 Axes>"
            ]
          },
          "metadata": {
            "tags": [],
            "needs_background": "light"
          }
        }
      ]
    },
    {
      "cell_type": "code",
      "metadata": {
        "id": "PtAlqHynJtMI"
      },
      "source": [
        ""
      ],
      "execution_count": null,
      "outputs": []
    },
    {
      "cell_type": "code",
      "metadata": {
        "id": "TGBJRu42JmXm"
      },
      "source": [
        "train = train[train['item_price']<30000]"
      ],
      "execution_count": 51,
      "outputs": []
    },
    {
      "cell_type": "code",
      "metadata": {
        "colab": {
          "base_uri": "https://localhost:8080/",
          "height": 352
        },
        "id": "FV3hNhW8Jt7W",
        "outputId": "9f1b431a-ff76-4f0d-b587-2b8fc7bef303"
      },
      "source": [
        "sns.boxplot(train['item_price'])"
      ],
      "execution_count": 52,
      "outputs": [
        {
          "output_type": "stream",
          "text": [
            "/usr/local/lib/python3.6/dist-packages/seaborn/_decorators.py:43: FutureWarning: Pass the following variable as a keyword arg: x. From version 0.12, the only valid positional argument will be `data`, and passing other arguments without an explicit keyword will result in an error or misinterpretation.\n",
            "  FutureWarning\n"
          ],
          "name": "stderr"
        },
        {
          "output_type": "execute_result",
          "data": {
            "text/plain": [
              "<matplotlib.axes._subplots.AxesSubplot at 0x7f448170a828>"
            ]
          },
          "metadata": {
            "tags": []
          },
          "execution_count": 52
        },
        {
          "output_type": "display_data",
          "data": {
            "image/png": "[encoded data removed]",
            "text/plain": [
              "<Figure size 432x288 with 1 Axes>"
            ]
          },
          "metadata": {
            "tags": [],
            "needs_background": "light"
          }
        }
      ]
    },
    {
      "cell_type": "code",
      "metadata": {
        "colab": {
          "base_uri": "https://localhost:8080/",
          "height": 297
        },
        "id": "FSJ9Z36DwD0Q",
        "outputId": "589e906e-16f7-40f6-a474-505d875ce844"
      },
      "source": [
        "sns.scatterplot(data=train, x=\"item_price\", y=\"item_cnt_day\")"
      ],
      "execution_count": 53,
      "outputs": [
        {
          "output_type": "execute_result",
          "data": {
            "text/plain": [
              "<matplotlib.axes._subplots.AxesSubplot at 0x7f448166aeb8>"
            ]
          },
          "metadata": {
            "tags": []
          },
          "execution_count": 53
        },
        {
          "output_type": "display_data",
          "data": {
            "image/png": "[encoded data removed]",
            "text/plain": [
              "<Figure size 432x288 with 1 Axes>"
            ]
          },
          "metadata": {
            "tags": [],
            "needs_background": "light"
          }
        }
      ]
    },
    {
      "cell_type": "markdown",
      "metadata": {
        "id": "2B5D3KQ6nJvo"
      },
      "source": [
        "## Продажи по дням"
      ]
    },
    {
      "cell_type": "markdown",
      "metadata": {
        "id": "tbm8O37VnR4Z"
      },
      "source": [
        "В первый день месяца резкое увеличение продаж. Скорее всего, это не отражает реальные продажи"
      ]
    },
    {
      "cell_type": "code",
      "metadata": {
        "colab": {
          "base_uri": "https://localhost:8080/",
          "height": 283
        },
        "id": "R9IfiEFbnMcM",
        "outputId": "fdbfd84a-0886-4844-f14e-aff173339cea"
      },
      "source": [
        "train_all = train.groupby(by='day')['item_cnt_day'].sum()\r\n",
        "plt.plot(train_all)"
      ],
      "execution_count": null,
      "outputs": [
        {
          "output_type": "execute_result",
          "data": {
            "text/plain": [
              "[<matplotlib.lines.Line2D at 0x7f90be696d30>]"
            ]
          },
          "metadata": {
            "tags": []
          },
          "execution_count": 62
        },
        {
          "output_type": "display_data",
          "data": {
            "image/png": "[encoded data removed]",
            "text/plain": [
              "<Figure size 432x288 with 1 Axes>"
            ]
          },
          "metadata": {
            "tags": [],
            "needs_background": "light"
          }
        }
      ]
    },
    {
      "cell_type": "markdown",
      "metadata": {
        "id": "kJXY0se1m72x"
      },
      "source": [
        "# Продажи по годам"
      ]
    },
    {
      "cell_type": "code",
      "metadata": {
        "colab": {
          "base_uri": "https://localhost:8080/",
          "height": 293
        },
        "id": "zx7SyaaXm-eH",
        "outputId": "43b968fc-8497-4630-b3c9-be2ca6efdc2b"
      },
      "source": [
        "train_all = train.groupby(by='year')['item_cnt_day'].sum()\r\n",
        "plt.plot(train_all)"
      ],
      "execution_count": null,
      "outputs": [
        {
          "output_type": "execute_result",
          "data": {
            "text/plain": [
              "[<matplotlib.lines.Line2D at 0x7ff37ca48198>]"
            ]
          },
          "metadata": {
            "tags": []
          },
          "execution_count": 107
        },
        {
          "output_type": "display_data",
          "data": {
            "image/png": "[encoded data removed]",
            "text/plain": [
              "<Figure size 432x288 with 1 Axes>"
            ]
          },
          "metadata": {
            "tags": [],
            "needs_background": "light"
          }
        }
      ]
    },
    {
      "cell_type": "markdown",
      "metadata": {
        "id": "U2Q6_nYymv0A"
      },
      "source": [
        "## Продажи по месяцам"
      ]
    },
    {
      "cell_type": "markdown",
      "metadata": {
        "id": "At-iKiEezwGC"
      },
      "source": [
        "В последний месяц продажи возрастают"
      ]
    },
    {
      "cell_type": "code",
      "metadata": {
        "colab": {
          "base_uri": "https://localhost:8080/",
          "height": 283
        },
        "id": "uReLiRMsmx9X",
        "outputId": "1612c200-9941-41c0-e6a5-68732c2c9cf0"
      },
      "source": [
        "train_all = train.groupby(by='month')['item_cnt_day'].sum()\r\n",
        "plt.plot(train_all)"
      ],
      "execution_count": null,
      "outputs": [
        {
          "output_type": "execute_result",
          "data": {
            "text/plain": [
              "[<matplotlib.lines.Line2D at 0x7ff37cadfeb8>]"
            ]
          },
          "metadata": {
            "tags": []
          },
          "execution_count": 106
        },
        {
          "output_type": "display_data",
          "data": {
            "image/png": "[encoded data removed]",
            "text/plain": [
              "<Figure size 432x288 with 1 Axes>"
            ]
          },
          "metadata": {
            "tags": [],
            "needs_background": "light"
          }
        }
      ]
    },
    {
      "cell_type": "markdown",
      "metadata": {
        "id": "kI7FuTvhlw5X"
      },
      "source": [
        "# Продажи по дням недели"
      ]
    },
    {
      "cell_type": "markdown",
      "metadata": {
        "id": "k14zXh3YhuDP"
      },
      "source": [
        "Пик продаж приходится на 5й день"
      ]
    },
    {
      "cell_type": "code",
      "metadata": {
        "colab": {
          "base_uri": "https://localhost:8080/",
          "height": 283
        },
        "id": "2-fHC-ZMhdTK",
        "outputId": "5254f9a3-bf3c-4396-fbfa-681cbb6b3e47"
      },
      "source": [
        "train_all = train.groupby(by='weekday name')['item_cnt_day'].sum()\r\n",
        "plt.plot(train_all)"
      ],
      "execution_count": null,
      "outputs": [
        {
          "output_type": "execute_result",
          "data": {
            "text/plain": [
              "[<matplotlib.lines.Line2D at 0x7ff37cbcc6a0>]"
            ]
          },
          "metadata": {
            "tags": []
          },
          "execution_count": 80
        },
        {
          "output_type": "display_data",
          "data": {
            "image/png": "[encoded data removed]",
            "text/plain": [
              "<Figure size 432x288 with 1 Axes>"
            ]
          },
          "metadata": {
            "tags": [],
            "needs_background": "light"
          }
        }
      ]
    },
    {
      "cell_type": "markdown",
      "metadata": {
        "id": "vkhKC6QUI0II"
      },
      "source": [
        "# Продажи по месяцам"
      ]
    },
    {
      "cell_type": "code",
      "metadata": {
        "colab": {
          "base_uri": "https://localhost:8080/",
          "height": 285
        },
        "id": "tZXMW1MWIT8h",
        "outputId": "58311131-d1c6-4123-e168-d7a9ff3cf505"
      },
      "source": [
        "train_all = train.groupby(by='month')['item_cnt_day'].sum()\r\n",
        "plt.plot(train_all)"
      ],
      "execution_count": 42,
      "outputs": [
        {
          "output_type": "execute_result",
          "data": {
            "text/plain": [
              "[<matplotlib.lines.Line2D at 0x7f44936d8390>]"
            ]
          },
          "metadata": {
            "tags": []
          },
          "execution_count": 42
        },
        {
          "output_type": "display_data",
          "data": {
            "image/png": "[encoded data removed]",
            "text/plain": [
              "<Figure size 432x288 with 1 Axes>"
            ]
          },
          "metadata": {
            "tags": [],
            "needs_background": "light"
          }
        }
      ]
    },
    {
      "cell_type": "markdown",
      "metadata": {
        "id": "2U_BZsV4os3f"
      },
      "source": [
        "# Графики"
      ]
    },
    {
      "cell_type": "markdown",
      "metadata": {
        "id": "pJRWvB21TL77"
      },
      "source": [
        "Изменение продаж каждый месяц по годам"
      ]
    },
    {
      "cell_type": "code",
      "metadata": {
        "colab": {
          "base_uri": "https://localhost:8080/",
          "height": 265
        },
        "id": "sYgxWiaLQemI",
        "outputId": "88de1d39-182d-479f-e358-5614d2f7b578"
      },
      "source": [
        "tmy = train.groupby(by=['month', 'year'])['item_cnt_day'].sum()\r\n",
        "i = 0\r\n",
        "l = []\r\n",
        "for i1 in tmy.index:\r\n",
        "  l.append(tmy.loc[i1])\r\n",
        "  i+=1\r\n",
        "  if i == 3:\r\n",
        "    plt.plot(l)\r\n",
        "    l = []\r\n",
        "    i = 0"
      ],
      "execution_count": null,
      "outputs": [
        {
          "output_type": "display_data",
          "data": {
            "image/png": "[encoded data removed]",
            "text/plain": [
              "<Figure size 432x288 with 1 Axes>"
            ]
          },
          "metadata": {
            "tags": [],
            "needs_background": "light"
          }
        }
      ]
    },
    {
      "cell_type": "markdown",
      "metadata": {
        "id": "8eZe2oDRTjAZ"
      },
      "source": [
        "Изменение продаж по месяцам каждый год"
      ]
    },
    {
      "cell_type": "markdown",
      "metadata": {
        "id": "f1BLMv-l1Fd2"
      },
      "source": [
        "В последний год к концу 2015 года продажи уменьшились, в то время как общая  тенденция на увеличение. Возможно, просто мало данных"
      ]
    },
    {
      "cell_type": "code",
      "metadata": {
        "colab": {
          "base_uri": "https://localhost:8080/",
          "height": 265
        },
        "id": "x_-EGxfYTabl",
        "outputId": "b895dbba-b7d7-4777-d750-937a3e59c8db"
      },
      "source": [
        "tmy = train.groupby(by=['year', 'month'])['item_cnt_day'].sum()\r\n",
        "i = 0\r\n",
        "l = []\r\n",
        "for i1 in tmy.index:\r\n",
        "  l.append(tmy.loc[i1])\r\n",
        "  i+=1\r\n",
        "  \r\n",
        "  if i == 12:\r\n",
        "    plt.plot(l)\r\n",
        "    l = []\r\n",
        "    i = 0"
      ],
      "execution_count": null,
      "outputs": [
        {
          "output_type": "display_data",
          "data": {
            "image/png": "[encoded data removed]",
            "text/plain": [
              "<Figure size 432x288 with 1 Axes>"
            ]
          },
          "metadata": {
            "tags": [],
            "needs_background": "light"
          }
        }
      ]
    },
    {
      "cell_type": "markdown",
      "metadata": {
        "id": "hflwzpwgkQLm"
      },
      "source": [
        "# Магазины с наибольшими продажами"
      ]
    },
    {
      "cell_type": "code",
      "metadata": {
        "colab": {
          "base_uri": "https://localhost:8080/"
        },
        "id": "ytVkao6pkVtC",
        "outputId": "7fd7845d-45bb-4bd7-caa9-9257483f124b"
      },
      "source": [
        "most_sold_shop = train.groupby(by='shop_id')['item_cnt_day'].sum().sort_values(ascending=False)\r\n",
        "most_sold_shop_id = list(most_sold_shop[:10].index)\r\n",
        "most_sold_shop_id"
      ],
      "execution_count": null,
      "outputs": [
        {
          "output_type": "execute_result",
          "data": {
            "text/plain": [
              "[31, 25, 54, 28, 42, 57, 27, 6, 58, 46]"
            ]
          },
          "metadata": {
            "tags": []
          },
          "execution_count": 32
        }
      ]
    },
    {
      "cell_type": "markdown",
      "metadata": {
        "id": "N9PBhEl4lnfN"
      },
      "source": [
        "Сезонность и тренд"
      ]
    },
    {
      "cell_type": "code",
      "metadata": {
        "colab": {
          "base_uri": "https://localhost:8080/",
          "height": 265
        },
        "id": "Kfim5nA_lUq7",
        "outputId": "e2a56111-1fb0-4f14-bf06-29faabd28446"
      },
      "source": [
        "for id in most_sold_shop_id:\r\n",
        "  plt.plot(train[train['shop_id'] == id].groupby(by='date_block_num')['item_cnt_day'].sum())"
      ],
      "execution_count": null,
      "outputs": [
        {
          "output_type": "display_data",
          "data": {
            "image/png": "[encoded data removed]",
            "text/plain": [
              "<Figure size 432x288 with 1 Axes>"
            ]
          },
          "metadata": {
            "tags": [],
            "needs_background": "light"
          }
        }
      ]
    },
    {
      "cell_type": "markdown",
      "metadata": {
        "id": "eHTzAcy6QbTt"
      },
      "source": [
        "# Магазины со средними продажами"
      ]
    },
    {
      "cell_type": "code",
      "metadata": {
        "colab": {
          "base_uri": "https://localhost:8080/"
        },
        "id": "K_j44Fx_Qedk",
        "outputId": "a903f757-6f87-4d1d-8965-919907a4eb53"
      },
      "source": [
        "most_sold_shop_ids = train.groupby(by='shop_id')['item_cnt_day'].sum().sort_values(ascending=False)\r\n",
        "most_sold_shop_ids = list(most_sold_shop_ids[27:33].index)\r\n",
        "most_sold_shop_ids"
      ],
      "execution_count": null,
      "outputs": [
        {
          "output_type": "execute_result",
          "data": {
            "text/plain": [
              "[29, 38, 43, 52, 41, 59]"
            ]
          },
          "metadata": {
            "tags": []
          },
          "execution_count": 24
        }
      ]
    },
    {
      "cell_type": "markdown",
      "metadata": {
        "id": "ObaPA4msUIqP"
      },
      "source": [
        "Чем меньше продаж изначально, тем сильнее тренд на снижение со временем"
      ]
    },
    {
      "cell_type": "code",
      "metadata": {
        "colab": {
          "base_uri": "https://localhost:8080/",
          "height": 265
        },
        "id": "CQyLN8S2Q0C2",
        "outputId": "60c87371-f53c-4256-ed72-1d04ea3202eb"
      },
      "source": [
        "for id in most_sold_shop_ids:\r\n",
        "  plt.plot(train[train['shop_id'] == id].groupby(by='date_block_num')['item_cnt_day'].sum())"
      ],
      "execution_count": null,
      "outputs": [
        {
          "output_type": "display_data",
          "data": {
            "image/png": "[encoded data removed]",
            "text/plain": [
              "<Figure size 432x288 with 1 Axes>"
            ]
          },
          "metadata": {
            "tags": [],
            "needs_background": "light"
          }
        }
      ]
    },
    {
      "cell_type": "markdown",
      "metadata": {
        "id": "05v_DW0CTDuY"
      },
      "source": [
        "# Магазины с низкими продажами"
      ]
    },
    {
      "cell_type": "markdown",
      "metadata": {
        "id": "oWIIgUNaTm0K"
      },
      "source": [
        "Магазины с наиеньшими продажами либо только начали продавать, либо уже закончили"
      ]
    },
    {
      "cell_type": "code",
      "metadata": {
        "colab": {
          "base_uri": "https://localhost:8080/",
          "height": 267
        },
        "id": "uFsDB35nTHro",
        "outputId": "a0ff6fff-2b49-4b0c-ebb2-58c91fd101dc"
      },
      "source": [
        "most_sold_shop_ids = train.groupby(by='shop_id')['item_cnt_day'].sum().sort_values(ascending=False)\r\n",
        "least_sold_shop_ids = list(most_sold_shop_ids[50:].index)\r\n",
        "for id in least_sold_shop_ids:\r\n",
        "  plt.plot(train[train['shop_id'] == id].groupby(by='date_block_num')['item_cnt_day'].sum())"
      ],
      "execution_count": null,
      "outputs": [
        {
          "output_type": "display_data",
          "data": {
            "image/png": "[encoded data removed]",
            "text/plain": [
              "<Figure size 432x288 with 1 Axes>"
            ]
          },
          "metadata": {
            "tags": [],
            "needs_background": "light"
          }
        }
      ]
    },
    {
      "cell_type": "markdown",
      "metadata": {
        "id": "9xxiDQW-Ud8m"
      },
      "source": [
        "Поведение продаж по магазинам, у которых стабильно есть продажи разительно отличается от тех, у кого нет стабильности\r\n"
      ]
    },
    {
      "cell_type": "markdown",
      "metadata": {
        "id": "AmPGONKFVojj"
      },
      "source": [
        "При этом только 2 магазина с такими продажами есть в test. "
      ]
    },
    {
      "cell_type": "code",
      "metadata": {
        "colab": {
          "base_uri": "https://localhost:8080/"
        },
        "id": "w81zTzSwUe0u",
        "outputId": "ee04c9c2-ac0c-476f-9a3c-5a4f5f7caa9d"
      },
      "source": [
        "len(set(test.shop_id.unique()) - set(least_sold_shop_ids))"
      ],
      "execution_count": null,
      "outputs": [
        {
          "output_type": "execute_result",
          "data": {
            "text/plain": [
              "40"
            ]
          },
          "metadata": {
            "tags": []
          },
          "execution_count": 40
        }
      ]
    },
    {
      "cell_type": "code",
      "metadata": {
        "colab": {
          "base_uri": "https://localhost:8080/"
        },
        "id": "_ziBNFMIU0Ei",
        "outputId": "76696766-9fcb-4235-a68f-5c63928dbdf8"
      },
      "source": [
        "len(set(test.shop_id.unique()))"
      ],
      "execution_count": null,
      "outputs": [
        {
          "output_type": "execute_result",
          "data": {
            "text/plain": [
              "42"
            ]
          },
          "metadata": {
            "tags": []
          },
          "execution_count": 42
        }
      ]
    },
    {
      "cell_type": "markdown",
      "metadata": {
        "id": "lI63DlVNZRYZ"
      },
      "source": [
        "# Магазины с продажами по конкретному продукту"
      ]
    },
    {
      "cell_type": "code",
      "metadata": {
        "id": "iTwyw0pBaYO0"
      },
      "source": [
        "most_sold_shop_ids_month = train.groupby(by=['shop_id', 'item_id', 'date_block_num'])['item_cnt_day'].sum().sort_values(ascending=False)"
      ],
      "execution_count": null,
      "outputs": []
    },
    {
      "cell_type": "markdown",
      "metadata": {
        "id": "EAEELaaKaxoz"
      },
      "source": [
        "Процент высоко продаваемых товаров в отдельных магазинах в месяц"
      ]
    },
    {
      "cell_type": "code",
      "metadata": {
        "colab": {
          "base_uri": "https://localhost:8080/"
        },
        "id": "MjqELa37alVT",
        "outputId": "d3df0a44-8616-4a75-a20c-80c0d021f0ad"
      },
      "source": [
        "print(f\"{(len(most_sold_shop_ids_month[most_sold_shop_ids_month > 50]) / len(most_sold_shop_ids_month) * 100):.2f}\", \"%\")"
      ],
      "execution_count": null,
      "outputs": [
        {
          "output_type": "stream",
          "text": [
            "0.18 %\n"
          ],
          "name": "stdout"
        }
      ]
    },
    {
      "cell_type": "markdown",
      "metadata": {
        "id": "Ktq9mvdRcDiU"
      },
      "source": [
        "По количетсву товаров с высокими продажами можно сделать вывод, что это не ошибка"
      ]
    },
    {
      "cell_type": "code",
      "metadata": {
        "colab": {
          "base_uri": "https://localhost:8080/"
        },
        "id": "EoxqnhFSb8kX",
        "outputId": "8607ebc0-e6dc-44dc-97bf-285e872cfd7a"
      },
      "source": [
        "len(most_sold_shop_ids_month[most_sold_shop_ids_month > 50])"
      ],
      "execution_count": null,
      "outputs": [
        {
          "output_type": "execute_result",
          "data": {
            "text/plain": [
              "2865"
            ]
          },
          "metadata": {
            "tags": []
          },
          "execution_count": 49
        }
      ]
    },
    {
      "cell_type": "markdown",
      "metadata": {
        "id": "_lCCfvTATC2m"
      },
      "source": [
        "С низкими продажами"
      ]
    },
    {
      "cell_type": "markdown",
      "metadata": {
        "id": "AZGFkd_9WdGp"
      },
      "source": [
        "Продажи варьируются от 1 до 2"
      ]
    },
    {
      "cell_type": "code",
      "metadata": {
        "colab": {
          "base_uri": "https://localhost:8080/",
          "height": 265
        },
        "id": "NHG70DWCZVNv",
        "outputId": "80fd4b8b-fedf-4b9a-9bd5-97b18d076a9f"
      },
      "source": [
        "most_sold_shop_ids = train.groupby(by=['shop_id','item_id'])['item_cnt_day'].sum().sort_values(ascending=False)\r\n",
        "least_sold_shop_ids = list(most_sold_shop_ids[200000:200015].index)\r\n",
        "for s_id, i_id in least_sold_shop_ids:\r\n",
        "  plt.plot(train[(train['shop_id'] == s_id) & (train['item_id'] == i_id)].groupby(by='date_block_num')['item_cnt_day'].sum())\r\n",
        "#most_sold_shop_ids.plot()"
      ],
      "execution_count": null,
      "outputs": [
        {
          "output_type": "display_data",
          "data": {
            "image/png": "[encoded data removed]",
            "text/plain": [
              "<Figure size 432x288 with 1 Axes>"
            ]
          },
          "metadata": {
            "tags": [],
            "needs_background": "light"
          }
        }
      ]
    },
    {
      "cell_type": "markdown",
      "metadata": {
        "id": "M114pZUoV7yC"
      },
      "source": [
        "Со средними продажами"
      ]
    },
    {
      "cell_type": "markdown",
      "metadata": {
        "id": "4CXBkTYhWiwE"
      },
      "source": [
        "Продажи около 5"
      ]
    },
    {
      "cell_type": "code",
      "metadata": {
        "colab": {
          "base_uri": "https://localhost:8080/",
          "height": 265
        },
        "id": "v1GVCz6gV9qd",
        "outputId": "823c159a-4c0e-441b-944c-a84e7bd9d826"
      },
      "source": [
        "least_sold_shop_ids = list(most_sold_shop_ids[10000:10005].index)\r\n",
        "for s_id, i_id in least_sold_shop_ids:\r\n",
        "  plt.plot(train[(train['shop_id'] == s_id) & (train['item_id'] == i_id)].groupby(by='date_block_num')['item_cnt_day'].sum())\r\n",
        "#most_sold_shop_ids.plot()"
      ],
      "execution_count": null,
      "outputs": [
        {
          "output_type": "display_data",
          "data": {
            "image/png": "[encoded data removed]",
            "text/plain": [
              "<Figure size 432x288 with 1 Axes>"
            ]
          },
          "metadata": {
            "tags": [],
            "needs_background": "light"
          }
        }
      ]
    },
    {
      "cell_type": "markdown",
      "metadata": {
        "id": "qUsgRbAVWG0q"
      },
      "source": [
        "С высокими продажами"
      ]
    },
    {
      "cell_type": "code",
      "metadata": {
        "colab": {
          "base_uri": "https://localhost:8080/",
          "height": 265
        },
        "id": "gz2DXMAXWKI3",
        "outputId": "0663f223-0ac6-4bdf-836e-ab0b0111019e"
      },
      "source": [
        "least_sold_shop_ids = list(most_sold_shop_ids[:8].index)\r\n",
        "for s_id, i_id in least_sold_shop_ids:\r\n",
        "  plt.plot(train[(train['shop_id'] == s_id) & (train['item_id'] == i_id)].groupby(by='date_block_num')['item_cnt_day'].sum())\r\n",
        "#most_sold_shop_ids.plot()"
      ],
      "execution_count": null,
      "outputs": [
        {
          "output_type": "display_data",
          "data": {
            "image/png": "[encoded data removed]",
            "text/plain": [
              "<Figure size 432x288 with 1 Axes>"
            ]
          },
          "metadata": {
            "tags": [],
            "needs_background": "light"
          }
        }
      ]
    },
    {
      "cell_type": "markdown",
      "metadata": {
        "id": "oaJxgWCA_CNH"
      },
      "source": [
        "Из графиков и квартилей видно, что большинство продаж - это 1-2 товара в месяц. При этом есть довольно высокие продажи(их немного). Поэтому, в качестве метрики надо брать такую, чтобы она одинакого оценивала ошибки на больших и на маленьких продажах."
      ]
    },
    {
      "cell_type": "code",
      "metadata": {
        "colab": {
          "base_uri": "https://localhost:8080/"
        },
        "id": "43OGyc89gc8M",
        "outputId": "a5dced39-ad3c-4557-8c4a-27f6b7f28411"
      },
      "source": [
        "most_sold_shop_ids.describe()"
      ],
      "execution_count": null,
      "outputs": [
        {
          "output_type": "execute_result",
          "data": {
            "text/plain": [
              "count    1.609124e+06\n",
              "mean     2.267200e+00\n",
              "std      8.649882e+00\n",
              "min     -2.200000e+01\n",
              "25%      1.000000e+00\n",
              "50%      1.000000e+00\n",
              "75%      2.000000e+00\n",
              "max      2.253000e+03\n",
              "Name: item_cnt_day, dtype: float64"
            ]
          },
          "metadata": {
            "tags": []
          },
          "execution_count": 74
        }
      ]
    },
    {
      "cell_type": "markdown",
      "metadata": {
        "id": "-rnSu9KYIfJT"
      },
      "source": [
        "# **Test**"
      ]
    },
    {
      "cell_type": "code",
      "metadata": {
        "id": "za_ApIVsMwlD",
        "colab": {
          "base_uri": "https://localhost:8080/"
        },
        "outputId": "d217c5ff-b868-4dde-b8ec-7aa159629eb0"
      },
      "source": [
        "test.shape"
      ],
      "execution_count": null,
      "outputs": [
        {
          "output_type": "execute_result",
          "data": {
            "text/plain": [
              "(214200, 3)"
            ]
          },
          "metadata": {
            "tags": []
          },
          "execution_count": 31
        }
      ]
    },
    {
      "cell_type": "code",
      "metadata": {
        "colab": {
          "base_uri": "https://localhost:8080/",
          "height": 202
        },
        "id": "3Sh9JBD_QADR",
        "outputId": "9e5ba5dc-7db0-4b0a-dd51-4fb2fe228be1"
      },
      "source": [
        "test.head()"
      ],
      "execution_count": null,
      "outputs": [
        {
          "output_type": "execute_result",
          "data": {
            "text/html": [
              "<div>\n",
              "<style scoped>\n",
              "    .dataframe tbody tr th:only-of-type {\n",
              "        vertical-align: middle;\n",
              "    }\n",
              "\n",
              "    .dataframe tbody tr th {\n",
              "        vertical-align: top;\n",
              "    }\n",
              "\n",
              "    .dataframe thead th {\n",
              "        text-align: right;\n",
              "    }\n",
              "</style>\n",
              "<table border=\"1\" class=\"dataframe\">\n",
              "  <thead>\n",
              "    <tr style=\"text-align: right;\">\n",
              "      <th></th>\n",
              "      <th>ID</th>\n",
              "      <th>shop_id</th>\n",
              "      <th>item_id</th>\n",
              "    </tr>\n",
              "  </thead>\n",
              "  <tbody>\n",
              "    <tr>\n",
              "      <th>0</th>\n",
              "      <td>0</td>\n",
              "      <td>5</td>\n",
              "      <td>5037</td>\n",
              "    </tr>\n",
              "    <tr>\n",
              "      <th>1</th>\n",
              "      <td>1</td>\n",
              "      <td>5</td>\n",
              "      <td>5320</td>\n",
              "    </tr>\n",
              "    <tr>\n",
              "      <th>2</th>\n",
              "      <td>2</td>\n",
              "      <td>5</td>\n",
              "      <td>5233</td>\n",
              "    </tr>\n",
              "    <tr>\n",
              "      <th>3</th>\n",
              "      <td>3</td>\n",
              "      <td>5</td>\n",
              "      <td>5232</td>\n",
              "    </tr>\n",
              "    <tr>\n",
              "      <th>4</th>\n",
              "      <td>4</td>\n",
              "      <td>5</td>\n",
              "      <td>5268</td>\n",
              "    </tr>\n",
              "  </tbody>\n",
              "</table>\n",
              "</div>"
            ],
            "text/plain": [
              "   ID  shop_id  item_id\n",
              "0   0        5     5037\n",
              "1   1        5     5320\n",
              "2   2        5     5233\n",
              "3   3        5     5232\n",
              "4   4        5     5268"
            ]
          },
          "metadata": {
            "tags": []
          },
          "execution_count": 32
        }
      ]
    },
    {
      "cell_type": "markdown",
      "metadata": {
        "id": "dHsHmX8kQmMB"
      },
      "source": [
        "Посмотрим, насколько одинаковы id магазинов в train и test"
      ]
    },
    {
      "cell_type": "code",
      "metadata": {
        "colab": {
          "base_uri": "https://localhost:8080/"
        },
        "id": "3Le2vttEQEyp",
        "outputId": "4699c9bc-b225-47c9-8f08-97de18e0213f"
      },
      "source": [
        "test['shop_id'].unique().shape"
      ],
      "execution_count": null,
      "outputs": [
        {
          "output_type": "execute_result",
          "data": {
            "text/plain": [
              "(42,)"
            ]
          },
          "metadata": {
            "tags": []
          },
          "execution_count": 37
        }
      ]
    },
    {
      "cell_type": "code",
      "metadata": {
        "colab": {
          "base_uri": "https://localhost:8080/"
        },
        "id": "h3IkOrFkQKKF",
        "outputId": "be678949-4b45-4913-a8db-323f2ef1c056"
      },
      "source": [
        "train['shop_id'].unique().shape"
      ],
      "execution_count": null,
      "outputs": [
        {
          "output_type": "execute_result",
          "data": {
            "text/plain": [
              "(60,)"
            ]
          },
          "metadata": {
            "tags": []
          },
          "execution_count": 38
        }
      ]
    },
    {
      "cell_type": "code",
      "metadata": {
        "id": "X7kK3s9_QQ5K"
      },
      "source": [
        "test_set = set(test['shop_id'].unique())\r\n",
        "train_set = set(train['shop_id'].unique())"
      ],
      "execution_count": null,
      "outputs": []
    },
    {
      "cell_type": "markdown",
      "metadata": {
        "id": "6E8GOnIfQ5Io"
      },
      "source": [
        "Значит, все магазины, что есть в test, есть и в train. Поэтому можем использовать shop_id как фичу\r\n"
      ]
    },
    {
      "cell_type": "code",
      "metadata": {
        "colab": {
          "base_uri": "https://localhost:8080/"
        },
        "id": "2-3C5BYbQfdq",
        "outputId": "06379102-48ac-4710-d12e-6ad19ef759fe"
      },
      "source": [
        "len(list(test_set - train_set))"
      ],
      "execution_count": null,
      "outputs": [
        {
          "output_type": "execute_result",
          "data": {
            "text/plain": [
              "0"
            ]
          },
          "metadata": {
            "tags": []
          },
          "execution_count": 46
        }
      ]
    },
    {
      "cell_type": "markdown",
      "metadata": {
        "id": "BjZ0ixx9Q_sN"
      },
      "source": [
        "Аналогично, и с item_id"
      ]
    },
    {
      "cell_type": "markdown",
      "metadata": {
        "id": "3T2fwRzxRf7I"
      },
      "source": [
        "Не все item, что есть в test, есть в train"
      ]
    },
    {
      "cell_type": "code",
      "metadata": {
        "colab": {
          "base_uri": "https://localhost:8080/"
        },
        "id": "IGTLpyXuQuI3",
        "outputId": "dff29ed2-d25a-43ed-e6f8-2828abf8bde5"
      },
      "source": [
        "test_item_set = set(test['item_id'].unique())\r\n",
        "train_item_set = set(train['item_id'].unique())\r\n",
        "len(list(test_item_set - train_item_set))"
      ],
      "execution_count": null,
      "outputs": [
        {
          "output_type": "execute_result",
          "data": {
            "text/plain": [
              "363"
            ]
          },
          "metadata": {
            "tags": []
          },
          "execution_count": 34
        }
      ]
    },
    {
      "cell_type": "markdown",
      "metadata": {
        "id": "PfFTLdG4epX7"
      },
      "source": [
        "В train гораздо больше товаров, чем в test"
      ]
    },
    {
      "cell_type": "code",
      "metadata": {
        "id": "zPktZNcQROdN",
        "colab": {
          "base_uri": "https://localhost:8080/"
        },
        "outputId": "af3b9e05-731a-4121-e4fd-7cb5561c8d94"
      },
      "source": [
        "len(list(train_item_set - test_item_set))"
      ],
      "execution_count": null,
      "outputs": [
        {
          "output_type": "execute_result",
          "data": {
            "text/plain": [
              "17070"
            ]
          },
          "metadata": {
            "tags": []
          },
          "execution_count": 35
        }
      ]
    },
    {
      "cell_type": "markdown",
      "metadata": {
        "id": "89S3nwByS1nc"
      },
      "source": [
        "Посмотрим тенденцию к продажам для наиболее продаваемого товара"
      ]
    },
    {
      "cell_type": "code",
      "metadata": {
        "colab": {
          "base_uri": "https://localhost:8080/"
        },
        "id": "AZ4bi6jmS7D7",
        "outputId": "12c9c014-a673-4ff9-cd89-be978dfc6c2b"
      },
      "source": [
        "group = train.groupby(by='item_id')['item_cnt_day', 'date'].sum().sort_values(by='item_cnt_day', ascending=False)\r\n"
      ],
      "execution_count": null,
      "outputs": [
        {
          "output_type": "stream",
          "text": [
            "/usr/local/lib/python3.6/dist-packages/ipykernel_launcher.py:1: FutureWarning: Indexing with multiple keys (implicitly converted to a tuple of keys) will be deprecated, use a list instead.\n",
            "  \"\"\"Entry point for launching an IPython kernel.\n"
          ],
          "name": "stderr"
        }
      ]
    },
    {
      "cell_type": "code",
      "metadata": {
        "id": "9odJeSgVTW2i"
      },
      "source": [
        "most_sold_item = group[:1]\r\n",
        "most_sold_item = list(most_sold_item.index)[0]"
      ],
      "execution_count": null,
      "outputs": []
    },
    {
      "cell_type": "markdown",
      "metadata": {
        "id": "Rj_gDiceg5e3"
      },
      "source": [
        "Также видная сезонность и тренд на снижение"
      ]
    },
    {
      "cell_type": "code",
      "metadata": {
        "colab": {
          "base_uri": "https://localhost:8080/",
          "height": 283
        },
        "id": "JMW1Tpx2ey8K",
        "outputId": "d117fd15-d907-47a0-9dc1-333c416e10c0"
      },
      "source": [
        "ms_train = train[train['item_id'] == most_sold_item]\r\n",
        "most_sold_item_by_days = ms_train.groupby(by='date_block_num')['item_cnt_day'].sum()\r\n",
        "plt.plot(most_sold_item_by_days)"
      ],
      "execution_count": null,
      "outputs": [
        {
          "output_type": "execute_result",
          "data": {
            "text/plain": [
              "[<matplotlib.lines.Line2D at 0x7ff37d4c83c8>]"
            ]
          },
          "metadata": {
            "tags": []
          },
          "execution_count": 51
        },
        {
          "output_type": "display_data",
          "data": {
            "image/png": "[encoded data removed]",
            "text/plain": [
              "<Figure size 432x288 with 1 Axes>"
            ]
          },
          "metadata": {
            "tags": [],
            "needs_background": "light"
          }
        }
      ]
    },
    {
      "cell_type": "code",
      "metadata": {
        "colab": {
          "base_uri": "https://localhost:8080/",
          "height": 229
        },
        "id": "9UxKr5aagk9h",
        "outputId": "954142c8-bca5-48cc-d92e-609ea4980470"
      },
      "source": [
        "rolling_mean = most_sold_item_by_days.rolling(window=12).mean()\r\n",
        "plt.figure(figsize=(8,3))\r\n",
        "plt.plot(rolling_mean)"
      ],
      "execution_count": null,
      "outputs": [
        {
          "output_type": "execute_result",
          "data": {
            "text/plain": [
              "[<matplotlib.lines.Line2D at 0x7ff37ceb87b8>]"
            ]
          },
          "metadata": {
            "tags": []
          },
          "execution_count": 69
        },
        {
          "output_type": "display_data",
          "data": {
            "image/png": "[encoded data removed]",
            "text/plain": [
              "<Figure size 576x216 with 1 Axes>"
            ]
          },
          "metadata": {
            "tags": [],
            "needs_background": "light"
          }
        }
      ]
    },
    {
      "cell_type": "markdown",
      "metadata": {
        "id": "YtdP-W_DyRbv"
      },
      "source": [
        "Посмотрим общие продажи за все время"
      ]
    },
    {
      "cell_type": "markdown",
      "metadata": {
        "id": "oZhczUgbbOA1"
      },
      "source": [
        "Виден тренд на снижение и сезонность"
      ]
    },
    {
      "cell_type": "code",
      "metadata": {
        "colab": {
          "base_uri": "https://localhost:8080/",
          "height": 297
        },
        "id": "C_AwR9wyatTr",
        "outputId": "fd712c74-da44-4b8b-9783-1597f2d31b44"
      },
      "source": [
        "total_sales = train.groupby(by='date_block_num')['item_cnt_day'].sum()\r\n",
        "plt.xlabel('Number of Month')\r\n",
        "plt.ylabel('Count of Sales')\r\n",
        "plt.plot(total_sales)"
      ],
      "execution_count": null,
      "outputs": [
        {
          "output_type": "execute_result",
          "data": {
            "text/plain": [
              "[<matplotlib.lines.Line2D at 0x7f90c77e3748>]"
            ]
          },
          "metadata": {
            "tags": []
          },
          "execution_count": 50
        },
        {
          "output_type": "display_data",
          "data": {
            "image/png": "[encoded data removed]",
            "text/plain": [
              "<Figure size 432x288 with 1 Axes>"
            ]
          },
          "metadata": {
            "tags": [],
            "needs_background": "light"
          }
        }
      ]
    },
    {
      "cell_type": "markdown",
      "metadata": {
        "id": "KnN1S4_Rb_WG"
      },
      "source": [
        "Скользящее среднее"
      ]
    },
    {
      "cell_type": "code",
      "metadata": {
        "colab": {
          "base_uri": "https://localhost:8080/",
          "height": 229
        },
        "id": "y-7d6uOOcEEL",
        "outputId": "3e74f254-9169-4cd4-bd4e-1006042e56f0"
      },
      "source": [
        "rolling_mean = total_sales.rolling(window=12).mean()\r\n",
        "plt.figure(figsize=(8,3))\r\n",
        "plt.plot(rolling_mean)"
      ],
      "execution_count": null,
      "outputs": [
        {
          "output_type": "execute_result",
          "data": {
            "text/plain": [
              "[<matplotlib.lines.Line2D at 0x7ff37d3cfeb8>]"
            ]
          },
          "metadata": {
            "tags": []
          },
          "execution_count": 54
        },
        {
          "output_type": "display_data",
          "data": {
            "image/png": "[encoded data removed]",
            "text/plain": [
              "<Figure size 576x216 with 1 Axes>"
            ]
          },
          "metadata": {
            "tags": [],
            "needs_background": "light"
          }
        }
      ]
    },
    {
      "cell_type": "markdown",
      "metadata": {
        "id": "-RcHWu2POb7o"
      },
      "source": [
        "Найдем месяцы с наибольшими продажами"
      ]
    },
    {
      "cell_type": "code",
      "metadata": {
        "id": "MHlqJxpQ3sWS"
      },
      "source": [
        "most_sold = train['date_block_num'].value_counts().sort_values(ascending=False)[:5]\r\n"
      ],
      "execution_count": null,
      "outputs": []
    },
    {
      "cell_type": "markdown",
      "metadata": {
        "id": "EmS7JPWiPa-V"
      },
      "source": [
        "На зимние месяцы приходится больше всего продаж. Ну и в целом, это даты перед праздниками"
      ]
    },
    {
      "cell_type": "code",
      "metadata": {
        "colab": {
          "base_uri": "https://localhost:8080/"
        },
        "id": "bCYZjRN1OfJW",
        "outputId": "f1c8eb1f-3f0a-4b3e-b5c2-ad3049176759"
      },
      "source": [
        "for month in most_sold.index:\r\n",
        "  print(month, \" \", train[train['date_block_num'] == month]['date'][:1])"
      ],
      "execution_count": null,
      "outputs": [
        {
          "output_type": "stream",
          "text": [
            "11   1124316    04.12.2013\n",
            "Name: date, dtype: object\n",
            "23   2192637    24.12.2014\n",
            "Name: date, dtype: object\n",
            "2   224303    03.03.2013\n",
            "Name: date, dtype: object\n",
            "0   0    02.01.2013\n",
            "Name: date, dtype: object\n",
            "1   115690    21.02.2013\n",
            "Name: date, dtype: object\n"
          ],
          "name": "stdout"
        }
      ]
    },
    {
      "cell_type": "markdown",
      "metadata": {
        "id": "NXPIHDHYl2nd"
      },
      "source": [
        "# DateTime "
      ]
    },
    {
      "cell_type": "code",
      "metadata": {
        "id": "C6dksOzNNtD0"
      },
      "source": [
        "train['date'] = train['date'].astype('datetime64[ns]')"
      ],
      "execution_count": 37,
      "outputs": []
    },
    {
      "cell_type": "code",
      "metadata": {
        "colab": {
          "base_uri": "https://localhost:8080/",
          "height": 202
        },
        "id": "qA7-rgt_NyjP",
        "outputId": "6494f7dc-42c3-40c0-ab95-033e278e0dcf"
      },
      "source": [
        "train.head()"
      ],
      "execution_count": 38,
      "outputs": [
        {
          "output_type": "execute_result",
          "data": {
            "text/html": [
              "<div>\n",
              "<style scoped>\n",
              "    .dataframe tbody tr th:only-of-type {\n",
              "        vertical-align: middle;\n",
              "    }\n",
              "\n",
              "    .dataframe tbody tr th {\n",
              "        vertical-align: top;\n",
              "    }\n",
              "\n",
              "    .dataframe thead th {\n",
              "        text-align: right;\n",
              "    }\n",
              "</style>\n",
              "<table border=\"1\" class=\"dataframe\">\n",
              "  <thead>\n",
              "    <tr style=\"text-align: right;\">\n",
              "      <th></th>\n",
              "      <th>date</th>\n",
              "      <th>date_block_num</th>\n",
              "      <th>shop_id</th>\n",
              "      <th>item_id</th>\n",
              "      <th>item_price</th>\n",
              "      <th>item_cnt_day</th>\n",
              "    </tr>\n",
              "  </thead>\n",
              "  <tbody>\n",
              "    <tr>\n",
              "      <th>0</th>\n",
              "      <td>2013-02-01</td>\n",
              "      <td>0</td>\n",
              "      <td>59</td>\n",
              "      <td>22154</td>\n",
              "      <td>999.00</td>\n",
              "      <td>1.0</td>\n",
              "    </tr>\n",
              "    <tr>\n",
              "      <th>1</th>\n",
              "      <td>2013-03-01</td>\n",
              "      <td>0</td>\n",
              "      <td>25</td>\n",
              "      <td>2552</td>\n",
              "      <td>899.00</td>\n",
              "      <td>1.0</td>\n",
              "    </tr>\n",
              "    <tr>\n",
              "      <th>2</th>\n",
              "      <td>2013-05-01</td>\n",
              "      <td>0</td>\n",
              "      <td>25</td>\n",
              "      <td>2552</td>\n",
              "      <td>899.00</td>\n",
              "      <td>-1.0</td>\n",
              "    </tr>\n",
              "    <tr>\n",
              "      <th>3</th>\n",
              "      <td>2013-06-01</td>\n",
              "      <td>0</td>\n",
              "      <td>25</td>\n",
              "      <td>2554</td>\n",
              "      <td>1709.05</td>\n",
              "      <td>1.0</td>\n",
              "    </tr>\n",
              "    <tr>\n",
              "      <th>4</th>\n",
              "      <td>2013-01-15</td>\n",
              "      <td>0</td>\n",
              "      <td>25</td>\n",
              "      <td>2555</td>\n",
              "      <td>1099.00</td>\n",
              "      <td>1.0</td>\n",
              "    </tr>\n",
              "  </tbody>\n",
              "</table>\n",
              "</div>"
            ],
            "text/plain": [
              "        date  date_block_num  shop_id  item_id  item_price  item_cnt_day\n",
              "0 2013-02-01               0       59    22154      999.00           1.0\n",
              "1 2013-03-01               0       25     2552      899.00           1.0\n",
              "2 2013-05-01               0       25     2552      899.00          -1.0\n",
              "3 2013-06-01               0       25     2554     1709.05           1.0\n",
              "4 2013-01-15               0       25     2555     1099.00           1.0"
            ]
          },
          "metadata": {
            "tags": []
          },
          "execution_count": 38
        }
      ]
    },
    {
      "cell_type": "markdown",
      "metadata": {
        "id": "wTEFJdfrO6xV"
      },
      "source": [
        "Делаем дату индексом"
      ]
    },
    {
      "cell_type": "code",
      "metadata": {
        "id": "1TGTR9-BN1sP"
      },
      "source": [
        "train = train.set_index('date')"
      ],
      "execution_count": 39,
      "outputs": []
    },
    {
      "cell_type": "code",
      "metadata": {
        "id": "-RJSz0JaO2nu"
      },
      "source": [
        "train['year'] = train.index.year\r\n",
        "train['month'] = train.index.month\r\n",
        "train['day'] = train.index.day\r\n",
        "train['weekday name'] = train.index.weekday\r\n",
        "train.head()"
      ],
      "execution_count": 40,
      "outputs": []
    },
    {
      "cell_type": "markdown",
      "metadata": {
        "id": "sgNx8SeTifom"
      },
      "source": [
        "# *Магазины*"
      ]
    },
    {
      "cell_type": "code",
      "metadata": {
        "colab": {
          "base_uri": "https://localhost:8080/",
          "height": 202
        },
        "id": "KdOvT4pyilU6",
        "outputId": "88f4ccef-c05e-4727-b44c-ce6fdb6e64b2"
      },
      "source": [
        "shops.head()"
      ],
      "execution_count": null,
      "outputs": [
        {
          "output_type": "execute_result",
          "data": {
            "text/html": [
              "<div>\n",
              "<style scoped>\n",
              "    .dataframe tbody tr th:only-of-type {\n",
              "        vertical-align: middle;\n",
              "    }\n",
              "\n",
              "    .dataframe tbody tr th {\n",
              "        vertical-align: top;\n",
              "    }\n",
              "\n",
              "    .dataframe thead th {\n",
              "        text-align: right;\n",
              "    }\n",
              "</style>\n",
              "<table border=\"1\" class=\"dataframe\">\n",
              "  <thead>\n",
              "    <tr style=\"text-align: right;\">\n",
              "      <th></th>\n",
              "      <th>shop_name</th>\n",
              "      <th>shop_id</th>\n",
              "    </tr>\n",
              "  </thead>\n",
              "  <tbody>\n",
              "    <tr>\n",
              "      <th>0</th>\n",
              "      <td>!Якутск Орджоникидзе, 56 фран</td>\n",
              "      <td>0</td>\n",
              "    </tr>\n",
              "    <tr>\n",
              "      <th>1</th>\n",
              "      <td>!Якутск ТЦ \"Центральный\" фран</td>\n",
              "      <td>1</td>\n",
              "    </tr>\n",
              "    <tr>\n",
              "      <th>2</th>\n",
              "      <td>Адыгея ТЦ \"Мега\"</td>\n",
              "      <td>2</td>\n",
              "    </tr>\n",
              "    <tr>\n",
              "      <th>3</th>\n",
              "      <td>Балашиха ТРК \"Октябрь-Киномир\"</td>\n",
              "      <td>3</td>\n",
              "    </tr>\n",
              "    <tr>\n",
              "      <th>4</th>\n",
              "      <td>Волжский ТЦ \"Волга Молл\"</td>\n",
              "      <td>4</td>\n",
              "    </tr>\n",
              "  </tbody>\n",
              "</table>\n",
              "</div>"
            ],
            "text/plain": [
              "                        shop_name  shop_id\n",
              "0   !Якутск Орджоникидзе, 56 фран        0\n",
              "1   !Якутск ТЦ \"Центральный\" фран        1\n",
              "2                Адыгея ТЦ \"Мега\"        2\n",
              "3  Балашиха ТРК \"Октябрь-Киномир\"        3\n",
              "4        Волжский ТЦ \"Волга Молл\"        4"
            ]
          },
          "metadata": {
            "tags": []
          },
          "execution_count": 82
        }
      ]
    },
    {
      "cell_type": "markdown",
      "metadata": {
        "id": "NgPKy41oiqjN"
      },
      "source": [
        "shop_name содержит название города и название тц через пробел"
      ]
    },
    {
      "cell_type": "code",
      "metadata": {
        "id": "m_7Oy5M6ily6"
      },
      "source": [
        "shop_split = shops['shop_name'].str.split(' ')"
      ],
      "execution_count": null,
      "outputs": []
    },
    {
      "cell_type": "markdown",
      "metadata": {
        "id": "-QxMUjDWiy1S"
      },
      "source": [
        "!Якутск, Сергиев Посад"
      ]
    },
    {
      "cell_type": "code",
      "metadata": {
        "id": "xsw4njMdi2jZ"
      },
      "source": [
        "shop_city = shop_split.map(lambda x: x[0])"
      ],
      "execution_count": null,
      "outputs": []
    },
    {
      "cell_type": "markdown",
      "metadata": {
        "id": "00M9yKgUi9Nk"
      },
      "source": [
        "\r\n",
        "*   'Орджоникидзе, 56',\r\n",
        " 'Орджоникидзе, 56 фран' франшиза?\r\n",
        "*   'ТРК \"Мегацентр Горизонт\"',\r\n",
        " 'ТРК \"Мегацентр Горизонт\" Островной',\r\n",
        "*   'ул. Чкалова 39м?',\r\n",
        " 'ул. Чкалова 39м²\r\n",
        "\r\n",
        "\r\n"
      ]
    },
    {
      "cell_type": "code",
      "metadata": {
        "colab": {
          "base_uri": "https://localhost:8080/",
          "height": 202
        },
        "id": "LSpLY5v0i-Jy",
        "outputId": "504170fc-8976-42e1-c5ce-16c42e75bad4"
      },
      "source": [
        "shop_name = shop_split.map(lambda x: \" \".join(x[1:]))\r\n",
        "shops['shop_name'] = shop_name\r\n",
        "shops['shop_city'] = shop_city\r\n",
        "shops.head()"
      ],
      "execution_count": null,
      "outputs": [
        {
          "output_type": "execute_result",
          "data": {
            "text/html": [
              "<div>\n",
              "<style scoped>\n",
              "    .dataframe tbody tr th:only-of-type {\n",
              "        vertical-align: middle;\n",
              "    }\n",
              "\n",
              "    .dataframe tbody tr th {\n",
              "        vertical-align: top;\n",
              "    }\n",
              "\n",
              "    .dataframe thead th {\n",
              "        text-align: right;\n",
              "    }\n",
              "</style>\n",
              "<table border=\"1\" class=\"dataframe\">\n",
              "  <thead>\n",
              "    <tr style=\"text-align: right;\">\n",
              "      <th></th>\n",
              "      <th>shop_name</th>\n",
              "      <th>shop_id</th>\n",
              "      <th>shop_city</th>\n",
              "    </tr>\n",
              "  </thead>\n",
              "  <tbody>\n",
              "    <tr>\n",
              "      <th>0</th>\n",
              "      <td>Орджоникидзе, 56 фран</td>\n",
              "      <td>0</td>\n",
              "      <td>!Якутск</td>\n",
              "    </tr>\n",
              "    <tr>\n",
              "      <th>1</th>\n",
              "      <td>ТЦ \"Центральный\" фран</td>\n",
              "      <td>1</td>\n",
              "      <td>!Якутск</td>\n",
              "    </tr>\n",
              "    <tr>\n",
              "      <th>2</th>\n",
              "      <td>ТЦ \"Мега\"</td>\n",
              "      <td>2</td>\n",
              "      <td>Адыгея</td>\n",
              "    </tr>\n",
              "    <tr>\n",
              "      <th>3</th>\n",
              "      <td>ТРК \"Октябрь-Киномир\"</td>\n",
              "      <td>3</td>\n",
              "      <td>Балашиха</td>\n",
              "    </tr>\n",
              "    <tr>\n",
              "      <th>4</th>\n",
              "      <td>ТЦ \"Волга Молл\"</td>\n",
              "      <td>4</td>\n",
              "      <td>Волжский</td>\n",
              "    </tr>\n",
              "  </tbody>\n",
              "</table>\n",
              "</div>"
            ],
            "text/plain": [
              "               shop_name  shop_id shop_city\n",
              "0  Орджоникидзе, 56 фран        0   !Якутск\n",
              "1  ТЦ \"Центральный\" фран        1   !Якутск\n",
              "2              ТЦ \"Мега\"        2    Адыгея\n",
              "3  ТРК \"Октябрь-Киномир\"        3  Балашиха\n",
              "4        ТЦ \"Волга Молл\"        4  Волжский"
            ]
          },
          "metadata": {
            "tags": []
          },
          "execution_count": 85
        }
      ]
    },
    {
      "cell_type": "code",
      "metadata": {
        "id": "PURn17rwiuKp"
      },
      "source": [
        ""
      ],
      "execution_count": null,
      "outputs": []
    },
    {
      "cell_type": "markdown",
      "metadata": {
        "id": "Aul3YWCrjPtA"
      },
      "source": [
        "# Категории"
      ]
    },
    {
      "cell_type": "code",
      "metadata": {
        "colab": {
          "base_uri": "https://localhost:8080/",
          "height": 202
        },
        "id": "cib185mMjRcL",
        "outputId": "0fc2a73f-368f-4b13-e2d3-7d93107c4f1a"
      },
      "source": [
        "item_categories.head()"
      ],
      "execution_count": null,
      "outputs": [
        {
          "output_type": "execute_result",
          "data": {
            "text/html": [
              "<div>\n",
              "<style scoped>\n",
              "    .dataframe tbody tr th:only-of-type {\n",
              "        vertical-align: middle;\n",
              "    }\n",
              "\n",
              "    .dataframe tbody tr th {\n",
              "        vertical-align: top;\n",
              "    }\n",
              "\n",
              "    .dataframe thead th {\n",
              "        text-align: right;\n",
              "    }\n",
              "</style>\n",
              "<table border=\"1\" class=\"dataframe\">\n",
              "  <thead>\n",
              "    <tr style=\"text-align: right;\">\n",
              "      <th></th>\n",
              "      <th>item_category_name</th>\n",
              "      <th>item_category_id</th>\n",
              "    </tr>\n",
              "  </thead>\n",
              "  <tbody>\n",
              "    <tr>\n",
              "      <th>0</th>\n",
              "      <td>PC - Гарнитуры/Наушники</td>\n",
              "      <td>0</td>\n",
              "    </tr>\n",
              "    <tr>\n",
              "      <th>1</th>\n",
              "      <td>Аксессуары - PS2</td>\n",
              "      <td>1</td>\n",
              "    </tr>\n",
              "    <tr>\n",
              "      <th>2</th>\n",
              "      <td>Аксессуары - PS3</td>\n",
              "      <td>2</td>\n",
              "    </tr>\n",
              "    <tr>\n",
              "      <th>3</th>\n",
              "      <td>Аксессуары - PS4</td>\n",
              "      <td>3</td>\n",
              "    </tr>\n",
              "    <tr>\n",
              "      <th>4</th>\n",
              "      <td>Аксессуары - PSP</td>\n",
              "      <td>4</td>\n",
              "    </tr>\n",
              "  </tbody>\n",
              "</table>\n",
              "</div>"
            ],
            "text/plain": [
              "        item_category_name  item_category_id\n",
              "0  PC - Гарнитуры/Наушники                 0\n",
              "1         Аксессуары - PS2                 1\n",
              "2         Аксессуары - PS3                 2\n",
              "3         Аксессуары - PS4                 3\n",
              "4         Аксессуары - PSP                 4"
            ]
          },
          "metadata": {
            "tags": []
          },
          "execution_count": 86
        }
      ]
    },
    {
      "cell_type": "markdown",
      "metadata": {
        "id": "rfIUj1xKjZEM"
      },
      "source": [
        "То есть категорий может быть 2, а может и одна"
      ]
    },
    {
      "cell_type": "code",
      "metadata": {
        "id": "qRl1YFAEjbzF"
      },
      "source": [
        "ic_split = item_categories['item_category_name'].str.split(' - ')\r\n"
      ],
      "execution_count": null,
      "outputs": []
    },
    {
      "cell_type": "code",
      "metadata": {
        "colab": {
          "base_uri": "https://localhost:8080/"
        },
        "id": "dvLzBlm5jVcX",
        "outputId": "2c292aad-fb8c-4268-d6a6-f83d0f70bf51"
      },
      "source": [
        "category = ic_split.map(lambda x: x[0])\r\n",
        "category"
      ],
      "execution_count": null,
      "outputs": [
        {
          "output_type": "execute_result",
          "data": {
            "text/plain": [
              "0                            PC\n",
              "1                    Аксессуары\n",
              "2                    Аксессуары\n",
              "3                    Аксессуары\n",
              "4                    Аксессуары\n",
              "                ...            \n",
              "79                    Служебные\n",
              "80                    Служебные\n",
              "81      Чистые носители (шпиль)\n",
              "82    Чистые носители (штучные)\n",
              "83             Элементы питания\n",
              "Name: item_category_name, Length: 84, dtype: object"
            ]
          },
          "metadata": {
            "tags": []
          },
          "execution_count": 88
        }
      ]
    },
    {
      "cell_type": "code",
      "metadata": {
        "colab": {
          "base_uri": "https://localhost:8080/"
        },
        "id": "HzEOACsajgs7",
        "outputId": "ea41788b-ad21-4542-9d8a-9356ee6cbeeb"
      },
      "source": [
        "sub_category = ic_split.map(lambda x: x[1] if len(x) == 2 else None)\r\n",
        "sub_category"
      ],
      "execution_count": null,
      "outputs": [
        {
          "output_type": "execute_result",
          "data": {
            "text/plain": [
              "0     Гарнитуры/Наушники\n",
              "1                    PS2\n",
              "2                    PS3\n",
              "3                    PS4\n",
              "4                    PSP\n",
              "             ...        \n",
              "79                  None\n",
              "80                Билеты\n",
              "81                  None\n",
              "82                  None\n",
              "83                  None\n",
              "Name: item_category_name, Length: 84, dtype: object"
            ]
          },
          "metadata": {
            "tags": []
          },
          "execution_count": 89
        }
      ]
    },
    {
      "cell_type": "code",
      "metadata": {
        "id": "1NJmgJZqjjaO"
      },
      "source": [
        "item_categories['category'] = category\r\n",
        "item_categories['sub_category'] = sub_category"
      ],
      "execution_count": null,
      "outputs": []
    },
    {
      "cell_type": "code",
      "metadata": {
        "colab": {
          "base_uri": "https://localhost:8080/",
          "height": 202
        },
        "id": "XeLNvIEbjlvL",
        "outputId": "69c00a0f-f21e-43e8-a4c4-673dba3d1d31"
      },
      "source": [
        "item_categories.head()"
      ],
      "execution_count": null,
      "outputs": [
        {
          "output_type": "execute_result",
          "data": {
            "text/html": [
              "<div>\n",
              "<style scoped>\n",
              "    .dataframe tbody tr th:only-of-type {\n",
              "        vertical-align: middle;\n",
              "    }\n",
              "\n",
              "    .dataframe tbody tr th {\n",
              "        vertical-align: top;\n",
              "    }\n",
              "\n",
              "    .dataframe thead th {\n",
              "        text-align: right;\n",
              "    }\n",
              "</style>\n",
              "<table border=\"1\" class=\"dataframe\">\n",
              "  <thead>\n",
              "    <tr style=\"text-align: right;\">\n",
              "      <th></th>\n",
              "      <th>item_category_name</th>\n",
              "      <th>item_category_id</th>\n",
              "      <th>category</th>\n",
              "      <th>sub_category</th>\n",
              "    </tr>\n",
              "  </thead>\n",
              "  <tbody>\n",
              "    <tr>\n",
              "      <th>0</th>\n",
              "      <td>PC - Гарнитуры/Наушники</td>\n",
              "      <td>0</td>\n",
              "      <td>PC</td>\n",
              "      <td>Гарнитуры/Наушники</td>\n",
              "    </tr>\n",
              "    <tr>\n",
              "      <th>1</th>\n",
              "      <td>Аксессуары - PS2</td>\n",
              "      <td>1</td>\n",
              "      <td>Аксессуары</td>\n",
              "      <td>PS2</td>\n",
              "    </tr>\n",
              "    <tr>\n",
              "      <th>2</th>\n",
              "      <td>Аксессуары - PS3</td>\n",
              "      <td>2</td>\n",
              "      <td>Аксессуары</td>\n",
              "      <td>PS3</td>\n",
              "    </tr>\n",
              "    <tr>\n",
              "      <th>3</th>\n",
              "      <td>Аксессуары - PS4</td>\n",
              "      <td>3</td>\n",
              "      <td>Аксессуары</td>\n",
              "      <td>PS4</td>\n",
              "    </tr>\n",
              "    <tr>\n",
              "      <th>4</th>\n",
              "      <td>Аксессуары - PSP</td>\n",
              "      <td>4</td>\n",
              "      <td>Аксессуары</td>\n",
              "      <td>PSP</td>\n",
              "    </tr>\n",
              "  </tbody>\n",
              "</table>\n",
              "</div>"
            ],
            "text/plain": [
              "        item_category_name  item_category_id    category        sub_category\n",
              "0  PC - Гарнитуры/Наушники                 0          PC  Гарнитуры/Наушники\n",
              "1         Аксессуары - PS2                 1  Аксессуары                 PS2\n",
              "2         Аксессуары - PS3                 2  Аксессуары                 PS3\n",
              "3         Аксессуары - PS4                 3  Аксессуары                 PS4\n",
              "4         Аксессуары - PSP                 4  Аксессуары                 PSP"
            ]
          },
          "metadata": {
            "tags": []
          },
          "execution_count": 91
        }
      ]
    },
    {
      "cell_type": "code",
      "metadata": {
        "id": "CRzdyH2Ljnn-"
      },
      "source": [
        ""
      ],
      "execution_count": null,
      "outputs": []
    },
    {
      "cell_type": "markdown",
      "metadata": {
        "id": "nQAGoeCWNILr"
      },
      "source": [
        "# Выводы:\r\n",
        "\r\n",
        "\r\n",
        "*   Количество проданных товаров может быть отрицательно\r\n",
        "*   В количестве продаж присутствует тренд на снижение\r\n",
        "*   Все магазины, что есть в test, есть и в train\r\n",
        "*   В test есть некоторые товары, которых нет в train\r\n",
        "*   В начале месяца резкое увеличение продаж\r\n",
        "*   В конце года продажи резко увеличиваются\r\n",
        "*   Продажи увеличиваются на 5й день недели\r\n",
        "*   Новый пункт\r\n",
        "\r\n",
        "\r\n",
        "\r\n",
        "\r\n",
        "\r\n",
        "\r\n"
      ]
    },
    {
      "cell_type": "code",
      "metadata": {
        "id": "AiGP_zAewJq2"
      },
      "source": [
        ""
      ],
      "execution_count": null,
      "outputs": []
    },
    {
      "cell_type": "markdown",
      "metadata": {
        "id": "BS1-JjXlocMo"
      },
      "source": [
        "# **Cross validation**"
      ]
    },
    {
      "cell_type": "code",
      "metadata": {
        "colab": {
          "base_uri": "https://localhost:8080/",
          "height": 202
        },
        "id": "YwVokgFyofDn",
        "outputId": "7bb7e9b0-846e-4086-d9db-4767486fb3e9"
      },
      "source": [
        "from sklearn.model_selection import TimeSeriesSplit\r\n",
        "\r\n",
        "test = train['item_cnt_day']\r\n",
        "train = train.drop(columns=['item_cnt_day'])\r\n",
        "train.head()"
      ],
      "execution_count": null,
      "outputs": [
        {
          "output_type": "execute_result",
          "data": {
            "text/html": [
              "<div>\n",
              "<style scoped>\n",
              "    .dataframe tbody tr th:only-of-type {\n",
              "        vertical-align: middle;\n",
              "    }\n",
              "\n",
              "    .dataframe tbody tr th {\n",
              "        vertical-align: top;\n",
              "    }\n",
              "\n",
              "    .dataframe thead th {\n",
              "        text-align: right;\n",
              "    }\n",
              "</style>\n",
              "<table border=\"1\" class=\"dataframe\">\n",
              "  <thead>\n",
              "    <tr style=\"text-align: right;\">\n",
              "      <th></th>\n",
              "      <th>date</th>\n",
              "      <th>date_block_num</th>\n",
              "      <th>shop_id</th>\n",
              "      <th>item_id</th>\n",
              "      <th>item_price</th>\n",
              "    </tr>\n",
              "  </thead>\n",
              "  <tbody>\n",
              "    <tr>\n",
              "      <th>0</th>\n",
              "      <td>02.01.2013</td>\n",
              "      <td>0</td>\n",
              "      <td>59</td>\n",
              "      <td>22154</td>\n",
              "      <td>999.00</td>\n",
              "    </tr>\n",
              "    <tr>\n",
              "      <th>1</th>\n",
              "      <td>03.01.2013</td>\n",
              "      <td>0</td>\n",
              "      <td>25</td>\n",
              "      <td>2552</td>\n",
              "      <td>899.00</td>\n",
              "    </tr>\n",
              "    <tr>\n",
              "      <th>2</th>\n",
              "      <td>05.01.2013</td>\n",
              "      <td>0</td>\n",
              "      <td>25</td>\n",
              "      <td>2552</td>\n",
              "      <td>899.00</td>\n",
              "    </tr>\n",
              "    <tr>\n",
              "      <th>3</th>\n",
              "      <td>06.01.2013</td>\n",
              "      <td>0</td>\n",
              "      <td>25</td>\n",
              "      <td>2554</td>\n",
              "      <td>1709.05</td>\n",
              "    </tr>\n",
              "    <tr>\n",
              "      <th>4</th>\n",
              "      <td>15.01.2013</td>\n",
              "      <td>0</td>\n",
              "      <td>25</td>\n",
              "      <td>2555</td>\n",
              "      <td>1099.00</td>\n",
              "    </tr>\n",
              "  </tbody>\n",
              "</table>\n",
              "</div>"
            ],
            "text/plain": [
              "         date  date_block_num  shop_id  item_id  item_price\n",
              "0  02.01.2013               0       59    22154      999.00\n",
              "1  03.01.2013               0       25     2552      899.00\n",
              "2  05.01.2013               0       25     2552      899.00\n",
              "3  06.01.2013               0       25     2554     1709.05\n",
              "4  15.01.2013               0       25     2555     1099.00"
            ]
          },
          "metadata": {
            "tags": []
          },
          "execution_count": 19
        }
      ]
    },
    {
      "cell_type": "code",
      "metadata": {
        "id": "5hHjx4C5pDJT"
      },
      "source": [
        "cv = TimeSeriesSplit(n_splits=5).split(train)"
      ],
      "execution_count": null,
      "outputs": []
    },
    {
      "cell_type": "code",
      "metadata": {
        "colab": {
          "base_uri": "https://localhost:8080/"
        },
        "id": "BpWr8CYmqfxp",
        "outputId": "6a70d75f-898d-42b8-9e46-8c77925903f9"
      },
      "source": [
        "for train, test in cv:\r\n",
        "  print(train)"
      ],
      "execution_count": null,
      "outputs": [
        {
          "output_type": "stream",
          "text": [
            "[     0      1      2 ... 407758 407759 407760]\n",
            "[     0      1      2 ... 815514 815515 815516]\n",
            "[      0       1       2 ... 1223270 1223271 1223272]\n",
            "[      0       1       2 ... 1631026 1631027 1631028]\n",
            "[      0       1       2 ... 2038782 2038783 2038784]\n"
          ],
          "name": "stdout"
        }
      ]
    },
    {
      "cell_type": "code",
      "metadata": {
        "id": "wcERqjGUqjLn"
      },
      "source": [
        ""
      ],
      "execution_count": null,
      "outputs": []
    },
    {
      "cell_type": "markdown",
      "metadata": {
        "id": "-S9-z6Dct4jf"
      },
      "source": [
        "# **Baselines**"
      ]
    },
    {
      "cell_type": "markdown",
      "metadata": {
        "id": "-VeCZJOXQ66Z"
      },
      "source": [
        "**MAPE**"
      ]
    },
    {
      "cell_type": "code",
      "metadata": {
        "id": "WghMqtg7RJMD"
      },
      "source": [
        "def mean_absolute_percentage_error(y_true, y_pred): \r\n",
        "    y_true, y_pred = np.array(y_true), np.array(y_pred)\r\n",
        "    return np.mean(np.abs((y_true - y_pred) / y_true)) * 100"
      ],
      "execution_count": 4,
      "outputs": []
    },
    {
      "cell_type": "markdown",
      "metadata": {
        "id": "4LenA8NiuBJW"
      },
      "source": [
        "**Average Method**\r\n",
        "\r\n"
      ]
    },
    {
      "cell_type": "code",
      "metadata": {
        "id": "hGAmyrny6aSF",
        "colab": {
          "base_uri": "https://localhost:8080/",
          "height": 398
        },
        "outputId": "f179c5b0-8edc-473d-f90e-57338641789e"
      },
      "source": [
        "predicting_train = train[train['date_block_num'] != 33]\r\n",
        "grouping_items_sum = predicting_train.groupby(by=['shop_id, item_id'])['item_cnt_day'].sum()\r\n",
        "grouping_items_count = predicting_train.groupby(by=['shop_id, item_id'])['item_cnt_day'].agg('count')\r\n",
        "print(grouping_items_count.index)\r\n",
        "# y_pred = []\r\n",
        "# for item in test:\r\n",
        "#   y_pred.append()"
      ],
      "execution_count": 12,
      "outputs": [
        {
          "output_type": "error",
          "ename": "KeyError",
          "evalue": "ignored",
          "traceback": [
            "\u001b[0;31m---------------------------------------------------------------------------\u001b[0m",
            "\u001b[0;31mKeyError\u001b[0m                                  Traceback (most recent call last)",
            "\u001b[0;32m<ipython-input-12-1742885c4beb>\u001b[0m in \u001b[0;36m<module>\u001b[0;34m()\u001b[0m\n\u001b[1;32m      1\u001b[0m \u001b[0mpredicting_train\u001b[0m \u001b[0;34m=\u001b[0m \u001b[0mtrain\u001b[0m\u001b[0;34m[\u001b[0m\u001b[0mtrain\u001b[0m\u001b[0;34m[\u001b[0m\u001b[0;34m'date_block_num'\u001b[0m\u001b[0;34m]\u001b[0m \u001b[0;34m!=\u001b[0m \u001b[0;36m33\u001b[0m\u001b[0;34m]\u001b[0m\u001b[0;34m\u001b[0m\u001b[0;34m\u001b[0m\u001b[0m\n\u001b[0;32m----> 2\u001b[0;31m \u001b[0mgrouping_items_sum\u001b[0m \u001b[0;34m=\u001b[0m \u001b[0mpredicting_train\u001b[0m\u001b[0;34m.\u001b[0m\u001b[0mgroupby\u001b[0m\u001b[0;34m(\u001b[0m\u001b[0mby\u001b[0m\u001b[0;34m=\u001b[0m\u001b[0;34m[\u001b[0m\u001b[0;34m'shop_id, item_id'\u001b[0m\u001b[0;34m]\u001b[0m\u001b[0;34m)\u001b[0m\u001b[0;34m[\u001b[0m\u001b[0;34m'item_cnt_day'\u001b[0m\u001b[0;34m]\u001b[0m\u001b[0;34m.\u001b[0m\u001b[0msum\u001b[0m\u001b[0;34m(\u001b[0m\u001b[0;34m)\u001b[0m\u001b[0;34m\u001b[0m\u001b[0;34m\u001b[0m\u001b[0m\n\u001b[0m\u001b[1;32m      3\u001b[0m \u001b[0mgrouping_items_count\u001b[0m \u001b[0;34m=\u001b[0m \u001b[0mpredicting_train\u001b[0m\u001b[0;34m.\u001b[0m\u001b[0mgroupby\u001b[0m\u001b[0;34m(\u001b[0m\u001b[0mby\u001b[0m\u001b[0;34m=\u001b[0m\u001b[0;34m[\u001b[0m\u001b[0;34m'shop_id, item_id'\u001b[0m\u001b[0;34m]\u001b[0m\u001b[0;34m)\u001b[0m\u001b[0;34m[\u001b[0m\u001b[0;34m'item_cnt_day'\u001b[0m\u001b[0;34m]\u001b[0m\u001b[0;34m.\u001b[0m\u001b[0magg\u001b[0m\u001b[0;34m(\u001b[0m\u001b[0;34m'count'\u001b[0m\u001b[0;34m)\u001b[0m\u001b[0;34m\u001b[0m\u001b[0;34m\u001b[0m\u001b[0m\n\u001b[1;32m      4\u001b[0m \u001b[0mprint\u001b[0m\u001b[0;34m(\u001b[0m\u001b[0mgrouping_items_count\u001b[0m\u001b[0;34m.\u001b[0m\u001b[0mindex\u001b[0m\u001b[0;34m)\u001b[0m\u001b[0;34m\u001b[0m\u001b[0;34m\u001b[0m\u001b[0m\n\u001b[1;32m      5\u001b[0m \u001b[0;31m# y_pred = []\u001b[0m\u001b[0;34m\u001b[0m\u001b[0;34m\u001b[0m\u001b[0;34m\u001b[0m\u001b[0m\n",
            "\u001b[0;32m/usr/local/lib/python3.6/dist-packages/pandas/core/frame.py\u001b[0m in \u001b[0;36mgroupby\u001b[0;34m(self, by, axis, level, as_index, sort, group_keys, squeeze, observed, dropna)\u001b[0m\n\u001b[1;32m   6523\u001b[0m             \u001b[0msqueeze\u001b[0m\u001b[0;34m=\u001b[0m\u001b[0msqueeze\u001b[0m\u001b[0;34m,\u001b[0m\u001b[0;34m\u001b[0m\u001b[0;34m\u001b[0m\u001b[0m\n\u001b[1;32m   6524\u001b[0m             \u001b[0mobserved\u001b[0m\u001b[0;34m=\u001b[0m\u001b[0mobserved\u001b[0m\u001b[0;34m,\u001b[0m\u001b[0;34m\u001b[0m\u001b[0;34m\u001b[0m\u001b[0m\n\u001b[0;32m-> 6525\u001b[0;31m             \u001b[0mdropna\u001b[0m\u001b[0;34m=\u001b[0m\u001b[0mdropna\u001b[0m\u001b[0;34m,\u001b[0m\u001b[0;34m\u001b[0m\u001b[0;34m\u001b[0m\u001b[0m\n\u001b[0m\u001b[1;32m   6526\u001b[0m         )\n\u001b[1;32m   6527\u001b[0m \u001b[0;34m\u001b[0m\u001b[0m\n",
            "\u001b[0;32m/usr/local/lib/python3.6/dist-packages/pandas/core/groupby/groupby.py\u001b[0m in \u001b[0;36m__init__\u001b[0;34m(self, obj, keys, axis, level, grouper, exclusions, selection, as_index, sort, group_keys, squeeze, observed, mutated, dropna)\u001b[0m\n\u001b[1;32m    531\u001b[0m                 \u001b[0mobserved\u001b[0m\u001b[0;34m=\u001b[0m\u001b[0mobserved\u001b[0m\u001b[0;34m,\u001b[0m\u001b[0;34m\u001b[0m\u001b[0;34m\u001b[0m\u001b[0m\n\u001b[1;32m    532\u001b[0m                 \u001b[0mmutated\u001b[0m\u001b[0;34m=\u001b[0m\u001b[0mself\u001b[0m\u001b[0;34m.\u001b[0m\u001b[0mmutated\u001b[0m\u001b[0;34m,\u001b[0m\u001b[0;34m\u001b[0m\u001b[0;34m\u001b[0m\u001b[0m\n\u001b[0;32m--> 533\u001b[0;31m                 \u001b[0mdropna\u001b[0m\u001b[0;34m=\u001b[0m\u001b[0mself\u001b[0m\u001b[0;34m.\u001b[0m\u001b[0mdropna\u001b[0m\u001b[0;34m,\u001b[0m\u001b[0;34m\u001b[0m\u001b[0;34m\u001b[0m\u001b[0m\n\u001b[0m\u001b[1;32m    534\u001b[0m             )\n\u001b[1;32m    535\u001b[0m \u001b[0;34m\u001b[0m\u001b[0m\n",
            "\u001b[0;32m/usr/local/lib/python3.6/dist-packages/pandas/core/groupby/grouper.py\u001b[0m in \u001b[0;36mget_grouper\u001b[0;34m(obj, key, axis, level, sort, observed, mutated, validate, dropna)\u001b[0m\n\u001b[1;32m    784\u001b[0m                 \u001b[0min_axis\u001b[0m\u001b[0;34m,\u001b[0m \u001b[0mname\u001b[0m\u001b[0;34m,\u001b[0m \u001b[0mlevel\u001b[0m\u001b[0;34m,\u001b[0m \u001b[0mgpr\u001b[0m \u001b[0;34m=\u001b[0m \u001b[0;32mFalse\u001b[0m\u001b[0;34m,\u001b[0m \u001b[0;32mNone\u001b[0m\u001b[0;34m,\u001b[0m \u001b[0mgpr\u001b[0m\u001b[0;34m,\u001b[0m \u001b[0;32mNone\u001b[0m\u001b[0;34m\u001b[0m\u001b[0;34m\u001b[0m\u001b[0m\n\u001b[1;32m    785\u001b[0m             \u001b[0;32melse\u001b[0m\u001b[0;34m:\u001b[0m\u001b[0;34m\u001b[0m\u001b[0;34m\u001b[0m\u001b[0m\n\u001b[0;32m--> 786\u001b[0;31m                 \u001b[0;32mraise\u001b[0m \u001b[0mKeyError\u001b[0m\u001b[0;34m(\u001b[0m\u001b[0mgpr\u001b[0m\u001b[0;34m)\u001b[0m\u001b[0;34m\u001b[0m\u001b[0;34m\u001b[0m\u001b[0m\n\u001b[0m\u001b[1;32m    787\u001b[0m         \u001b[0;32melif\u001b[0m \u001b[0misinstance\u001b[0m\u001b[0;34m(\u001b[0m\u001b[0mgpr\u001b[0m\u001b[0;34m,\u001b[0m \u001b[0mGrouper\u001b[0m\u001b[0;34m)\u001b[0m \u001b[0;32mand\u001b[0m \u001b[0mgpr\u001b[0m\u001b[0;34m.\u001b[0m\u001b[0mkey\u001b[0m \u001b[0;32mis\u001b[0m \u001b[0;32mnot\u001b[0m \u001b[0;32mNone\u001b[0m\u001b[0;34m:\u001b[0m\u001b[0;34m\u001b[0m\u001b[0;34m\u001b[0m\u001b[0m\n\u001b[1;32m    788\u001b[0m             \u001b[0;31m# Add key to exclusions\u001b[0m\u001b[0;34m\u001b[0m\u001b[0;34m\u001b[0m\u001b[0;34m\u001b[0m\u001b[0m\n",
            "\u001b[0;31mKeyError\u001b[0m: 'shop_id, item_id'"
          ]
        }
      ]
    },
    {
      "cell_type": "code",
      "metadata": {
        "id": "TIs6WE_LSxui"
      },
      "source": [
        ""
      ],
      "execution_count": null,
      "outputs": []
    },
    {
      "cell_type": "code",
      "metadata": {
        "colab": {
          "base_uri": "https://localhost:8080/",
          "height": 202
        },
        "id": "ZIAVGQNfSx0D",
        "outputId": "76edccbd-4721-423f-9f17-4aecdcbcaa79"
      },
      "source": [
        "test.head()"
      ],
      "execution_count": 79,
      "outputs": [
        {
          "output_type": "execute_result",
          "data": {
            "text/html": [
              "<div>\n",
              "<style scoped>\n",
              "    .dataframe tbody tr th:only-of-type {\n",
              "        vertical-align: middle;\n",
              "    }\n",
              "\n",
              "    .dataframe tbody tr th {\n",
              "        vertical-align: top;\n",
              "    }\n",
              "\n",
              "    .dataframe thead th {\n",
              "        text-align: right;\n",
              "    }\n",
              "</style>\n",
              "<table border=\"1\" class=\"dataframe\">\n",
              "  <thead>\n",
              "    <tr style=\"text-align: right;\">\n",
              "      <th></th>\n",
              "      <th>ID</th>\n",
              "      <th>shop_id</th>\n",
              "      <th>item_id</th>\n",
              "    </tr>\n",
              "  </thead>\n",
              "  <tbody>\n",
              "    <tr>\n",
              "      <th>0</th>\n",
              "      <td>0</td>\n",
              "      <td>5</td>\n",
              "      <td>5037</td>\n",
              "    </tr>\n",
              "    <tr>\n",
              "      <th>1</th>\n",
              "      <td>1</td>\n",
              "      <td>5</td>\n",
              "      <td>5320</td>\n",
              "    </tr>\n",
              "    <tr>\n",
              "      <th>2</th>\n",
              "      <td>2</td>\n",
              "      <td>5</td>\n",
              "      <td>5233</td>\n",
              "    </tr>\n",
              "    <tr>\n",
              "      <th>3</th>\n",
              "      <td>3</td>\n",
              "      <td>5</td>\n",
              "      <td>5232</td>\n",
              "    </tr>\n",
              "    <tr>\n",
              "      <th>4</th>\n",
              "      <td>4</td>\n",
              "      <td>5</td>\n",
              "      <td>5268</td>\n",
              "    </tr>\n",
              "  </tbody>\n",
              "</table>\n",
              "</div>"
            ],
            "text/plain": [
              "   ID  shop_id  item_id\n",
              "0   0        5     5037\n",
              "1   1        5     5320\n",
              "2   2        5     5233\n",
              "3   3        5     5232\n",
              "4   4        5     5268"
            ]
          },
          "metadata": {
            "tags": []
          },
          "execution_count": 79
        }
      ]
    },
    {
      "cell_type": "code",
      "metadata": {
        "colab": {
          "base_uri": "https://localhost:8080/",
          "height": 1000
        },
        "id": "CanGTAdFS4HQ",
        "outputId": "b1eeb08b-f6dc-46b0-c8e0-ee7efa579da9"
      },
      "source": [
        "predicting_train = train[train['date_block_num'] != 33]\r\n",
        "y_pred = []\r\n",
        "y_true = []\r\n",
        "for item in test.iterrows():\r\n",
        "  print(item)\r\n",
        "  # y_pred.append(predicting_train[(predicting_train['shop_id'] == item.shop_id) & (predicting_train['item_id'] == item.item_id)]['item_cnt_day'].mean())\r\n",
        "  # true = train[(train.shop_id == item_id) & (train.item_id == item.item_id) & (train.date_block_num == 33)]\r\n",
        "  # if true:\r\n",
        "  #   y_true.append(true)\r\n",
        "  # else:\r\n",
        "  #   y_true.append(0)"
      ],
      "execution_count": 86,
      "outputs": [
        {
          "output_type": "stream",
          "text": [
            "\u001b[1;30;43mВыходные данные были обрезаны до нескольких последних строк (5000).\u001b[0m\n",
            "(1865, ID         1865\n",
            "shop_id       5\n",
            "item_id    6186\n",
            "Name: 1865, dtype: int64)\n",
            "(1866, ID         1866\n",
            "shop_id       5\n",
            "item_id    6247\n",
            "Name: 1866, dtype: int64)\n",
            "(1867, ID         1867\n",
            "shop_id       5\n",
            "item_id    6249\n",
            "Name: 1867, dtype: int64)\n",
            "(1868, ID         1868\n",
            "shop_id       5\n",
            "item_id    6641\n",
            "Name: 1868, dtype: int64)\n",
            "(1869, ID         1869\n",
            "shop_id       5\n",
            "item_id    6316\n",
            "Name: 1869, dtype: int64)\n",
            "(1870, ID         1870\n",
            "shop_id       5\n",
            "item_id    6678\n",
            "Name: 1870, dtype: int64)\n",
            "(1871, ID         1871\n",
            "shop_id       5\n",
            "item_id    5660\n",
            "Name: 1871, dtype: int64)\n",
            "(1872, ID         1872\n",
            "shop_id       5\n",
            "item_id    5012\n",
            "Name: 1872, dtype: int64)\n",
            "(1873, ID         1873\n",
            "shop_id       5\n",
            "item_id    5044\n",
            "Name: 1873, dtype: int64)\n",
            "(1874, ID         1874\n",
            "shop_id       5\n",
            "item_id    5361\n",
            "Name: 1874, dtype: int64)\n",
            "(1875, ID         1875\n",
            "shop_id       5\n",
            "item_id    5362\n",
            "Name: 1875, dtype: int64)\n",
            "(1876, ID         1876\n",
            "shop_id       5\n",
            "item_id    4841\n",
            "Name: 1876, dtype: int64)\n",
            "(1877, ID         1877\n",
            "shop_id       5\n",
            "item_id    4628\n",
            "Name: 1877, dtype: int64)\n",
            "(1878, ID         1878\n",
            "shop_id       5\n",
            "item_id    4679\n",
            "Name: 1878, dtype: int64)\n",
            "(1879, ID         1879\n",
            "shop_id       5\n",
            "item_id    4904\n",
            "Name: 1879, dtype: int64)\n",
            "(1880, ID         1880\n",
            "shop_id       5\n",
            "item_id    4944\n",
            "Name: 1880, dtype: int64)\n",
            "(1881, ID         1881\n",
            "shop_id       5\n",
            "item_id    5210\n",
            "Name: 1881, dtype: int64)\n",
            "(1882, ID         1882\n",
            "shop_id       5\n",
            "item_id    5005\n",
            "Name: 1882, dtype: int64)\n",
            "(1883, ID         1883\n",
            "shop_id       5\n",
            "item_id    5844\n",
            "Name: 1883, dtype: int64)\n",
            "(1884, ID         1884\n",
            "shop_id       5\n",
            "item_id    5656\n",
            "Name: 1884, dtype: int64)\n",
            "(1885, ID         1885\n",
            "shop_id       5\n",
            "item_id    5352\n",
            "Name: 1885, dtype: int64)\n",
            "(1886, ID         1886\n",
            "shop_id       5\n",
            "item_id    5469\n",
            "Name: 1886, dtype: int64)\n",
            "(1887, ID         1887\n",
            "shop_id       5\n",
            "item_id    5488\n",
            "Name: 1887, dtype: int64)\n",
            "(1888, ID         1888\n",
            "shop_id       5\n",
            "item_id    5490\n",
            "Name: 1888, dtype: int64)\n",
            "(1889, ID         1889\n",
            "shop_id       5\n",
            "item_id    5497\n",
            "Name: 1889, dtype: int64)\n",
            "(1890, ID         1890\n",
            "shop_id       5\n",
            "item_id    5517\n",
            "Name: 1890, dtype: int64)\n",
            "(1891, ID          1891\n",
            "shop_id        5\n",
            "item_id    16922\n",
            "Name: 1891, dtype: int64)\n",
            "(1892, ID         1892\n",
            "shop_id       5\n",
            "item_id    9208\n",
            "Name: 1892, dtype: int64)\n",
            "(1893, ID         1893\n",
            "shop_id       5\n",
            "item_id    8744\n",
            "Name: 1893, dtype: int64)\n",
            "(1894, ID         1894\n",
            "shop_id       5\n",
            "item_id    8801\n",
            "Name: 1894, dtype: int64)\n",
            "(1895, ID         1895\n",
            "shop_id       5\n",
            "item_id    8570\n",
            "Name: 1895, dtype: int64)\n",
            "(1896, ID         1896\n",
            "shop_id       5\n",
            "item_id    8862\n",
            "Name: 1896, dtype: int64)\n",
            "(1897, ID         1897\n",
            "shop_id       5\n",
            "item_id    8867\n",
            "Name: 1897, dtype: int64)\n",
            "(1898, ID         1898\n",
            "shop_id       5\n",
            "item_id    8871\n",
            "Name: 1898, dtype: int64)\n",
            "(1899, ID         1899\n",
            "shop_id       5\n",
            "item_id    8365\n",
            "Name: 1899, dtype: int64)\n",
            "(1900, ID         1900\n",
            "shop_id       5\n",
            "item_id    8398\n",
            "Name: 1900, dtype: int64)\n",
            "(1901, ID         1901\n",
            "shop_id       5\n",
            "item_id    9321\n",
            "Name: 1901, dtype: int64)\n",
            "(1902, ID         1902\n",
            "shop_id       5\n",
            "item_id    9882\n",
            "Name: 1902, dtype: int64)\n",
            "(1903, ID         1903\n",
            "shop_id       5\n",
            "item_id    9949\n",
            "Name: 1903, dtype: int64)\n",
            "(1904, ID         1904\n",
            "shop_id       5\n",
            "item_id    9980\n",
            "Name: 1904, dtype: int64)\n",
            "(1905, ID         1905\n",
            "shop_id       5\n",
            "item_id    9054\n",
            "Name: 1905, dtype: int64)\n",
            "(1906, ID         1906\n",
            "shop_id       5\n",
            "item_id    9478\n",
            "Name: 1906, dtype: int64)\n",
            "(1907, ID         1907\n",
            "shop_id       5\n",
            "item_id    9507\n",
            "Name: 1907, dtype: int64)\n",
            "(1908, ID         1908\n",
            "shop_id       5\n",
            "item_id    8226\n",
            "Name: 1908, dtype: int64)\n",
            "(1909, ID         1909\n",
            "shop_id       5\n",
            "item_id    7173\n",
            "Name: 1909, dtype: int64)\n",
            "(1910, ID         1910\n",
            "shop_id       5\n",
            "item_id    7458\n",
            "Name: 1910, dtype: int64)\n",
            "(1911, ID         1911\n",
            "shop_id       5\n",
            "item_id    7499\n",
            "Name: 1911, dtype: int64)\n",
            "(1912, ID         1912\n",
            "shop_id       5\n",
            "item_id    7018\n",
            "Name: 1912, dtype: int64)\n",
            "(1913, ID         1913\n",
            "shop_id       5\n",
            "item_id    6350\n",
            "Name: 1913, dtype: int64)\n",
            "(1914, ID         1914\n",
            "shop_id       5\n",
            "item_id    6837\n",
            "Name: 1914, dtype: int64)\n",
            "(1915, ID         1915\n",
            "shop_id       5\n",
            "item_id    6861\n",
            "Name: 1915, dtype: int64)\n",
            "(1916, ID         1916\n",
            "shop_id       5\n",
            "item_id    6996\n",
            "Name: 1916, dtype: int64)\n",
            "(1917, ID         1917\n",
            "shop_id       5\n",
            "item_id    7524\n",
            "Name: 1917, dtype: int64)\n",
            "(1918, ID         1918\n",
            "shop_id       5\n",
            "item_id    7730\n",
            "Name: 1918, dtype: int64)\n",
            "(1919, ID         1919\n",
            "shop_id       5\n",
            "item_id    7878\n",
            "Name: 1919, dtype: int64)\n",
            "(1920, ID         1920\n",
            "shop_id       5\n",
            "item_id    7882\n",
            "Name: 1920, dtype: int64)\n",
            "(1921, ID         1921\n",
            "shop_id       5\n",
            "item_id    7929\n",
            "Name: 1921, dtype: int64)\n",
            "(1922, ID         1922\n",
            "shop_id       5\n",
            "item_id    8012\n",
            "Name: 1922, dtype: int64)\n",
            "(1923, ID         1923\n",
            "shop_id       5\n",
            "item_id    8044\n",
            "Name: 1923, dtype: int64)\n",
            "(1924, ID         1924\n",
            "shop_id       5\n",
            "item_id    8035\n",
            "Name: 1924, dtype: int64)\n",
            "(1925, ID         1925\n",
            "shop_id       5\n",
            "item_id    8110\n",
            "Name: 1925, dtype: int64)\n",
            "(1926, ID         1926\n",
            "shop_id       5\n",
            "item_id    8162\n",
            "Name: 1926, dtype: int64)\n",
            "(1927, ID         1927\n",
            "shop_id       5\n",
            "item_id    8164\n",
            "Name: 1927, dtype: int64)\n",
            "(1928, ID         1928\n",
            "shop_id       5\n",
            "item_id    8166\n",
            "Name: 1928, dtype: int64)\n",
            "(1929, ID         1929\n",
            "shop_id       5\n",
            "item_id    8191\n",
            "Name: 1929, dtype: int64)\n",
            "(1930, ID         1930\n",
            "shop_id       5\n",
            "item_id    7793\n",
            "Name: 1930, dtype: int64)\n",
            "(1931, ID         1931\n",
            "shop_id       5\n",
            "item_id    7653\n",
            "Name: 1931, dtype: int64)\n",
            "(1932, ID         1932\n",
            "shop_id       5\n",
            "item_id    4554\n",
            "Name: 1932, dtype: int64)\n",
            "(1933, ID         1933\n",
            "shop_id       5\n",
            "item_id    3934\n",
            "Name: 1933, dtype: int64)\n",
            "(1934, ID         1934\n",
            "shop_id       5\n",
            "item_id    4008\n",
            "Name: 1934, dtype: int64)\n",
            "(1935, ID         1935\n",
            "shop_id       5\n",
            "item_id    5036\n",
            "Name: 1935, dtype: int64)\n",
            "(1936, ID         1936\n",
            "shop_id       5\n",
            "item_id    4993\n",
            "Name: 1936, dtype: int64)\n",
            "(1937, ID         1937\n",
            "shop_id       5\n",
            "item_id    4871\n",
            "Name: 1937, dtype: int64)\n",
            "(1938, ID         1938\n",
            "shop_id       5\n",
            "item_id    3421\n",
            "Name: 1938, dtype: int64)\n",
            "(1939, ID         1939\n",
            "shop_id       5\n",
            "item_id    3778\n",
            "Name: 1939, dtype: int64)\n",
            "(1940, ID         1940\n",
            "shop_id       5\n",
            "item_id    3477\n",
            "Name: 1940, dtype: int64)\n",
            "(1941, ID         1941\n",
            "shop_id       5\n",
            "item_id    7213\n",
            "Name: 1941, dtype: int64)\n",
            "(1942, ID         1942\n",
            "shop_id       5\n",
            "item_id    7673\n",
            "Name: 1942, dtype: int64)\n",
            "(1943, ID         1943\n",
            "shop_id       5\n",
            "item_id    7324\n",
            "Name: 1943, dtype: int64)\n",
            "(1944, ID         1944\n",
            "shop_id       5\n",
            "item_id    7159\n",
            "Name: 1944, dtype: int64)\n",
            "(1945, ID         1945\n",
            "shop_id       5\n",
            "item_id    7072\n",
            "Name: 1945, dtype: int64)\n",
            "(1946, ID         1946\n",
            "shop_id       5\n",
            "item_id    6953\n",
            "Name: 1946, dtype: int64)\n",
            "(1947, ID         1947\n",
            "shop_id       5\n",
            "item_id    8421\n",
            "Name: 1947, dtype: int64)\n",
            "(1948, ID         1948\n",
            "shop_id       5\n",
            "item_id    8573\n",
            "Name: 1948, dtype: int64)\n",
            "(1949, ID         1949\n",
            "shop_id       5\n",
            "item_id    8607\n",
            "Name: 1949, dtype: int64)\n",
            "(1950, ID         1950\n",
            "shop_id       5\n",
            "item_id    8686\n",
            "Name: 1950, dtype: int64)\n",
            "(1951, ID         1951\n",
            "shop_id       5\n",
            "item_id    8757\n",
            "Name: 1951, dtype: int64)\n",
            "(1952, ID         1952\n",
            "shop_id       5\n",
            "item_id    8819\n",
            "Name: 1952, dtype: int64)\n",
            "(1953, ID         1953\n",
            "shop_id       5\n",
            "item_id    8448\n",
            "Name: 1953, dtype: int64)\n",
            "(1954, ID         1954\n",
            "shop_id       5\n",
            "item_id    6714\n",
            "Name: 1954, dtype: int64)\n",
            "(1955, ID         1955\n",
            "shop_id       5\n",
            "item_id    6734\n",
            "Name: 1955, dtype: int64)\n",
            "(1956, ID         1956\n",
            "shop_id       5\n",
            "item_id    6126\n",
            "Name: 1956, dtype: int64)\n",
            "(1957, ID         1957\n",
            "shop_id       5\n",
            "item_id    6377\n",
            "Name: 1957, dtype: int64)\n",
            "(1958, ID         1958\n",
            "shop_id       5\n",
            "item_id    6308\n",
            "Name: 1958, dtype: int64)\n",
            "(1959, ID          1959\n",
            "shop_id        5\n",
            "item_id    20403\n",
            "Name: 1959, dtype: int64)\n",
            "(1960, ID          1960\n",
            "shop_id        5\n",
            "item_id    20560\n",
            "Name: 1960, dtype: int64)\n",
            "(1961, ID          1961\n",
            "shop_id        5\n",
            "item_id    20602\n",
            "Name: 1961, dtype: int64)\n",
            "(1962, ID          1962\n",
            "shop_id        5\n",
            "item_id    20618\n",
            "Name: 1962, dtype: int64)\n",
            "(1963, ID          1963\n",
            "shop_id        5\n",
            "item_id    20622\n",
            "Name: 1963, dtype: int64)\n",
            "(1964, ID          1964\n",
            "shop_id        5\n",
            "item_id    20629\n",
            "Name: 1964, dtype: int64)\n",
            "(1965, ID          1965\n",
            "shop_id        5\n",
            "item_id    20630\n",
            "Name: 1965, dtype: int64)\n",
            "(1966, ID          1966\n",
            "shop_id        5\n",
            "item_id    20746\n",
            "Name: 1966, dtype: int64)\n",
            "(1967, ID          1967\n",
            "shop_id        5\n",
            "item_id    19672\n",
            "Name: 1967, dtype: int64)\n",
            "(1968, ID          1968\n",
            "shop_id        5\n",
            "item_id    19796\n",
            "Name: 1968, dtype: int64)\n",
            "(1969, ID          1969\n",
            "shop_id        5\n",
            "item_id    19835\n",
            "Name: 1969, dtype: int64)\n",
            "(1970, ID          1970\n",
            "shop_id        5\n",
            "item_id    19874\n",
            "Name: 1970, dtype: int64)\n",
            "(1971, ID          1971\n",
            "shop_id        5\n",
            "item_id    19893\n",
            "Name: 1971, dtype: int64)\n",
            "(1972, ID          1972\n",
            "shop_id        5\n",
            "item_id    20070\n",
            "Name: 1972, dtype: int64)\n",
            "(1973, ID          1973\n",
            "shop_id        5\n",
            "item_id    20091\n",
            "Name: 1973, dtype: int64)\n",
            "(1974, ID          1974\n",
            "shop_id        5\n",
            "item_id    20184\n",
            "Name: 1974, dtype: int64)\n",
            "(1975, ID          1975\n",
            "shop_id        5\n",
            "item_id    20378\n",
            "Name: 1975, dtype: int64)\n",
            "(1976, ID          1976\n",
            "shop_id        5\n",
            "item_id    20396\n",
            "Name: 1976, dtype: int64)\n",
            "(1977, ID          1977\n",
            "shop_id        5\n",
            "item_id    20878\n",
            "Name: 1977, dtype: int64)\n",
            "(1978, ID          1978\n",
            "shop_id        5\n",
            "item_id    21362\n",
            "Name: 1978, dtype: int64)\n",
            "(1979, ID          1979\n",
            "shop_id        5\n",
            "item_id    17449\n",
            "Name: 1979, dtype: int64)\n",
            "(1980, ID          1980\n",
            "shop_id        5\n",
            "item_id    17869\n",
            "Name: 1980, dtype: int64)\n",
            "(1981, ID          1981\n",
            "shop_id        5\n",
            "item_id    17882\n",
            "Name: 1981, dtype: int64)\n",
            "(1982, ID          1982\n",
            "shop_id        5\n",
            "item_id    16976\n",
            "Name: 1982, dtype: int64)\n",
            "(1983, ID          1983\n",
            "shop_id        5\n",
            "item_id    16987\n",
            "Name: 1983, dtype: int64)\n",
            "(1984, ID          1984\n",
            "shop_id        5\n",
            "item_id    17105\n",
            "Name: 1984, dtype: int64)\n",
            "(1985, ID          1985\n",
            "shop_id        5\n",
            "item_id    17107\n",
            "Name: 1985, dtype: int64)\n",
            "(1986, ID          1986\n",
            "shop_id        5\n",
            "item_id    17662\n",
            "Name: 1986, dtype: int64)\n",
            "(1987, ID          1987\n",
            "shop_id        5\n",
            "item_id    17229\n",
            "Name: 1987, dtype: int64)\n",
            "(1988, ID          1988\n",
            "shop_id        5\n",
            "item_id    17290\n",
            "Name: 1988, dtype: int64)\n",
            "(1989, ID          1989\n",
            "shop_id        5\n",
            "item_id    18109\n",
            "Name: 1989, dtype: int64)\n",
            "(1990, ID          1990\n",
            "shop_id        5\n",
            "item_id    21548\n",
            "Name: 1990, dtype: int64)\n",
            "(1991, ID          1991\n",
            "shop_id        5\n",
            "item_id    18129\n",
            "Name: 1991, dtype: int64)\n",
            "(1992, ID          1992\n",
            "shop_id        5\n",
            "item_id    19244\n",
            "Name: 1992, dtype: int64)\n",
            "(1993, ID          1993\n",
            "shop_id        5\n",
            "item_id    19576\n",
            "Name: 1993, dtype: int64)\n",
            "(1994, ID          1994\n",
            "shop_id        5\n",
            "item_id    19948\n",
            "Name: 1994, dtype: int64)\n",
            "(1995, ID          1995\n",
            "shop_id        5\n",
            "item_id    19650\n",
            "Name: 1995, dtype: int64)\n",
            "(1996, ID          1996\n",
            "shop_id        5\n",
            "item_id    19487\n",
            "Name: 1996, dtype: int64)\n",
            "(1997, ID          1997\n",
            "shop_id        5\n",
            "item_id    19155\n",
            "Name: 1997, dtype: int64)\n",
            "(1998, ID          1998\n",
            "shop_id        5\n",
            "item_id    18181\n",
            "Name: 1998, dtype: int64)\n",
            "(1999, ID          1999\n",
            "shop_id        5\n",
            "item_id    18200\n",
            "Name: 1999, dtype: int64)\n",
            "(2000, ID          2000\n",
            "shop_id        5\n",
            "item_id    18255\n",
            "Name: 2000, dtype: int64)\n",
            "(2001, ID          2001\n",
            "shop_id        5\n",
            "item_id    18497\n",
            "Name: 2001, dtype: int64)\n",
            "(2002, ID          2002\n",
            "shop_id        5\n",
            "item_id    18672\n",
            "Name: 2002, dtype: int64)\n",
            "(2003, ID          2003\n",
            "shop_id        5\n",
            "item_id    18719\n",
            "Name: 2003, dtype: int64)\n",
            "(2004, ID          2004\n",
            "shop_id        5\n",
            "item_id    18924\n",
            "Name: 2004, dtype: int64)\n",
            "(2005, ID          2005\n",
            "shop_id        5\n",
            "item_id    19094\n",
            "Name: 2005, dtype: int64)\n",
            "(2006, ID          2006\n",
            "shop_id        5\n",
            "item_id    19117\n",
            "Name: 2006, dtype: int64)\n",
            "(2007, ID          2007\n",
            "shop_id        5\n",
            "item_id    18163\n",
            "Name: 2007, dtype: int64)\n",
            "(2008, ID         2008\n",
            "shop_id       5\n",
            "item_id    2688\n",
            "Name: 2008, dtype: int64)\n",
            "(2009, ID         2009\n",
            "shop_id       5\n",
            "item_id    2778\n",
            "Name: 2009, dtype: int64)\n",
            "(2010, ID         2010\n",
            "shop_id       5\n",
            "item_id    2639\n",
            "Name: 2010, dtype: int64)\n",
            "(2011, ID         2011\n",
            "shop_id       5\n",
            "item_id    2851\n",
            "Name: 2011, dtype: int64)\n",
            "(2012, ID         2012\n",
            "shop_id       5\n",
            "item_id    2671\n",
            "Name: 2012, dtype: int64)\n",
            "(2013, ID         2013\n",
            "shop_id       5\n",
            "item_id    3393\n",
            "Name: 2013, dtype: int64)\n",
            "(2014, ID         2014\n",
            "shop_id       5\n",
            "item_id    2652\n",
            "Name: 2014, dtype: int64)\n",
            "(2015, ID         2015\n",
            "shop_id       5\n",
            "item_id    2867\n",
            "Name: 2015, dtype: int64)\n",
            "(2016, ID         2016\n",
            "shop_id       5\n",
            "item_id    2872\n",
            "Name: 2016, dtype: int64)\n",
            "(2017, ID         2017\n",
            "shop_id       5\n",
            "item_id    2880\n",
            "Name: 2017, dtype: int64)\n",
            "(2018, ID         2018\n",
            "shop_id       5\n",
            "item_id    2940\n",
            "Name: 2018, dtype: int64)\n",
            "(2019, ID         2019\n",
            "shop_id       5\n",
            "item_id      62\n",
            "Name: 2019, dtype: int64)\n",
            "(2020, ID          2020\n",
            "shop_id        5\n",
            "item_id    21827\n",
            "Name: 2020, dtype: int64)\n",
            "(2021, ID          2021\n",
            "shop_id        5\n",
            "item_id    21828\n",
            "Name: 2021, dtype: int64)\n",
            "(2022, ID          2022\n",
            "shop_id        5\n",
            "item_id    21906\n",
            "Name: 2022, dtype: int64)\n",
            "(2023, ID          2023\n",
            "shop_id        5\n",
            "item_id    22071\n",
            "Name: 2023, dtype: int64)\n",
            "(2024, ID          2024\n",
            "shop_id        5\n",
            "item_id    22104\n",
            "Name: 2024, dtype: int64)\n",
            "(2025, ID          2025\n",
            "shop_id        5\n",
            "item_id    21706\n",
            "Name: 2025, dtype: int64)\n",
            "(2026, ID         2026\n",
            "shop_id       5\n",
            "item_id    1857\n",
            "Name: 2026, dtype: int64)\n",
            "(2027, ID         2027\n",
            "shop_id       5\n",
            "item_id    2284\n",
            "Name: 2027, dtype: int64)\n",
            "(2028, ID         2028\n",
            "shop_id       5\n",
            "item_id    1523\n",
            "Name: 2028, dtype: int64)\n",
            "(2029, ID         2029\n",
            "shop_id       5\n",
            "item_id    1241\n",
            "Name: 2029, dtype: int64)\n",
            "(2030, ID         2030\n",
            "shop_id       5\n",
            "item_id    1238\n",
            "Name: 2030, dtype: int64)\n",
            "(2031, ID         2031\n",
            "shop_id       5\n",
            "item_id    1202\n",
            "Name: 2031, dtype: int64)\n",
            "(2032, ID         2032\n",
            "shop_id       5\n",
            "item_id    1199\n",
            "Name: 2032, dtype: int64)\n",
            "(2033, ID         2033\n",
            "shop_id       5\n",
            "item_id    1176\n",
            "Name: 2033, dtype: int64)\n",
            "(2034, ID         2034\n",
            "shop_id       5\n",
            "item_id    1132\n",
            "Name: 2034, dtype: int64)\n",
            "(2035, ID         2035\n",
            "shop_id       5\n",
            "item_id    1102\n",
            "Name: 2035, dtype: int64)\n",
            "(2036, ID         2036\n",
            "shop_id       5\n",
            "item_id    1101\n",
            "Name: 2036, dtype: int64)\n",
            "(2037, ID         2037\n",
            "shop_id       5\n",
            "item_id    1087\n",
            "Name: 2037, dtype: int64)\n",
            "(2038, ID         2038\n",
            "shop_id       5\n",
            "item_id    1249\n",
            "Name: 2038, dtype: int64)\n",
            "(2039, ID         2039\n",
            "shop_id       5\n",
            "item_id    1306\n",
            "Name: 2039, dtype: int64)\n",
            "(2040, ID         2040\n",
            "shop_id       5\n",
            "item_id    1247\n",
            "Name: 2040, dtype: int64)\n",
            "(2041, ID         2041\n",
            "shop_id       5\n",
            "item_id    1257\n",
            "Name: 2041, dtype: int64)\n",
            "(2042, ID         2042\n",
            "shop_id       5\n",
            "item_id    1037\n",
            "Name: 2042, dtype: int64)\n",
            "(2043, ID         2043\n",
            "shop_id       5\n",
            "item_id     445\n",
            "Name: 2043, dtype: int64)\n",
            "(2044, ID         2044\n",
            "shop_id       5\n",
            "item_id     408\n",
            "Name: 2044, dtype: int64)\n",
            "(2045, ID         2045\n",
            "shop_id       5\n",
            "item_id     407\n",
            "Name: 2045, dtype: int64)\n",
            "(2046, ID         2046\n",
            "shop_id       5\n",
            "item_id     388\n",
            "Name: 2046, dtype: int64)\n",
            "(2047, ID         2047\n",
            "shop_id       5\n",
            "item_id     356\n",
            "Name: 2047, dtype: int64)\n",
            "(2048, ID         2048\n",
            "shop_id       5\n",
            "item_id     325\n",
            "Name: 2048, dtype: int64)\n",
            "(2049, ID         2049\n",
            "shop_id       5\n",
            "item_id     313\n",
            "Name: 2049, dtype: int64)\n",
            "(2050, ID         2050\n",
            "shop_id       5\n",
            "item_id     269\n",
            "Name: 2050, dtype: int64)\n",
            "(2051, ID         2051\n",
            "shop_id       5\n",
            "item_id     253\n",
            "Name: 2051, dtype: int64)\n",
            "(2052, ID         2052\n",
            "shop_id       5\n",
            "item_id     248\n",
            "Name: 2052, dtype: int64)\n",
            "(2053, ID         2053\n",
            "shop_id       5\n",
            "item_id     213\n",
            "Name: 2053, dtype: int64)\n",
            "(2054, ID         2054\n",
            "shop_id       5\n",
            "item_id     205\n",
            "Name: 2054, dtype: int64)\n",
            "(2055, ID         2055\n",
            "shop_id       5\n",
            "item_id     202\n",
            "Name: 2055, dtype: int64)\n",
            "(2056, ID         2056\n",
            "shop_id       5\n",
            "item_id     149\n",
            "Name: 2056, dtype: int64)\n",
            "(2057, ID         2057\n",
            "shop_id       5\n",
            "item_id     138\n",
            "Name: 2057, dtype: int64)\n",
            "(2058, ID         2058\n",
            "shop_id       5\n",
            "item_id     308\n",
            "Name: 2058, dtype: int64)\n",
            "(2059, ID         2059\n",
            "shop_id       5\n",
            "item_id     968\n",
            "Name: 2059, dtype: int64)\n",
            "(2060, ID         2060\n",
            "shop_id       5\n",
            "item_id     687\n",
            "Name: 2060, dtype: int64)\n",
            "(2061, ID         2061\n",
            "shop_id       5\n",
            "item_id    1864\n",
            "Name: 2061, dtype: int64)\n",
            "(2062, ID         2062\n",
            "shop_id       5\n",
            "item_id    1817\n",
            "Name: 2062, dtype: int64)\n",
            "(2063, ID         2063\n",
            "shop_id       5\n",
            "item_id    1622\n",
            "Name: 2063, dtype: int64)\n",
            "(2064, ID         2064\n",
            "shop_id       5\n",
            "item_id    1618\n",
            "Name: 2064, dtype: int64)\n",
            "(2065, ID         2065\n",
            "shop_id       5\n",
            "item_id    1579\n",
            "Name: 2065, dtype: int64)\n",
            "(2066, ID         2066\n",
            "shop_id       5\n",
            "item_id    1565\n",
            "Name: 2066, dtype: int64)\n",
            "(2067, ID         2067\n",
            "shop_id       5\n",
            "item_id    1556\n",
            "Name: 2067, dtype: int64)\n",
            "(2068, ID         2068\n",
            "shop_id       5\n",
            "item_id    1555\n",
            "Name: 2068, dtype: int64)\n",
            "(2069, ID         2069\n",
            "shop_id       5\n",
            "item_id     109\n",
            "Name: 2069, dtype: int64)\n",
            "(2070, ID         2070\n",
            "shop_id       5\n",
            "item_id      93\n",
            "Name: 2070, dtype: int64)\n",
            "(2071, ID          2071\n",
            "shop_id        5\n",
            "item_id    21355\n",
            "Name: 2071, dtype: int64)\n",
            "(2072, ID          2072\n",
            "shop_id        5\n",
            "item_id    21110\n",
            "Name: 2072, dtype: int64)\n",
            "(2073, ID          2073\n",
            "shop_id        5\n",
            "item_id    21441\n",
            "Name: 2073, dtype: int64)\n",
            "(2074, ID          2074\n",
            "shop_id        5\n",
            "item_id    21363\n",
            "Name: 2074, dtype: int64)\n",
            "(2075, ID          2075\n",
            "shop_id        5\n",
            "item_id    21386\n",
            "Name: 2075, dtype: int64)\n",
            "(2076, ID          2076\n",
            "shop_id        5\n",
            "item_id    20829\n",
            "Name: 2076, dtype: int64)\n",
            "(2077, ID          2077\n",
            "shop_id        5\n",
            "item_id    20812\n",
            "Name: 2077, dtype: int64)\n",
            "(2078, ID          2078\n",
            "shop_id        5\n",
            "item_id    20800\n",
            "Name: 2078, dtype: int64)\n",
            "(2079, ID          2079\n",
            "shop_id        5\n",
            "item_id    20731\n",
            "Name: 2079, dtype: int64)\n",
            "(2080, ID          2080\n",
            "shop_id        5\n",
            "item_id    20718\n",
            "Name: 2080, dtype: int64)\n",
            "(2081, ID          2081\n",
            "shop_id        5\n",
            "item_id    20680\n",
            "Name: 2081, dtype: int64)\n",
            "(2082, ID          2082\n",
            "shop_id        5\n",
            "item_id    20678\n",
            "Name: 2082, dtype: int64)\n",
            "(2083, ID          2083\n",
            "shop_id        5\n",
            "item_id    20643\n",
            "Name: 2083, dtype: int64)\n",
            "(2084, ID          2084\n",
            "shop_id        5\n",
            "item_id    20831\n",
            "Name: 2084, dtype: int64)\n",
            "(2085, ID          2085\n",
            "shop_id        5\n",
            "item_id    20243\n",
            "Name: 2085, dtype: int64)\n",
            "(2086, ID          2086\n",
            "shop_id        5\n",
            "item_id    20265\n",
            "Name: 2086, dtype: int64)\n",
            "(2087, ID          2087\n",
            "shop_id        5\n",
            "item_id    22050\n",
            "Name: 2087, dtype: int64)\n",
            "(2088, ID         2088\n",
            "shop_id       5\n",
            "item_id      57\n",
            "Name: 2088, dtype: int64)\n",
            "(2089, ID         2089\n",
            "shop_id       5\n",
            "item_id      45\n",
            "Name: 2089, dtype: int64)\n",
            "(2090, ID         2090\n",
            "shop_id       5\n",
            "item_id      42\n",
            "Name: 2090, dtype: int64)\n",
            "(2091, ID         2091\n",
            "shop_id       5\n",
            "item_id      38\n",
            "Name: 2091, dtype: int64)\n",
            "(2092, ID         2092\n",
            "shop_id       5\n",
            "item_id      33\n",
            "Name: 2092, dtype: int64)\n",
            "(2093, ID          2093\n",
            "shop_id        5\n",
            "item_id    21759\n",
            "Name: 2093, dtype: int64)\n",
            "(2094, ID          2094\n",
            "shop_id        5\n",
            "item_id    21732\n",
            "Name: 2094, dtype: int64)\n",
            "(2095, ID          2095\n",
            "shop_id        5\n",
            "item_id    21458\n",
            "Name: 2095, dtype: int64)\n",
            "(2096, ID          2096\n",
            "shop_id        5\n",
            "item_id    21624\n",
            "Name: 2096, dtype: int64)\n",
            "(2097, ID          2097\n",
            "shop_id        5\n",
            "item_id    21955\n",
            "Name: 2097, dtype: int64)\n",
            "(2098, ID          2098\n",
            "shop_id        5\n",
            "item_id    21929\n",
            "Name: 2098, dtype: int64)\n",
            "(2099, ID          2099\n",
            "shop_id        5\n",
            "item_id    21928\n",
            "Name: 2099, dtype: int64)\n",
            "(2100, ID          2100\n",
            "shop_id        5\n",
            "item_id    21842\n",
            "Name: 2100, dtype: int64)\n",
            "(2101, ID          2101\n",
            "shop_id        5\n",
            "item_id    21835\n",
            "Name: 2101, dtype: int64)\n",
            "(2102, ID          2102\n",
            "shop_id        5\n",
            "item_id    21976\n",
            "Name: 2102, dtype: int64)\n",
            "(2103, ID         2103\n",
            "shop_id       5\n",
            "item_id    3282\n",
            "Name: 2103, dtype: int64)\n",
            "(2104, ID         2104\n",
            "shop_id       5\n",
            "item_id    3278\n",
            "Name: 2104, dtype: int64)\n",
            "(2105, ID         2105\n",
            "shop_id       5\n",
            "item_id    3579\n",
            "Name: 2105, dtype: int64)\n",
            "(2106, ID         2106\n",
            "shop_id       5\n",
            "item_id    3707\n",
            "Name: 2106, dtype: int64)\n",
            "(2107, ID         2107\n",
            "shop_id       5\n",
            "item_id    3692\n",
            "Name: 2107, dtype: int64)\n",
            "(2108, ID         2108\n",
            "shop_id       5\n",
            "item_id    3385\n",
            "Name: 2108, dtype: int64)\n",
            "(2109, ID         2109\n",
            "shop_id       5\n",
            "item_id    3485\n",
            "Name: 2109, dtype: int64)\n",
            "(2110, ID         2110\n",
            "shop_id       5\n",
            "item_id    2324\n",
            "Name: 2110, dtype: int64)\n",
            "(2111, ID         2111\n",
            "shop_id       5\n",
            "item_id    2226\n",
            "Name: 2111, dtype: int64)\n",
            "(2112, ID         2112\n",
            "shop_id       5\n",
            "item_id    2187\n",
            "Name: 2112, dtype: int64)\n",
            "(2113, ID         2113\n",
            "shop_id       5\n",
            "item_id    2182\n",
            "Name: 2113, dtype: int64)\n",
            "(2114, ID         2114\n",
            "shop_id       5\n",
            "item_id    2360\n",
            "Name: 2114, dtype: int64)\n",
            "(2115, ID         2115\n",
            "shop_id       5\n",
            "item_id    2078\n",
            "Name: 2115, dtype: int64)\n",
            "(2116, ID         2116\n",
            "shop_id       5\n",
            "item_id    1729\n",
            "Name: 2116, dtype: int64)\n",
            "(2117, ID         2117\n",
            "shop_id       5\n",
            "item_id    1687\n",
            "Name: 2117, dtype: int64)\n",
            "(2118, ID         2118\n",
            "shop_id       5\n",
            "item_id    1686\n",
            "Name: 2118, dtype: int64)\n",
            "(2119, ID         2119\n",
            "shop_id       5\n",
            "item_id    1682\n",
            "Name: 2119, dtype: int64)\n",
            "(2120, ID         2120\n",
            "shop_id       5\n",
            "item_id    1663\n",
            "Name: 2120, dtype: int64)\n",
            "(2121, ID         2121\n",
            "shop_id       5\n",
            "item_id    2287\n",
            "Name: 2121, dtype: int64)\n",
            "(2122, ID         2122\n",
            "shop_id       5\n",
            "item_id    1761\n",
            "Name: 2122, dtype: int64)\n",
            "(2123, ID         2123\n",
            "shop_id       5\n",
            "item_id    2035\n",
            "Name: 2123, dtype: int64)\n",
            "(2124, ID         2124\n",
            "shop_id       5\n",
            "item_id    1988\n",
            "Name: 2124, dtype: int64)\n",
            "(2125, ID         2125\n",
            "shop_id       5\n",
            "item_id    1753\n",
            "Name: 2125, dtype: int64)\n",
            "(2126, ID         2126\n",
            "shop_id       5\n",
            "item_id    1740\n",
            "Name: 2126, dtype: int64)\n",
            "(2127, ID         2127\n",
            "shop_id       5\n",
            "item_id    2951\n",
            "Name: 2127, dtype: int64)\n",
            "(2128, ID         2128\n",
            "shop_id       5\n",
            "item_id    3158\n",
            "Name: 2128, dtype: int64)\n",
            "(2129, ID         2129\n",
            "shop_id       5\n",
            "item_id    3108\n",
            "Name: 2129, dtype: int64)\n",
            "(2130, ID         2130\n",
            "shop_id       5\n",
            "item_id    3080\n",
            "Name: 2130, dtype: int64)\n",
            "(2131, ID         2131\n",
            "shop_id       5\n",
            "item_id    3054\n",
            "Name: 2131, dtype: int64)\n",
            "(2132, ID         2132\n",
            "shop_id       5\n",
            "item_id    3014\n",
            "Name: 2132, dtype: int64)\n",
            "(2133, ID         2133\n",
            "shop_id       5\n",
            "item_id    2550\n",
            "Name: 2133, dtype: int64)\n",
            "(2134, ID         2134\n",
            "shop_id       5\n",
            "item_id    2544\n",
            "Name: 2134, dtype: int64)\n",
            "(2135, ID         2135\n",
            "shop_id       5\n",
            "item_id    2529\n",
            "Name: 2135, dtype: int64)\n",
            "(2136, ID         2136\n",
            "shop_id       5\n",
            "item_id    2508\n",
            "Name: 2136, dtype: int64)\n",
            "(2137, ID         2137\n",
            "shop_id       5\n",
            "item_id    2442\n",
            "Name: 2137, dtype: int64)\n",
            "(2138, ID         2138\n",
            "shop_id       5\n",
            "item_id    2864\n",
            "Name: 2138, dtype: int64)\n",
            "(2139, ID         2139\n",
            "shop_id       5\n",
            "item_id    2634\n",
            "Name: 2139, dtype: int64)\n",
            "(2140, ID         2140\n",
            "shop_id       5\n",
            "item_id    2886\n",
            "Name: 2140, dtype: int64)\n",
            "(2141, ID          2141\n",
            "shop_id        5\n",
            "item_id    13855\n",
            "Name: 2141, dtype: int64)\n",
            "(2142, ID          2142\n",
            "shop_id        5\n",
            "item_id    13058\n",
            "Name: 2142, dtype: int64)\n",
            "(2143, ID          2143\n",
            "shop_id        5\n",
            "item_id    13041\n",
            "Name: 2143, dtype: int64)\n",
            "(2144, ID          2144\n",
            "shop_id        5\n",
            "item_id    13742\n",
            "Name: 2144, dtype: int64)\n",
            "(2145, ID          2145\n",
            "shop_id        5\n",
            "item_id    14254\n",
            "Name: 2145, dtype: int64)\n",
            "(2146, ID          2146\n",
            "shop_id        5\n",
            "item_id    14931\n",
            "Name: 2146, dtype: int64)\n",
            "(2147, ID          2147\n",
            "shop_id        5\n",
            "item_id    14102\n",
            "Name: 2147, dtype: int64)\n",
            "(2148, ID          2148\n",
            "shop_id        5\n",
            "item_id    13968\n",
            "Name: 2148, dtype: int64)\n",
            "(2149, ID          2149\n",
            "shop_id        5\n",
            "item_id    13900\n",
            "Name: 2149, dtype: int64)\n",
            "(2150, ID          2150\n",
            "shop_id        5\n",
            "item_id    13587\n",
            "Name: 2150, dtype: int64)\n",
            "(2151, ID          2151\n",
            "shop_id        5\n",
            "item_id    13586\n",
            "Name: 2151, dtype: int64)\n",
            "(2152, ID          2152\n",
            "shop_id        5\n",
            "item_id    13579\n",
            "Name: 2152, dtype: int64)\n",
            "(2153, ID          2153\n",
            "shop_id        5\n",
            "item_id    12803\n",
            "Name: 2153, dtype: int64)\n",
            "(2154, ID          2154\n",
            "shop_id        5\n",
            "item_id    13542\n",
            "Name: 2154, dtype: int64)\n",
            "(2155, ID          2155\n",
            "shop_id        5\n",
            "item_id    13541\n",
            "Name: 2155, dtype: int64)\n",
            "(2156, ID          2156\n",
            "shop_id        5\n",
            "item_id    13631\n",
            "Name: 2156, dtype: int64)\n",
            "(2157, ID          2157\n",
            "shop_id        5\n",
            "item_id    13030\n",
            "Name: 2157, dtype: int64)\n",
            "(2158, ID          2158\n",
            "shop_id        5\n",
            "item_id    13029\n",
            "Name: 2158, dtype: int64)\n",
            "(2159, ID          2159\n",
            "shop_id        5\n",
            "item_id    13011\n",
            "Name: 2159, dtype: int64)\n",
            "(2160, ID          2160\n",
            "shop_id        5\n",
            "item_id    13691\n",
            "Name: 2160, dtype: int64)\n",
            "(2161, ID          2161\n",
            "shop_id        5\n",
            "item_id    13688\n",
            "Name: 2161, dtype: int64)\n",
            "(2162, ID          2162\n",
            "shop_id        5\n",
            "item_id    13678\n",
            "Name: 2162, dtype: int64)\n",
            "(2163, ID          2163\n",
            "shop_id        5\n",
            "item_id    13667\n",
            "Name: 2163, dtype: int64)\n",
            "(2164, ID          2164\n",
            "shop_id        5\n",
            "item_id    13665\n",
            "Name: 2164, dtype: int64)\n",
            "(2165, ID          2165\n",
            "shop_id        5\n",
            "item_id    13654\n",
            "Name: 2165, dtype: int64)\n",
            "(2166, ID          2166\n",
            "shop_id        5\n",
            "item_id    13649\n",
            "Name: 2166, dtype: int64)\n",
            "(2167, ID          2167\n",
            "shop_id        5\n",
            "item_id    13634\n",
            "Name: 2167, dtype: int64)\n",
            "(2168, ID          2168\n",
            "shop_id        5\n",
            "item_id    14712\n",
            "Name: 2168, dtype: int64)\n",
            "(2169, ID          2169\n",
            "shop_id        5\n",
            "item_id    14709\n",
            "Name: 2169, dtype: int64)\n",
            "(2170, ID          2170\n",
            "shop_id        5\n",
            "item_id    15169\n",
            "Name: 2170, dtype: int64)\n",
            "(2171, ID          2171\n",
            "shop_id        5\n",
            "item_id    14690\n",
            "Name: 2171, dtype: int64)\n",
            "(2172, ID          2172\n",
            "shop_id        5\n",
            "item_id    14664\n",
            "Name: 2172, dtype: int64)\n",
            "(2173, ID          2173\n",
            "shop_id        5\n",
            "item_id    15128\n",
            "Name: 2173, dtype: int64)\n",
            "(2174, ID          2174\n",
            "shop_id        5\n",
            "item_id    15221\n",
            "Name: 2174, dtype: int64)\n",
            "(2175, ID          2175\n",
            "shop_id        5\n",
            "item_id    15217\n",
            "Name: 2175, dtype: int64)\n",
            "(2176, ID          2176\n",
            "shop_id        5\n",
            "item_id    14831\n",
            "Name: 2176, dtype: int64)\n",
            "(2177, ID          2177\n",
            "shop_id        5\n",
            "item_id    14844\n",
            "Name: 2177, dtype: int64)\n",
            "(2178, ID          2178\n",
            "shop_id        5\n",
            "item_id    15087\n",
            "Name: 2178, dtype: int64)\n",
            "(2179, ID          2179\n",
            "shop_id        5\n",
            "item_id    14386\n",
            "Name: 2179, dtype: int64)\n",
            "(2180, ID          2180\n",
            "shop_id        5\n",
            "item_id    14973\n",
            "Name: 2180, dtype: int64)\n",
            "(2181, ID          2181\n",
            "shop_id        5\n",
            "item_id    14966\n",
            "Name: 2181, dtype: int64)\n",
            "(2182, ID          2182\n",
            "shop_id        5\n",
            "item_id    14965\n",
            "Name: 2182, dtype: int64)\n",
            "(2183, ID          2183\n",
            "shop_id        5\n",
            "item_id    14961\n",
            "Name: 2183, dtype: int64)\n",
            "(2184, ID          2184\n",
            "shop_id        5\n",
            "item_id    15048\n",
            "Name: 2184, dtype: int64)\n",
            "(2185, ID          2185\n",
            "shop_id        5\n",
            "item_id    14500\n",
            "Name: 2185, dtype: int64)\n",
            "(2186, ID          2186\n",
            "shop_id        5\n",
            "item_id    12478\n",
            "Name: 2186, dtype: int64)\n",
            "(2187, ID          2187\n",
            "shop_id        5\n",
            "item_id    12468\n",
            "Name: 2187, dtype: int64)\n",
            "(2188, ID          2188\n",
            "shop_id        5\n",
            "item_id    12466\n",
            "Name: 2188, dtype: int64)\n",
            "(2189, ID          2189\n",
            "shop_id        5\n",
            "item_id    12451\n",
            "Name: 2189, dtype: int64)\n",
            "(2190, ID          2190\n",
            "shop_id        5\n",
            "item_id    13113\n",
            "Name: 2190, dtype: int64)\n",
            "(2191, ID          2191\n",
            "shop_id        5\n",
            "item_id    12421\n",
            "Name: 2191, dtype: int64)\n",
            "(2192, ID          2192\n",
            "shop_id        5\n",
            "item_id    12337\n",
            "Name: 2192, dtype: int64)\n",
            "(2193, ID          2193\n",
            "shop_id        5\n",
            "item_id    11242\n",
            "Name: 2193, dtype: int64)\n",
            "(2194, ID          2194\n",
            "shop_id        5\n",
            "item_id    11133\n",
            "Name: 2194, dtype: int64)\n",
            "(2195, ID          2195\n",
            "shop_id        5\n",
            "item_id    11391\n",
            "Name: 2195, dtype: int64)\n",
            "(2196, ID          2196\n",
            "shop_id        5\n",
            "item_id    10989\n",
            "Name: 2196, dtype: int64)\n",
            "(2197, ID          2197\n",
            "shop_id        5\n",
            "item_id    10934\n",
            "Name: 2197, dtype: int64)\n",
            "(2198, ID          2198\n",
            "shop_id        5\n",
            "item_id    11766\n",
            "Name: 2198, dtype: int64)\n",
            "(2199, ID          2199\n",
            "shop_id        5\n",
            "item_id    11763\n",
            "Name: 2199, dtype: int64)\n",
            "(2200, ID          2200\n",
            "shop_id        5\n",
            "item_id    11711\n",
            "Name: 2200, dtype: int64)\n",
            "(2201, ID          2201\n",
            "shop_id        5\n",
            "item_id    11685\n",
            "Name: 2201, dtype: int64)\n",
            "(2202, ID          2202\n",
            "shop_id        5\n",
            "item_id    11526\n",
            "Name: 2202, dtype: int64)\n",
            "(2203, ID          2203\n",
            "shop_id        5\n",
            "item_id    11523\n",
            "Name: 2203, dtype: int64)\n",
            "(2204, ID          2204\n",
            "shop_id        5\n",
            "item_id    11521\n",
            "Name: 2204, dtype: int64)\n",
            "(2205, ID          2205\n",
            "shop_id        5\n",
            "item_id    12515\n",
            "Name: 2205, dtype: int64)\n",
            "(2206, ID          2206\n",
            "shop_id        5\n",
            "item_id    13284\n",
            "Name: 2206, dtype: int64)\n",
            "(2207, ID          2207\n",
            "shop_id        5\n",
            "item_id    13253\n",
            "Name: 2207, dtype: int64)\n",
            "(2208, ID          2208\n",
            "shop_id        5\n",
            "item_id    12550\n",
            "Name: 2208, dtype: int64)\n",
            "(2209, ID          2209\n",
            "shop_id        5\n",
            "item_id    12544\n",
            "Name: 2209, dtype: int64)\n",
            "(2210, ID          2210\n",
            "shop_id        5\n",
            "item_id    13231\n",
            "Name: 2210, dtype: int64)\n",
            "(2211, ID          2211\n",
            "shop_id        5\n",
            "item_id    18620\n",
            "Name: 2211, dtype: int64)\n",
            "(2212, ID          2212\n",
            "shop_id        5\n",
            "item_id    18619\n",
            "Name: 2212, dtype: int64)\n",
            "(2213, ID          2213\n",
            "shop_id        5\n",
            "item_id    18595\n",
            "Name: 2213, dtype: int64)\n",
            "(2214, ID          2214\n",
            "shop_id        5\n",
            "item_id    18571\n",
            "Name: 2214, dtype: int64)\n",
            "(2215, ID          2215\n",
            "shop_id        5\n",
            "item_id    18543\n",
            "Name: 2215, dtype: int64)\n",
            "(2216, ID          2216\n",
            "shop_id        5\n",
            "item_id    18445\n",
            "Name: 2216, dtype: int64)\n",
            "(2217, ID          2217\n",
            "shop_id        5\n",
            "item_id    18370\n",
            "Name: 2217, dtype: int64)\n",
            "(2218, ID          2218\n",
            "shop_id        5\n",
            "item_id    18341\n",
            "Name: 2218, dtype: int64)\n",
            "(2219, ID          2219\n",
            "shop_id        5\n",
            "item_id    18320\n",
            "Name: 2219, dtype: int64)\n",
            "(2220, ID          2220\n",
            "shop_id        5\n",
            "item_id    18677\n",
            "Name: 2220, dtype: int64)\n",
            "(2221, ID          2221\n",
            "shop_id        5\n",
            "item_id    18679\n",
            "Name: 2221, dtype: int64)\n",
            "(2222, ID          2222\n",
            "shop_id        5\n",
            "item_id    19045\n",
            "Name: 2222, dtype: int64)\n",
            "(2223, ID          2223\n",
            "shop_id        5\n",
            "item_id    19039\n",
            "Name: 2223, dtype: int64)\n",
            "(2224, ID          2224\n",
            "shop_id        5\n",
            "item_id    19037\n",
            "Name: 2224, dtype: int64)\n",
            "(2225, ID          2225\n",
            "shop_id        5\n",
            "item_id    19036\n",
            "Name: 2225, dtype: int64)\n",
            "(2226, ID          2226\n",
            "shop_id        5\n",
            "item_id    19023\n",
            "Name: 2226, dtype: int64)\n",
            "(2227, ID          2227\n",
            "shop_id        5\n",
            "item_id    19001\n",
            "Name: 2227, dtype: int64)\n",
            "(2228, ID          2228\n",
            "shop_id        5\n",
            "item_id    18704\n",
            "Name: 2228, dtype: int64)\n",
            "(2229, ID          2229\n",
            "shop_id        5\n",
            "item_id    18690\n",
            "Name: 2229, dtype: int64)\n",
            "(2230, ID          2230\n",
            "shop_id        5\n",
            "item_id    18686\n",
            "Name: 2230, dtype: int64)\n",
            "(2231, ID          2231\n",
            "shop_id        5\n",
            "item_id    18680\n",
            "Name: 2231, dtype: int64)\n",
            "(2232, ID          2232\n",
            "shop_id        5\n",
            "item_id    18843\n",
            "Name: 2232, dtype: int64)\n",
            "(2233, ID          2233\n",
            "shop_id        5\n",
            "item_id    17391\n",
            "Name: 2233, dtype: int64)\n",
            "(2234, ID          2234\n",
            "shop_id        5\n",
            "item_id    18140\n",
            "Name: 2234, dtype: int64)\n",
            "(2235, ID          2235\n",
            "shop_id        5\n",
            "item_id    18107\n",
            "Name: 2235, dtype: int64)\n",
            "(2236, ID          2236\n",
            "shop_id        5\n",
            "item_id    18102\n",
            "Name: 2236, dtype: int64)\n",
            "(2237, ID          2237\n",
            "shop_id        5\n",
            "item_id    17982\n",
            "Name: 2237, dtype: int64)\n",
            "(2238, ID          2238\n",
            "shop_id        5\n",
            "item_id    17948\n",
            "Name: 2238, dtype: int64)\n",
            "(2239, ID          2239\n",
            "shop_id        5\n",
            "item_id    17858\n",
            "Name: 2239, dtype: int64)\n",
            "(2240, ID          2240\n",
            "shop_id        5\n",
            "item_id    20374\n",
            "Name: 2240, dtype: int64)\n",
            "(2241, ID          2241\n",
            "shop_id        5\n",
            "item_id    20360\n",
            "Name: 2241, dtype: int64)\n",
            "(2242, ID          2242\n",
            "shop_id        5\n",
            "item_id    20346\n",
            "Name: 2242, dtype: int64)\n",
            "(2243, ID          2243\n",
            "shop_id        5\n",
            "item_id    20336\n",
            "Name: 2243, dtype: int64)\n",
            "(2244, ID          2244\n",
            "shop_id        5\n",
            "item_id    20231\n",
            "Name: 2244, dtype: int64)\n",
            "(2245, ID          2245\n",
            "shop_id        5\n",
            "item_id    20224\n",
            "Name: 2245, dtype: int64)\n",
            "(2246, ID          2246\n",
            "shop_id        5\n",
            "item_id    20099\n",
            "Name: 2246, dtype: int64)\n",
            "(2247, ID          2247\n",
            "shop_id        5\n",
            "item_id    20187\n",
            "Name: 2247, dtype: int64)\n",
            "(2248, ID          2248\n",
            "shop_id        5\n",
            "item_id    20048\n",
            "Name: 2248, dtype: int64)\n",
            "(2249, ID          2249\n",
            "shop_id        5\n",
            "item_id    19888\n",
            "Name: 2249, dtype: int64)\n",
            "(2250, ID          2250\n",
            "shop_id        5\n",
            "item_id    20571\n",
            "Name: 2250, dtype: int64)\n",
            "(2251, ID          2251\n",
            "shop_id        5\n",
            "item_id    20568\n",
            "Name: 2251, dtype: int64)\n",
            "(2252, ID          2252\n",
            "shop_id        5\n",
            "item_id    20540\n",
            "Name: 2252, dtype: int64)\n",
            "(2253, ID          2253\n",
            "shop_id        5\n",
            "item_id    20537\n",
            "Name: 2253, dtype: int64)\n",
            "(2254, ID          2254\n",
            "shop_id        5\n",
            "item_id    20536\n",
            "Name: 2254, dtype: int64)\n",
            "(2255, ID          2255\n",
            "shop_id        5\n",
            "item_id    20464\n",
            "Name: 2255, dtype: int64)\n",
            "(2256, ID          2256\n",
            "shop_id        5\n",
            "item_id    19847\n",
            "Name: 2256, dtype: int64)\n",
            "(2257, ID          2257\n",
            "shop_id        5\n",
            "item_id    19795\n",
            "Name: 2257, dtype: int64)\n",
            "(2258, ID          2258\n",
            "shop_id        5\n",
            "item_id    19503\n",
            "Name: 2258, dtype: int64)\n",
            "(2259, ID          2259\n",
            "shop_id        5\n",
            "item_id    19479\n",
            "Name: 2259, dtype: int64)\n",
            "(2260, ID          2260\n",
            "shop_id        5\n",
            "item_id    19621\n",
            "Name: 2260, dtype: int64)\n",
            "(2261, ID          2261\n",
            "shop_id        5\n",
            "item_id    19691\n",
            "Name: 2261, dtype: int64)\n",
            "(2262, ID          2262\n",
            "shop_id        5\n",
            "item_id    17375\n",
            "Name: 2262, dtype: int64)\n",
            "(2263, ID          2263\n",
            "shop_id        5\n",
            "item_id    15989\n",
            "Name: 2263, dtype: int64)\n",
            "(2264, ID          2264\n",
            "shop_id        5\n",
            "item_id    15560\n",
            "Name: 2264, dtype: int64)\n",
            "(2265, ID          2265\n",
            "shop_id        5\n",
            "item_id    15922\n",
            "Name: 2265, dtype: int64)\n",
            "(2266, ID          2266\n",
            "shop_id        5\n",
            "item_id    15858\n",
            "Name: 2266, dtype: int64)\n",
            "(2267, ID          2267\n",
            "shop_id        5\n",
            "item_id    16031\n",
            "Name: 2267, dtype: int64)\n",
            "(2268, ID          2268\n",
            "shop_id        5\n",
            "item_id    15510\n",
            "Name: 2268, dtype: int64)\n",
            "(2269, ID          2269\n",
            "shop_id        5\n",
            "item_id    15500\n",
            "Name: 2269, dtype: int64)\n",
            "(2270, ID          2270\n",
            "shop_id        5\n",
            "item_id    16036\n",
            "Name: 2270, dtype: int64)\n",
            "(2271, ID          2271\n",
            "shop_id        5\n",
            "item_id    16140\n",
            "Name: 2271, dtype: int64)\n",
            "(2272, ID          2272\n",
            "shop_id        5\n",
            "item_id    16130\n",
            "Name: 2272, dtype: int64)\n",
            "(2273, ID          2273\n",
            "shop_id        5\n",
            "item_id    16120\n",
            "Name: 2273, dtype: int64)\n",
            "(2274, ID          2274\n",
            "shop_id        5\n",
            "item_id    16119\n",
            "Name: 2274, dtype: int64)\n",
            "(2275, ID          2275\n",
            "shop_id        5\n",
            "item_id    16042\n",
            "Name: 2275, dtype: int64)\n",
            "(2276, ID          2276\n",
            "shop_id        5\n",
            "item_id    16097\n",
            "Name: 2276, dtype: int64)\n",
            "(2277, ID          2277\n",
            "shop_id        5\n",
            "item_id    16085\n",
            "Name: 2277, dtype: int64)\n",
            "(2278, ID          2278\n",
            "shop_id        5\n",
            "item_id    16061\n",
            "Name: 2278, dtype: int64)\n",
            "(2279, ID          2279\n",
            "shop_id        5\n",
            "item_id    16098\n",
            "Name: 2279, dtype: int64)\n",
            "(2280, ID          2280\n",
            "shop_id        5\n",
            "item_id    15276\n",
            "Name: 2280, dtype: int64)\n",
            "(2281, ID          2281\n",
            "shop_id        5\n",
            "item_id    15392\n",
            "Name: 2281, dtype: int64)\n",
            "(2282, ID          2282\n",
            "shop_id        5\n",
            "item_id    15490\n",
            "Name: 2282, dtype: int64)\n",
            "(2283, ID          2283\n",
            "shop_id        5\n",
            "item_id    15330\n",
            "Name: 2283, dtype: int64)\n",
            "(2284, ID          2284\n",
            "shop_id        5\n",
            "item_id    15328\n",
            "Name: 2284, dtype: int64)\n",
            "(2285, ID          2285\n",
            "shop_id        5\n",
            "item_id    15326\n",
            "Name: 2285, dtype: int64)\n",
            "(2286, ID          2286\n",
            "shop_id        5\n",
            "item_id    15290\n",
            "Name: 2286, dtype: int64)\n",
            "(2287, ID          2287\n",
            "shop_id        5\n",
            "item_id    17242\n",
            "Name: 2287, dtype: int64)\n",
            "(2288, ID          2288\n",
            "shop_id        5\n",
            "item_id    15572\n",
            "Name: 2288, dtype: int64)\n",
            "(2289, ID          2289\n",
            "shop_id        5\n",
            "item_id    15566\n",
            "Name: 2289, dtype: int64)\n",
            "(2290, ID          2290\n",
            "shop_id        5\n",
            "item_id    16177\n",
            "Name: 2290, dtype: int64)\n",
            "(2291, ID          2291\n",
            "shop_id        5\n",
            "item_id    16174\n",
            "Name: 2291, dtype: int64)\n",
            "(2292, ID          2292\n",
            "shop_id        5\n",
            "item_id    16186\n",
            "Name: 2292, dtype: int64)\n",
            "(2293, ID          2293\n",
            "shop_id        5\n",
            "item_id    16361\n",
            "Name: 2293, dtype: int64)\n",
            "(2294, ID          2294\n",
            "shop_id        5\n",
            "item_id    15793\n",
            "Name: 2294, dtype: int64)\n",
            "(2295, ID          2295\n",
            "shop_id        5\n",
            "item_id    15692\n",
            "Name: 2295, dtype: int64)\n",
            "(2296, ID          2296\n",
            "shop_id        5\n",
            "item_id    15686\n",
            "Name: 2296, dtype: int64)\n",
            "(2297, ID          2297\n",
            "shop_id        5\n",
            "item_id    16313\n",
            "Name: 2297, dtype: int64)\n",
            "(2298, ID          2298\n",
            "shop_id        5\n",
            "item_id    16311\n",
            "Name: 2298, dtype: int64)\n",
            "(2299, ID         2299\n",
            "shop_id       5\n",
            "item_id    8693\n",
            "Name: 2299, dtype: int64)\n",
            "(2300, ID         2300\n",
            "shop_id       5\n",
            "item_id    8687\n",
            "Name: 2300, dtype: int64)\n",
            "(2301, ID         2301\n",
            "shop_id       5\n",
            "item_id    9187\n",
            "Name: 2301, dtype: int64)\n",
            "(2302, ID         2302\n",
            "shop_id       5\n",
            "item_id    8676\n",
            "Name: 2302, dtype: int64)\n",
            "(2303, ID         2303\n",
            "shop_id       5\n",
            "item_id    8672\n",
            "Name: 2303, dtype: int64)\n",
            "(2304, ID         2304\n",
            "shop_id       5\n",
            "item_id    8803\n",
            "Name: 2304, dtype: int64)\n",
            "(2305, ID         2305\n",
            "shop_id       5\n",
            "item_id    8779\n",
            "Name: 2305, dtype: int64)\n",
            "(2306, ID         2306\n",
            "shop_id       5\n",
            "item_id    9206\n",
            "Name: 2306, dtype: int64)\n",
            "(2307, ID         2307\n",
            "shop_id       5\n",
            "item_id    9203\n",
            "Name: 2307, dtype: int64)\n",
            "(2308, ID         2308\n",
            "shop_id       5\n",
            "item_id    8357\n",
            "Name: 2308, dtype: int64)\n",
            "(2309, ID         2309\n",
            "shop_id       5\n",
            "item_id    8615\n",
            "Name: 2309, dtype: int64)\n",
            "(2310, ID         2310\n",
            "shop_id       5\n",
            "item_id    9171\n",
            "Name: 2310, dtype: int64)\n",
            "(2311, ID         2311\n",
            "shop_id       5\n",
            "item_id    8429\n",
            "Name: 2311, dtype: int64)\n",
            "(2312, ID         2312\n",
            "shop_id       5\n",
            "item_id    8809\n",
            "Name: 2312, dtype: int64)\n",
            "(2313, ID         2313\n",
            "shop_id       5\n",
            "item_id    9358\n",
            "Name: 2313, dtype: int64)\n",
            "(2314, ID         2314\n",
            "shop_id       5\n",
            "item_id    9359\n",
            "Name: 2314, dtype: int64)\n",
            "(2315, ID         2315\n",
            "shop_id       5\n",
            "item_id    9065\n",
            "Name: 2315, dtype: int64)\n",
            "(2316, ID         2316\n",
            "shop_id       5\n",
            "item_id    9066\n",
            "Name: 2316, dtype: int64)\n",
            "(2317, ID         2317\n",
            "shop_id       5\n",
            "item_id    9047\n",
            "Name: 2317, dtype: int64)\n",
            "(2318, ID         2318\n",
            "shop_id       5\n",
            "item_id    9403\n",
            "Name: 2318, dtype: int64)\n",
            "(2319, ID         2319\n",
            "shop_id       5\n",
            "item_id    9401\n",
            "Name: 2319, dtype: int64)\n",
            "(2320, ID         2320\n",
            "shop_id       5\n",
            "item_id    9366\n",
            "Name: 2320, dtype: int64)\n",
            "(2321, ID         2321\n",
            "shop_id       5\n",
            "item_id    8918\n",
            "Name: 2321, dtype: int64)\n",
            "(2322, ID         2322\n",
            "shop_id       5\n",
            "item_id    8864\n",
            "Name: 2322, dtype: int64)\n",
            "(2323, ID         2323\n",
            "shop_id       5\n",
            "item_id    8856\n",
            "Name: 2323, dtype: int64)\n",
            "(2324, ID         2324\n",
            "shop_id       5\n",
            "item_id    8825\n",
            "Name: 2324, dtype: int64)\n",
            "(2325, ID         2325\n",
            "shop_id       5\n",
            "item_id    8821\n",
            "Name: 2325, dtype: int64)\n",
            "(2326, ID         2326\n",
            "shop_id       5\n",
            "item_id    9344\n",
            "Name: 2326, dtype: int64)\n",
            "(2327, ID         2327\n",
            "shop_id       5\n",
            "item_id    9010\n",
            "Name: 2327, dtype: int64)\n",
            "(2328, ID         2328\n",
            "shop_id       5\n",
            "item_id    7508\n",
            "Name: 2328, dtype: int64)\n",
            "(2329, ID         2329\n",
            "shop_id       5\n",
            "item_id    7507\n",
            "Name: 2329, dtype: int64)\n",
            "(2330, ID         2330\n",
            "shop_id       5\n",
            "item_id    7459\n",
            "Name: 2330, dtype: int64)\n",
            "(2331, ID         2331\n",
            "shop_id       5\n",
            "item_id    7409\n",
            "Name: 2331, dtype: int64)\n",
            "(2332, ID         2332\n",
            "shop_id       5\n",
            "item_id    7390\n",
            "Name: 2332, dtype: int64)\n",
            "(2333, ID         2333\n",
            "shop_id       5\n",
            "item_id    7267\n",
            "Name: 2333, dtype: int64)\n",
            "(2334, ID         2334\n",
            "shop_id       5\n",
            "item_id    7655\n",
            "Name: 2334, dtype: int64)\n",
            "(2335, ID         2335\n",
            "shop_id       5\n",
            "item_id    7647\n",
            "Name: 2335, dtype: int64)\n",
            "(2336, ID         2336\n",
            "shop_id       5\n",
            "item_id    7256\n",
            "Name: 2336, dtype: int64)\n",
            "(2337, ID         2337\n",
            "shop_id       5\n",
            "item_id    7161\n",
            "Name: 2337, dtype: int64)\n",
            "(2338, ID         2338\n",
            "shop_id       5\n",
            "item_id    7146\n",
            "Name: 2338, dtype: int64)\n",
            "(2339, ID         2339\n",
            "shop_id       5\n",
            "item_id    7668\n",
            "Name: 2339, dtype: int64)\n",
            "(2340, ID         2340\n",
            "shop_id       5\n",
            "item_id    8148\n",
            "Name: 2340, dtype: int64)\n",
            "(2341, ID         2341\n",
            "shop_id       5\n",
            "item_id    8095\n",
            "Name: 2341, dtype: int64)\n",
            "(2342, ID         2342\n",
            "shop_id       5\n",
            "item_id    8093\n",
            "Name: 2342, dtype: int64)\n",
            "(2343, ID         2343\n",
            "shop_id       5\n",
            "item_id    8029\n",
            "Name: 2343, dtype: int64)\n",
            "(2344, ID         2344\n",
            "shop_id       5\n",
            "item_id    8043\n",
            "Name: 2344, dtype: int64)\n",
            "(2345, ID         2345\n",
            "shop_id       5\n",
            "item_id    7998\n",
            "Name: 2345, dtype: int64)\n",
            "(2346, ID         2346\n",
            "shop_id       5\n",
            "item_id    8443\n",
            "Name: 2346, dtype: int64)\n",
            "(2347, ID         2347\n",
            "shop_id       5\n",
            "item_id    7956\n",
            "Name: 2347, dtype: int64)\n",
            "(2348, ID         2348\n",
            "shop_id       5\n",
            "item_id    8182\n",
            "Name: 2348, dtype: int64)\n",
            "(2349, ID         2349\n",
            "shop_id       5\n",
            "item_id    8296\n",
            "Name: 2349, dtype: int64)\n",
            "(2350, ID         2350\n",
            "shop_id       5\n",
            "item_id    8510\n",
            "Name: 2350, dtype: int64)\n",
            "(2351, ID         2351\n",
            "shop_id       5\n",
            "item_id    8238\n",
            "Name: 2351, dtype: int64)\n",
            "(2352, ID         2352\n",
            "shop_id       5\n",
            "item_id    8219\n",
            "Name: 2352, dtype: int64)\n",
            "(2353, ID         2353\n",
            "shop_id       5\n",
            "item_id    8218\n",
            "Name: 2353, dtype: int64)\n",
            "(2354, ID         2354\n",
            "shop_id       5\n",
            "item_id    8214\n",
            "Name: 2354, dtype: int64)\n",
            "(2355, ID         2355\n",
            "shop_id       5\n",
            "item_id    8491\n",
            "Name: 2355, dtype: int64)\n",
            "(2356, ID         2356\n",
            "shop_id       5\n",
            "item_id    8484\n",
            "Name: 2356, dtype: int64)\n",
            "(2357, ID         2357\n",
            "shop_id       5\n",
            "item_id    8472\n",
            "Name: 2357, dtype: int64)\n",
            "(2358, ID         2358\n",
            "shop_id       5\n",
            "item_id    8469\n",
            "Name: 2358, dtype: int64)\n",
            "(2359, ID         2359\n",
            "shop_id       5\n",
            "item_id    8193\n",
            "Name: 2359, dtype: int64)\n",
            "(2360, ID         2360\n",
            "shop_id       5\n",
            "item_id    9449\n",
            "Name: 2360, dtype: int64)\n",
            "(2361, ID         2361\n",
            "shop_id       5\n",
            "item_id    7843\n",
            "Name: 2361, dtype: int64)\n",
            "(2362, ID         2362\n",
            "shop_id       5\n",
            "item_id    7671\n",
            "Name: 2362, dtype: int64)\n",
            "(2363, ID         2363\n",
            "shop_id       5\n",
            "item_id    7876\n",
            "Name: 2363, dtype: int64)\n",
            "(2364, ID         2364\n",
            "shop_id       5\n",
            "item_id    9451\n",
            "Name: 2364, dtype: int64)\n",
            "(2365, ID          2365\n",
            "shop_id        5\n",
            "item_id    10518\n",
            "Name: 2365, dtype: int64)\n",
            "(2366, ID          2366\n",
            "shop_id        5\n",
            "item_id    10514\n",
            "Name: 2366, dtype: int64)\n",
            "(2367, ID          2367\n",
            "shop_id        5\n",
            "item_id    10523\n",
            "Name: 2367, dtype: int64)\n",
            "(2368, ID          2368\n",
            "shop_id        5\n",
            "item_id    10477\n",
            "Name: 2368, dtype: int64)\n",
            "(2369, ID          2369\n",
            "shop_id        5\n",
            "item_id    10472\n",
            "Name: 2369, dtype: int64)\n",
            "(2370, ID          2370\n",
            "shop_id        5\n",
            "item_id    10786\n",
            "Name: 2370, dtype: int64)\n",
            "(2371, ID          2371\n",
            "shop_id        5\n",
            "item_id    10748\n",
            "Name: 2371, dtype: int64)\n",
            "(2372, ID          2372\n",
            "shop_id        5\n",
            "item_id    10726\n",
            "Name: 2372, dtype: int64)\n",
            "(2373, ID          2373\n",
            "shop_id        5\n",
            "item_id    10721\n",
            "Name: 2373, dtype: int64)\n",
            "(2374, ID          2374\n",
            "shop_id        5\n",
            "item_id    10553\n",
            "Name: 2374, dtype: int64)\n",
            "(2375, ID          2375\n",
            "shop_id        5\n",
            "item_id    10552\n",
            "Name: 2375, dtype: int64)\n",
            "(2376, ID          2376\n",
            "shop_id        5\n",
            "item_id    10727\n",
            "Name: 2376, dtype: int64)\n",
            "(2377, ID          2377\n",
            "shop_id        5\n",
            "item_id    10674\n",
            "Name: 2377, dtype: int64)\n",
            "(2378, ID          2378\n",
            "shop_id        5\n",
            "item_id    10672\n",
            "Name: 2378, dtype: int64)\n",
            "(2379, ID          2379\n",
            "shop_id        5\n",
            "item_id    10439\n",
            "Name: 2379, dtype: int64)\n",
            "(2380, ID          2380\n",
            "shop_id        5\n",
            "item_id    10669\n",
            "Name: 2380, dtype: int64)\n",
            "(2381, ID          2381\n",
            "shop_id        5\n",
            "item_id    10653\n",
            "Name: 2381, dtype: int64)\n",
            "(2382, ID          2382\n",
            "shop_id        5\n",
            "item_id    10645\n",
            "Name: 2382, dtype: int64)\n",
            "(2383, ID          2383\n",
            "shop_id        5\n",
            "item_id    10820\n",
            "Name: 2383, dtype: int64)\n",
            "(2384, ID          2384\n",
            "shop_id        5\n",
            "item_id    10861\n",
            "Name: 2384, dtype: int64)\n",
            "(2385, ID          2385\n",
            "shop_id        5\n",
            "item_id    11409\n",
            "Name: 2385, dtype: int64)\n",
            "(2386, ID         2386\n",
            "shop_id       5\n",
            "item_id    8078\n",
            "Name: 2386, dtype: int64)\n",
            "(2387, ID         2387\n",
            "shop_id       5\n",
            "item_id    8063\n",
            "Name: 2387, dtype: int64)\n",
            "(2388, ID          2388\n",
            "shop_id        5\n",
            "item_id    11261\n",
            "Name: 2388, dtype: int64)\n",
            "(2389, ID          2389\n",
            "shop_id        5\n",
            "item_id    11382\n",
            "Name: 2389, dtype: int64)\n",
            "(2390, ID          2390\n",
            "shop_id        5\n",
            "item_id    11379\n",
            "Name: 2390, dtype: int64)\n",
            "(2391, ID          2391\n",
            "shop_id        5\n",
            "item_id    11377\n",
            "Name: 2391, dtype: int64)\n",
            "(2392, ID          2392\n",
            "shop_id        5\n",
            "item_id    11375\n",
            "Name: 2392, dtype: int64)\n",
            "(2393, ID          2393\n",
            "shop_id        5\n",
            "item_id    11401\n",
            "Name: 2393, dtype: int64)\n",
            "(2394, ID          2394\n",
            "shop_id        5\n",
            "item_id    11188\n",
            "Name: 2394, dtype: int64)\n",
            "(2395, ID          2395\n",
            "shop_id        5\n",
            "item_id    11425\n",
            "Name: 2395, dtype: int64)\n",
            "(2396, ID          2396\n",
            "shop_id        5\n",
            "item_id    11830\n",
            "Name: 2396, dtype: int64)\n",
            "(2397, ID          2397\n",
            "shop_id        5\n",
            "item_id    11576\n",
            "Name: 2397, dtype: int64)\n",
            "(2398, ID          2398\n",
            "shop_id        5\n",
            "item_id    11571\n",
            "Name: 2398, dtype: int64)\n",
            "(2399, ID          2399\n",
            "shop_id        5\n",
            "item_id    11496\n",
            "Name: 2399, dtype: int64)\n",
            "(2400, ID          2400\n",
            "shop_id        5\n",
            "item_id    11542\n",
            "Name: 2400, dtype: int64)\n",
            "(2401, ID          2401\n",
            "shop_id        5\n",
            "item_id    11184\n",
            "Name: 2401, dtype: int64)\n",
            "(2402, ID          2402\n",
            "shop_id        5\n",
            "item_id    10983\n",
            "Name: 2402, dtype: int64)\n",
            "(2403, ID          2403\n",
            "shop_id        5\n",
            "item_id    10954\n",
            "Name: 2403, dtype: int64)\n",
            "(2404, ID          2404\n",
            "shop_id        5\n",
            "item_id    10945\n",
            "Name: 2404, dtype: int64)\n",
            "(2405, ID          2405\n",
            "shop_id        5\n",
            "item_id    10942\n",
            "Name: 2405, dtype: int64)\n",
            "(2406, ID          2406\n",
            "shop_id        5\n",
            "item_id    10940\n",
            "Name: 2406, dtype: int64)\n",
            "(2407, ID          2407\n",
            "shop_id        5\n",
            "item_id    10939\n",
            "Name: 2407, dtype: int64)\n",
            "(2408, ID          2408\n",
            "shop_id        5\n",
            "item_id    10931\n",
            "Name: 2408, dtype: int64)\n",
            "(2409, ID          2409\n",
            "shop_id        5\n",
            "item_id    10911\n",
            "Name: 2409, dtype: int64)\n",
            "(2410, ID          2410\n",
            "shop_id        5\n",
            "item_id    10893\n",
            "Name: 2410, dtype: int64)\n",
            "(2411, ID          2411\n",
            "shop_id        5\n",
            "item_id    11323\n",
            "Name: 2411, dtype: int64)\n",
            "(2412, ID          2412\n",
            "shop_id        5\n",
            "item_id    10997\n",
            "Name: 2412, dtype: int64)\n",
            "(2413, ID          2413\n",
            "shop_id        5\n",
            "item_id    11161\n",
            "Name: 2413, dtype: int64)\n",
            "(2414, ID          2414\n",
            "shop_id        5\n",
            "item_id    11147\n",
            "Name: 2414, dtype: int64)\n",
            "(2415, ID          2415\n",
            "shop_id        5\n",
            "item_id    11141\n",
            "Name: 2415, dtype: int64)\n",
            "(2416, ID          2416\n",
            "shop_id        5\n",
            "item_id    11355\n",
            "Name: 2416, dtype: int64)\n",
            "(2417, ID          2417\n",
            "shop_id        5\n",
            "item_id    11072\n",
            "Name: 2417, dtype: int64)\n",
            "(2418, ID          2418\n",
            "shop_id        5\n",
            "item_id    10609\n",
            "Name: 2418, dtype: int64)\n",
            "(2419, ID         2419\n",
            "shop_id       5\n",
            "item_id    9554\n",
            "Name: 2419, dtype: int64)\n",
            "(2420, ID         2420\n",
            "shop_id       5\n",
            "item_id    9539\n",
            "Name: 2420, dtype: int64)\n",
            "(2421, ID         2421\n",
            "shop_id       5\n",
            "item_id    9537\n",
            "Name: 2421, dtype: int64)\n",
            "(2422, ID         2422\n",
            "shop_id       5\n",
            "item_id    9499\n",
            "Name: 2422, dtype: int64)\n",
            "(2423, ID         2423\n",
            "shop_id       5\n",
            "item_id    9498\n",
            "Name: 2423, dtype: int64)\n",
            "(2424, ID         2424\n",
            "shop_id       5\n",
            "item_id    9497\n",
            "Name: 2424, dtype: int64)\n",
            "(2425, ID         2425\n",
            "shop_id       5\n",
            "item_id    9494\n",
            "Name: 2425, dtype: int64)\n",
            "(2426, ID         2426\n",
            "shop_id       5\n",
            "item_id    9481\n",
            "Name: 2426, dtype: int64)\n",
            "(2427, ID         2427\n",
            "shop_id       5\n",
            "item_id    9819\n",
            "Name: 2427, dtype: int64)\n",
            "(2428, ID          2428\n",
            "shop_id        5\n",
            "item_id    10337\n",
            "Name: 2428, dtype: int64)\n",
            "(2429, ID          2429\n",
            "shop_id        5\n",
            "item_id    10331\n",
            "Name: 2429, dtype: int64)\n",
            "(2430, ID          2430\n",
            "shop_id        5\n",
            "item_id    10325\n",
            "Name: 2430, dtype: int64)\n",
            "(2431, ID          2431\n",
            "shop_id        5\n",
            "item_id    10315\n",
            "Name: 2431, dtype: int64)\n",
            "(2432, ID          2432\n",
            "shop_id        5\n",
            "item_id    10290\n",
            "Name: 2432, dtype: int64)\n",
            "(2433, ID          2433\n",
            "shop_id        5\n",
            "item_id    10285\n",
            "Name: 2433, dtype: int64)\n",
            "(2434, ID          2434\n",
            "shop_id        5\n",
            "item_id    10340\n",
            "Name: 2434, dtype: int64)\n",
            "(2435, ID          2435\n",
            "shop_id        5\n",
            "item_id    10380\n",
            "Name: 2435, dtype: int64)\n",
            "(2436, ID          2436\n",
            "shop_id        5\n",
            "item_id    10159\n",
            "Name: 2436, dtype: int64)\n",
            "(2437, ID          2437\n",
            "shop_id        5\n",
            "item_id    10144\n",
            "Name: 2437, dtype: int64)\n",
            "(2438, ID         2438\n",
            "shop_id       5\n",
            "item_id    9923\n",
            "Name: 2438, dtype: int64)\n",
            "(2439, ID         2439\n",
            "shop_id       5\n",
            "item_id    9845\n",
            "Name: 2439, dtype: int64)\n",
            "(2440, ID         2440\n",
            "shop_id       5\n",
            "item_id    9840\n",
            "Name: 2440, dtype: int64)\n",
            "(2441, ID         2441\n",
            "shop_id       5\n",
            "item_id    9835\n",
            "Name: 2441, dtype: int64)\n",
            "(2442, ID         2442\n",
            "shop_id       5\n",
            "item_id    9830\n",
            "Name: 2442, dtype: int64)\n",
            "(2443, ID          2443\n",
            "shop_id        5\n",
            "item_id    10093\n",
            "Name: 2443, dtype: int64)\n",
            "(2444, ID          2444\n",
            "shop_id        5\n",
            "item_id    10075\n",
            "Name: 2444, dtype: int64)\n",
            "(2445, ID          2445\n",
            "shop_id        5\n",
            "item_id    10058\n",
            "Name: 2445, dtype: int64)\n",
            "(2446, ID          2446\n",
            "shop_id        5\n",
            "item_id    10044\n",
            "Name: 2446, dtype: int64)\n",
            "(2447, ID          2447\n",
            "shop_id        5\n",
            "item_id    10042\n",
            "Name: 2447, dtype: int64)\n",
            "(2448, ID          2448\n",
            "shop_id        5\n",
            "item_id    10029\n",
            "Name: 2448, dtype: int64)\n",
            "(2449, ID          2449\n",
            "shop_id        5\n",
            "item_id    10273\n",
            "Name: 2449, dtype: int64)\n",
            "(2450, ID          2450\n",
            "shop_id        5\n",
            "item_id    10003\n",
            "Name: 2450, dtype: int64)\n",
            "(2451, ID          2451\n",
            "shop_id        5\n",
            "item_id    10266\n",
            "Name: 2451, dtype: int64)\n",
            "(2452, ID          2452\n",
            "shop_id        5\n",
            "item_id    10148\n",
            "Name: 2452, dtype: int64)\n",
            "(2453, ID         2453\n",
            "shop_id       5\n",
            "item_id    7006\n",
            "Name: 2453, dtype: int64)\n",
            "(2454, ID         2454\n",
            "shop_id       5\n",
            "item_id    4884\n",
            "Name: 2454, dtype: int64)\n",
            "(2455, ID         2455\n",
            "shop_id       5\n",
            "item_id    4660\n",
            "Name: 2455, dtype: int64)\n",
            "(2456, ID         2456\n",
            "shop_id       5\n",
            "item_id    4642\n",
            "Name: 2456, dtype: int64)\n",
            "(2457, ID         2457\n",
            "shop_id       5\n",
            "item_id    4633\n",
            "Name: 2457, dtype: int64)\n",
            "(2458, ID         2458\n",
            "shop_id       5\n",
            "item_id    4977\n",
            "Name: 2458, dtype: int64)\n",
            "(2459, ID         2459\n",
            "shop_id       5\n",
            "item_id    4975\n",
            "Name: 2459, dtype: int64)\n",
            "(2460, ID         2460\n",
            "shop_id       5\n",
            "item_id    4708\n",
            "Name: 2460, dtype: int64)\n",
            "(2461, ID         2461\n",
            "shop_id       5\n",
            "item_id    4694\n",
            "Name: 2461, dtype: int64)\n",
            "(2462, ID         2462\n",
            "shop_id       5\n",
            "item_id    4956\n",
            "Name: 2462, dtype: int64)\n",
            "(2463, ID         2463\n",
            "shop_id       5\n",
            "item_id    4935\n",
            "Name: 2463, dtype: int64)\n",
            "(2464, ID         2464\n",
            "shop_id       5\n",
            "item_id    4615\n",
            "Name: 2464, dtype: int64)\n",
            "(2465, ID         2465\n",
            "shop_id       5\n",
            "item_id    4516\n",
            "Name: 2465, dtype: int64)\n",
            "(2466, ID         2466\n",
            "shop_id       5\n",
            "item_id    4431\n",
            "Name: 2466, dtype: int64)\n",
            "(2467, ID         2467\n",
            "shop_id       5\n",
            "item_id    4551\n",
            "Name: 2467, dtype: int64)\n",
            "(2468, ID         2468\n",
            "shop_id       5\n",
            "item_id    4561\n",
            "Name: 2468, dtype: int64)\n",
            "(2469, ID         2469\n",
            "shop_id       5\n",
            "item_id    4610\n",
            "Name: 2469, dtype: int64)\n",
            "(2470, ID         2470\n",
            "shop_id       5\n",
            "item_id    4604\n",
            "Name: 2470, dtype: int64)\n",
            "(2471, ID         2471\n",
            "shop_id       5\n",
            "item_id    4602\n",
            "Name: 2471, dtype: int64)\n",
            "(2472, ID         2472\n",
            "shop_id       5\n",
            "item_id    4595\n",
            "Name: 2472, dtype: int64)\n",
            "(2473, ID         2473\n",
            "shop_id       5\n",
            "item_id    4573\n",
            "Name: 2473, dtype: int64)\n",
            "(2474, ID         2474\n",
            "shop_id       5\n",
            "item_id    5004\n",
            "Name: 2474, dtype: int64)\n",
            "(2475, ID         2475\n",
            "shop_id       5\n",
            "item_id    5485\n",
            "Name: 2475, dtype: int64)\n",
            "(2476, ID         2476\n",
            "shop_id       5\n",
            "item_id    5353\n",
            "Name: 2476, dtype: int64)\n",
            "(2477, ID         2477\n",
            "shop_id       5\n",
            "item_id    5339\n",
            "Name: 2477, dtype: int64)\n",
            "(2478, ID         2478\n",
            "shop_id       5\n",
            "item_id    5338\n",
            "Name: 2478, dtype: int64)\n",
            "(2479, ID         2479\n",
            "shop_id       5\n",
            "item_id    5324\n",
            "Name: 2479, dtype: int64)\n",
            "(2480, ID         2480\n",
            "shop_id       5\n",
            "item_id    5323\n",
            "Name: 2480, dtype: int64)\n",
            "(2481, ID         2481\n",
            "shop_id       5\n",
            "item_id    5336\n",
            "Name: 2481, dtype: int64)\n",
            "(2482, ID         2482\n",
            "shop_id       5\n",
            "item_id    5486\n",
            "Name: 2482, dtype: int64)\n",
            "(2483, ID         2483\n",
            "shop_id       5\n",
            "item_id    5516\n",
            "Name: 2483, dtype: int64)\n",
            "(2484, ID         2484\n",
            "shop_id       5\n",
            "item_id    5515\n",
            "Name: 2484, dtype: int64)\n",
            "(2485, ID         2485\n",
            "shop_id       5\n",
            "item_id    5248\n",
            "Name: 2485, dtype: int64)\n",
            "(2486, ID         2486\n",
            "shop_id       5\n",
            "item_id    5026\n",
            "Name: 2486, dtype: int64)\n",
            "(2487, ID         2487\n",
            "shop_id       5\n",
            "item_id    5038\n",
            "Name: 2487, dtype: int64)\n",
            "(2488, ID         2488\n",
            "shop_id       5\n",
            "item_id    5309\n",
            "Name: 2488, dtype: int64)\n",
            "(2489, ID         2489\n",
            "shop_id       5\n",
            "item_id    4418\n",
            "Name: 2489, dtype: int64)\n",
            "(2490, ID         2490\n",
            "shop_id       5\n",
            "item_id    3897\n",
            "Name: 2490, dtype: int64)\n",
            "(2491, ID         2491\n",
            "shop_id       5\n",
            "item_id    3896\n",
            "Name: 2491, dtype: int64)\n",
            "(2492, ID         2492\n",
            "shop_id       5\n",
            "item_id    3821\n",
            "Name: 2492, dtype: int64)\n",
            "(2493, ID         2493\n",
            "shop_id       5\n",
            "item_id    3891\n",
            "Name: 2493, dtype: int64)\n",
            "(2494, ID         2494\n",
            "shop_id       5\n",
            "item_id    3818\n",
            "Name: 2494, dtype: int64)\n",
            "(2495, ID         2495\n",
            "shop_id       5\n",
            "item_id    4024\n",
            "Name: 2495, dtype: int64)\n",
            "(2496, ID         2496\n",
            "shop_id       5\n",
            "item_id    4009\n",
            "Name: 2496, dtype: int64)\n",
            "(2497, ID         2497\n",
            "shop_id       5\n",
            "item_id    4002\n",
            "Name: 2497, dtype: int64)\n",
            "(2498, ID         2498\n",
            "shop_id       5\n",
            "item_id    4001\n",
            "Name: 2498, dtype: int64)\n",
            "(2499, ID         2499\n",
            "shop_id       5\n",
            "item_id    4041\n",
            "Name: 2499, dtype: int64)\n",
            "(2500, ID         2500\n",
            "shop_id       5\n",
            "item_id    3919\n",
            "Name: 2500, dtype: int64)\n",
            "(2501, ID         2501\n",
            "shop_id       5\n",
            "item_id    3988\n",
            "Name: 2501, dtype: int64)\n",
            "(2502, ID         2502\n",
            "shop_id       5\n",
            "item_id    3974\n",
            "Name: 2502, dtype: int64)\n",
            "(2503, ID         2503\n",
            "shop_id       5\n",
            "item_id    3987\n",
            "Name: 2503, dtype: int64)\n",
            "(2504, ID         2504\n",
            "shop_id       5\n",
            "item_id    3620\n",
            "Name: 2504, dtype: int64)\n",
            "(2505, ID         2505\n",
            "shop_id       5\n",
            "item_id    3617\n",
            "Name: 2505, dtype: int64)\n",
            "(2506, ID         2506\n",
            "shop_id       5\n",
            "item_id    3753\n",
            "Name: 2506, dtype: int64)\n",
            "(2507, ID         2507\n",
            "shop_id       5\n",
            "item_id    3640\n",
            "Name: 2507, dtype: int64)\n",
            "(2508, ID         2508\n",
            "shop_id       5\n",
            "item_id    3802\n",
            "Name: 2508, dtype: int64)\n",
            "(2509, ID         2509\n",
            "shop_id       5\n",
            "item_id    3797\n",
            "Name: 2509, dtype: int64)\n",
            "(2510, ID         2510\n",
            "shop_id       5\n",
            "item_id    3787\n",
            "Name: 2510, dtype: int64)\n",
            "(2511, ID         2511\n",
            "shop_id       5\n",
            "item_id    3777\n",
            "Name: 2511, dtype: int64)\n",
            "(2512, ID         2512\n",
            "shop_id       5\n",
            "item_id    3659\n",
            "Name: 2512, dtype: int64)\n",
            "(2513, ID         2513\n",
            "shop_id       5\n",
            "item_id    3657\n",
            "Name: 2513, dtype: int64)\n",
            "(2514, ID         2514\n",
            "shop_id       5\n",
            "item_id    3757\n",
            "Name: 2514, dtype: int64)\n",
            "(2515, ID         2515\n",
            "shop_id       5\n",
            "item_id    4316\n",
            "Name: 2515, dtype: int64)\n",
            "(2516, ID         2516\n",
            "shop_id       5\n",
            "item_id    4318\n",
            "Name: 2516, dtype: int64)\n",
            "(2517, ID         2517\n",
            "shop_id       5\n",
            "item_id    4310\n",
            "Name: 2517, dtype: int64)\n",
            "(2518, ID         2518\n",
            "shop_id       5\n",
            "item_id    4100\n",
            "Name: 2518, dtype: int64)\n",
            "(2519, ID         2519\n",
            "shop_id       5\n",
            "item_id    4092\n",
            "Name: 2519, dtype: int64)\n",
            "(2520, ID         2520\n",
            "shop_id       5\n",
            "item_id    4088\n",
            "Name: 2520, dtype: int64)\n",
            "(2521, ID         2521\n",
            "shop_id       5\n",
            "item_id    4414\n",
            "Name: 2521, dtype: int64)\n",
            "(2522, ID         2522\n",
            "shop_id       5\n",
            "item_id    4406\n",
            "Name: 2522, dtype: int64)\n",
            "(2523, ID         2523\n",
            "shop_id       5\n",
            "item_id    4382\n",
            "Name: 2523, dtype: int64)\n",
            "(2524, ID         2524\n",
            "shop_id       5\n",
            "item_id    4138\n",
            "Name: 2524, dtype: int64)\n",
            "(2525, ID         2525\n",
            "shop_id       5\n",
            "item_id    4067\n",
            "Name: 2525, dtype: int64)\n",
            "(2526, ID         2526\n",
            "shop_id       5\n",
            "item_id    4059\n",
            "Name: 2526, dtype: int64)\n",
            "(2527, ID         2527\n",
            "shop_id       5\n",
            "item_id    4242\n",
            "Name: 2527, dtype: int64)\n",
            "(2528, ID         2528\n",
            "shop_id       5\n",
            "item_id    4070\n",
            "Name: 2528, dtype: int64)\n",
            "(2529, ID         2529\n",
            "shop_id       5\n",
            "item_id    6291\n",
            "Name: 2529, dtype: int64)\n",
            "(2530, ID         2530\n",
            "shop_id       5\n",
            "item_id    6695\n",
            "Name: 2530, dtype: int64)\n",
            "(2531, ID         2531\n",
            "shop_id       5\n",
            "item_id    6311\n",
            "Name: 2531, dtype: int64)\n",
            "(2532, ID         2532\n",
            "shop_id       5\n",
            "item_id    6045\n",
            "Name: 2532, dtype: int64)\n",
            "(2533, ID         2533\n",
            "shop_id       5\n",
            "item_id    6040\n",
            "Name: 2533, dtype: int64)\n",
            "(2534, ID         2534\n",
            "shop_id       5\n",
            "item_id    6464\n",
            "Name: 2534, dtype: int64)\n",
            "(2535, ID         2535\n",
            "shop_id       5\n",
            "item_id    6265\n",
            "Name: 2535, dtype: int64)\n",
            "(2536, ID         2536\n",
            "shop_id       5\n",
            "item_id    6259\n",
            "Name: 2536, dtype: int64)\n",
            "(2537, ID         2537\n",
            "shop_id       5\n",
            "item_id    6407\n",
            "Name: 2537, dtype: int64)\n",
            "(2538, ID         2538\n",
            "shop_id       5\n",
            "item_id    6405\n",
            "Name: 2538, dtype: int64)\n",
            "(2539, ID         2539\n",
            "shop_id       5\n",
            "item_id    6202\n",
            "Name: 2539, dtype: int64)\n",
            "(2540, ID         2540\n",
            "shop_id       5\n",
            "item_id    6378\n",
            "Name: 2540, dtype: int64)\n",
            "(2541, ID         2541\n",
            "shop_id       5\n",
            "item_id    6931\n",
            "Name: 2541, dtype: int64)\n",
            "(2542, ID         2542\n",
            "shop_id       5\n",
            "item_id    6815\n",
            "Name: 2542, dtype: int64)\n",
            "(2543, ID         2543\n",
            "shop_id       5\n",
            "item_id    6811\n",
            "Name: 2543, dtype: int64)\n",
            "(2544, ID         2544\n",
            "shop_id       5\n",
            "item_id    6810\n",
            "Name: 2544, dtype: int64)\n",
            "(2545, ID         2545\n",
            "shop_id       5\n",
            "item_id    6806\n",
            "Name: 2545, dtype: int64)\n",
            "(2546, ID         2546\n",
            "shop_id       5\n",
            "item_id    6798\n",
            "Name: 2546, dtype: int64)\n",
            "(2547, ID         2547\n",
            "shop_id       5\n",
            "item_id    6333\n",
            "Name: 2547, dtype: int64)\n",
            "(2548, ID         2548\n",
            "shop_id       5\n",
            "item_id    6826\n",
            "Name: 2548, dtype: int64)\n",
            "(2549, ID         2549\n",
            "shop_id       5\n",
            "item_id    6867\n",
            "Name: 2549, dtype: int64)\n",
            "(2550, ID         2550\n",
            "shop_id       5\n",
            "item_id    6857\n",
            "Name: 2550, dtype: int64)\n",
            "(2551, ID         2551\n",
            "shop_id       5\n",
            "item_id    6855\n",
            "Name: 2551, dtype: int64)\n",
            "(2552, ID         2552\n",
            "shop_id       5\n",
            "item_id    6853\n",
            "Name: 2552, dtype: int64)\n",
            "(2553, ID         2553\n",
            "shop_id       5\n",
            "item_id    6847\n",
            "Name: 2553, dtype: int64)\n",
            "(2554, ID         2554\n",
            "shop_id       5\n",
            "item_id    6332\n",
            "Name: 2554, dtype: int64)\n",
            "(2555, ID         2555\n",
            "shop_id       5\n",
            "item_id    5605\n",
            "Name: 2555, dtype: int64)\n",
            "(2556, ID         2556\n",
            "shop_id       5\n",
            "item_id    5551\n",
            "Name: 2556, dtype: int64)\n",
            "(2557, ID         2557\n",
            "shop_id       5\n",
            "item_id    5543\n",
            "Name: 2557, dtype: int64)\n",
            "(2558, ID         2558\n",
            "shop_id       5\n",
            "item_id    5539\n",
            "Name: 2558, dtype: int64)\n",
            "(2559, ID         2559\n",
            "shop_id       5\n",
            "item_id    5663\n",
            "Name: 2559, dtype: int64)\n",
            "(2560, ID         2560\n",
            "shop_id       5\n",
            "item_id    5659\n",
            "Name: 2560, dtype: int64)\n",
            "(2561, ID         2561\n",
            "shop_id       5\n",
            "item_id    6005\n",
            "Name: 2561, dtype: int64)\n",
            "(2562, ID         2562\n",
            "shop_id       5\n",
            "item_id    5999\n",
            "Name: 2562, dtype: int64)\n",
            "(2563, ID         2563\n",
            "shop_id       5\n",
            "item_id    5995\n",
            "Name: 2563, dtype: int64)\n",
            "(2564, ID         2564\n",
            "shop_id       5\n",
            "item_id    5963\n",
            "Name: 2564, dtype: int64)\n",
            "(2565, ID         2565\n",
            "shop_id       5\n",
            "item_id    5961\n",
            "Name: 2565, dtype: int64)\n",
            "(2566, ID         2566\n",
            "shop_id       5\n",
            "item_id    5959\n",
            "Name: 2566, dtype: int64)\n",
            "(2567, ID         2567\n",
            "shop_id       5\n",
            "item_id    5951\n",
            "Name: 2567, dtype: int64)\n",
            "(2568, ID         2568\n",
            "shop_id       5\n",
            "item_id    5942\n",
            "Name: 2568, dtype: int64)\n",
            "(2569, ID         2569\n",
            "shop_id       5\n",
            "item_id    3541\n",
            "Name: 2569, dtype: int64)\n",
            "(2570, ID         2570\n",
            "shop_id       5\n",
            "item_id    3354\n",
            "Name: 2570, dtype: int64)\n",
            "(2571, ID         2571\n",
            "shop_id       5\n",
            "item_id    3624\n",
            "Name: 2571, dtype: int64)\n",
            "(2572, ID         2572\n",
            "shop_id       5\n",
            "item_id    5467\n",
            "Name: 2572, dtype: int64)\n",
            "(2573, ID         2573\n",
            "shop_id       5\n",
            "item_id    4996\n",
            "Name: 2573, dtype: int64)\n",
            "(2574, ID         2574\n",
            "shop_id       5\n",
            "item_id    4335\n",
            "Name: 2574, dtype: int64)\n",
            "(2575, ID         2575\n",
            "shop_id       5\n",
            "item_id    4710\n",
            "Name: 2575, dtype: int64)\n",
            "(2576, ID         2576\n",
            "shop_id       5\n",
            "item_id    4639\n",
            "Name: 2576, dtype: int64)\n",
            "(2577, ID         2577\n",
            "shop_id       5\n",
            "item_id    1325\n",
            "Name: 2577, dtype: int64)\n",
            "(2578, ID         2578\n",
            "shop_id       5\n",
            "item_id    1215\n",
            "Name: 2578, dtype: int64)\n",
            "(2579, ID         2579\n",
            "shop_id       5\n",
            "item_id    1253\n",
            "Name: 2579, dtype: int64)\n",
            "(2580, ID         2580\n",
            "shop_id       5\n",
            "item_id    1538\n",
            "Name: 2580, dtype: int64)\n",
            "(2581, ID         2581\n",
            "shop_id       5\n",
            "item_id     902\n",
            "Name: 2581, dtype: int64)\n",
            "(2582, ID         2582\n",
            "shop_id       5\n",
            "item_id     892\n",
            "Name: 2582, dtype: int64)\n",
            "(2583, ID          2583\n",
            "shop_id        5\n",
            "item_id    22069\n",
            "Name: 2583, dtype: int64)\n",
            "(2584, ID          2584\n",
            "shop_id        5\n",
            "item_id    22059\n",
            "Name: 2584, dtype: int64)\n",
            "(2585, ID          2585\n",
            "shop_id        5\n",
            "item_id    22105\n",
            "Name: 2585, dtype: int64)\n",
            "(2586, ID         2586\n",
            "shop_id       5\n",
            "item_id     888\n",
            "Name: 2586, dtype: int64)\n",
            "(2587, ID         2587\n",
            "shop_id       5\n",
            "item_id      30\n",
            "Name: 2587, dtype: int64)\n",
            "(2588, ID          2588\n",
            "shop_id        5\n",
            "item_id    22139\n",
            "Name: 2588, dtype: int64)\n",
            "(2589, ID          2589\n",
            "shop_id        5\n",
            "item_id    22137\n",
            "Name: 2589, dtype: int64)\n",
            "(2590, ID          2590\n",
            "shop_id        5\n",
            "item_id    22111\n",
            "Name: 2590, dtype: int64)\n",
            "(2591, ID          2591\n",
            "shop_id        5\n",
            "item_id    22106\n",
            "Name: 2591, dtype: int64)\n",
            "(2592, ID         2592\n",
            "shop_id       5\n",
            "item_id    2531\n",
            "Name: 2592, dtype: int64)\n",
            "(2593, ID         2593\n",
            "shop_id       5\n",
            "item_id    2270\n",
            "Name: 2593, dtype: int64)\n",
            "(2594, ID         2594\n",
            "shop_id       5\n",
            "item_id    3027\n",
            "Name: 2594, dtype: int64)\n",
            "(2595, ID         2595\n",
            "shop_id       5\n",
            "item_id    2782\n",
            "Name: 2595, dtype: int64)\n",
            "(2596, ID         2596\n",
            "shop_id       5\n",
            "item_id    2591\n",
            "Name: 2596, dtype: int64)\n",
            "(2597, ID         2597\n",
            "shop_id       5\n",
            "item_id    1969\n",
            "Name: 2597, dtype: int64)\n",
            "(2598, ID          2598\n",
            "shop_id        5\n",
            "item_id    10389\n",
            "Name: 2598, dtype: int64)\n",
            "(2599, ID         2599\n",
            "shop_id       5\n",
            "item_id    8852\n",
            "Name: 2599, dtype: int64)\n",
            "(2600, ID         2600\n",
            "shop_id       5\n",
            "item_id    9019\n",
            "Name: 2600, dtype: int64)\n",
            "(2601, ID         2601\n",
            "shop_id       5\n",
            "item_id    8555\n",
            "Name: 2601, dtype: int64)\n",
            "(2602, ID         2602\n",
            "shop_id       5\n",
            "item_id    9020\n",
            "Name: 2602, dtype: int64)\n",
            "(2603, ID          2603\n",
            "shop_id        5\n",
            "item_id    12482\n",
            "Name: 2603, dtype: int64)\n",
            "(2604, ID          2604\n",
            "shop_id        5\n",
            "item_id    12473\n",
            "Name: 2604, dtype: int64)\n",
            "(2605, ID          2605\n",
            "shop_id        5\n",
            "item_id    12405\n",
            "Name: 2605, dtype: int64)\n",
            "(2606, ID          2606\n",
            "shop_id        5\n",
            "item_id    12317\n",
            "Name: 2606, dtype: int64)\n",
            "(2607, ID          2607\n",
            "shop_id        5\n",
            "item_id    12088\n",
            "Name: 2607, dtype: int64)\n",
            "(2608, ID          2608\n",
            "shop_id        5\n",
            "item_id    12031\n",
            "Name: 2608, dtype: int64)\n",
            "(2609, ID          2609\n",
            "shop_id        5\n",
            "item_id    12206\n",
            "Name: 2609, dtype: int64)\n",
            "(2610, ID          2610\n",
            "shop_id        5\n",
            "item_id    11968\n",
            "Name: 2610, dtype: int64)\n",
            "(2611, ID          2611\n",
            "shop_id        5\n",
            "item_id    12539\n",
            "Name: 2611, dtype: int64)\n",
            "(2612, ID          2612\n",
            "shop_id        5\n",
            "item_id    10455\n",
            "Name: 2612, dtype: int64)\n",
            "(2613, ID          2613\n",
            "shop_id        5\n",
            "item_id    10625\n",
            "Name: 2613, dtype: int64)\n",
            "(2614, ID          2614\n",
            "shop_id        5\n",
            "item_id    11567\n",
            "Name: 2614, dtype: int64)\n",
            "(2615, ID          2615\n",
            "shop_id        5\n",
            "item_id    11046\n",
            "Name: 2615, dtype: int64)\n",
            "(2616, ID         2616\n",
            "shop_id       5\n",
            "item_id    6733\n",
            "Name: 2616, dtype: int64)\n",
            "(2617, ID         2617\n",
            "shop_id       5\n",
            "item_id    6694\n",
            "Name: 2617, dtype: int64)\n",
            "(2618, ID         2618\n",
            "shop_id       5\n",
            "item_id    5541\n",
            "Name: 2618, dtype: int64)\n",
            "(2619, ID         2619\n",
            "shop_id       5\n",
            "item_id    5842\n",
            "Name: 2619, dtype: int64)\n",
            "(2620, ID         2620\n",
            "shop_id       5\n",
            "item_id    6027\n",
            "Name: 2620, dtype: int64)\n",
            "(2621, ID         2621\n",
            "shop_id       5\n",
            "item_id    5667\n",
            "Name: 2621, dtype: int64)\n",
            "(2622, ID         2622\n",
            "shop_id       5\n",
            "item_id    7984\n",
            "Name: 2622, dtype: int64)\n",
            "(2623, ID         2623\n",
            "shop_id       5\n",
            "item_id    6740\n",
            "Name: 2623, dtype: int64)\n",
            "(2624, ID         2624\n",
            "shop_id       5\n",
            "item_id    7384\n",
            "Name: 2624, dtype: int64)\n",
            "(2625, ID          2625\n",
            "shop_id        5\n",
            "item_id    18430\n",
            "Name: 2625, dtype: int64)\n",
            "(2626, ID          2626\n",
            "shop_id        5\n",
            "item_id    18425\n",
            "Name: 2626, dtype: int64)\n",
            "(2627, ID          2627\n",
            "shop_id        5\n",
            "item_id    18417\n",
            "Name: 2627, dtype: int64)\n",
            "(2628, ID          2628\n",
            "shop_id        5\n",
            "item_id    18384\n",
            "Name: 2628, dtype: int64)\n",
            "(2629, ID          2629\n",
            "shop_id        5\n",
            "item_id    18375\n",
            "Name: 2629, dtype: int64)\n",
            "(2630, ID          2630\n",
            "shop_id        5\n",
            "item_id    18361\n",
            "Name: 2630, dtype: int64)\n",
            "(2631, ID          2631\n",
            "shop_id        5\n",
            "item_id    18464\n",
            "Name: 2631, dtype: int64)\n",
            "(2632, ID          2632\n",
            "shop_id        5\n",
            "item_id    19286\n",
            "Name: 2632, dtype: int64)\n",
            "(2633, ID          2633\n",
            "shop_id        5\n",
            "item_id    18192\n",
            "Name: 2633, dtype: int64)\n",
            "(2634, ID          2634\n",
            "shop_id        5\n",
            "item_id    18187\n",
            "Name: 2634, dtype: int64)\n",
            "(2635, ID          2635\n",
            "shop_id        5\n",
            "item_id    18186\n",
            "Name: 2635, dtype: int64)\n",
            "(2636, ID          2636\n",
            "shop_id        5\n",
            "item_id    18184\n",
            "Name: 2636, dtype: int64)\n",
            "(2637, ID          2637\n",
            "shop_id        5\n",
            "item_id    18209\n",
            "Name: 2637, dtype: int64)\n",
            "(2638, ID          2638\n",
            "shop_id        5\n",
            "item_id    18467\n",
            "Name: 2638, dtype: int64)\n",
            "(2639, ID          2639\n",
            "shop_id        5\n",
            "item_id    18501\n",
            "Name: 2639, dtype: int64)\n",
            "(2640, ID          2640\n",
            "shop_id        5\n",
            "item_id    18629\n",
            "Name: 2640, dtype: int64)\n",
            "(2641, ID          2641\n",
            "shop_id        5\n",
            "item_id    18627\n",
            "Name: 2641, dtype: int64)\n",
            "(2642, ID          2642\n",
            "shop_id        5\n",
            "item_id    19341\n",
            "Name: 2642, dtype: int64)\n",
            "(2643, ID          2643\n",
            "shop_id        5\n",
            "item_id    18483\n",
            "Name: 2643, dtype: int64)\n",
            "(2644, ID          2644\n",
            "shop_id        5\n",
            "item_id    18560\n",
            "Name: 2644, dtype: int64)\n",
            "(2645, ID          2645\n",
            "shop_id        5\n",
            "item_id    18523\n",
            "Name: 2645, dtype: int64)\n",
            "(2646, ID          2646\n",
            "shop_id        5\n",
            "item_id    19309\n",
            "Name: 2646, dtype: int64)\n",
            "(2647, ID          2647\n",
            "shop_id        5\n",
            "item_id    19308\n",
            "Name: 2647, dtype: int64)\n",
            "(2648, ID          2648\n",
            "shop_id        5\n",
            "item_id    19317\n",
            "Name: 2648, dtype: int64)\n",
            "(2649, ID          2649\n",
            "shop_id        5\n",
            "item_id    18132\n",
            "Name: 2649, dtype: int64)\n",
            "(2650, ID          2650\n",
            "shop_id        5\n",
            "item_id    17883\n",
            "Name: 2650, dtype: int64)\n",
            "(2651, ID          2651\n",
            "shop_id        5\n",
            "item_id    17847\n",
            "Name: 2651, dtype: int64)\n",
            "(2652, ID          2652\n",
            "shop_id        5\n",
            "item_id    17840\n",
            "Name: 2652, dtype: int64)\n",
            "(2653, ID          2653\n",
            "shop_id        5\n",
            "item_id    18043\n",
            "Name: 2653, dtype: int64)\n",
            "(2654, ID          2654\n",
            "shop_id        5\n",
            "item_id    17890\n",
            "Name: 2654, dtype: int64)\n",
            "(2655, ID          2655\n",
            "shop_id        5\n",
            "item_id    17764\n",
            "Name: 2655, dtype: int64)\n",
            "(2656, ID          2656\n",
            "shop_id        5\n",
            "item_id    18011\n",
            "Name: 2656, dtype: int64)\n",
            "(2657, ID          2657\n",
            "shop_id        5\n",
            "item_id    17898\n",
            "Name: 2657, dtype: int64)\n",
            "(2658, ID          2658\n",
            "shop_id        5\n",
            "item_id    18125\n",
            "Name: 2658, dtype: int64)\n",
            "(2659, ID          2659\n",
            "shop_id        5\n",
            "item_id    18115\n",
            "Name: 2659, dtype: int64)\n",
            "(2660, ID          2660\n",
            "shop_id        5\n",
            "item_id    18108\n",
            "Name: 2660, dtype: int64)\n",
            "(2661, ID          2661\n",
            "shop_id        5\n",
            "item_id    18104\n",
            "Name: 2661, dtype: int64)\n",
            "(2662, ID          2662\n",
            "shop_id        5\n",
            "item_id    17989\n",
            "Name: 2662, dtype: int64)\n",
            "(2663, ID          2663\n",
            "shop_id        5\n",
            "item_id    18091\n",
            "Name: 2663, dtype: int64)\n",
            "(2664, ID          2664\n",
            "shop_id        5\n",
            "item_id    17936\n",
            "Name: 2664, dtype: int64)\n",
            "(2665, ID          2665\n",
            "shop_id        5\n",
            "item_id    17929\n",
            "Name: 2665, dtype: int64)\n",
            "(2666, ID          2666\n",
            "shop_id        5\n",
            "item_id    17757\n",
            "Name: 2666, dtype: int64)\n",
            "(2667, ID          2667\n",
            "shop_id        5\n",
            "item_id    18653\n",
            "Name: 2667, dtype: int64)\n",
            "(2668, ID          2668\n",
            "shop_id        5\n",
            "item_id    18669\n",
            "Name: 2668, dtype: int64)\n",
            "(2669, ID          2669\n",
            "shop_id        5\n",
            "item_id    19464\n",
            "Name: 2669, dtype: int64)\n",
            "(2670, ID          2670\n",
            "shop_id        5\n",
            "item_id    19126\n",
            "Name: 2670, dtype: int64)\n",
            "(2671, ID          2671\n",
            "shop_id        5\n",
            "item_id    19110\n",
            "Name: 2671, dtype: int64)\n",
            "(2672, ID          2672\n",
            "shop_id        5\n",
            "item_id    19093\n",
            "Name: 2672, dtype: int64)\n",
            "(2673, ID          2673\n",
            "shop_id        5\n",
            "item_id    19092\n",
            "Name: 2673, dtype: int64)\n",
            "(2674, ID          2674\n",
            "shop_id        5\n",
            "item_id    19087\n",
            "Name: 2674, dtype: int64)\n",
            "(2675, ID          2675\n",
            "shop_id        5\n",
            "item_id    19085\n",
            "Name: 2675, dtype: int64)\n",
            "(2676, ID          2676\n",
            "shop_id        5\n",
            "item_id    19162\n",
            "Name: 2676, dtype: int64)\n",
            "(2677, ID          2677\n",
            "shop_id        5\n",
            "item_id    19220\n",
            "Name: 2677, dtype: int64)\n",
            "(2678, ID          2678\n",
            "shop_id        5\n",
            "item_id    19210\n",
            "Name: 2678, dtype: int64)\n",
            "(2679, ID          2679\n",
            "shop_id        5\n",
            "item_id    19507\n",
            "Name: 2679, dtype: int64)\n",
            "(2680, ID          2680\n",
            "shop_id        5\n",
            "item_id    19488\n",
            "Name: 2680, dtype: int64)\n",
            "(2681, ID          2681\n",
            "shop_id        5\n",
            "item_id    19478\n",
            "Name: 2681, dtype: int64)\n",
            "(2682, ID          2682\n",
            "shop_id        5\n",
            "item_id    19075\n",
            "Name: 2682, dtype: int64)\n",
            "(2683, ID          2683\n",
            "shop_id        5\n",
            "item_id    18911\n",
            "Name: 2683, dtype: int64)\n",
            "(2684, ID          2684\n",
            "shop_id        5\n",
            "item_id    18884\n",
            "Name: 2684, dtype: int64)\n",
            "(2685, ID          2685\n",
            "shop_id        5\n",
            "item_id    18849\n",
            "Name: 2685, dtype: int64)\n",
            "(2686, ID          2686\n",
            "shop_id        5\n",
            "item_id    18841\n",
            "Name: 2686, dtype: int64)\n",
            "(2687, ID          2687\n",
            "shop_id        5\n",
            "item_id    18835\n",
            "Name: 2687, dtype: int64)\n",
            "(2688, ID          2688\n",
            "shop_id        5\n",
            "item_id    18831\n",
            "Name: 2688, dtype: int64)\n",
            "(2689, ID          2689\n",
            "shop_id        5\n",
            "item_id    18764\n",
            "Name: 2689, dtype: int64)\n",
            "(2690, ID          2690\n",
            "shop_id        5\n",
            "item_id    18759\n",
            "Name: 2690, dtype: int64)\n",
            "(2691, ID          2691\n",
            "shop_id        5\n",
            "item_id    18714\n",
            "Name: 2691, dtype: int64)\n",
            "(2692, ID          2692\n",
            "shop_id        5\n",
            "item_id    18708\n",
            "Name: 2692, dtype: int64)\n",
            "(2693, ID          2693\n",
            "shop_id        5\n",
            "item_id    18746\n",
            "Name: 2693, dtype: int64)\n",
            "(2694, ID          2694\n",
            "shop_id        5\n",
            "item_id    19053\n",
            "Name: 2694, dtype: int64)\n",
            "(2695, ID          2695\n",
            "shop_id        5\n",
            "item_id    19051\n",
            "Name: 2695, dtype: int64)\n",
            "(2696, ID          2696\n",
            "shop_id        5\n",
            "item_id    19050\n",
            "Name: 2696, dtype: int64)\n",
            "(2697, ID          2697\n",
            "shop_id        5\n",
            "item_id    19046\n",
            "Name: 2697, dtype: int64)\n",
            "(2698, ID          2698\n",
            "shop_id        5\n",
            "item_id    19044\n",
            "Name: 2698, dtype: int64)\n",
            "(2699, ID          2699\n",
            "shop_id        5\n",
            "item_id    19015\n",
            "Name: 2699, dtype: int64)\n",
            "(2700, ID          2700\n",
            "shop_id        5\n",
            "item_id    18979\n",
            "Name: 2700, dtype: int64)\n",
            "(2701, ID          2701\n",
            "shop_id        5\n",
            "item_id    19423\n",
            "Name: 2701, dtype: int64)\n",
            "(2702, ID          2702\n",
            "shop_id        5\n",
            "item_id    19422\n",
            "Name: 2702, dtype: int64)\n",
            "(2703, ID          2703\n",
            "shop_id        5\n",
            "item_id    18654\n",
            "Name: 2703, dtype: int64)\n",
            "(2704, ID          2704\n",
            "shop_id        5\n",
            "item_id    17568\n",
            "Name: 2704, dtype: int64)\n",
            "(2705, ID         2705\n",
            "shop_id       5\n",
            "item_id    2707\n",
            "Name: 2705, dtype: int64)\n",
            "(2706, ID         2706\n",
            "shop_id       5\n",
            "item_id    2699\n",
            "Name: 2706, dtype: int64)\n",
            "(2707, ID         2707\n",
            "shop_id       5\n",
            "item_id    2799\n",
            "Name: 2707, dtype: int64)\n",
            "(2708, ID         2708\n",
            "shop_id       5\n",
            "item_id    3023\n",
            "Name: 2708, dtype: int64)\n",
            "(2709, ID         2709\n",
            "shop_id       5\n",
            "item_id    3234\n",
            "Name: 2709, dtype: int64)\n",
            "(2710, ID         2710\n",
            "shop_id       5\n",
            "item_id    3236\n",
            "Name: 2710, dtype: int64)\n",
            "(2711, ID          2711\n",
            "shop_id        5\n",
            "item_id    17403\n",
            "Name: 2711, dtype: int64)\n",
            "(2712, ID         2712\n",
            "shop_id       5\n",
            "item_id    1364\n",
            "Name: 2712, dtype: int64)\n",
            "(2713, ID          2713\n",
            "shop_id        5\n",
            "item_id    17534\n",
            "Name: 2713, dtype: int64)\n",
            "(2714, ID          2714\n",
            "shop_id        5\n",
            "item_id    17479\n",
            "Name: 2714, dtype: int64)\n",
            "(2715, ID          2715\n",
            "shop_id        5\n",
            "item_id    17469\n",
            "Name: 2715, dtype: int64)\n",
            "(2716, ID          2716\n",
            "shop_id        5\n",
            "item_id    17461\n",
            "Name: 2716, dtype: int64)\n",
            "(2717, ID          2717\n",
            "shop_id        5\n",
            "item_id    17452\n",
            "Name: 2717, dtype: int64)\n",
            "(2718, ID          2718\n",
            "shop_id        5\n",
            "item_id    17440\n",
            "Name: 2718, dtype: int64)\n",
            "(2719, ID          2719\n",
            "shop_id        5\n",
            "item_id    17419\n",
            "Name: 2719, dtype: int64)\n",
            "(2720, ID          2720\n",
            "shop_id        5\n",
            "item_id    19588\n",
            "Name: 2720, dtype: int64)\n",
            "(2721, ID         2721\n",
            "shop_id       5\n",
            "item_id    1916\n",
            "Name: 2721, dtype: int64)\n",
            "(2722, ID         2722\n",
            "shop_id       5\n",
            "item_id    1813\n",
            "Name: 2722, dtype: int64)\n",
            "(2723, ID         2723\n",
            "shop_id       5\n",
            "item_id    2036\n",
            "Name: 2723, dtype: int64)\n",
            "(2724, ID         2724\n",
            "shop_id       5\n",
            "item_id    2059\n",
            "Name: 2724, dtype: int64)\n",
            "(2725, ID         2725\n",
            "shop_id       5\n",
            "item_id    1467\n",
            "Name: 2725, dtype: int64)\n",
            "(2726, ID          2726\n",
            "shop_id        5\n",
            "item_id    19590\n",
            "Name: 2726, dtype: int64)\n",
            "(2727, ID          2727\n",
            "shop_id        5\n",
            "item_id    21001\n",
            "Name: 2727, dtype: int64)\n",
            "(2728, ID          2728\n",
            "shop_id        5\n",
            "item_id    20996\n",
            "Name: 2728, dtype: int64)\n",
            "(2729, ID          2729\n",
            "shop_id        5\n",
            "item_id    21010\n",
            "Name: 2729, dtype: int64)\n",
            "(2730, ID          2730\n",
            "shop_id        5\n",
            "item_id    20952\n",
            "Name: 2730, dtype: int64)\n",
            "(2731, ID          2731\n",
            "shop_id        5\n",
            "item_id    20951\n",
            "Name: 2731, dtype: int64)\n",
            "(2732, ID          2732\n",
            "shop_id        5\n",
            "item_id    21069\n",
            "Name: 2732, dtype: int64)\n",
            "(2733, ID          2733\n",
            "shop_id        5\n",
            "item_id    21113\n",
            "Name: 2733, dtype: int64)\n",
            "(2734, ID          2734\n",
            "shop_id        5\n",
            "item_id    21374\n",
            "Name: 2734, dtype: int64)\n",
            "(2735, ID          2735\n",
            "shop_id        5\n",
            "item_id    21366\n",
            "Name: 2735, dtype: int64)\n",
            "(2736, ID          2736\n",
            "shop_id        5\n",
            "item_id    21103\n",
            "Name: 2736, dtype: int64)\n",
            "(2737, ID          2737\n",
            "shop_id        5\n",
            "item_id    21342\n",
            "Name: 2737, dtype: int64)\n",
            "(2738, ID          2738\n",
            "shop_id        5\n",
            "item_id    21270\n",
            "Name: 2738, dtype: int64)\n",
            "(2739, ID          2739\n",
            "shop_id        5\n",
            "item_id    21213\n",
            "Name: 2739, dtype: int64)\n",
            "(2740, ID          2740\n",
            "shop_id        5\n",
            "item_id    21207\n",
            "Name: 2740, dtype: int64)\n",
            "(2741, ID          2741\n",
            "shop_id        5\n",
            "item_id    21137\n",
            "Name: 2741, dtype: int64)\n",
            "(2742, ID          2742\n",
            "shop_id        5\n",
            "item_id    21136\n",
            "Name: 2742, dtype: int64)\n",
            "(2743, ID          2743\n",
            "shop_id        5\n",
            "item_id    21119\n",
            "Name: 2743, dtype: int64)\n",
            "(2744, ID          2744\n",
            "shop_id        5\n",
            "item_id    21116\n",
            "Name: 2744, dtype: int64)\n",
            "(2745, ID          2745\n",
            "shop_id        5\n",
            "item_id    21114\n",
            "Name: 2745, dtype: int64)\n",
            "(2746, ID          2746\n",
            "shop_id        5\n",
            "item_id    21354\n",
            "Name: 2746, dtype: int64)\n",
            "(2747, ID          2747\n",
            "shop_id        5\n",
            "item_id    20882\n",
            "Name: 2747, dtype: int64)\n",
            "(2748, ID          2748\n",
            "shop_id        5\n",
            "item_id    20845\n",
            "Name: 2748, dtype: int64)\n",
            "(2749, ID          2749\n",
            "shop_id        5\n",
            "item_id    20844\n",
            "Name: 2749, dtype: int64)\n",
            "(2750, ID          2750\n",
            "shop_id        5\n",
            "item_id    20833\n",
            "Name: 2750, dtype: int64)\n",
            "(2751, ID          2751\n",
            "shop_id        5\n",
            "item_id    20909\n",
            "Name: 2751, dtype: int64)\n",
            "(2752, ID          2752\n",
            "shop_id        5\n",
            "item_id    20803\n",
            "Name: 2752, dtype: int64)\n",
            "(2753, ID          2753\n",
            "shop_id        5\n",
            "item_id    20760\n",
            "Name: 2753, dtype: int64)\n",
            "(2754, ID          2754\n",
            "shop_id        5\n",
            "item_id    20752\n",
            "Name: 2754, dtype: int64)\n",
            "(2755, ID          2755\n",
            "shop_id        5\n",
            "item_id    20749\n",
            "Name: 2755, dtype: int64)\n",
            "(2756, ID          2756\n",
            "shop_id        5\n",
            "item_id    20743\n",
            "Name: 2756, dtype: int64)\n",
            "(2757, ID          2757\n",
            "shop_id        5\n",
            "item_id    20736\n",
            "Name: 2757, dtype: int64)\n",
            "(2758, ID          2758\n",
            "shop_id        5\n",
            "item_id    20801\n",
            "Name: 2758, dtype: int64)\n",
            "(2759, ID          2759\n",
            "shop_id        5\n",
            "item_id    20918\n",
            "Name: 2759, dtype: int64)\n",
            "(2760, ID          2760\n",
            "shop_id        5\n",
            "item_id    20274\n",
            "Name: 2760, dtype: int64)\n",
            "(2761, ID          2761\n",
            "shop_id        5\n",
            "item_id    21914\n",
            "Name: 2761, dtype: int64)\n",
            "(2762, ID          2762\n",
            "shop_id        5\n",
            "item_id    21957\n",
            "Name: 2762, dtype: int64)\n",
            "(2763, ID          2763\n",
            "shop_id        5\n",
            "item_id    21947\n",
            "Name: 2763, dtype: int64)\n",
            "(2764, ID          2764\n",
            "shop_id        5\n",
            "item_id    21940\n",
            "Name: 2764, dtype: int64)\n",
            "(2765, ID          2765\n",
            "shop_id        5\n",
            "item_id    21765\n",
            "Name: 2765, dtype: int64)\n",
            "(2766, ID          2766\n",
            "shop_id        5\n",
            "item_id    21760\n",
            "Name: 2766, dtype: int64)\n",
            "(2767, ID          2767\n",
            "shop_id        5\n",
            "item_id    21946\n",
            "Name: 2767, dtype: int64)\n",
            "(2768, ID          2768\n",
            "shop_id        5\n",
            "item_id    22008\n",
            "Name: 2768, dtype: int64)\n",
            "(2769, ID          2769\n",
            "shop_id        5\n",
            "item_id    22007\n",
            "Name: 2769, dtype: int64)\n",
            "(2770, ID          2770\n",
            "shop_id        5\n",
            "item_id    21795\n",
            "Name: 2770, dtype: int64)\n",
            "(2771, ID          2771\n",
            "shop_id        5\n",
            "item_id    21791\n",
            "Name: 2771, dtype: int64)\n",
            "(2772, ID          2772\n",
            "shop_id        5\n",
            "item_id    21408\n",
            "Name: 2772, dtype: int64)\n",
            "(2773, ID          2773\n",
            "shop_id        5\n",
            "item_id    21453\n",
            "Name: 2773, dtype: int64)\n",
            "(2774, ID          2774\n",
            "shop_id        5\n",
            "item_id    21787\n",
            "Name: 2774, dtype: int64)\n",
            "(2775, ID          2775\n",
            "shop_id        5\n",
            "item_id    21684\n",
            "Name: 2775, dtype: int64)\n",
            "(2776, ID          2776\n",
            "shop_id        5\n",
            "item_id    21597\n",
            "Name: 2776, dtype: int64)\n",
            "(2777, ID          2777\n",
            "shop_id        5\n",
            "item_id    21536\n",
            "Name: 2777, dtype: int64)\n",
            "(2778, ID          2778\n",
            "shop_id        5\n",
            "item_id    21530\n",
            "Name: 2778, dtype: int64)\n",
            "(2779, ID          2779\n",
            "shop_id        5\n",
            "item_id    21519\n",
            "Name: 2779, dtype: int64)\n",
            "(2780, ID          2780\n",
            "shop_id        5\n",
            "item_id    21792\n",
            "Name: 2780, dtype: int64)\n",
            "(2781, ID          2781\n",
            "shop_id        5\n",
            "item_id    20735\n",
            "Name: 2781, dtype: int64)\n",
            "(2782, ID          2782\n",
            "shop_id        5\n",
            "item_id    19797\n",
            "Name: 2782, dtype: int64)\n",
            "(2783, ID          2783\n",
            "shop_id        5\n",
            "item_id    19775\n",
            "Name: 2783, dtype: int64)\n",
            "(2784, ID          2784\n",
            "shop_id        5\n",
            "item_id    19774\n",
            "Name: 2784, dtype: int64)\n",
            "(2785, ID          2785\n",
            "shop_id        5\n",
            "item_id    19744\n",
            "Name: 2785, dtype: int64)\n",
            "(2786, ID          2786\n",
            "shop_id        5\n",
            "item_id    19976\n",
            "Name: 2786, dtype: int64)\n",
            "(2787, ID          2787\n",
            "shop_id        5\n",
            "item_id    19692\n",
            "Name: 2787, dtype: int64)\n",
            "(2788, ID          2788\n",
            "shop_id        5\n",
            "item_id    19674\n",
            "Name: 2788, dtype: int64)\n",
            "(2789, ID          2789\n",
            "shop_id        5\n",
            "item_id    19671\n",
            "Name: 2789, dtype: int64)\n",
            "(2790, ID          2790\n",
            "shop_id        5\n",
            "item_id    19951\n",
            "Name: 2790, dtype: int64)\n",
            "(2791, ID          2791\n",
            "shop_id        5\n",
            "item_id    19967\n",
            "Name: 2791, dtype: int64)\n",
            "(2792, ID          2792\n",
            "shop_id        5\n",
            "item_id    19814\n",
            "Name: 2792, dtype: int64)\n",
            "(2793, ID          2793\n",
            "shop_id        5\n",
            "item_id    20126\n",
            "Name: 2793, dtype: int64)\n",
            "(2794, ID          2794\n",
            "shop_id        5\n",
            "item_id    20046\n",
            "Name: 2794, dtype: int64)\n",
            "(2795, ID          2795\n",
            "shop_id        5\n",
            "item_id    19789\n",
            "Name: 2795, dtype: int64)\n",
            "(2796, ID          2796\n",
            "shop_id        5\n",
            "item_id    19902\n",
            "Name: 2796, dtype: int64)\n",
            "(2797, ID          2797\n",
            "shop_id        5\n",
            "item_id    19898\n",
            "Name: 2797, dtype: int64)\n",
            "(2798, ID          2798\n",
            "shop_id        5\n",
            "item_id    19885\n",
            "Name: 2798, dtype: int64)\n",
            "(2799, ID          2799\n",
            "shop_id        5\n",
            "item_id    19884\n",
            "Name: 2799, dtype: int64)\n",
            "(2800, ID          2800\n",
            "shop_id        5\n",
            "item_id    19852\n",
            "Name: 2800, dtype: int64)\n",
            "(2801, ID          2801\n",
            "shop_id        5\n",
            "item_id    19900\n",
            "Name: 2801, dtype: int64)\n",
            "(2802, ID          2802\n",
            "shop_id        5\n",
            "item_id    20214\n",
            "Name: 2802, dtype: int64)\n",
            "(2803, ID          2803\n",
            "shop_id        5\n",
            "item_id    20217\n",
            "Name: 2803, dtype: int64)\n",
            "(2804, ID          2804\n",
            "shop_id        5\n",
            "item_id    20617\n",
            "Name: 2804, dtype: int64)\n",
            "(2805, ID          2805\n",
            "shop_id        5\n",
            "item_id    20623\n",
            "Name: 2805, dtype: int64)\n",
            "(2806, ID          2806\n",
            "shop_id        5\n",
            "item_id    20625\n",
            "Name: 2806, dtype: int64)\n",
            "(2807, ID          2807\n",
            "shop_id        5\n",
            "item_id    20730\n",
            "Name: 2807, dtype: int64)\n",
            "(2808, ID          2808\n",
            "shop_id        5\n",
            "item_id    20725\n",
            "Name: 2808, dtype: int64)\n",
            "(2809, ID          2809\n",
            "shop_id        5\n",
            "item_id    20694\n",
            "Name: 2809, dtype: int64)\n",
            "(2810, ID          2810\n",
            "shop_id        5\n",
            "item_id    20600\n",
            "Name: 2810, dtype: int64)\n",
            "(2811, ID          2811\n",
            "shop_id        5\n",
            "item_id    20599\n",
            "Name: 2811, dtype: int64)\n",
            "(2812, ID          2812\n",
            "shop_id        5\n",
            "item_id    20605\n",
            "Name: 2812, dtype: int64)\n",
            "(2813, ID          2813\n",
            "shop_id        5\n",
            "item_id    20377\n",
            "Name: 2813, dtype: int64)\n",
            "(2814, ID          2814\n",
            "shop_id        5\n",
            "item_id    20352\n",
            "Name: 2814, dtype: int64)\n",
            "(2815, ID          2815\n",
            "shop_id        5\n",
            "item_id    20347\n",
            "Name: 2815, dtype: int64)\n",
            "(2816, ID          2816\n",
            "shop_id        5\n",
            "item_id    20219\n",
            "Name: 2816, dtype: int64)\n",
            "(2817, ID          2817\n",
            "shop_id        5\n",
            "item_id    20413\n",
            "Name: 2817, dtype: int64)\n",
            "(2818, ID          2818\n",
            "shop_id        5\n",
            "item_id    20594\n",
            "Name: 2818, dtype: int64)\n",
            "(2819, ID          2819\n",
            "shop_id        5\n",
            "item_id    20586\n",
            "Name: 2819, dtype: int64)\n",
            "(2820, ID          2820\n",
            "shop_id        5\n",
            "item_id    20581\n",
            "Name: 2820, dtype: int64)\n",
            "(2821, ID          2821\n",
            "shop_id        5\n",
            "item_id    20570\n",
            "Name: 2821, dtype: int64)\n",
            "(2822, ID          2822\n",
            "shop_id        5\n",
            "item_id    20565\n",
            "Name: 2822, dtype: int64)\n",
            "(2823, ID          2823\n",
            "shop_id        5\n",
            "item_id    20529\n",
            "Name: 2823, dtype: int64)\n",
            "(2824, ID          2824\n",
            "shop_id        5\n",
            "item_id    20512\n",
            "Name: 2824, dtype: int64)\n",
            "(2825, ID          2825\n",
            "shop_id        5\n",
            "item_id    20461\n",
            "Name: 2825, dtype: int64)\n",
            "(2826, ID          2826\n",
            "shop_id        5\n",
            "item_id    20456\n",
            "Name: 2826, dtype: int64)\n",
            "(2827, ID          2827\n",
            "shop_id        5\n",
            "item_id    20439\n",
            "Name: 2827, dtype: int64)\n",
            "(2828, ID          2828\n",
            "shop_id        5\n",
            "item_id    13239\n",
            "Name: 2828, dtype: int64)\n",
            "(2829, ID         2829\n",
            "shop_id       5\n",
            "item_id    5897\n",
            "Name: 2829, dtype: int64)\n",
            "(2830, ID         2830\n",
            "shop_id       5\n",
            "item_id    6312\n",
            "Name: 2830, dtype: int64)\n",
            "(2831, ID         2831\n",
            "shop_id       5\n",
            "item_id    6275\n",
            "Name: 2831, dtype: int64)\n",
            "(2832, ID         2832\n",
            "shop_id       5\n",
            "item_id    5997\n",
            "Name: 2832, dtype: int64)\n",
            "(2833, ID         2833\n",
            "shop_id       5\n",
            "item_id    6234\n",
            "Name: 2833, dtype: int64)\n",
            "(2834, ID         2834\n",
            "shop_id       5\n",
            "item_id    6190\n",
            "Name: 2834, dtype: int64)\n",
            "(2835, ID         2835\n",
            "shop_id       5\n",
            "item_id    6127\n",
            "Name: 2835, dtype: int64)\n",
            "(2836, ID         2836\n",
            "shop_id       5\n",
            "item_id    4090\n",
            "Name: 2836, dtype: int64)\n",
            "(2837, ID         2837\n",
            "shop_id       5\n",
            "item_id    4117\n",
            "Name: 2837, dtype: int64)\n",
            "(2838, ID         2838\n",
            "shop_id       5\n",
            "item_id    4285\n",
            "Name: 2838, dtype: int64)\n",
            "(2839, ID         2839\n",
            "shop_id       5\n",
            "item_id    3769\n",
            "Name: 2839, dtype: int64)\n",
            "(2840, ID         2840\n",
            "shop_id       5\n",
            "item_id    3634\n",
            "Name: 2840, dtype: int64)\n",
            "(2841, ID         2841\n",
            "shop_id       5\n",
            "item_id    3902\n",
            "Name: 2841, dtype: int64)\n",
            "(2842, ID         2842\n",
            "shop_id       5\n",
            "item_id    3990\n",
            "Name: 2842, dtype: int64)\n",
            "(2843, ID         2843\n",
            "shop_id       5\n",
            "item_id    5270\n",
            "Name: 2843, dtype: int64)\n",
            "(2844, ID         2844\n",
            "shop_id       5\n",
            "item_id    5241\n",
            "Name: 2844, dtype: int64)\n",
            "(2845, ID         2845\n",
            "shop_id       5\n",
            "item_id    5341\n",
            "Name: 2845, dtype: int64)\n",
            "(2846, ID         2846\n",
            "shop_id       5\n",
            "item_id    5397\n",
            "Name: 2846, dtype: int64)\n",
            "(2847, ID         2847\n",
            "shop_id       5\n",
            "item_id    4583\n",
            "Name: 2847, dtype: int64)\n",
            "(2848, ID         2848\n",
            "shop_id       5\n",
            "item_id    4531\n",
            "Name: 2848, dtype: int64)\n",
            "(2849, ID         2849\n",
            "shop_id       5\n",
            "item_id    4837\n",
            "Name: 2849, dtype: int64)\n",
            "(2850, ID         2850\n",
            "shop_id       5\n",
            "item_id    4707\n",
            "Name: 2850, dtype: int64)\n",
            "(2851, ID         2851\n",
            "shop_id       5\n",
            "item_id    4907\n",
            "Name: 2851, dtype: int64)\n",
            "(2852, ID         2852\n",
            "shop_id       5\n",
            "item_id    4653\n",
            "Name: 2852, dtype: int64)\n",
            "(2853, ID         2853\n",
            "shop_id       5\n",
            "item_id    9740\n",
            "Name: 2853, dtype: int64)\n",
            "(2854, ID         2854\n",
            "shop_id       5\n",
            "item_id    9665\n",
            "Name: 2854, dtype: int64)\n",
            "(2855, ID         2855\n",
            "shop_id       5\n",
            "item_id    9056\n",
            "Name: 2855, dtype: int64)\n",
            "(2856, ID         2856\n",
            "shop_id       5\n",
            "item_id    9411\n",
            "Name: 2856, dtype: int64)\n",
            "(2857, ID         2857\n",
            "shop_id       5\n",
            "item_id    9349\n",
            "Name: 2857, dtype: int64)\n",
            "(2858, ID         2858\n",
            "shop_id       5\n",
            "item_id    9335\n",
            "Name: 2858, dtype: int64)\n",
            "(2859, ID         2859\n",
            "shop_id       5\n",
            "item_id    9322\n",
            "Name: 2859, dtype: int64)\n",
            "(2860, ID         2860\n",
            "shop_id       5\n",
            "item_id    8888\n",
            "Name: 2860, dtype: int64)\n",
            "(2861, ID         2861\n",
            "shop_id       5\n",
            "item_id    9400\n",
            "Name: 2861, dtype: int64)\n",
            "(2862, ID          2862\n",
            "shop_id        5\n",
            "item_id    10405\n",
            "Name: 2862, dtype: int64)\n",
            "(2863, ID          2863\n",
            "shop_id        5\n",
            "item_id    10517\n",
            "Name: 2863, dtype: int64)\n",
            "(2864, ID          2864\n",
            "shop_id        5\n",
            "item_id    10488\n",
            "Name: 2864, dtype: int64)\n",
            "(2865, ID          2865\n",
            "shop_id        5\n",
            "item_id    10631\n",
            "Name: 2865, dtype: int64)\n",
            "(2866, ID         2866\n",
            "shop_id       5\n",
            "item_id    9930\n",
            "Name: 2866, dtype: int64)\n",
            "(2867, ID         2867\n",
            "shop_id       5\n",
            "item_id    9797\n",
            "Name: 2867, dtype: int64)\n",
            "(2868, ID          2868\n",
            "shop_id        5\n",
            "item_id    10304\n",
            "Name: 2868, dtype: int64)\n",
            "(2869, ID          2869\n",
            "shop_id        5\n",
            "item_id    10143\n",
            "Name: 2869, dtype: int64)\n",
            "(2870, ID          2870\n",
            "shop_id        5\n",
            "item_id    10099\n",
            "Name: 2870, dtype: int64)\n",
            "(2871, ID         2871\n",
            "shop_id       5\n",
            "item_id    7398\n",
            "Name: 2871, dtype: int64)\n",
            "(2872, ID         2872\n",
            "shop_id       5\n",
            "item_id    7397\n",
            "Name: 2872, dtype: int64)\n",
            "(2873, ID         2873\n",
            "shop_id       5\n",
            "item_id    7393\n",
            "Name: 2873, dtype: int64)\n",
            "(2874, ID         2874\n",
            "shop_id       5\n",
            "item_id    7327\n",
            "Name: 2874, dtype: int64)\n",
            "(2875, ID         2875\n",
            "shop_id       5\n",
            "item_id    7286\n",
            "Name: 2875, dtype: int64)\n",
            "(2876, ID         2876\n",
            "shop_id       5\n",
            "item_id    7270\n",
            "Name: 2876, dtype: int64)\n",
            "(2877, ID         2877\n",
            "shop_id       5\n",
            "item_id    7255\n",
            "Name: 2877, dtype: int64)\n",
            "(2878, ID         2878\n",
            "shop_id       5\n",
            "item_id    7231\n",
            "Name: 2878, dtype: int64)\n",
            "(2879, ID         2879\n",
            "shop_id       5\n",
            "item_id    7350\n",
            "Name: 2879, dtype: int64)\n",
            "(2880, ID         2880\n",
            "shop_id       5\n",
            "item_id    6807\n",
            "Name: 2880, dtype: int64)\n",
            "(2881, ID         2881\n",
            "shop_id       5\n",
            "item_id    6353\n",
            "Name: 2881, dtype: int64)\n",
            "(2882, ID         2882\n",
            "shop_id       5\n",
            "item_id    6875\n",
            "Name: 2882, dtype: int64)\n",
            "(2883, ID         2883\n",
            "shop_id       5\n",
            "item_id    7134\n",
            "Name: 2883, dtype: int64)\n",
            "(2884, ID         2884\n",
            "shop_id       5\n",
            "item_id    9211\n",
            "Name: 2884, dtype: int64)\n",
            "(2885, ID         2885\n",
            "shop_id       5\n",
            "item_id    7877\n",
            "Name: 2885, dtype: int64)\n",
            "(2886, ID         2886\n",
            "shop_id       5\n",
            "item_id    8256\n",
            "Name: 2886, dtype: int64)\n",
            "(2887, ID         2887\n",
            "shop_id       5\n",
            "item_id    8249\n",
            "Name: 2887, dtype: int64)\n",
            "(2888, ID         2888\n",
            "shop_id       5\n",
            "item_id    8502\n",
            "Name: 2888, dtype: int64)\n",
            "(2889, ID         2889\n",
            "shop_id       5\n",
            "item_id    8244\n",
            "Name: 2889, dtype: int64)\n",
            "(2890, ID         2890\n",
            "shop_id       5\n",
            "item_id    8112\n",
            "Name: 2890, dtype: int64)\n",
            "(2891, ID         2891\n",
            "shop_id       5\n",
            "item_id    8094\n",
            "Name: 2891, dtype: int64)\n",
            "(2892, ID         2892\n",
            "shop_id       5\n",
            "item_id    8033\n",
            "Name: 2892, dtype: int64)\n",
            "(2893, ID          2893\n",
            "shop_id        5\n",
            "item_id    19305\n",
            "Name: 2893, dtype: int64)\n",
            "(2894, ID          2894\n",
            "shop_id        5\n",
            "item_id    17942\n",
            "Name: 2894, dtype: int64)\n",
            "(2895, ID          2895\n",
            "shop_id        5\n",
            "item_id    18059\n",
            "Name: 2895, dtype: int64)\n",
            "(2896, ID          2896\n",
            "shop_id        5\n",
            "item_id    17848\n",
            "Name: 2896, dtype: int64)\n",
            "(2897, ID          2897\n",
            "shop_id        5\n",
            "item_id    18022\n",
            "Name: 2897, dtype: int64)\n",
            "(2898, ID          2898\n",
            "shop_id        5\n",
            "item_id    18016\n",
            "Name: 2898, dtype: int64)\n",
            "(2899, ID          2899\n",
            "shop_id        5\n",
            "item_id    19048\n",
            "Name: 2899, dtype: int64)\n",
            "(2900, ID          2900\n",
            "shop_id        5\n",
            "item_id    19118\n",
            "Name: 2900, dtype: int64)\n",
            "(2901, ID          2901\n",
            "shop_id        5\n",
            "item_id    16866\n",
            "Name: 2901, dtype: int64)\n",
            "(2902, ID          2902\n",
            "shop_id        5\n",
            "item_id    16601\n",
            "Name: 2902, dtype: int64)\n",
            "(2903, ID          2903\n",
            "shop_id        5\n",
            "item_id    16459\n",
            "Name: 2903, dtype: int64)\n",
            "(2904, ID          2904\n",
            "shop_id        5\n",
            "item_id    15798\n",
            "Name: 2904, dtype: int64)\n",
            "(2905, ID          2905\n",
            "shop_id        5\n",
            "item_id    15784\n",
            "Name: 2905, dtype: int64)\n",
            "(2906, ID          2906\n",
            "shop_id        5\n",
            "item_id    15680\n",
            "Name: 2906, dtype: int64)\n",
            "(2907, ID          2907\n",
            "shop_id        5\n",
            "item_id    17220\n",
            "Name: 2907, dtype: int64)\n",
            "(2908, ID          2908\n",
            "shop_id        5\n",
            "item_id    17104\n",
            "Name: 2908, dtype: int64)\n",
            "(2909, ID          2909\n",
            "shop_id        5\n",
            "item_id    21118\n",
            "Name: 2909, dtype: int64)\n",
            "(2910, ID          2910\n",
            "shop_id        5\n",
            "item_id    21790\n",
            "Name: 2910, dtype: int64)\n",
            "(2911, ID          2911\n",
            "shop_id        5\n",
            "item_id    21485\n",
            "Name: 2911, dtype: int64)\n",
            "(2912, ID          2912\n",
            "shop_id        5\n",
            "item_id    21591\n",
            "Name: 2912, dtype: int64)\n",
            "(2913, ID          2913\n",
            "shop_id        5\n",
            "item_id    20355\n",
            "Name: 2913, dtype: int64)\n",
            "(2914, ID          2914\n",
            "shop_id        5\n",
            "item_id    20354\n",
            "Name: 2914, dtype: int64)\n",
            "(2915, ID          2915\n",
            "shop_id        5\n",
            "item_id    20337\n",
            "Name: 2915, dtype: int64)\n",
            "(2916, ID          2916\n",
            "shop_id        5\n",
            "item_id    19913\n",
            "Name: 2916, dtype: int64)\n",
            "(2917, ID          2917\n",
            "shop_id        5\n",
            "item_id    19969\n",
            "Name: 2917, dtype: int64)\n",
            "(2918, ID          2918\n",
            "shop_id        5\n",
            "item_id    20189\n",
            "Name: 2918, dtype: int64)\n",
            "(2919, ID          2919\n",
            "shop_id        5\n",
            "item_id    13657\n",
            "Name: 2919, dtype: int64)\n",
            "(2920, ID          2920\n",
            "shop_id        5\n",
            "item_id    13630\n",
            "Name: 2920, dtype: int64)\n",
            "(2921, ID          2921\n",
            "shop_id        5\n",
            "item_id    12964\n",
            "Name: 2921, dtype: int64)\n",
            "(2922, ID          2922\n",
            "shop_id        5\n",
            "item_id    13802\n",
            "Name: 2922, dtype: int64)\n",
            "(2923, ID          2923\n",
            "shop_id        5\n",
            "item_id    13723\n",
            "Name: 2923, dtype: int64)\n",
            "(2924, ID          2924\n",
            "shop_id        5\n",
            "item_id    13282\n",
            "Name: 2924, dtype: int64)\n",
            "(2925, ID          2925\n",
            "shop_id        5\n",
            "item_id    13385\n",
            "Name: 2925, dtype: int64)\n",
            "(2926, ID          2926\n",
            "shop_id        5\n",
            "item_id    13381\n",
            "Name: 2926, dtype: int64)\n",
            "(2927, ID          2927\n",
            "shop_id        5\n",
            "item_id    15925\n",
            "Name: 2927, dtype: int64)\n",
            "(2928, ID          2928\n",
            "shop_id        5\n",
            "item_id    15877\n",
            "Name: 2928, dtype: int64)\n",
            "(2929, ID          2929\n",
            "shop_id        5\n",
            "item_id    15499\n",
            "Name: 2929, dtype: int64)\n",
            "(2930, ID          2930\n",
            "shop_id        5\n",
            "item_id    15478\n",
            "Name: 2930, dtype: int64)\n",
            "(2931, ID          2931\n",
            "shop_id        5\n",
            "item_id    15329\n",
            "Name: 2931, dtype: int64)\n",
            "(2932, ID          2932\n",
            "shop_id        5\n",
            "item_id    16187\n",
            "Name: 2932, dtype: int64)\n",
            "(2933, ID          2933\n",
            "shop_id        5\n",
            "item_id    16175\n",
            "Name: 2933, dtype: int64)\n",
            "(2934, ID          2934\n",
            "shop_id        5\n",
            "item_id    16159\n",
            "Name: 2934, dtype: int64)\n",
            "(2935, ID          2935\n",
            "shop_id        5\n",
            "item_id    16136\n",
            "Name: 2935, dtype: int64)\n",
            "(2936, ID          2936\n",
            "shop_id        5\n",
            "item_id    16075\n",
            "Name: 2936, dtype: int64)\n",
            "(2937, ID          2937\n",
            "shop_id        5\n",
            "item_id    16068\n",
            "Name: 2937, dtype: int64)\n",
            "(2938, ID          2938\n",
            "shop_id        5\n",
            "item_id    14971\n",
            "Name: 2938, dtype: int64)\n",
            "(2939, ID          2939\n",
            "shop_id        5\n",
            "item_id    14970\n",
            "Name: 2939, dtype: int64)\n",
            "(2940, ID          2940\n",
            "shop_id        5\n",
            "item_id    15226\n",
            "Name: 2940, dtype: int64)\n",
            "(2941, ID          2941\n",
            "shop_id        5\n",
            "item_id    14903\n",
            "Name: 2941, dtype: int64)\n",
            "(2942, ID          2942\n",
            "shop_id        5\n",
            "item_id    15165\n",
            "Name: 2942, dtype: int64)\n",
            "(2943, ID         2943\n",
            "shop_id       5\n",
            "item_id    3274\n",
            "Name: 2943, dtype: int64)\n",
            "(2944, ID         2944\n",
            "shop_id       5\n",
            "item_id    3263\n",
            "Name: 2944, dtype: int64)\n",
            "(2945, ID         2945\n",
            "shop_id       5\n",
            "item_id    3170\n",
            "Name: 2945, dtype: int64)\n",
            "(2946, ID         2946\n",
            "shop_id       5\n",
            "item_id    2969\n",
            "Name: 2946, dtype: int64)\n",
            "(2947, ID         2947\n",
            "shop_id       5\n",
            "item_id    2600\n",
            "Name: 2947, dtype: int64)\n",
            "(2948, ID         2948\n",
            "shop_id       5\n",
            "item_id    2597\n",
            "Name: 2948, dtype: int64)\n",
            "(2949, ID         2949\n",
            "shop_id       5\n",
            "item_id    2594\n",
            "Name: 2949, dtype: int64)\n",
            "(2950, ID         2950\n",
            "shop_id       5\n",
            "item_id    2585\n",
            "Name: 2950, dtype: int64)\n",
            "(2951, ID         2951\n",
            "shop_id       5\n",
            "item_id    2754\n",
            "Name: 2951, dtype: int64)\n",
            "(2952, ID         2952\n",
            "shop_id       5\n",
            "item_id    2708\n",
            "Name: 2952, dtype: int64)\n",
            "(2953, ID         2953\n",
            "shop_id       5\n",
            "item_id    2461\n",
            "Name: 2953, dtype: int64)\n",
            "(2954, ID         2954\n",
            "shop_id       5\n",
            "item_id    2458\n",
            "Name: 2954, dtype: int64)\n",
            "(2955, ID         2955\n",
            "shop_id       5\n",
            "item_id    2443\n",
            "Name: 2955, dtype: int64)\n",
            "(2956, ID         2956\n",
            "shop_id       5\n",
            "item_id    2819\n",
            "Name: 2956, dtype: int64)\n",
            "(2957, ID         2957\n",
            "shop_id       5\n",
            "item_id    2862\n",
            "Name: 2957, dtype: int64)\n",
            "(2958, ID         2958\n",
            "shop_id       5\n",
            "item_id    2215\n",
            "Name: 2958, dtype: int64)\n",
            "(2959, ID         2959\n",
            "shop_id       5\n",
            "item_id    3329\n",
            "Name: 2959, dtype: int64)\n",
            "(2960, ID         2960\n",
            "shop_id       5\n",
            "item_id    2213\n",
            "Name: 2960, dtype: int64)\n",
            "(2961, ID         2961\n",
            "shop_id       5\n",
            "item_id    1485\n",
            "Name: 2961, dtype: int64)\n",
            "(2962, ID         2962\n",
            "shop_id       5\n",
            "item_id    1297\n",
            "Name: 2962, dtype: int64)\n",
            "(2963, ID         2963\n",
            "shop_id       5\n",
            "item_id    1288\n",
            "Name: 2963, dtype: int64)\n",
            "(2964, ID         2964\n",
            "shop_id       5\n",
            "item_id    1232\n",
            "Name: 2964, dtype: int64)\n",
            "(2965, ID         2965\n",
            "shop_id       5\n",
            "item_id    1133\n",
            "Name: 2965, dtype: int64)\n",
            "(2966, ID         2966\n",
            "shop_id       5\n",
            "item_id    2140\n",
            "Name: 2966, dtype: int64)\n",
            "(2967, ID         2967\n",
            "shop_id       5\n",
            "item_id    2254\n",
            "Name: 2967, dtype: int64)\n",
            "(2968, ID         2968\n",
            "shop_id       5\n",
            "item_id    2062\n",
            "Name: 2968, dtype: int64)\n",
            "(2969, ID         2969\n",
            "shop_id       5\n",
            "item_id    2047\n",
            "Name: 2969, dtype: int64)\n",
            "(2970, ID         2970\n",
            "shop_id       5\n",
            "item_id    1611\n",
            "Name: 2970, dtype: int64)\n",
            "(2971, ID         2971\n",
            "shop_id       5\n",
            "item_id    1754\n",
            "Name: 2971, dtype: int64)\n",
            "(2972, ID         2972\n",
            "shop_id       5\n",
            "item_id    1965\n",
            "Name: 2972, dtype: int64)\n",
            "(2973, ID         2973\n",
            "shop_id       5\n",
            "item_id    1673\n",
            "Name: 2973, dtype: int64)\n",
            "(2974, ID         2974\n",
            "shop_id       5\n",
            "item_id    1856\n",
            "Name: 2974, dtype: int64)\n",
            "(2975, ID         2975\n",
            "shop_id       5\n",
            "item_id    2049\n",
            "Name: 2975, dtype: int64)\n",
            "(2976, ID         2976\n",
            "shop_id       5\n",
            "item_id    8008\n",
            "Name: 2976, dtype: int64)\n",
            "(2977, ID         2977\n",
            "shop_id       5\n",
            "item_id    7741\n",
            "Name: 2977, dtype: int64)\n",
            "(2978, ID         2978\n",
            "shop_id       5\n",
            "item_id    6630\n",
            "Name: 2978, dtype: int64)\n",
            "(2979, ID          2979\n",
            "shop_id        5\n",
            "item_id    12705\n",
            "Name: 2979, dtype: int64)\n",
            "(2980, ID          2980\n",
            "shop_id        5\n",
            "item_id    12504\n",
            "Name: 2980, dtype: int64)\n",
            "(2981, ID          2981\n",
            "shop_id        5\n",
            "item_id    12512\n",
            "Name: 2981, dtype: int64)\n",
            "(2982, ID          2982\n",
            "shop_id        5\n",
            "item_id    12513\n",
            "Name: 2982, dtype: int64)\n",
            "(2983, ID          2983\n",
            "shop_id        5\n",
            "item_id    12523\n",
            "Name: 2983, dtype: int64)\n",
            "(2984, ID          2984\n",
            "shop_id        5\n",
            "item_id    12536\n",
            "Name: 2984, dtype: int64)\n",
            "(2985, ID          2985\n",
            "shop_id        5\n",
            "item_id    12552\n",
            "Name: 2985, dtype: int64)\n",
            "(2986, ID          2986\n",
            "shop_id        5\n",
            "item_id    12558\n",
            "Name: 2986, dtype: int64)\n",
            "(2987, ID          2987\n",
            "shop_id        5\n",
            "item_id    12863\n",
            "Name: 2987, dtype: int64)\n",
            "(2988, ID          2988\n",
            "shop_id        5\n",
            "item_id    13712\n",
            "Name: 2988, dtype: int64)\n",
            "(2989, ID          2989\n",
            "shop_id        5\n",
            "item_id    13720\n",
            "Name: 2989, dtype: int64)\n",
            "(2990, ID          2990\n",
            "shop_id        5\n",
            "item_id    13445\n",
            "Name: 2990, dtype: int64)\n",
            "(2991, ID         2991\n",
            "shop_id       5\n",
            "item_id    9151\n",
            "Name: 2991, dtype: int64)\n",
            "(2992, ID         2992\n",
            "shop_id       5\n",
            "item_id    9420\n",
            "Name: 2992, dtype: int64)\n",
            "(2993, ID         2993\n",
            "shop_id       5\n",
            "item_id    8685\n",
            "Name: 2993, dtype: int64)\n",
            "(2994, ID         2994\n",
            "shop_id       5\n",
            "item_id    8802\n",
            "Name: 2994, dtype: int64)\n",
            "(2995, ID          2995\n",
            "shop_id        5\n",
            "item_id    10827\n",
            "Name: 2995, dtype: int64)\n",
            "(2996, ID          2996\n",
            "shop_id        5\n",
            "item_id    11431\n",
            "Name: 2996, dtype: int64)\n",
            "(2997, ID          2997\n",
            "shop_id        5\n",
            "item_id    11631\n",
            "Name: 2997, dtype: int64)\n",
            "(2998, ID          2998\n",
            "shop_id        5\n",
            "item_id    11723\n",
            "Name: 2998, dtype: int64)\n",
            "(2999, ID          2999\n",
            "shop_id        5\n",
            "item_id    11765\n",
            "Name: 2999, dtype: int64)\n",
            "(3000, ID          3000\n",
            "shop_id        5\n",
            "item_id    11915\n",
            "Name: 3000, dtype: int64)\n",
            "(3001, ID          3001\n",
            "shop_id        5\n",
            "item_id    11973\n",
            "Name: 3001, dtype: int64)\n",
            "(3002, ID          3002\n",
            "shop_id        5\n",
            "item_id    10661\n",
            "Name: 3002, dtype: int64)\n",
            "(3003, ID         3003\n",
            "shop_id       5\n",
            "item_id     496\n",
            "Name: 3003, dtype: int64)\n",
            "(3004, ID         3004\n",
            "shop_id       5\n",
            "item_id    1023\n",
            "Name: 3004, dtype: int64)\n",
            "(3005, ID         3005\n",
            "shop_id       5\n",
            "item_id     237\n",
            "Name: 3005, dtype: int64)\n",
            "(3006, ID         3006\n",
            "shop_id       5\n",
            "item_id    1880\n",
            "Name: 3006, dtype: int64)\n",
            "(3007, ID          3007\n",
            "shop_id        5\n",
            "item_id    20953\n",
            "Name: 3007, dtype: int64)\n",
            "(3008, ID          3008\n",
            "shop_id        5\n",
            "item_id    21021\n",
            "Name: 3008, dtype: int64)\n",
            "(3009, ID          3009\n",
            "shop_id        5\n",
            "item_id    21042\n",
            "Name: 3009, dtype: int64)\n",
            "(3010, ID          3010\n",
            "shop_id        5\n",
            "item_id    20739\n",
            "Name: 3010, dtype: int64)\n",
            "(3011, ID          3011\n",
            "shop_id        5\n",
            "item_id    20751\n",
            "Name: 3011, dtype: int64)\n",
            "(3012, ID          3012\n",
            "shop_id        5\n",
            "item_id    21107\n",
            "Name: 3012, dtype: int64)\n",
            "(3013, ID          3013\n",
            "shop_id        5\n",
            "item_id    21112\n",
            "Name: 3013, dtype: int64)\n",
            "(3014, ID          3014\n",
            "shop_id        5\n",
            "item_id    21681\n",
            "Name: 3014, dtype: int64)\n",
            "(3015, ID          3015\n",
            "shop_id        5\n",
            "item_id    21682\n",
            "Name: 3015, dtype: int64)\n",
            "(3016, ID          3016\n",
            "shop_id        5\n",
            "item_id    22015\n",
            "Name: 3016, dtype: int64)\n",
            "(3017, ID          3017\n",
            "shop_id        5\n",
            "item_id    21619\n",
            "Name: 3017, dtype: int64)\n",
            "(3018, ID          3018\n",
            "shop_id        5\n",
            "item_id    21120\n",
            "Name: 3018, dtype: int64)\n",
            "(3019, ID          3019\n",
            "shop_id        5\n",
            "item_id    21191\n",
            "Name: 3019, dtype: int64)\n",
            "(3020, ID          3020\n",
            "shop_id        5\n",
            "item_id    21196\n",
            "Name: 3020, dtype: int64)\n",
            "(3021, ID          3021\n",
            "shop_id        5\n",
            "item_id    21214\n",
            "Name: 3021, dtype: int64)\n",
            "(3022, ID          3022\n",
            "shop_id        5\n",
            "item_id    21257\n",
            "Name: 3022, dtype: int64)\n",
            "(3023, ID         3023\n",
            "shop_id       5\n",
            "item_id    4391\n",
            "Name: 3023, dtype: int64)\n",
            "(3024, ID         3024\n",
            "shop_id       5\n",
            "item_id    4427\n",
            "Name: 3024, dtype: int64)\n",
            "(3025, ID         3025\n",
            "shop_id       5\n",
            "item_id    4541\n",
            "Name: 3025, dtype: int64)\n",
            "(3026, ID         3026\n",
            "shop_id       5\n",
            "item_id    3000\n",
            "Name: 3026, dtype: int64)\n",
            "(3027, ID         3027\n",
            "shop_id       5\n",
            "item_id    3153\n",
            "Name: 3027, dtype: int64)\n",
            "(3028, ID         3028\n",
            "shop_id       5\n",
            "item_id    3159\n",
            "Name: 3028, dtype: int64)\n",
            "(3029, ID         3029\n",
            "shop_id       5\n",
            "item_id    3160\n",
            "Name: 3029, dtype: int64)\n",
            "(3030, ID          3030\n",
            "shop_id        5\n",
            "item_id    14108\n",
            "Name: 3030, dtype: int64)\n",
            "(3031, ID         3031\n",
            "shop_id       5\n",
            "item_id    2153\n",
            "Name: 3031, dtype: int64)\n",
            "(3032, ID         3032\n",
            "shop_id       5\n",
            "item_id    2183\n",
            "Name: 3032, dtype: int64)\n",
            "(3033, ID         3033\n",
            "shop_id       5\n",
            "item_id    2141\n",
            "Name: 3033, dtype: int64)\n",
            "(3034, ID         3034\n",
            "shop_id       5\n",
            "item_id    2088\n",
            "Name: 3034, dtype: int64)\n",
            "(3035, ID         3035\n",
            "shop_id       5\n",
            "item_id    2623\n",
            "Name: 3035, dtype: int64)\n",
            "(3036, ID         3036\n",
            "shop_id       5\n",
            "item_id    2626\n",
            "Name: 3036, dtype: int64)\n",
            "(3037, ID         3037\n",
            "shop_id       5\n",
            "item_id    1721\n",
            "Name: 3037, dtype: int64)\n",
            "(3038, ID         3038\n",
            "shop_id       5\n",
            "item_id    1815\n",
            "Name: 3038, dtype: int64)\n",
            "(3039, ID         3039\n",
            "shop_id       5\n",
            "item_id    1829\n",
            "Name: 3039, dtype: int64)\n",
            "(3040, ID         3040\n",
            "shop_id       5\n",
            "item_id    3457\n",
            "Name: 3040, dtype: int64)\n",
            "(3041, ID         3041\n",
            "shop_id       5\n",
            "item_id    3290\n",
            "Name: 3041, dtype: int64)\n",
            "(3042, ID         3042\n",
            "shop_id       5\n",
            "item_id    3284\n",
            "Name: 3042, dtype: int64)\n",
            "(3043, ID         3043\n",
            "shop_id       5\n",
            "item_id    3597\n",
            "Name: 3043, dtype: int64)\n",
            "(3044, ID         3044\n",
            "shop_id       5\n",
            "item_id    3500\n",
            "Name: 3044, dtype: int64)\n",
            "(3045, ID         3045\n",
            "shop_id       5\n",
            "item_id    3372\n",
            "Name: 3045, dtype: int64)\n",
            "(3046, ID         3046\n",
            "shop_id       5\n",
            "item_id    3377\n",
            "Name: 3046, dtype: int64)\n",
            "(3047, ID         3047\n",
            "shop_id       5\n",
            "item_id    3168\n",
            "Name: 3047, dtype: int64)\n",
            "(3048, ID         3048\n",
            "shop_id       5\n",
            "item_id    3218\n",
            "Name: 3048, dtype: int64)\n",
            "(3049, ID         3049\n",
            "shop_id       5\n",
            "item_id    3082\n",
            "Name: 3049, dtype: int64)\n",
            "(3050, ID         3050\n",
            "shop_id       5\n",
            "item_id    3096\n",
            "Name: 3050, dtype: int64)\n",
            "(3051, ID          3051\n",
            "shop_id        5\n",
            "item_id    18462\n",
            "Name: 3051, dtype: int64)\n",
            "(3052, ID          3052\n",
            "shop_id        5\n",
            "item_id    18466\n",
            "Name: 3052, dtype: int64)\n",
            "(3053, ID          3053\n",
            "shop_id        5\n",
            "item_id    18484\n",
            "Name: 3053, dtype: int64)\n",
            "(3054, ID          3054\n",
            "shop_id        5\n",
            "item_id    19415\n",
            "Name: 3054, dtype: int64)\n",
            "(3055, ID          3055\n",
            "shop_id        5\n",
            "item_id    19088\n",
            "Name: 3055, dtype: int64)\n",
            "(3056, ID          3056\n",
            "shop_id        5\n",
            "item_id    19183\n",
            "Name: 3056, dtype: int64)\n",
            "(3057, ID          3057\n",
            "shop_id        5\n",
            "item_id    19611\n",
            "Name: 3057, dtype: int64)\n",
            "(3058, ID          3058\n",
            "shop_id        5\n",
            "item_id    14795\n",
            "Name: 3058, dtype: int64)\n",
            "(3059, ID          3059\n",
            "shop_id        5\n",
            "item_id    14865\n",
            "Name: 3059, dtype: int64)\n",
            "(3060, ID          3060\n",
            "shop_id        5\n",
            "item_id    15260\n",
            "Name: 3060, dtype: int64)\n",
            "(3061, ID          3061\n",
            "shop_id        5\n",
            "item_id    16212\n",
            "Name: 3061, dtype: int64)\n",
            "(3062, ID          3062\n",
            "shop_id        5\n",
            "item_id    15035\n",
            "Name: 3062, dtype: int64)\n",
            "(3063, ID          3063\n",
            "shop_id        5\n",
            "item_id    18322\n",
            "Name: 3063, dtype: int64)\n",
            "(3064, ID          3064\n",
            "shop_id        5\n",
            "item_id    18325\n",
            "Name: 3064, dtype: int64)\n",
            "(3065, ID          3065\n",
            "shop_id        5\n",
            "item_id    16826\n",
            "Name: 3065, dtype: int64)\n",
            "(3066, ID          3066\n",
            "shop_id        5\n",
            "item_id    16858\n",
            "Name: 3066, dtype: int64)\n",
            "(3067, ID          3067\n",
            "shop_id        5\n",
            "item_id    16889\n",
            "Name: 3067, dtype: int64)\n",
            "(3068, ID          3068\n",
            "shop_id        5\n",
            "item_id    16997\n",
            "Name: 3068, dtype: int64)\n",
            "(3069, ID          3069\n",
            "shop_id        5\n",
            "item_id    17112\n",
            "Name: 3069, dtype: int64)\n",
            "(3070, ID          3070\n",
            "shop_id        5\n",
            "item_id    17157\n",
            "Name: 3070, dtype: int64)\n",
            "(3071, ID          3071\n",
            "shop_id        5\n",
            "item_id    17320\n",
            "Name: 3071, dtype: int64)\n",
            "(3072, ID          3072\n",
            "shop_id        5\n",
            "item_id    17332\n",
            "Name: 3072, dtype: int64)\n",
            "(3073, ID          3073\n",
            "shop_id        5\n",
            "item_id    16260\n",
            "Name: 3073, dtype: int64)\n",
            "(3074, ID         3074\n",
            "shop_id       5\n",
            "item_id    1515\n",
            "Name: 3074, dtype: int64)\n",
            "(3075, ID         3075\n",
            "shop_id       5\n",
            "item_id    1290\n",
            "Name: 3075, dtype: int64)\n",
            "(3076, ID         3076\n",
            "shop_id       5\n",
            "item_id    1292\n",
            "Name: 3076, dtype: int64)\n",
            "(3077, ID         3077\n",
            "shop_id       5\n",
            "item_id    1322\n",
            "Name: 3077, dtype: int64)\n",
            "(3078, ID         3078\n",
            "shop_id       5\n",
            "item_id    1256\n",
            "Name: 3078, dtype: int64)\n",
            "(3079, ID         3079\n",
            "shop_id       5\n",
            "item_id     153\n",
            "Name: 3079, dtype: int64)\n",
            "(3080, ID         3080\n",
            "shop_id       5\n",
            "item_id     413\n",
            "Name: 3080, dtype: int64)\n",
            "(3081, ID         3081\n",
            "shop_id       5\n",
            "item_id      88\n",
            "Name: 3081, dtype: int64)\n",
            "(3082, ID         3082\n",
            "shop_id       5\n",
            "item_id      72\n",
            "Name: 3082, dtype: int64)\n",
            "(3083, ID          3083\n",
            "shop_id        5\n",
            "item_id    22154\n",
            "Name: 3083, dtype: int64)\n",
            "(3084, ID         3084\n",
            "shop_id       5\n",
            "item_id      59\n",
            "Name: 3084, dtype: int64)\n",
            "(3085, ID         3085\n",
            "shop_id       5\n",
            "item_id    1104\n",
            "Name: 3085, dtype: int64)\n",
            "(3086, ID         3086\n",
            "shop_id       5\n",
            "item_id    1075\n",
            "Name: 3086, dtype: int64)\n",
            "(3087, ID         3087\n",
            "shop_id       5\n",
            "item_id    1012\n",
            "Name: 3087, dtype: int64)\n",
            "(3088, ID         3088\n",
            "shop_id       5\n",
            "item_id     970\n",
            "Name: 3088, dtype: int64)\n",
            "(3089, ID         3089\n",
            "shop_id       5\n",
            "item_id     971\n",
            "Name: 3089, dtype: int64)\n",
            "(3090, ID         3090\n",
            "shop_id       5\n",
            "item_id    1010\n",
            "Name: 3090, dtype: int64)\n",
            "(3091, ID         3091\n",
            "shop_id       5\n",
            "item_id     762\n",
            "Name: 3091, dtype: int64)\n",
            "(3092, ID         3092\n",
            "shop_id       5\n",
            "item_id    4336\n",
            "Name: 3092, dtype: int64)\n",
            "(3093, ID         3093\n",
            "shop_id       5\n",
            "item_id    3992\n",
            "Name: 3093, dtype: int64)\n",
            "(3094, ID         3094\n",
            "shop_id       5\n",
            "item_id    2376\n",
            "Name: 3094, dtype: int64)\n",
            "(3095, ID         3095\n",
            "shop_id       5\n",
            "item_id    2244\n",
            "Name: 3095, dtype: int64)\n",
            "(3096, ID         3096\n",
            "shop_id       5\n",
            "item_id    2090\n",
            "Name: 3096, dtype: int64)\n",
            "(3097, ID         3097\n",
            "shop_id       5\n",
            "item_id    2956\n",
            "Name: 3097, dtype: int64)\n",
            "(3098, ID         3098\n",
            "shop_id       5\n",
            "item_id    2976\n",
            "Name: 3098, dtype: int64)\n",
            "(3099, ID         3099\n",
            "shop_id       5\n",
            "item_id    3079\n",
            "Name: 3099, dtype: int64)\n",
            "(3100, ID         3100\n",
            "shop_id       5\n",
            "item_id    4364\n",
            "Name: 3100, dtype: int64)\n",
            "(3101, ID         3101\n",
            "shop_id       5\n",
            "item_id    6285\n",
            "Name: 3101, dtype: int64)\n",
            "(3102, ID         3102\n",
            "shop_id       5\n",
            "item_id    6519\n",
            "Name: 3102, dtype: int64)\n",
            "(3103, ID         3103\n",
            "shop_id       5\n",
            "item_id    6521\n",
            "Name: 3103, dtype: int64)\n",
            "(3104, ID         3104\n",
            "shop_id       5\n",
            "item_id    6522\n",
            "Name: 3104, dtype: int64)\n",
            "(3105, ID         3105\n",
            "shop_id       5\n",
            "item_id    6523\n",
            "Name: 3105, dtype: int64)\n",
            "(3106, ID         3106\n",
            "shop_id       5\n",
            "item_id    6524\n",
            "Name: 3106, dtype: int64)\n",
            "(3107, ID         3107\n",
            "shop_id       5\n",
            "item_id    6525\n",
            "Name: 3107, dtype: int64)\n",
            "(3108, ID         3108\n",
            "shop_id       5\n",
            "item_id    6526\n",
            "Name: 3108, dtype: int64)\n",
            "(3109, ID         3109\n",
            "shop_id       5\n",
            "item_id    6527\n",
            "Name: 3109, dtype: int64)\n",
            "(3110, ID         3110\n",
            "shop_id       5\n",
            "item_id    6528\n",
            "Name: 3110, dtype: int64)\n",
            "(3111, ID         3111\n",
            "shop_id       5\n",
            "item_id    6529\n",
            "Name: 3111, dtype: int64)\n",
            "(3112, ID         3112\n",
            "shop_id       5\n",
            "item_id    6530\n",
            "Name: 3112, dtype: int64)\n",
            "(3113, ID         3113\n",
            "shop_id       5\n",
            "item_id    6520\n",
            "Name: 3113, dtype: int64)\n",
            "(3114, ID         3114\n",
            "shop_id       5\n",
            "item_id    6532\n",
            "Name: 3114, dtype: int64)\n"
          ],
          "name": "stdout"
        },
        {
          "output_type": "error",
          "ename": "KeyboardInterrupt",
          "evalue": "ignored",
          "traceback": [
            "\u001b[0;31m---------------------------------------------------------------------------\u001b[0m",
            "\u001b[0;31mKeyboardInterrupt\u001b[0m                         Traceback (most recent call last)",
            "\u001b[0;32m<ipython-input-86-916f1bd69a82>\u001b[0m in \u001b[0;36m<module>\u001b[0;34m()\u001b[0m\n\u001b[1;32m      3\u001b[0m \u001b[0my_true\u001b[0m \u001b[0;34m=\u001b[0m \u001b[0;34m[\u001b[0m\u001b[0;34m]\u001b[0m\u001b[0;34m\u001b[0m\u001b[0;34m\u001b[0m\u001b[0m\n\u001b[1;32m      4\u001b[0m \u001b[0;32mfor\u001b[0m \u001b[0mitem\u001b[0m \u001b[0;32min\u001b[0m \u001b[0mtest\u001b[0m\u001b[0;34m.\u001b[0m\u001b[0miterrows\u001b[0m\u001b[0;34m(\u001b[0m\u001b[0;34m)\u001b[0m\u001b[0;34m:\u001b[0m\u001b[0;34m\u001b[0m\u001b[0;34m\u001b[0m\u001b[0m\n\u001b[0;32m----> 5\u001b[0;31m   \u001b[0mprint\u001b[0m\u001b[0;34m(\u001b[0m\u001b[0mitem\u001b[0m\u001b[0;34m)\u001b[0m\u001b[0;34m\u001b[0m\u001b[0;34m\u001b[0m\u001b[0m\n\u001b[0m\u001b[1;32m      6\u001b[0m   \u001b[0;31m# y_pred.append(predicting_train[(predicting_train['shop_id'] == item.shop_id) & (predicting_train['item_id'] == item.item_id)]['item_cnt_day'].mean())\u001b[0m\u001b[0;34m\u001b[0m\u001b[0;34m\u001b[0m\u001b[0;34m\u001b[0m\u001b[0m\n\u001b[1;32m      7\u001b[0m   \u001b[0;31m# true = train[(train.shop_id == item_id) & (train.item_id == item.item_id) & (train.date_block_num == 33)]\u001b[0m\u001b[0;34m\u001b[0m\u001b[0;34m\u001b[0m\u001b[0;34m\u001b[0m\u001b[0m\n",
            "\u001b[0;32m/usr/local/lib/python3.6/dist-packages/pandas/core/series.py\u001b[0m in \u001b[0;36m__repr__\u001b[0;34m(self)\u001b[0m\n\u001b[1;32m   1332\u001b[0m             \u001b[0mmin_rows\u001b[0m\u001b[0;34m=\u001b[0m\u001b[0mmin_rows\u001b[0m\u001b[0;34m,\u001b[0m\u001b[0;34m\u001b[0m\u001b[0;34m\u001b[0m\u001b[0m\n\u001b[1;32m   1333\u001b[0m             \u001b[0mmax_rows\u001b[0m\u001b[0;34m=\u001b[0m\u001b[0mmax_rows\u001b[0m\u001b[0;34m,\u001b[0m\u001b[0;34m\u001b[0m\u001b[0;34m\u001b[0m\u001b[0m\n\u001b[0;32m-> 1334\u001b[0;31m             \u001b[0mlength\u001b[0m\u001b[0;34m=\u001b[0m\u001b[0mshow_dimensions\u001b[0m\u001b[0;34m,\u001b[0m\u001b[0;34m\u001b[0m\u001b[0;34m\u001b[0m\u001b[0m\n\u001b[0m\u001b[1;32m   1335\u001b[0m         )\n\u001b[1;32m   1336\u001b[0m         \u001b[0mresult\u001b[0m \u001b[0;34m=\u001b[0m \u001b[0mbuf\u001b[0m\u001b[0;34m.\u001b[0m\u001b[0mgetvalue\u001b[0m\u001b[0;34m(\u001b[0m\u001b[0;34m)\u001b[0m\u001b[0;34m\u001b[0m\u001b[0;34m\u001b[0m\u001b[0m\n",
            "\u001b[0;32m/usr/local/lib/python3.6/dist-packages/pandas/core/series.py\u001b[0m in \u001b[0;36mto_string\u001b[0;34m(self, buf, na_rep, float_format, header, index, length, dtype, name, max_rows, min_rows)\u001b[0m\n\u001b[1;32m   1397\u001b[0m             \u001b[0mmax_rows\u001b[0m\u001b[0;34m=\u001b[0m\u001b[0mmax_rows\u001b[0m\u001b[0;34m,\u001b[0m\u001b[0;34m\u001b[0m\u001b[0;34m\u001b[0m\u001b[0m\n\u001b[1;32m   1398\u001b[0m         )\n\u001b[0;32m-> 1399\u001b[0;31m         \u001b[0mresult\u001b[0m \u001b[0;34m=\u001b[0m \u001b[0mformatter\u001b[0m\u001b[0;34m.\u001b[0m\u001b[0mto_string\u001b[0m\u001b[0;34m(\u001b[0m\u001b[0;34m)\u001b[0m\u001b[0;34m\u001b[0m\u001b[0;34m\u001b[0m\u001b[0m\n\u001b[0m\u001b[1;32m   1400\u001b[0m \u001b[0;34m\u001b[0m\u001b[0m\n\u001b[1;32m   1401\u001b[0m         \u001b[0;31m# catch contract violations\u001b[0m\u001b[0;34m\u001b[0m\u001b[0;34m\u001b[0m\u001b[0;34m\u001b[0m\u001b[0m\n",
            "\u001b[0;32m/usr/local/lib/python3.6/dist-packages/pandas/io/formats/format.py\u001b[0m in \u001b[0;36mto_string\u001b[0;34m(self)\u001b[0m\n\u001b[1;32m    356\u001b[0m \u001b[0;34m\u001b[0m\u001b[0m\n\u001b[1;32m    357\u001b[0m         \u001b[0mfmt_index\u001b[0m\u001b[0;34m,\u001b[0m \u001b[0mhave_header\u001b[0m \u001b[0;34m=\u001b[0m \u001b[0mself\u001b[0m\u001b[0;34m.\u001b[0m\u001b[0m_get_formatted_index\u001b[0m\u001b[0;34m(\u001b[0m\u001b[0;34m)\u001b[0m\u001b[0;34m\u001b[0m\u001b[0;34m\u001b[0m\u001b[0m\n\u001b[0;32m--> 358\u001b[0;31m         \u001b[0mfmt_values\u001b[0m \u001b[0;34m=\u001b[0m \u001b[0mself\u001b[0m\u001b[0;34m.\u001b[0m\u001b[0m_get_formatted_values\u001b[0m\u001b[0;34m(\u001b[0m\u001b[0;34m)\u001b[0m\u001b[0;34m\u001b[0m\u001b[0;34m\u001b[0m\u001b[0m\n\u001b[0m\u001b[1;32m    359\u001b[0m \u001b[0;34m\u001b[0m\u001b[0m\n\u001b[1;32m    360\u001b[0m         \u001b[0;32mif\u001b[0m \u001b[0mself\u001b[0m\u001b[0;34m.\u001b[0m\u001b[0mtruncate_v\u001b[0m\u001b[0;34m:\u001b[0m\u001b[0;34m\u001b[0m\u001b[0;34m\u001b[0m\u001b[0m\n",
            "\u001b[0;32m/usr/local/lib/python3.6/dist-packages/pandas/io/formats/format.py\u001b[0m in \u001b[0;36m_get_formatted_values\u001b[0;34m(self)\u001b[0m\n\u001b[1;32m    345\u001b[0m             \u001b[0;32mNone\u001b[0m\u001b[0;34m,\u001b[0m\u001b[0;34m\u001b[0m\u001b[0;34m\u001b[0m\u001b[0m\n\u001b[1;32m    346\u001b[0m             \u001b[0mfloat_format\u001b[0m\u001b[0;34m=\u001b[0m\u001b[0mself\u001b[0m\u001b[0;34m.\u001b[0m\u001b[0mfloat_format\u001b[0m\u001b[0;34m,\u001b[0m\u001b[0;34m\u001b[0m\u001b[0;34m\u001b[0m\u001b[0m\n\u001b[0;32m--> 347\u001b[0;31m             \u001b[0mna_rep\u001b[0m\u001b[0;34m=\u001b[0m\u001b[0mself\u001b[0m\u001b[0;34m.\u001b[0m\u001b[0mna_rep\u001b[0m\u001b[0;34m,\u001b[0m\u001b[0;34m\u001b[0m\u001b[0;34m\u001b[0m\u001b[0m\n\u001b[0m\u001b[1;32m    348\u001b[0m         )\n\u001b[1;32m    349\u001b[0m \u001b[0;34m\u001b[0m\u001b[0m\n",
            "\u001b[0;32m/usr/local/lib/python3.6/dist-packages/pandas/io/formats/format.py\u001b[0m in \u001b[0;36mformat_array\u001b[0;34m(values, formatter, float_format, na_rep, digits, space, justify, decimal, leading_space, quoting)\u001b[0m\n\u001b[1;32m   1177\u001b[0m     )\n\u001b[1;32m   1178\u001b[0m \u001b[0;34m\u001b[0m\u001b[0m\n\u001b[0;32m-> 1179\u001b[0;31m     \u001b[0;32mreturn\u001b[0m \u001b[0mfmt_obj\u001b[0m\u001b[0;34m.\u001b[0m\u001b[0mget_result\u001b[0m\u001b[0;34m(\u001b[0m\u001b[0;34m)\u001b[0m\u001b[0;34m\u001b[0m\u001b[0;34m\u001b[0m\u001b[0m\n\u001b[0m\u001b[1;32m   1180\u001b[0m \u001b[0;34m\u001b[0m\u001b[0m\n\u001b[1;32m   1181\u001b[0m \u001b[0;34m\u001b[0m\u001b[0m\n",
            "\u001b[0;32m/usr/local/lib/python3.6/dist-packages/pandas/io/formats/format.py\u001b[0m in \u001b[0;36mget_result\u001b[0;34m(self)\u001b[0m\n\u001b[1;32m   1209\u001b[0m     \u001b[0;32mdef\u001b[0m \u001b[0mget_result\u001b[0m\u001b[0;34m(\u001b[0m\u001b[0mself\u001b[0m\u001b[0;34m)\u001b[0m \u001b[0;34m->\u001b[0m \u001b[0mList\u001b[0m\u001b[0;34m[\u001b[0m\u001b[0mstr\u001b[0m\u001b[0;34m]\u001b[0m\u001b[0;34m:\u001b[0m\u001b[0;34m\u001b[0m\u001b[0;34m\u001b[0m\u001b[0m\n\u001b[1;32m   1210\u001b[0m         \u001b[0mfmt_values\u001b[0m \u001b[0;34m=\u001b[0m \u001b[0mself\u001b[0m\u001b[0;34m.\u001b[0m\u001b[0m_format_strings\u001b[0m\u001b[0;34m(\u001b[0m\u001b[0;34m)\u001b[0m\u001b[0;34m\u001b[0m\u001b[0;34m\u001b[0m\u001b[0m\n\u001b[0;32m-> 1211\u001b[0;31m         \u001b[0;32mreturn\u001b[0m \u001b[0m_make_fixed_width\u001b[0m\u001b[0;34m(\u001b[0m\u001b[0mfmt_values\u001b[0m\u001b[0;34m,\u001b[0m \u001b[0mself\u001b[0m\u001b[0;34m.\u001b[0m\u001b[0mjustify\u001b[0m\u001b[0;34m)\u001b[0m\u001b[0;34m\u001b[0m\u001b[0;34m\u001b[0m\u001b[0m\n\u001b[0m\u001b[1;32m   1212\u001b[0m \u001b[0;34m\u001b[0m\u001b[0m\n\u001b[1;32m   1213\u001b[0m     \u001b[0;32mdef\u001b[0m \u001b[0m_format_strings\u001b[0m\u001b[0;34m(\u001b[0m\u001b[0mself\u001b[0m\u001b[0;34m)\u001b[0m \u001b[0;34m->\u001b[0m \u001b[0mList\u001b[0m\u001b[0;34m[\u001b[0m\u001b[0mstr\u001b[0m\u001b[0;34m]\u001b[0m\u001b[0;34m:\u001b[0m\u001b[0;34m\u001b[0m\u001b[0;34m\u001b[0m\u001b[0m\n",
            "\u001b[0;32m/usr/local/lib/python3.6/dist-packages/pandas/io/formats/format.py\u001b[0m in \u001b[0;36m_make_fixed_width\u001b[0;34m(strings, justify, minimum, adj)\u001b[0m\n\u001b[1;32m   1734\u001b[0m         \u001b[0madj\u001b[0m \u001b[0;34m=\u001b[0m \u001b[0m_get_adjustment\u001b[0m\u001b[0;34m(\u001b[0m\u001b[0;34m)\u001b[0m\u001b[0;34m\u001b[0m\u001b[0;34m\u001b[0m\u001b[0m\n\u001b[1;32m   1735\u001b[0m \u001b[0;34m\u001b[0m\u001b[0m\n\u001b[0;32m-> 1736\u001b[0;31m     \u001b[0mmax_len\u001b[0m \u001b[0;34m=\u001b[0m \u001b[0mmax\u001b[0m\u001b[0;34m(\u001b[0m\u001b[0madj\u001b[0m\u001b[0;34m.\u001b[0m\u001b[0mlen\u001b[0m\u001b[0;34m(\u001b[0m\u001b[0mx\u001b[0m\u001b[0;34m)\u001b[0m \u001b[0;32mfor\u001b[0m \u001b[0mx\u001b[0m \u001b[0;32min\u001b[0m \u001b[0mstrings\u001b[0m\u001b[0;34m)\u001b[0m\u001b[0;34m\u001b[0m\u001b[0;34m\u001b[0m\u001b[0m\n\u001b[0m\u001b[1;32m   1737\u001b[0m \u001b[0;34m\u001b[0m\u001b[0m\n\u001b[1;32m   1738\u001b[0m     \u001b[0;32mif\u001b[0m \u001b[0mminimum\u001b[0m \u001b[0;32mis\u001b[0m \u001b[0;32mnot\u001b[0m \u001b[0;32mNone\u001b[0m\u001b[0;34m:\u001b[0m\u001b[0;34m\u001b[0m\u001b[0;34m\u001b[0m\u001b[0m\n",
            "\u001b[0;32m/usr/local/lib/python3.6/dist-packages/pandas/io/formats/format.py\u001b[0m in \u001b[0;36m<genexpr>\u001b[0;34m(.0)\u001b[0m\n\u001b[1;32m   1734\u001b[0m         \u001b[0madj\u001b[0m \u001b[0;34m=\u001b[0m \u001b[0m_get_adjustment\u001b[0m\u001b[0;34m(\u001b[0m\u001b[0;34m)\u001b[0m\u001b[0;34m\u001b[0m\u001b[0;34m\u001b[0m\u001b[0m\n\u001b[1;32m   1735\u001b[0m \u001b[0;34m\u001b[0m\u001b[0m\n\u001b[0;32m-> 1736\u001b[0;31m     \u001b[0mmax_len\u001b[0m \u001b[0;34m=\u001b[0m \u001b[0mmax\u001b[0m\u001b[0;34m(\u001b[0m\u001b[0madj\u001b[0m\u001b[0;34m.\u001b[0m\u001b[0mlen\u001b[0m\u001b[0;34m(\u001b[0m\u001b[0mx\u001b[0m\u001b[0;34m)\u001b[0m \u001b[0;32mfor\u001b[0m \u001b[0mx\u001b[0m \u001b[0;32min\u001b[0m \u001b[0mstrings\u001b[0m\u001b[0;34m)\u001b[0m\u001b[0;34m\u001b[0m\u001b[0;34m\u001b[0m\u001b[0m\n\u001b[0m\u001b[1;32m   1737\u001b[0m \u001b[0;34m\u001b[0m\u001b[0m\n\u001b[1;32m   1738\u001b[0m     \u001b[0;32mif\u001b[0m \u001b[0mminimum\u001b[0m \u001b[0;32mis\u001b[0m \u001b[0;32mnot\u001b[0m \u001b[0;32mNone\u001b[0m\u001b[0;34m:\u001b[0m\u001b[0;34m\u001b[0m\u001b[0;34m\u001b[0m\u001b[0m\n",
            "\u001b[0;31mKeyboardInterrupt\u001b[0m: "
          ]
        }
      ]
    },
    {
      "cell_type": "code",
      "metadata": {
        "id": "4zCyo0NuiyCe"
      },
      "source": [
        "d = {\r\n",
        "    1 : 1,\r\n",
        "    -1: 2\r\n",
        "}"
      ],
      "execution_count": 16,
      "outputs": []
    },
    {
      "cell_type": "code",
      "metadata": {
        "colab": {
          "base_uri": "https://localhost:8080/"
        },
        "id": "aQZr6yG-GfAm",
        "outputId": "f496b9ec-5d21-4d59-dee7-d9eb2f0c3af6"
      },
      "source": [
        "d[-1]"
      ],
      "execution_count": 17,
      "outputs": [
        {
          "output_type": "execute_result",
          "data": {
            "text/plain": [
              "2"
            ]
          },
          "metadata": {
            "tags": []
          },
          "execution_count": 17
        }
      ]
    },
    {
      "cell_type": "code",
      "metadata": {
        "id": "F3ZL7XzJGhat"
      },
      "source": [
        ""
      ],
      "execution_count": null,
      "outputs": []
    }
  ]
}